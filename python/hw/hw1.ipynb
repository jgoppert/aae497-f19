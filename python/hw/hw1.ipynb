{
 "cells": [
  {
   "cell_type": "code",
   "execution_count": 2,
   "metadata": {},
   "outputs": [],
   "source": [
    "import sys\n",
    "sys.path.insert(0, '../casadi_f16')\n",
    "import f16\n",
    "import numpy as np"
   ]
  },
  {
   "cell_type": "markdown",
   "metadata": {},
   "source": [
    "1. Set trimming Conditions: $VT=550 ft/s, R = 20 deg/s = \\frac{\\pi}{9}$ rad/s"
   ]
  },
  {
   "cell_type": "code",
   "execution_count": 3,
   "metadata": {},
   "outputs": [
    {
     "name": "stdout",
     "output_type": "stream",
     "text": [
      "\n",
      "******************************************************************************\n",
      "This program contains Ipopt, a library for large-scale nonlinear optimization.\n",
      " Ipopt is released as open source code under the Eclipse Public License (EPL).\n",
      "         For more information visit http://projects.coin-or.org/Ipopt\n",
      "******************************************************************************\n",
      "\n",
      "               t_proc [s]   t_wall [s]    n_eval\n",
      "           S       0.0288       0.0287         1\n",
      "       nlp_f      0.00337      0.00337        57\n",
      "  nlp_grad_f      0.00301        0.003        19\n",
      "  nlp_hess_l      0.00956      0.00965        17\n"
     ]
    }
   ],
   "source": [
    "p = f16.Parameters()\n",
    "\n",
    "x0, u0 = f16.trim(s0 = [0,0,0,0,0,0], x=f16.State(VT=550, R=np.pi/9), p = p,\n",
    "        phi_dot=0, theta_dot=0, psi_dot=0.3, gam=0)"
   ]
  },
  {
   "cell_type": "markdown",
   "metadata": {},
   "source": [
    "2. Get state space of the system"
   ]
  },
  {
   "cell_type": "code",
   "execution_count": 8,
   "metadata": {},
   "outputs": [],
   "source": [
    "ss = f16.linearize(x0=x0, u0=u0, p0=p)\n",
    "import control\n",
    "sub_ss = ss.sub_system(x=['VT','R'], u=['ail_deg'], y=['R']).to_control()"
   ]
  },
  {
   "cell_type": "code",
   "execution_count": 13,
   "metadata": {},
   "outputs": [
    {
     "data": {
      "image/png": "[encoded data removed]",
      "text/plain": [
       "<Figure size 432x288 with 1 Axes>"
      ]
     },
     "metadata": {
      "needs_background": "light"
     },
     "output_type": "display_data"
    }
   ],
   "source": [
    "G = control.ss2tf(sub_ss)\n",
    "poles = control.pole(G)\n",
    "zeros = control.zero(G)"
   ]
  },
  {
   "cell_type": "code",
   "execution_count": null,
   "metadata": {},
   "outputs": [],
   "source": []
  }
 ],
 "metadata": {
  "kernelspec": {
   "display_name": "Python 3",
   "language": "python",
   "name": "python3"
  },
  "language_info": {
   "codemirror_mode": {
    "name": "ipython",
    "version": 3
   },
   "file_extension": ".py",
   "mimetype": "text/x-python",
   "name": "python",
   "nbconvert_exporter": "python",
   "pygments_lexer": "ipython3",
   "version": "3.7.3"
  }
 },
 "nbformat": 4,
 "nbformat_minor": 4
}
