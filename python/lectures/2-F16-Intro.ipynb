{
 "cells": [
  {
   "cell_type": "code",
   "execution_count": 5,
   "metadata": {},
   "outputs": [],
   "source": [
    "import sys\n",
    "sys.path.insert(0, '../casadi_f16')\n",
    "import f16\n",
    "import numpy as np"
   ]
  },
  {
   "cell_type": "code",
   "execution_count": 6,
   "metadata": {},
   "outputs": [
    {
     "name": "stdout",
     "output_type": "stream",
     "text": [
      "               t_proc [s]   t_wall [s]    n_eval\n",
      "           S       0.0243       0.0241         1\n",
      "       nlp_f      0.00303      0.00299        57\n",
      "  nlp_grad_f      0.00262      0.00261        19\n",
      "  nlp_hess_l      0.00825      0.00823        17\n"
     ]
    }
   ],
   "source": [
    "p = f16.Parameters()\n",
    "\n",
    "x0, u0 = f16.trim(s0 = [0,0,0,0,0,0], x=f16.State(VT=550, R=np.pi/9), p = p,\n",
    "        phi_dot=0, theta_dot=0, psi_dot=0.3, gam=0)"
   ]
  },
  {
   "cell_type": "code",
   "execution_count": 7,
   "metadata": {},
   "outputs": [
    {
     "data": {
      "text/plain": [
       "State(VT=550, alpha=DM(0.217234), beta=DM(0.000459798), phi=DM(1.38276), theta=DM(0.0417221), psi=0, P=DM(-0.012513), Q=DM(0.294455), R=DM(0.0560314), p_N=0, p_E=0, alt=0, power=DM(64.4864))"
      ]
     },
     "execution_count": 7,
     "metadata": {},
     "output_type": "execute_result"
    }
   ],
   "source": [
    "x0"
   ]
  },
  {
   "cell_type": "code",
   "execution_count": 8,
   "metadata": {},
   "outputs": [
    {
     "data": {
      "text/plain": [
       "Control(thtl=DM(0.836629), ail_deg=DM(0.0749844), elv_deg=DM(-1.7033), rdr_deg=DM(-0.328985))"
      ]
     },
     "execution_count": 8,
     "metadata": {},
     "output_type": "execute_result"
    }
   ],
   "source": [
    "u0"
   ]
  },
  {
   "cell_type": "code",
   "execution_count": 9,
   "metadata": {},
   "outputs": [],
   "source": [
    "res = f16.simulate(x0 = x0, u0 = u0, p = p, t0 = 0, dt = 0.1, tf=20)"
   ]
  },
  {
   "cell_type": "code",
   "execution_count": 11,
   "metadata": {},
   "outputs": [
    {
     "data": {
      "text/plain": [
       "[<matplotlib.lines.Line2D at 0x7f967f5ab860>,\n",
       " <matplotlib.lines.Line2D at 0x7f967f5ab588>,\n",
       " <matplotlib.lines.Line2D at 0x7f967f5aba90>,\n",
       " <matplotlib.lines.Line2D at 0x7f967ca48320>,\n",
       " <matplotlib.lines.Line2D at 0x7f967d66a1d0>,\n",
       " <matplotlib.lines.Line2D at 0x7f96a8121cf8>,\n",
       " <matplotlib.lines.Line2D at 0x7f967d6603c8>,\n",
       " <matplotlib.lines.Line2D at 0x7f967d660b70>,\n",
       " <matplotlib.lines.Line2D at 0x7f967d660f98>,\n",
       " <matplotlib.lines.Line2D at 0x7f967d6578d0>,\n",
       " <matplotlib.lines.Line2D at 0x7f967d5e8550>,\n",
       " <matplotlib.lines.Line2D at 0x7f967d65a588>,\n",
       " <matplotlib.lines.Line2D at 0x7f967d65a5f8>]"
      ]
     },
     "execution_count": 11,
     "metadata": {},
     "output_type": "execute_result"
    },
    {
     "data": {
      "image/png": "[encoded data removed]",
      "text/plain": [
       "<Figure size 432x288 with 1 Axes>"
      ]
     },
     "metadata": {
      "needs_background": "light"
     },
     "output_type": "display_data"
    }
   ],
   "source": [
    "import matplotlib.pyplot as plt\n",
    "plt.plot(res['t'],res['x'])"
   ]
  },
  {
   "cell_type": "code",
   "execution_count": null,
   "metadata": {},
   "outputs": [],
   "source": []
  }
 ],
 "metadata": {
  "kernelspec": {
   "display_name": "Python 3",
   "language": "python",
   "name": "python3"
  },
  "language_info": {
   "codemirror_mode": {
    "name": "ipython",
    "version": 3
   },
   "file_extension": ".py",
   "mimetype": "text/x-python",
   "name": "python",
   "nbconvert_exporter": "python",
   "pygments_lexer": "ipython3",
   "version": "3.7.3"
  }
 },
 "nbformat": 4,
 "nbformat_minor": 4
}
