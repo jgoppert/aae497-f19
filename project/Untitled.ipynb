{
 "cells": [
  {
   "cell_type": "code",
   "execution_count": 42,
   "metadata": {},
   "outputs": [],
   "source": [
    "import pandas\n",
    "import matplotlib.pyplot as plt\n",
    "import glob\n",
    "import numpy as np"
   ]
  },
  {
   "cell_type": "code",
   "execution_count": 50,
   "metadata": {},
   "outputs": [
    {
     "data": {
      "text/html": [
       "<div>\n",
       "<style scoped>\n",
       "    .dataframe tbody tr th:only-of-type {\n",
       "        vertical-align: middle;\n",
       "    }\n",
       "\n",
       "    .dataframe tbody tr th {\n",
       "        vertical-align: top;\n",
       "    }\n",
       "\n",
       "    .dataframe thead th {\n",
       "        text-align: right;\n",
       "    }\n",
       "</style>\n",
       "<table border=\"1\" class=\"dataframe\">\n",
       "  <thead>\n",
       "    <tr style=\"text-align: right;\">\n",
       "      <th></th>\n",
       "      <th>Data Point (2m/s)</th>\n",
       "      <th>Aileron Delection Servo signal</th>\n",
       "      <th>Ail Defl Sig Transmitter</th>\n",
       "      <th>Unnamed: 3</th>\n",
       "      <th>Alpha</th>\n",
       "    </tr>\n",
       "  </thead>\n",
       "  <tbody>\n",
       "    <tr>\n",
       "      <td>0</td>\n",
       "      <td>1</td>\n",
       "      <td>1501</td>\n",
       "      <td>-0.4</td>\n",
       "      <td>NaN</td>\n",
       "      <td>0.0</td>\n",
       "    </tr>\n",
       "    <tr>\n",
       "      <td>1</td>\n",
       "      <td>2</td>\n",
       "      <td>1400</td>\n",
       "      <td>-19.4</td>\n",
       "      <td>NaN</td>\n",
       "      <td>NaN</td>\n",
       "    </tr>\n",
       "    <tr>\n",
       "      <td>2</td>\n",
       "      <td>3</td>\n",
       "      <td>1299</td>\n",
       "      <td>-40.2</td>\n",
       "      <td>NaN</td>\n",
       "      <td>NaN</td>\n",
       "    </tr>\n",
       "    <tr>\n",
       "      <td>3</td>\n",
       "      <td>4</td>\n",
       "      <td>1198</td>\n",
       "      <td>-59.4</td>\n",
       "      <td>NaN</td>\n",
       "      <td>NaN</td>\n",
       "    </tr>\n",
       "    <tr>\n",
       "      <td>4</td>\n",
       "      <td>5</td>\n",
       "      <td>1090</td>\n",
       "      <td>-80.7</td>\n",
       "      <td>NaN</td>\n",
       "      <td>NaN</td>\n",
       "    </tr>\n",
       "    <tr>\n",
       "      <td>5</td>\n",
       "      <td>6</td>\n",
       "      <td>992</td>\n",
       "      <td>-100.0</td>\n",
       "      <td>NaN</td>\n",
       "      <td>NaN</td>\n",
       "    </tr>\n",
       "    <tr>\n",
       "      <td>6</td>\n",
       "      <td>7</td>\n",
       "      <td>1608</td>\n",
       "      <td>20.5</td>\n",
       "      <td>NaN</td>\n",
       "      <td>NaN</td>\n",
       "    </tr>\n",
       "    <tr>\n",
       "      <td>7</td>\n",
       "      <td>8</td>\n",
       "      <td>1710</td>\n",
       "      <td>40.3</td>\n",
       "      <td>NaN</td>\n",
       "      <td>NaN</td>\n",
       "    </tr>\n",
       "    <tr>\n",
       "      <td>8</td>\n",
       "      <td>9</td>\n",
       "      <td>1808</td>\n",
       "      <td>59.4</td>\n",
       "      <td>NaN</td>\n",
       "      <td>NaN</td>\n",
       "    </tr>\n",
       "    <tr>\n",
       "      <td>9</td>\n",
       "      <td>10</td>\n",
       "      <td>1915</td>\n",
       "      <td>80.2</td>\n",
       "      <td>NaN</td>\n",
       "      <td>NaN</td>\n",
       "    </tr>\n",
       "    <tr>\n",
       "      <td>10</td>\n",
       "      <td>11</td>\n",
       "      <td>2015</td>\n",
       "      <td>100.0</td>\n",
       "      <td>NaN</td>\n",
       "      <td>NaN</td>\n",
       "    </tr>\n",
       "  </tbody>\n",
       "</table>\n",
       "</div>"
      ],
      "text/plain": [
       "    Data Point (2m/s)  Aileron Delection Servo signal  \\\n",
       "0                   1                            1501   \n",
       "1                   2                            1400   \n",
       "2                   3                            1299   \n",
       "3                   4                            1198   \n",
       "4                   5                            1090   \n",
       "5                   6                             992   \n",
       "6                   7                            1608   \n",
       "7                   8                            1710   \n",
       "8                   9                            1808   \n",
       "9                  10                            1915   \n",
       "10                 11                            2015   \n",
       "\n",
       "    Ail Defl Sig Transmitter  Unnamed: 3  Alpha   \n",
       "0                       -0.4         NaN     0.0  \n",
       "1                      -19.4         NaN     NaN  \n",
       "2                      -40.2         NaN     NaN  \n",
       "3                      -59.4         NaN     NaN  \n",
       "4                      -80.7         NaN     NaN  \n",
       "5                     -100.0         NaN     NaN  \n",
       "6                       20.5         NaN     NaN  \n",
       "7                       40.3         NaN     NaN  \n",
       "8                       59.4         NaN     NaN  \n",
       "9                       80.2         NaN     NaN  \n",
       "10                     100.0         NaN     NaN  "
      ]
     },
     "execution_count": 50,
     "metadata": {},
     "output_type": "execute_result"
    }
   ],
   "source": [
    "input_data = pandas.read_csv('data/aileron_servo_and_transmitter_inputs.csv',\n",
    "                             delimiter=',', nrows=11)\n",
    "input_data"
   ]
  },
  {
   "cell_type": "code",
   "execution_count": 43,
   "metadata": {},
   "outputs": [],
   "source": [
    "header = ['unknown', 'pitot', 'wind', 'aoa', 'drag', 'lift', 'pitch', 'roll', 'f0', 'f1', 'f2', 'f3']\n",
    "\n",
    "data = []\n",
    "for filename in glob.glob('data/*.txt'):\n",
    "    data_i = pandas.read_csv(filename, delimiter='\\t', header=None, names=header)\n",
    "    data.append(data_i)"
   ]
  },
  {
   "cell_type": "code",
   "execution_count": 80,
   "metadata": {},
   "outputs": [
    {
     "name": "stdout",
     "output_type": "stream",
     "text": [
      "4.967630542504545 poly([0.01194488 0.07273465])\n",
      "10.021725518372728 poly([-0.0101331   0.07488419])\n"
     ]
    },
    {
     "data": {
      "image/png": "[encoded data removed]",
      "text/plain": [
       "<Figure size 432x288 with 1 Axes>"
      ]
     },
     "metadata": {
      "needs_background": "light"
     },
     "output_type": "display_data"
    }
   ],
   "source": [
    "plt.figure()\n",
    "for datai in data:\n",
    "    rho = 1.225\n",
    "    area = 0.0154838\n",
    "    mean_wind = datai.wind.mean()\n",
    "    if mean_wind < 3:\n",
    "        continue\n",
    "    q = 0.5*rho*datai.wind**2\n",
    "    ail = (input_data['Aileron Delection Servo signal'] - 1500)/500\n",
    "    C_roll = (datai.roll - datai.roll[0])/(q*area)\n",
    "    \n",
    "    poly = np.polynomial.Polynomial.fit(ail, C_roll, deg=1)\n",
    "    y_fit = poly(ail)\n",
    "    plt.plot(ail,\n",
    "             C_roll, '.', label=str(np.round(mean_wind)) + ' m/s');\n",
    "    plt.plot(ail, y_fit, '--')\n",
    "    print(mean_wind, poly)\n",
    "    #plt.plot(datai.roll, label=str(np.round(datai.wind.mean())) + ' m/s');\n",
    "plt.legend()\n",
    "plt.grid()"
   ]
  }
 ],
 "metadata": {
  "kernelspec": {
   "display_name": "Python 3",
   "language": "python",
   "name": "python3"
  },
  "language_info": {
   "codemirror_mode": {
    "name": "ipython",
    "version": 3
   },
   "file_extension": ".py",
   "mimetype": "text/x-python",
   "name": "python",
   "nbconvert_exporter": "python",
   "pygments_lexer": "ipython3",
   "version": "3.7.3"
  }
 },
 "nbformat": 4,
 "nbformat_minor": 4
}
