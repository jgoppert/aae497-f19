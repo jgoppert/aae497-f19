{
 "cells": [
  {
   "cell_type": "code",
   "execution_count": 144,
   "metadata": {},
   "outputs": [],
   "source": [
    "import casadi as ca\n",
    "import sys\n",
    "sys.path.insert(0, '../python/pyecca')\n",
    "\n",
    "import matplotlib.pyplot as plt\n",
    "from pyecca.util import rk4\n",
    "import numpy as np\n",
    "\n",
    "from casadi.tools.graph import dotgraph\n",
    "from IPython.display import Image\n",
    "\n",
    "def draw_graph(expr):\n",
    "    return Image(dotgraph(expr).create_png())\n",
    "\n"
   ]
  },
  {
   "cell_type": "code",
   "execution_count": 157,
   "metadata": {},
   "outputs": [],
   "source": [
    "def numerical(x_end, n_x):\n",
    "    \"\"\"\n",
    "    Edit this function and setup an optimal control problem that minimizes the time\n",
    "    it takes for a ball rolling a long a curve to reach the end of the path assuming it\n",
    "    starts at a height of 1 m and ends at a height of 0 m and the length of the path is\n",
    "    x_end m.\n",
    "    \"\"\"\n",
    "    x = np.linspace(0, x_end, n_x)  # x position where path changes\n",
    "    dx = x[1] - x[0]  # path steps width\n",
    "    n_dy = n_x - 1  # number of height changes we need to find\n",
    "    dy0 = -(1/n_dy)*np.ones(n_dy)  # initial guess for height change along path\n",
    "    dy = ca.SX.sym('dy',n_dy)\n",
    "    g=9.8\n",
    "    h0=1\n",
    "    y=1\n",
    "    t=0\n",
    "    for i in range(n_dy):\n",
    "        distance= np.sqrt(dx**2 + dy[i]**2)\n",
    "        avg_v= (np.sqrt(2*g*(1-y)) + np.sqrt(2*g*(1 - (y+dy[i]))))/2\n",
    "        t=t+distance/avg_v\n",
    "        y=y+dy[i]\n",
    "    \n",
    "    nlp = {'x': dy, 'f':t,'g': y }\n",
    "    S = ca.nlpsol('S', 'ipopt', nlp, {\n",
    "        'print_time': 0,\n",
    "        'ipopt': {\n",
    "            'sb': 'yes',\n",
    "            'print_level': 0,\n",
    "            }\n",
    "        })\n",
    "    res = S(x0=(dy0), lbg=0, ubg=0)\n",
    "    dy_opt = res['x']\n",
    "    print(dy_opt)\n",
    "    y_opt = ca.vertcat(1, 1 + np.cumsum(dy_opt))\n",
    "    print(y_opt)\n",
    "    return x, y_opt"
   ]
  },
  {
   "cell_type": "markdown",
   "metadata": {},
   "source": [
    "x_end= 3\n",
    "n_x=100\n",
    "x = np.linspace(0, x_end, n_x)  # x position where path changes\n",
    "dx = x[1] - x[0]  # path steps width\n",
    "n_dy = n_x - 1  # number of height changes we need to find\n",
    "dy0 = -(1/n_dy)*np.ones(n_dy)  # initial guess for height change along path\n",
    "dy = ca.SX.sym('dy',n_dy)\n",
    "g=9.8\n",
    "t=0\n",
    "h0=1\n",
    "y=1\n",
    "dt={}\n",
    "for i in range(n_dy):\n",
    "    dt[i]= (np.sqrt(2*g*(h0+dy[i]))-np.sqrt(2*g*dy[0]))*(dx**2+dy[i]**2)/(g*dy[i])\n",
    "    t=t+dt[i]\n",
    "    y=y+dy[i]"
   ]
  },
  {
   "cell_type": "markdown",
   "metadata": {},
   "source": [
    "draw_graph(t)"
   ]
  },
  {
   "cell_type": "code",
   "execution_count": 155,
   "metadata": {},
   "outputs": [],
   "source": [
    "# NLP declaration to solve for boundary condition of brachistochrone\n",
    "def analytical(x_end, n_x):\n",
    "    c = ca.SX.sym('c')\n",
    "    theta_f = ca.SX.sym('theta_f')\n",
    "    xf = c*(theta_f - np.sin(theta_f))\n",
    "    yf = 1 - c*(1 - np.cos(theta_f))\n",
    "\n",
    "    nlp = {'x':ca.vertcat(c, theta_f), 'f':0,'g':ca.vertcat(xf-x_end,yf)}\n",
    "    S = ca.nlpsol('S', 'ipopt', nlp, {\n",
    "        'print_time': 0,\n",
    "        'ipopt': {\n",
    "            'sb': 'yes',\n",
    "            'print_level': 0,\n",
    "            }\n",
    "        })\n",
    "    res = S(x0=(1, np.pi), lbg=(0, 0), ubg=(0, 0))\n",
    "    C_opt = float(res['x'][0])\n",
    "    theta_f_opt = float(res['x'][1])\n",
    "    theta = np.linspace(0, theta_f_opt, n_x)\n",
    "    xa = C_opt*(theta - np.sin(theta))\n",
    "    ya = 1 - C_opt*(1 - np.cos(theta))\n",
    "    return xa, ya"
   ]
  },
  {
   "cell_type": "code",
   "execution_count": 156,
   "metadata": {},
   "outputs": [
    {
     "name": "stdout",
     "output_type": "stream",
     "text": [
      "[-0.010101, -0.010101, -0.010101, -0.010101, -0.010101, -0.010101, -0.010101, -0.010101, -0.010101, -0.010101, -0.010101, -0.010101, -0.010101, -0.010101, -0.010101, -0.010101, -0.010101, -0.010101, -0.010101, -0.010101, -0.010101, -0.010101, -0.010101, -0.010101, -0.010101, -0.010101, -0.010101, -0.010101, -0.010101, -0.010101, -0.010101, -0.010101, -0.010101, -0.010101, -0.010101, -0.010101, -0.010101, -0.010101, -0.010101, -0.010101, -0.010101, -0.010101, -0.010101, -0.010101, -0.010101, -0.010101, -0.010101, -0.010101, -0.010101, -0.010101, -0.010101, -0.010101, -0.010101, -0.010101, -0.010101, -0.010101, -0.010101, -0.010101, -0.010101, -0.010101, -0.010101, -0.010101, -0.010101, -0.010101, -0.010101, -0.010101, -0.010101, -0.010101, -0.010101, -0.010101, -0.010101, -0.010101, -0.010101, -0.010101, -0.010101, -0.010101, -0.010101, -0.010101, -0.010101, -0.010101, -0.010101, -0.010101, -0.010101, -0.010101, -0.010101, -0.010101, -0.010101, -0.010101, -0.010101, -0.010101, -0.010101, -0.010101, -0.010101, -0.010101, -0.010101, -0.010101, -0.010101, -0.010101, -0.010101]\n",
      "[1, 0.989899, 0.979798, 0.969697, 0.959596, 0.949495, 0.939394, 0.929293, 0.919192, 0.909091, 0.89899, 0.888889, 0.878788, 0.868687, 0.858586, 0.848485, 0.838384, 0.828283, 0.818182, 0.808081, 0.79798, 0.787879, 0.777778, 0.767677, 0.757576, 0.747475, 0.737374, 0.727273, 0.717172, 0.707071, 0.69697, 0.686869, 0.676768, 0.666667, 0.656566, 0.646465, 0.636364, 0.626263, 0.616162, 0.606061, 0.59596, 0.585859, 0.575758, 0.565657, 0.555556, 0.545455, 0.535354, 0.525253, 0.515152, 0.505051, 0.494949, 0.484848, 0.474747, 0.464646, 0.454545, 0.444444, 0.434343, 0.424242, 0.414141, 0.40404, 0.393939, 0.383838, 0.373737, 0.363636, 0.353535, 0.343434, 0.333333, 0.323232, 0.313131, 0.30303, 0.292929, 0.282828, 0.272727, 0.262626, 0.252525, 0.242424, 0.232323, 0.222222, 0.212121, 0.20202, 0.191919, 0.181818, 0.171717, 0.161616, 0.151515, 0.141414, 0.131313, 0.121212, 0.111111, 0.10101, 0.0909091, 0.0808081, 0.0707071, 0.0606061, 0.0505051, 0.040404, 0.030303, 0.020202, 0.010101, 1.9984e-15]\n"
     ]
    },
    {
     "data": {
      "text/plain": [
       "<matplotlib.legend.Legend at 0x7f439dcb55f8>"
      ]
     },
     "execution_count": 156,
     "metadata": {},
     "output_type": "execute_result"
    },
    {
     "data": {
      "image/png": "[encoded data removed]",
      "text/plain": [
       "<Figure size 432x288 with 1 Axes>"
      ]
     },
     "metadata": {
      "needs_background": "light"
     },
     "output_type": "display_data"
    }
   ],
   "source": [
    "n_x = 100  # number of points for approximation of path\n",
    "x_end = 3  # final x position when height is zero\n",
    "\n",
    "# analytical solution\n",
    "xa, ya = analytical(x_end=x_end, n_x=n_x)\n",
    "\n",
    "# numerical solution\n",
    "x, y_opt = numerical(x_end=x_end, n_x=n_x)\n",
    "\n",
    "# plot\n",
    "plt.title('brachistochrone')\n",
    "plt.plot(x, y_opt, label='numerical')\n",
    "plt.plot(xa, ya, 'r--', label='analytical', alpha=0.5)\n",
    "plt.grid(True)\n",
    "plt.xlabel('x, m')\n",
    "plt.ylabel('z, m')\n",
    "plt.legend()"
   ]
  },
  {
   "cell_type": "code",
   "execution_count": null,
   "metadata": {},
   "outputs": [],
   "source": []
  },
  {
   "cell_type": "code",
   "execution_count": null,
   "metadata": {},
   "outputs": [],
   "source": []
  }
 ],
 "metadata": {
  "kernelspec": {
   "display_name": "Python 3",
   "language": "python",
   "name": "python3"
  },
  "language_info": {
   "codemirror_mode": {
    "name": "ipython",
    "version": 3
   },
   "file_extension": ".py",
   "mimetype": "text/x-python",
   "name": "python",
   "nbconvert_exporter": "python",
   "pygments_lexer": "ipython3",
   "version": "3.7.3"
  }
 },
 "nbformat": 4,
 "nbformat_minor": 4
}
