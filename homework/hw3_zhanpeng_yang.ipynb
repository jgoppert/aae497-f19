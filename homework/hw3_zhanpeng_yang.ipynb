{
 "cells": [
  {
   "cell_type": "code",
   "execution_count": 3,
   "metadata": {},
   "outputs": [],
   "source": [
    "import casadi as ca\n",
    "import matplotlib.pyplot as plt\n",
    "%matplotlib inline\n",
    "import numpy as np\n",
    "import scipy.integrate\n",
    "import numpy as np\n",
    "import control\n",
    "\n",
    "from casadi.tools.graph import dotgraph\n",
    "from IPython.display import Image\n",
    "\n",
    "def draw_graph(expr):\n",
    "    return Image(dotgraph(expr).create_png())"
   ]
  },
  {
   "cell_type": "markdown",
   "metadata": {},
   "source": [
    "# Parameters\n",
    "$\n",
    "W = 162,000 lb\\\\\n",
    "thrust = 30000 lb\\\\\n",
    "S = 2170 ft^2\\\\\n",
    "b = 140 ft\\\\\n",
    "length = 90 ft\\\\\n",
    "I_{yy} = 4.1 e^6 slug-ft^2\n",
    "$"
   ]
  },
  {
   "cell_type": "code",
   "execution_count": 28,
   "metadata": {},
   "outputs": [],
   "source": [
    "def eom(x,u):\n",
    "    s = 2170\n",
    "    cbar = 17.5\n",
    "    mass = 5.0e3\n",
    "    iyy = 4.1e6\n",
    "    tstat = 6.0e4\n",
    "    dtdv = -38.0\n",
    "    ze = 2.0\n",
    "    cdcls = 0.042\n",
    "    cla = 0.085\n",
    "    cma = -0.022\n",
    "    cmde = -0.016\n",
    "    cmq = -16.0\n",
    "    cmadot = -6.0\n",
    "    cladot = 0.0\n",
    "    rtod = 57.29578\n",
    "    gd = 32.17\n",
    "    \n",
    "    # INPUTS\n",
    "    # u = [thtl elev xcg land phi]\n",
    "    \n",
    "    thtl = u[0]\n",
    "    elev_deg = u[1]\n",
    "    xcg = u[2]\n",
    "    land = u[3]\n",
    "    phi = u[4]\n",
    "    phi_deg = rtod*phi # tilt angle, deg\n",
    "    \n",
    "    # STATES\n",
    "    # x = [vt alpha theta q h p]\n",
    "    \n",
    "    vt = x[0]  # velocity, ft/s\n",
    "    alpha = x[1] # AOA\n",
    "    alpha_deg = rtod*alpha  # angle of attack, deg\n",
    "    theta = x[2]  # pitch angle, rad\n",
    "    q = x[3]  # pitch rate, rad/s\n",
    "    h = x[4]  # altitude, ft\n",
    "    p = x[5]  # horizontal pos\n",
    "    \n",
    "    r0 = 2.377e-3\n",
    "    tfac = 1.0 - 0.703e-5*h\n",
    "    temperature = ca.if_else(h > 35000, 390.0, 519.0*tfac)\n",
    "    rho = r0*tfac**4.14\n",
    "    mach = vt/ca.sqrt(1.4*1716.3*temperature)\n",
    "    qbar = 0.5*rho*vt**2\n",
    "    \n",
    "    qs = qbar*s\n",
    "    salp = ca.sin(alpha)\n",
    "    calp = ca.cos(alpha)\n",
    "    beta = phi+alpha\n",
    "    beta_deg = rtod*beta\n",
    "    sbet = ca.sin(beta)\n",
    "    cbet = ca.cos(beta)\n",
    "    \n",
    "    gam = theta - alpha\n",
    "    sgam = ca.sin(gam)\n",
    "    cgam = ca.cos(gam)\n",
    "    \n",
    "    aero_p = ca.if_else(\n",
    "        land,\n",
    "        (1.0, 0.08, -0.20, 0.02, -0.05),\n",
    "        (0.2, 0.016, 0.05, 0.0, 0.0)\n",
    "        )\n",
    "    cl0 = aero_p[0]\n",
    "    cd0 = aero_p[1]\n",
    "    cm0 = aero_p[2]\n",
    "    dcdg = aero_p[3]\n",
    "    dcmg = aero_p[4]\n",
    "    \n",
    "    thr = (tstat + vt*dtdv)*ca.fmax(thtl, 0)\n",
    "    cl = cl0 + cla*(beta_deg)\n",
    "    cm = dcmg + cm0 + cma*(beta_deg) + cmde*elev_deg + cl*(xcg - 0.25)\n",
    "    cd = dcdg + cd0 + cdcls*cl**2\n",
    "        \n",
    "    # x = [vt alpha theta q h p phi]\n",
    "    \n",
    "    x_dot = ca.SX.zeros(6)\n",
    "    x_dot[0] = (thr*cbet - qs*cd)/mass - gd*sgam\n",
    "    x_dot[1] = (-thr*sbet - qs*cl + mass*(vt*q + gd*cgam))/(mass*vt + qs*cladot)\n",
    "    x_dot[2] = q\n",
    "    d = 0.5*cbar*(cmq*q + cmadot*x_dot[1])/vt\n",
    "    x_dot[3] = (qs*cbar*(cm + d) + thr*ze)/iyy\n",
    "    x_dot[4] = vt*sgam\n",
    "    x_dot[5] = vt*cgam\n",
    "    return x_dot"
   ]
  },
  {
   "cell_type": "code",
   "execution_count": 29,
   "metadata": {},
   "outputs": [],
   "source": [
    "# x = ca.SX.sym('x',6)\n",
    "# u = ca.SX.sym('u',5)\n",
    "# f_eom = ca.Function('eom',[x,u],[eom(x,u)],['x','u'],['dx'],{'jit': True})\n",
    "# draw_graph(eom(x,u))"
   ]
  },
  {
   "cell_type": "code",
   "execution_count": 30,
   "metadata": {},
   "outputs": [],
   "source": [
    "def constraint(s, vt, h, gamma):\n",
    "    \n",
    "    # s is our design vector:\n",
    "    # s = [thtl, elev_deg, alpha, phi]\n",
    "    thtl = s[0]\n",
    "    elev_deg = s[1]\n",
    "    alpha = s[2]\n",
    "    phi = s[3]\n",
    "    \n",
    "    pos = 0  # we don't care what horiz. position we are at\n",
    "    q = 0 # we don't want to be rotating, so no pitch-rate\n",
    "    xcg = 0.25  # we assume xcg at 1/4 chord\n",
    "    land = 0  # we assume we do not have flaps/gear deployed\n",
    "    theta = alpha + gamma\n",
    "    \n",
    "    # vt, alpha, theta, q, h, pos\n",
    "    x = ca.vertcat(vt, alpha, theta, q, h, pos)\n",
    "    \n",
    "    # thtl, elev_deg, xcg, land\n",
    "    u = ca.vertcat(thtl, elev_deg, xcg, land, phi)\n",
    "    return x, u\n",
    "\n",
    "def trim_cost(x, u):\n",
    "    x_dot = eom(x, u)\n",
    "    return x_dot[0]**2 + 100*x_dot[1]**2 + 10*x_dot[3]**2\n",
    "\n",
    "def objective(s, vt, h, gamma):\n",
    "    x, u = constraint(s, vt, h, gamma)\n",
    "    return trim_cost(x, u)\n",
    "\n",
    "def trim(vt, h, gamma):\n",
    "    s = ca.SX.sym('s', 4)\n",
    "    nlp = {'x': s, 'f': objective(s, vt, h, gamma)}\n",
    "    S = ca.nlpsol('S', 'ipopt', nlp, {\n",
    "        'print_time': 0,\n",
    "        'ipopt': {\n",
    "            'sb': 'yes',\n",
    "            'print_level': 0,\n",
    "            }\n",
    "        })\n",
    "\n",
    "    # s = [thtl, elev_deg, alpha]\n",
    "    # u = [thtl elev xcg land phi]\n",
    "    \n",
    "    s0 = [0.293, 2.46, np.deg2rad(0.58), 0]\n",
    "    s0 = [0,0,0,0]\n",
    "    res = S(x0=s0)\n",
    "    return np.array(res['x'])"
   ]
  },
  {
   "cell_type": "code",
   "execution_count": 31,
   "metadata": {},
   "outputs": [
    {
     "data": {
      "text/plain": [
       "array([[0.24155885],\n",
       "       [1.0609384 ],\n",
       "       [0.01080899],\n",
       "       [0.01727405]])"
      ]
     },
     "execution_count": 31,
     "metadata": {},
     "output_type": "execute_result"
    }
   ],
   "source": [
    "trim(500,10000,0)"
   ]
  },
  {
   "cell_type": "markdown",
   "metadata": {},
   "source": [
    "* u = [thtl elev xcg land phi]\n",
    "* s = [thtl, elev_deg, alpha, phi]\n",
    "* x = [vt, alpha, theta, q, h, p]"
   ]
  },
  {
   "cell_type": "code",
   "execution_count": 34,
   "metadata": {},
   "outputs": [
    {
     "name": "stdout",
     "output_type": "stream",
     "text": [
      "\n",
      "-0.001302 s^4 - 0.0004485 s^3 - 0.0001041 s^2 - 4.584e-09 s + 1.963e-19\n",
      "-----------------------------------------------------------------------\n",
      "  s^5 + 0.501 s^4 + 0.2264 s^3 + 0.01434 s^2 + 0.009476 s - 2.062e-08\n",
      "\n"
     ]
    },
    {
     "data": {
      "text/plain": [
       "[<matplotlib.lines.Line2D at 0x7fdc88b11320>]"
      ]
     },
     "execution_count": 34,
     "metadata": {},
     "output_type": "execute_result"
    },
    {
     "data": {
      "image/png": "[encoded data removed]",
      "text/plain": [
       "<Figure size 432x288 with 1 Axes>"
      ]
     },
     "metadata": {
      "needs_background": "light"
     },
     "output_type": "display_data"
    },
    {
     "data": {
      "image/png": "[encoded data removed]",
      "text/plain": [
       "<Figure size 432x288 with 1 Axes>"
      ]
     },
     "metadata": {
      "needs_background": "light"
     },
     "output_type": "display_data"
    }
   ],
   "source": [
    "x = ca.SX.sym('x',6)\n",
    "u = ca.SX.sym('u',5)\n",
    "y = x\n",
    "f_eom = ca.Function('eom',[x,u],[eom(x,u)],['x','u'],['x_dot'])\n",
    "A = ca.jacobian(f_eom(x,u),x)\n",
    "B = ca.jacobian(f_eom(x,u),u)\n",
    "C = ca.jacobian(y,x)\n",
    "D = ca.jacobian(y,u)\n",
    "\n",
    "f_ss = ca.Function('f_ss',[x,u],[A,B,C,D],['x','u'],['A','B','C','D'])\n",
    "vt = 100\n",
    "h = 10000 \n",
    "gamma = 0\n",
    "svec = trim(vt, h, gamma)\n",
    "x0,u0 = constraint(svec,vt,h,gamma)\n",
    "\n",
    "sys = control.ss(*f_ss(np.array(x0),np.array(u0)))\n",
    "G_elev = control.ss2tf(sys[3,1])\n",
    "print(G_elev)\n",
    "s = control.tf([1,0],[0,1])\n",
    "H = -100*(s+1)*(s+2)/((s+3-6j)*(s+3+6j))\n",
    "control.rlocus(H*G_elev,kvect=np.linspace(0,100,1000));\n",
    "Gc = control.feedback(H*G_elev,1)\n",
    "t,y = control.step_response(Gc,T=np.linspace(0,10,1000));\n",
    "plt.figure()\n",
    "plt.plot(t,y)"
   ]
  },
  {
   "cell_type": "code",
   "execution_count": 35,
   "metadata": {},
   "outputs": [
    {
     "ename": "TypeError",
     "evalue": "cannot unpack non-iterable int object",
     "output_type": "error",
     "traceback": [
      "\u001b[0;31m---------------------------------------------------------------------------\u001b[0m",
      "\u001b[0;31mTypeError\u001b[0m                                 Traceback (most recent call last)",
      "\u001b[0;32m<ipython-input-35-fb0c13144978>\u001b[0m in \u001b[0;36m<module>\u001b[0;34m\u001b[0m\n\u001b[1;32m      4\u001b[0m     \u001b[0mt_span\u001b[0m\u001b[0;34m=\u001b[0m\u001b[0;34m[\u001b[0m\u001b[0;36m0\u001b[0m\u001b[0;34m,\u001b[0m \u001b[0mtf\u001b[0m\u001b[0;34m]\u001b[0m\u001b[0;34m,\u001b[0m\u001b[0;34m\u001b[0m\u001b[0;34m\u001b[0m\u001b[0m\n\u001b[1;32m      5\u001b[0m     \u001b[0my0\u001b[0m\u001b[0;34m=\u001b[0m\u001b[0;34m[\u001b[0m\u001b[0;36m500\u001b[0m\u001b[0;34m,\u001b[0m\u001b[0;36m0\u001b[0m\u001b[0;34m,\u001b[0m\u001b[0;36m0\u001b[0m\u001b[0;34m,\u001b[0m\u001b[0;36m0\u001b[0m\u001b[0;34m,\u001b[0m\u001b[0;36m10000\u001b[0m\u001b[0;34m,\u001b[0m\u001b[0;36m0\u001b[0m\u001b[0;34m]\u001b[0m\u001b[0;34m,\u001b[0m\u001b[0;34m\u001b[0m\u001b[0;34m\u001b[0m\u001b[0m\n\u001b[0;32m----> 6\u001b[0;31m     t_eval=np.arange(0, tf, 0.1))\n\u001b[0m\u001b[1;32m      7\u001b[0m \u001b[0;34m\u001b[0m\u001b[0m\n\u001b[1;32m      8\u001b[0m \u001b[0mplt\u001b[0m\u001b[0;34m.\u001b[0m\u001b[0mfigure\u001b[0m\u001b[0;34m(\u001b[0m\u001b[0;34m)\u001b[0m\u001b[0;34m\u001b[0m\u001b[0;34m\u001b[0m\u001b[0m\n",
      "\u001b[0;32m~/anaconda3/envs/aae497-f19/lib/python3.7/site-packages/scipy/integrate/_ivp/ivp.py\u001b[0m in \u001b[0;36msolve_ivp\u001b[0;34m(fun, t_span, y0, method, t_eval, dense_output, events, vectorized, **options)\u001b[0m\n\u001b[1;32m    475\u001b[0m         \u001b[0mmethod\u001b[0m \u001b[0;34m=\u001b[0m \u001b[0mMETHODS\u001b[0m\u001b[0;34m[\u001b[0m\u001b[0mmethod\u001b[0m\u001b[0;34m]\u001b[0m\u001b[0;34m\u001b[0m\u001b[0;34m\u001b[0m\u001b[0m\n\u001b[1;32m    476\u001b[0m \u001b[0;34m\u001b[0m\u001b[0m\n\u001b[0;32m--> 477\u001b[0;31m     \u001b[0msolver\u001b[0m \u001b[0;34m=\u001b[0m \u001b[0mmethod\u001b[0m\u001b[0;34m(\u001b[0m\u001b[0mfun\u001b[0m\u001b[0;34m,\u001b[0m \u001b[0mt0\u001b[0m\u001b[0;34m,\u001b[0m \u001b[0my0\u001b[0m\u001b[0;34m,\u001b[0m \u001b[0mtf\u001b[0m\u001b[0;34m,\u001b[0m \u001b[0mvectorized\u001b[0m\u001b[0;34m=\u001b[0m\u001b[0mvectorized\u001b[0m\u001b[0;34m,\u001b[0m \u001b[0;34m**\u001b[0m\u001b[0moptions\u001b[0m\u001b[0;34m)\u001b[0m\u001b[0;34m\u001b[0m\u001b[0;34m\u001b[0m\u001b[0m\n\u001b[0m\u001b[1;32m    478\u001b[0m \u001b[0;34m\u001b[0m\u001b[0m\n\u001b[1;32m    479\u001b[0m     \u001b[0;32mif\u001b[0m \u001b[0mt_eval\u001b[0m \u001b[0;32mis\u001b[0m \u001b[0;32mNone\u001b[0m\u001b[0;34m:\u001b[0m\u001b[0;34m\u001b[0m\u001b[0;34m\u001b[0m\u001b[0m\n",
      "\u001b[0;32m~/anaconda3/envs/aae497-f19/lib/python3.7/site-packages/scipy/integrate/_ivp/rk.py\u001b[0m in \u001b[0;36m__init__\u001b[0;34m(self, fun, t0, y0, t_bound, max_step, rtol, atol, vectorized, first_step, **extraneous)\u001b[0m\n\u001b[1;32m     98\u001b[0m         \u001b[0mself\u001b[0m\u001b[0;34m.\u001b[0m\u001b[0mmax_step\u001b[0m \u001b[0;34m=\u001b[0m \u001b[0mvalidate_max_step\u001b[0m\u001b[0;34m(\u001b[0m\u001b[0mmax_step\u001b[0m\u001b[0;34m)\u001b[0m\u001b[0;34m\u001b[0m\u001b[0;34m\u001b[0m\u001b[0m\n\u001b[1;32m     99\u001b[0m         \u001b[0mself\u001b[0m\u001b[0;34m.\u001b[0m\u001b[0mrtol\u001b[0m\u001b[0;34m,\u001b[0m \u001b[0mself\u001b[0m\u001b[0;34m.\u001b[0m\u001b[0matol\u001b[0m \u001b[0;34m=\u001b[0m \u001b[0mvalidate_tol\u001b[0m\u001b[0;34m(\u001b[0m\u001b[0mrtol\u001b[0m\u001b[0;34m,\u001b[0m \u001b[0matol\u001b[0m\u001b[0;34m,\u001b[0m \u001b[0mself\u001b[0m\u001b[0;34m.\u001b[0m\u001b[0mn\u001b[0m\u001b[0;34m)\u001b[0m\u001b[0;34m\u001b[0m\u001b[0;34m\u001b[0m\u001b[0m\n\u001b[0;32m--> 100\u001b[0;31m         \u001b[0mself\u001b[0m\u001b[0;34m.\u001b[0m\u001b[0mf\u001b[0m \u001b[0;34m=\u001b[0m \u001b[0mself\u001b[0m\u001b[0;34m.\u001b[0m\u001b[0mfun\u001b[0m\u001b[0;34m(\u001b[0m\u001b[0mself\u001b[0m\u001b[0;34m.\u001b[0m\u001b[0mt\u001b[0m\u001b[0;34m,\u001b[0m \u001b[0mself\u001b[0m\u001b[0;34m.\u001b[0m\u001b[0my\u001b[0m\u001b[0;34m)\u001b[0m\u001b[0;34m\u001b[0m\u001b[0;34m\u001b[0m\u001b[0m\n\u001b[0m\u001b[1;32m    101\u001b[0m         \u001b[0;32mif\u001b[0m \u001b[0mfirst_step\u001b[0m \u001b[0;32mis\u001b[0m \u001b[0;32mNone\u001b[0m\u001b[0;34m:\u001b[0m\u001b[0;34m\u001b[0m\u001b[0;34m\u001b[0m\u001b[0m\n\u001b[1;32m    102\u001b[0m             self.h_abs = select_initial_step(\n",
      "\u001b[0;32m~/anaconda3/envs/aae497-f19/lib/python3.7/site-packages/scipy/integrate/_ivp/base.py\u001b[0m in \u001b[0;36mfun\u001b[0;34m(t, y)\u001b[0m\n\u001b[1;32m    137\u001b[0m         \u001b[0;32mdef\u001b[0m \u001b[0mfun\u001b[0m\u001b[0;34m(\u001b[0m\u001b[0mt\u001b[0m\u001b[0;34m,\u001b[0m \u001b[0my\u001b[0m\u001b[0;34m)\u001b[0m\u001b[0;34m:\u001b[0m\u001b[0;34m\u001b[0m\u001b[0;34m\u001b[0m\u001b[0m\n\u001b[1;32m    138\u001b[0m             \u001b[0mself\u001b[0m\u001b[0;34m.\u001b[0m\u001b[0mnfev\u001b[0m \u001b[0;34m+=\u001b[0m \u001b[0;36m1\u001b[0m\u001b[0;34m\u001b[0m\u001b[0;34m\u001b[0m\u001b[0m\n\u001b[0;32m--> 139\u001b[0;31m             \u001b[0;32mreturn\u001b[0m \u001b[0mself\u001b[0m\u001b[0;34m.\u001b[0m\u001b[0mfun_single\u001b[0m\u001b[0;34m(\u001b[0m\u001b[0mt\u001b[0m\u001b[0;34m,\u001b[0m \u001b[0my\u001b[0m\u001b[0;34m)\u001b[0m\u001b[0;34m\u001b[0m\u001b[0;34m\u001b[0m\u001b[0m\n\u001b[0m\u001b[1;32m    140\u001b[0m \u001b[0;34m\u001b[0m\u001b[0m\n\u001b[1;32m    141\u001b[0m         \u001b[0mself\u001b[0m\u001b[0;34m.\u001b[0m\u001b[0mfun\u001b[0m \u001b[0;34m=\u001b[0m \u001b[0mfun\u001b[0m\u001b[0;34m\u001b[0m\u001b[0;34m\u001b[0m\u001b[0m\n",
      "\u001b[0;32m~/anaconda3/envs/aae497-f19/lib/python3.7/site-packages/scipy/integrate/_ivp/base.py\u001b[0m in \u001b[0;36mfun_wrapped\u001b[0;34m(t, y)\u001b[0m\n\u001b[1;32m     19\u001b[0m \u001b[0;34m\u001b[0m\u001b[0m\n\u001b[1;32m     20\u001b[0m     \u001b[0;32mdef\u001b[0m \u001b[0mfun_wrapped\u001b[0m\u001b[0;34m(\u001b[0m\u001b[0mt\u001b[0m\u001b[0;34m,\u001b[0m \u001b[0my\u001b[0m\u001b[0;34m)\u001b[0m\u001b[0;34m:\u001b[0m\u001b[0;34m\u001b[0m\u001b[0;34m\u001b[0m\u001b[0m\n\u001b[0;32m---> 21\u001b[0;31m         \u001b[0;32mreturn\u001b[0m \u001b[0mnp\u001b[0m\u001b[0;34m.\u001b[0m\u001b[0masarray\u001b[0m\u001b[0;34m(\u001b[0m\u001b[0mfun\u001b[0m\u001b[0;34m(\u001b[0m\u001b[0mt\u001b[0m\u001b[0;34m,\u001b[0m \u001b[0my\u001b[0m\u001b[0;34m)\u001b[0m\u001b[0;34m,\u001b[0m \u001b[0mdtype\u001b[0m\u001b[0;34m=\u001b[0m\u001b[0mdtype\u001b[0m\u001b[0;34m)\u001b[0m\u001b[0;34m\u001b[0m\u001b[0;34m\u001b[0m\u001b[0m\n\u001b[0m\u001b[1;32m     22\u001b[0m \u001b[0;34m\u001b[0m\u001b[0m\n\u001b[1;32m     23\u001b[0m     \u001b[0;32mreturn\u001b[0m \u001b[0mfun_wrapped\u001b[0m\u001b[0;34m,\u001b[0m \u001b[0my0\u001b[0m\u001b[0;34m\u001b[0m\u001b[0;34m\u001b[0m\u001b[0m\n",
      "\u001b[0;32m<ipython-input-35-fb0c13144978>\u001b[0m in \u001b[0;36m<lambda>\u001b[0;34m(t, x)\u001b[0m\n\u001b[1;32m      1\u001b[0m \u001b[0mtf\u001b[0m \u001b[0;34m=\u001b[0m \u001b[0;36m3000\u001b[0m\u001b[0;34m/\u001b[0m\u001b[0;36m2\u001b[0m\u001b[0;34m\u001b[0m\u001b[0;34m\u001b[0m\u001b[0m\n\u001b[1;32m      2\u001b[0m res = scipy.integrate.solve_ivp(\n\u001b[0;32m----> 3\u001b[0;31m     \u001b[0mfun\u001b[0m\u001b[0;34m=\u001b[0m\u001b[0;32mlambda\u001b[0m \u001b[0mt\u001b[0m\u001b[0;34m,\u001b[0m \u001b[0mx\u001b[0m\u001b[0;34m:\u001b[0m \u001b[0mnp\u001b[0m\u001b[0;34m.\u001b[0m\u001b[0marray\u001b[0m\u001b[0;34m(\u001b[0m\u001b[0mf_eom\u001b[0m\u001b[0;34m(\u001b[0m\u001b[0mx\u001b[0m\u001b[0;34m,\u001b[0m \u001b[0;34m[\u001b[0m\u001b[0mfloat\u001b[0m\u001b[0;34m(\u001b[0m\u001b[0ms\u001b[0m\u001b[0;34m[\u001b[0m\u001b[0;36m0\u001b[0m\u001b[0;34m]\u001b[0m\u001b[0;34m)\u001b[0m\u001b[0;34m,\u001b[0m\u001b[0mfloat\u001b[0m\u001b[0;34m(\u001b[0m\u001b[0ms\u001b[0m\u001b[0;34m[\u001b[0m\u001b[0;36m1\u001b[0m\u001b[0;34m]\u001b[0m\u001b[0;34m)\u001b[0m\u001b[0;34m,\u001b[0m\u001b[0;36m0.25\u001b[0m\u001b[0;34m,\u001b[0m\u001b[0;36m0\u001b[0m\u001b[0;34m,\u001b[0m\u001b[0mfloat\u001b[0m\u001b[0;34m(\u001b[0m\u001b[0ms\u001b[0m\u001b[0;34m[\u001b[0m\u001b[0;36m3\u001b[0m\u001b[0;34m]\u001b[0m\u001b[0;34m)\u001b[0m\u001b[0;34m]\u001b[0m\u001b[0;34m)\u001b[0m\u001b[0;34m)\u001b[0m\u001b[0;34m.\u001b[0m\u001b[0mreshape\u001b[0m\u001b[0;34m(\u001b[0m\u001b[0;34m-\u001b[0m\u001b[0;36m1\u001b[0m\u001b[0;34m)\u001b[0m\u001b[0;34m,\u001b[0m\u001b[0;34m\u001b[0m\u001b[0;34m\u001b[0m\u001b[0m\n\u001b[0m\u001b[1;32m      4\u001b[0m     \u001b[0mt_span\u001b[0m\u001b[0;34m=\u001b[0m\u001b[0;34m[\u001b[0m\u001b[0;36m0\u001b[0m\u001b[0;34m,\u001b[0m \u001b[0mtf\u001b[0m\u001b[0;34m]\u001b[0m\u001b[0;34m,\u001b[0m\u001b[0;34m\u001b[0m\u001b[0;34m\u001b[0m\u001b[0m\n\u001b[1;32m      5\u001b[0m     \u001b[0my0\u001b[0m\u001b[0;34m=\u001b[0m\u001b[0;34m[\u001b[0m\u001b[0;36m500\u001b[0m\u001b[0;34m,\u001b[0m\u001b[0;36m0\u001b[0m\u001b[0;34m,\u001b[0m\u001b[0;36m0\u001b[0m\u001b[0;34m,\u001b[0m\u001b[0;36m0\u001b[0m\u001b[0;34m,\u001b[0m\u001b[0;36m10000\u001b[0m\u001b[0;34m,\u001b[0m\u001b[0;36m0\u001b[0m\u001b[0;34m]\u001b[0m\u001b[0;34m,\u001b[0m\u001b[0;34m\u001b[0m\u001b[0;34m\u001b[0m\u001b[0m\n",
      "\u001b[0;32m~/anaconda3/envs/aae497-f19/lib/python3.7/site-packages/control/xferfcn.py\u001b[0m in \u001b[0;36m__getitem__\u001b[0;34m(self, key)\u001b[0m\n\u001b[1;32m    528\u001b[0m \u001b[0;34m\u001b[0m\u001b[0m\n\u001b[1;32m    529\u001b[0m     \u001b[0;32mdef\u001b[0m \u001b[0m__getitem__\u001b[0m\u001b[0;34m(\u001b[0m\u001b[0mself\u001b[0m\u001b[0;34m,\u001b[0m \u001b[0mkey\u001b[0m\u001b[0;34m)\u001b[0m\u001b[0;34m:\u001b[0m\u001b[0;34m\u001b[0m\u001b[0;34m\u001b[0m\u001b[0m\n\u001b[0;32m--> 530\u001b[0;31m         \u001b[0mkey1\u001b[0m\u001b[0;34m,\u001b[0m \u001b[0mkey2\u001b[0m \u001b[0;34m=\u001b[0m \u001b[0mkey\u001b[0m\u001b[0;34m\u001b[0m\u001b[0;34m\u001b[0m\u001b[0m\n\u001b[0m\u001b[1;32m    531\u001b[0m \u001b[0;34m\u001b[0m\u001b[0m\n\u001b[1;32m    532\u001b[0m         \u001b[0;31m# pre-process\u001b[0m\u001b[0;34m\u001b[0m\u001b[0;34m\u001b[0m\u001b[0;34m\u001b[0m\u001b[0m\n",
      "\u001b[0;31mTypeError\u001b[0m: cannot unpack non-iterable int object"
     ]
    }
   ],
   "source": [
    "tf = 3000/2\n",
    "res = scipy.integrate.solve_ivp(\n",
    "    fun=lambda t, x: np.array(f_eom(x, [float(s[0]),float(s[1]),0.25,0,float(s[3])])).reshape(-1),\n",
    "    t_span=[0, tf],\n",
    "    y0=[500,0,0,0,10000,0],\n",
    "    t_eval=np.arange(0, tf, 0.1))\n",
    "\n",
    "plt.figure()\n",
    "plt.plot(res['t'], res['y'][0, :]);\n",
    "plt.title('V vs t')\n",
    "plt.xlabel('time[s]')\n",
    "plt.ylabel('V[ft/s]')\n",
    "\n",
    "plt.figure()\n",
    "plt.plot(res['y'][5,:],res['y'][4,:])\n",
    "plt.title('Trajectory')\n",
    "plt.xlabel('pos[ft]')\n",
    "plt.ylabel('altittude[ft]')\n",
    "plt.grid()"
   ]
  },
  {
   "cell_type": "code",
   "execution_count": null,
   "metadata": {},
   "outputs": [],
   "source": []
  }
 ],
 "metadata": {
  "kernelspec": {
   "display_name": "Python 3",
   "language": "python",
   "name": "python3"
  },
  "language_info": {
   "codemirror_mode": {
    "name": "ipython",
    "version": 3
   },
   "file_extension": ".py",
   "mimetype": "text/x-python",
   "name": "python",
   "nbconvert_exporter": "python",
   "pygments_lexer": "ipython3",
   "version": "3.7.3"
  }
 },
 "nbformat": 4,
 "nbformat_minor": 4
}
