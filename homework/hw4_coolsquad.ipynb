{
 "cells": [
  {
   "cell_type": "code",
   "execution_count": 6,
   "metadata": {},
   "outputs": [],
   "source": [
    "%matplotlib inline\n",
    "\n",
    "import casadi as ca\n",
    "import sys\n",
    "import control\n",
    "import numpy as np\n",
    "import matplotlib.pyplot as plt\n",
    "import scipy.linalg\n",
    "\n",
    "from analysis import loop_analysis, rlocus, bode"
   ]
  },
  {
   "cell_type": "code",
   "execution_count": 15,
   "metadata": {},
   "outputs": [],
   "source": [
    "Cl0 = 0.0 # update with wing\n",
    "Cla = 2*np.pi\n",
    "rho = 1.225 # should be constant\n",
    "kclcd = 0.01 #update with wing\n",
    "Cd0 = 0 # update with wing\n",
    "sf = 0.01 # fin area\n",
    "r = 0.1 # rocket body radius\n",
    "sb = np.pi*r**2\n",
    "lf = 1.0 # distance from cg to fin update with fins\n",
    "\n",
    "Vt = ca.SX.sym('Vt')\n",
    "df = ca.SX.sym('df')\n",
    "sf = 1 # needs wing\n",
    "\n",
    "Cl = Cl0 + Cla * df\n",
    "cdcls = 1 # needs wing\n",
    "Cd = Cd0 + cdcls * Cl**2\n",
    "\n",
    "q = 0.5 * rho * Vt **2 \n",
    "Lf = Cl * q * sf\n",
    "Df = Cd * q * sf\n",
    "\n",
    "Cdb = 0.01 \n",
    "Db = Cdb*q*sb\n",
    "\n",
    "m_aero = lf*Lf\n",
    "\n",
    "xdot[0] = thrust + Fax + Wz\n",
    "xdot[1] = Fax + Wx\n"
   ]
  },
  {
   "cell_type": "code",
   "execution_count": null,
   "metadata": {},
   "outputs": [],
   "source": [
    "def AeroForceMoments(Vt,df,rho):\n",
    "    \n",
    "    "
   ]
  },
  {
   "cell_type": "code",
   "execution_count": null,
   "metadata": {},
   "outputs": [],
   "source": [
    "def controller(h,gamma):\n",
    "    "
   ]
  },
  {
   "cell_type": "code",
   "execution_count": null,
   "metadata": {},
   "outputs": [],
   "source": [
    "Fa, Ma = AeroForceMoments(Vt,df,rho)"
   ]
  }
 ],
 "metadata": {
  "kernelspec": {
   "display_name": "Python 3",
   "language": "python",
   "name": "python3"
  },
  "language_info": {
   "codemirror_mode": {
    "name": "ipython",
    "version": 3
   },
   "file_extension": ".py",
   "mimetype": "text/x-python",
   "name": "python",
   "nbconvert_exporter": "python",
   "pygments_lexer": "ipython3",
   "version": "3.7.3"
  }
 },
 "nbformat": 4,
 "nbformat_minor": 4
}
