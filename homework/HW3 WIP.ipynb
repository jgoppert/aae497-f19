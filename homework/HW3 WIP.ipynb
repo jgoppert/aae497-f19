{
 "cells": [
  {
   "cell_type": "markdown",
   "metadata": {},
   "source": [
    "# Homework 3\n",
    "Due 9/20 @ 11pm:\n",
    "\n",
    "Create a longitudinal model of a tilt rotor aircraft. You should use the model on pg. 182 \n",
    "of Stevens and Lewis and add the tilt rotor dynamic by creating a 5th input, to \n",
    "represent the tilt of the motors.\n",
    "\n",
    "Trim the aircraft at 500 ft/s and at 100 ft/s and design a pitch rate controller for both \n",
    "trim conditions.\n",
    "\n",
    "What challenges do you encounter with regard to the aerodynamics at \n",
    "the 100 ft/s trim condition?"
   ]
  },
  {
   "cell_type": "code",
   "execution_count": 1,
   "metadata": {},
   "outputs": [],
   "source": [
    "import sys\n",
    "sys.path.insert(0, '../python/casadi_f16')\n",
    "import f16\n",
    "import control\n",
    "import numpy as np\n",
    "import matplotlib.pyplot as plt\n",
    "import scipy.linalg\n",
    "\n",
    "from analysis import loop_analysis, rlocus, bode"
   ]
  },
  {
   "cell_type": "markdown",
   "metadata": {},
   "source": [
    "## Function Definitions"
   ]
  },
  {
   "cell_type": "code",
   "execution_count": 5,
   "metadata": {},
   "outputs": [],
   "source": [
    "# Trimming function for a tilt rotor aircraft\n",
    "def trim_tra():\n",
    "    return()"
   ]
  },
  {
   "cell_type": "code",
   "execution_count": 6,
   "metadata": {},
   "outputs": [],
   "source": [
    "# Atmosphere function\n",
    "def ADC(VT, ALT):\n",
    "    R0 = 2.377E-3                # Sea level density\n",
    "    TFAC = 1.0 - 0.703E-5*ALT\n",
    "    T = 519.0 + TFAC             # Temperature\n",
    "    if(ALT > 35000.0): T = 390.0\n",
    "    RHO = R0 * TFAC**4.14        # Density\n",
    "    GAM = 1.4\n",
    "    R = 1716.3\n",
    "    \n",
    "    AMACH = VT/sqrt(GAM*R*T)\n",
    "    QBAR = 0.5*RHO*VT**2\n",
    "    return(AMACH, QBAR)\n",
    "\n",
    "# Dynamics of a transport aircraft, returning dx/dt\n",
    "def transp(time, x, u):\n",
    "\n",
    "    # Definitions\n",
    "    S = 2170      # Area of wing\n",
    "    CBAR = 17.5   # Average chord\n",
    "    MASS = 5.0E3  # Mass\n",
    "    IYY = 4.1E6   # Moment of Inertia about y axis\n",
    "    TSTAT = 6.0E4 # Static thrust\n",
    "    DTDV = -38.0  # Change in thrust w.r.t. velocity\n",
    "    ZE = 2.0      # \n",
    "    CDCLS = 0.042 #\n",
    "\n",
    "    # Per degree\n",
    "    CLA = 0.085   # Coefficient of lift\n",
    "    CMA = -0.022  # Coefficient of moment\n",
    "    CMDE = -0.016 # Coefficient of moment\n",
    "\n",
    "    # Per radian\n",
    "    CMQ = -16.0   # \n",
    "    CMADOT = -6.0 # Change in coefficient of moment\n",
    "    CLADOT = 0.0  # Change in coefficient of lift\n",
    "\n",
    "    RTOD = 57.29578 # Radians to degrees conversion\n",
    "    GD = 32.17      # \n",
    "\n",
    "    # Assigning input vector\n",
    "    THTL = u[0]\n",
    "    ELEV = u[1]\n",
    "    XCG = u[2]\n",
    "    LAND = u[3]\n",
    "\n",
    "    # Assigning state vector\n",
    "    VT = x[0]\n",
    "    ALPHA = RTOD * x[1]\n",
    "    THETA = x[2]\n",
    "    Q = x[3]\n",
    "    H = x[4]\n",
    "\n",
    "    [MACH, QBAR] = ADC(VT, H)\n",
    "    QS = QBAR*S\n",
    "    SALP = sin(x[1])\n",
    "    CALP = cos(x[1])\n",
    "    GAM = THETA - x[1]\n",
    "    SGAM = sin(GAM)\n",
    "    CGAM = cos(GAM)\n",
    "\n",
    "    # Correcting for landing\n",
    "    coeff = ca.if_else(LAND == 0,\n",
    "      [0.20, 0.016, 0.05, 0.0, 0.0],\n",
    "      ca.if_else(LAND == 1,\n",
    "                [1.0, 0.08, -0.20, 0.02, -0.05],\n",
    "                99))\n",
    "    if(coeff[0] == 99):\n",
    "        print('Landing Gear & Flaps?')\n",
    "    else:\n",
    "        CLO = coeff[0]\n",
    "        CDO = coeff[1]\n",
    "        CMO = coeff[2]\n",
    "        DCDG = coeff[3]\n",
    "        DCMG = coeff[4]\n",
    "\n",
    "    THR = (TSTAT + VT*DTDV) * max(THTL, 0) # Thrust\n",
    "    CL = CLO + CLA*ALPHA                   # Lift Coefficient\n",
    "    CD = DCDG + CDO + CDCLS*CL**2          # Drag Coefficient\n",
    "\n",
    "    # Moment Coefficient\n",
    "    CM = DCMG + CMO + CMA*ALPHA + CMDE + ELEV + CL*(XCG - 0.25)\n",
    "\n",
    "    # Time derivative of state equation\n",
    "    xd[0] = (THR*CALP - QS*CD)/MASS - GD*SGAM\n",
    "    xd[1] = (-THR*SALP - QS*CL + MASS*(VT*Q + GD*CGAM))/(MASS*VT + QS*CLADOT)\n",
    "    xd[2] = Q\n",
    "    xd[3] = (QS*CBAR*(CM + D) + THR*ZE)/IYY\n",
    "    xd[4] = VT*SGAM\n",
    "    xd[5] = VT*CGAM\n",
    "    return xd"
   ]
  },
  {
   "cell_type": "markdown",
   "metadata": {},
   "source": [
    "## Controller"
   ]
  },
  {
   "cell_type": "code",
   "execution_count": null,
   "metadata": {},
   "outputs": [],
   "source": [
    "# Pitch Rate Controller\n",
    "P = 2.5\n",
    "I = 0.5\n",
    "H_PI = P + I * (1/ s)\n",
    "print('H_PI = ',H_PI)\n",
    "\n",
    "G0 = H_PI*sys3[1, 0]\n",
    "print('G0 = ',G0)\n",
    "\n",
    "Gc = control.feedback(G0, 1)\n",
    "\n",
    "t, y = control.step_response(Gc, T=np.linspace(0, 1, 1000))\n",
    "plt.figure(figsize=(10, 5))\n",
    "plt.plot(t, 1*y)\n",
    "plt.grid()\n",
    "plt.show()"
   ]
  },
  {
   "cell_type": "markdown",
   "metadata": {},
   "source": [
    "## Analysis"
   ]
  },
  {
   "cell_type": "code",
   "execution_count": null,
   "metadata": {},
   "outputs": [],
   "source": []
  }
 ],
 "metadata": {
  "kernelspec": {
   "display_name": "Python 3",
   "language": "python",
   "name": "python3"
  },
  "language_info": {
   "codemirror_mode": {
    "name": "ipython",
    "version": 3
   },
   "file_extension": ".py",
   "mimetype": "text/x-python",
   "name": "python",
   "nbconvert_exporter": "python",
   "pygments_lexer": "ipython3",
   "version": "3.7.3"
  }
 },
 "nbformat": 4,
 "nbformat_minor": 4
}
