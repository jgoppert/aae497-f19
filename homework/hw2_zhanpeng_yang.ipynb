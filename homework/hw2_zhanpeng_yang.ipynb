{
 "cells": [
  {
   "cell_type": "code",
   "execution_count": 23,
   "metadata": {},
   "outputs": [],
   "source": [
    "import casadi as ca\n",
    "import matplotlib.pyplot as plt\n",
    "%matplotlib inline\n",
    "import numpy as np\n",
    "\n",
    "from casadi.tools.graph import dotgraph\n",
    "from IPython.display import Image\n",
    "\n",
    "def draw_graph(expr):\n",
    "    return Image(dotgraph(expr).create_png())"
   ]
  },
  {
   "cell_type": "markdown",
   "metadata": {},
   "source": [
    "# Parameters\n",
    "$\n",
    "W = 162,000 lb\\\\\n",
    "thrust = 30000 lb\\\\\n",
    "S = 2170 ft^2\\\\\n",
    "b = 140 ft\\\\\n",
    "length = 90 ft\\\\\n",
    "I_{yy} = 4.1 e^6 slug-ft^2\n",
    "$"
   ]
  },
  {
   "cell_type": "code",
   "execution_count": 17,
   "metadata": {},
   "outputs": [],
   "source": [
    "s = 2170\n",
    "cbar = 17.5\n",
    "mass = 5.0e6\n",
    "iyy = 4.\n",
    "tstat = 6e4\n",
    "dtdv = -38\n",
    "ze = 2\n",
    "cd_cl_s = 0.042\n",
    "cl_a = 0.085\n",
    "cm_a = -0.022\n",
    "cm_de = -0.016 #per degree\n",
    "cm_q = 0.16\n",
    "cm_adot = -6\n",
    "cl_adot = 0.0\n",
    "rtod = 57.29578\n",
    "gd = 32.17\n"
   ]
  },
  {
   "cell_type": "code",
   "execution_count": 18,
   "metadata": {},
   "outputs": [],
   "source": [
    "u = ca.SX.sym('u',4)\n",
    "thtl = u[0]\n",
    "elev = u[1]\n",
    "xcg = u[2]\n",
    "land = u[3]\n",
    "\n",
    "vt = ca.SX.sym('vt')\n",
    "alpha = rtod*ca.SX.sym('alpha')\n",
    "theta = ca.SX.sym('theta')\n",
    "q = ca.SX.sym('q')\n",
    "h = ca.SX.sym('h')\n",
    "x = ca.vertcat(vt,alpha,theta,q,h)\n"
   ]
  },
  {
   "cell_type": "code",
   "execution_count": 22,
   "metadata": {},
   "outputs": [
    {
     "data": {
      "image/png": "[encoded data removed]",
      "text/plain": [
       "<IPython.core.display.Image object>"
      ]
     },
     "execution_count": 22,
     "metadata": {},
     "output_type": "execute_result"
    }
   ],
   "source": [
    "def adc(vt, H):\n",
    "    ro = 2.377e-3\n",
    "    tfac = 1-0.0703e-5 * H\n",
    "    T = 519*tfac\n",
    "    if H >= 35000:\n",
    "        T = 390\n",
    "    rho = r0 * (tfac**4.14)\n",
    "    mach = vt/np.sqrt(1.4*1716.3*T)\n",
    "    qbar = 0.5*rho*vt**2\n",
    "    cps = 1715 * rho*T\n",
    "    \n",
    "    qs = qbar*s\n",
    "    \n",
    "    \n",
    "    "
   ]
  },
  {
   "cell_type": "code",
   "execution_count": null,
   "metadata": {},
   "outputs": [],
   "source": []
  }
 ],
 "metadata": {
  "kernelspec": {
   "display_name": "Python 3",
   "language": "python",
   "name": "python3"
  },
  "language_info": {
   "codemirror_mode": {
    "name": "ipython",
    "version": 3
   },
   "file_extension": ".py",
   "mimetype": "text/x-python",
   "name": "python",
   "nbconvert_exporter": "python",
   "pygments_lexer": "ipython3",
   "version": "3.7.3"
  }
 },
 "nbformat": 4,
 "nbformat_minor": 4
}
