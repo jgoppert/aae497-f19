{
 "cells": [
  {
   "cell_type": "code",
   "execution_count": 1,
   "metadata": {},
   "outputs": [],
   "source": [
    "import casadi as ca\n",
    "import sys\n",
    "sys.path.insert(0, '../python/pyecca')\n",
    "\n",
    "import matplotlib.pyplot as plt\n",
    "from pyecca.util import rk4\n",
    "import numpy as np\n",
    "\n",
    "from casadi.tools.graph import dotgraph\n",
    "from IPython.display import Image\n",
    "\n",
    "def draw_graph(expr):\n",
    "    return Image(dotgraph(expr).create_png())\n"
   ]
  },
  {
   "cell_type": "code",
   "execution_count": 2,
   "metadata": {},
   "outputs": [],
   "source": [
    "def numerical(x_end, n_x):\n",
    "    \"\"\"\n",
    "    Edit this function and setup an optimal control problem that minimizes the time\n",
    "    it takes for a ball rolling a long a curve to reach the end of the path assuming it\n",
    "    starts at a height of 1 m and ends at a height of 0 m and the length of the path is\n",
    "    x_end m.\n",
    "    \"\"\"\n",
    "    \n",
    "    \n",
    "    \n",
    "    x = np.linspace(0, x_end, n_x)  # x position where path changes\n",
    "    dx = x[1] - x[0]  # path steps width\n",
    "    n_dy = n_x - 1  # number of height changes we need to find\n",
    "    dy0 = -(1/n_dy)*np.ones(n_dy)  # initial guess for height change along path\n",
    "    \n",
    "    dy_opt = dy0 # TODO, find optimal change in y along path\n",
    "    y_opt = ca.vertcat(1, 1 + np.cumsum(dy_opt))\n",
    "    return x, y_opt"
   ]
  },
  {
   "cell_type": "code",
   "execution_count": 3,
   "metadata": {},
   "outputs": [],
   "source": [
    "# NLP declaration to solve for boundary condition of brachistochrone\n",
    "def analytical(x_end, n_x):\n",
    "    c = ca.SX.sym('c')\n",
    "    theta_f = ca.SX.sym('theta_f')\n",
    "    xf = c*(theta_f - np.sin(theta_f))\n",
    "    yf = 1 - c*(1 - np.cos(theta_f))\n",
    "\n",
    "    nlp = {'x':ca.vertcat(c, theta_f), 'f':0,'g':ca.vertcat(xf-x_end,yf)}\n",
    "    S = ca.nlpsol('S', 'ipopt', nlp, {\n",
    "        'print_time': 0,\n",
    "        'ipopt': {\n",
    "            'sb': 'yes',\n",
    "            'print_level': 0,\n",
    "            }\n",
    "        })\n",
    "    res = S(x0=(1, np.pi), lbg=(0, 0), ubg=(0, 0))\n",
    "    C_opt = float(res['x'][0])\n",
    "    theta_f_opt = float(res['x'][1])\n",
    "    theta = np.linspace(0, theta_f_opt, n_x)\n",
    "    xa = C_opt*(theta - np.sin(theta))\n",
    "    ya = 1 - C_opt*(1 - np.cos(theta))\n",
    "    return xa, ya"
   ]
  },
  {
   "cell_type": "code",
   "execution_count": 4,
   "metadata": {},
   "outputs": [
    {
     "data": {
      "text/plain": [
       "<matplotlib.legend.Legend at 0x7f1dfff96c10>"
      ]
     },
     "execution_count": 4,
     "metadata": {},
     "output_type": "execute_result"
    },
    {
     "data": {
      "image/png": "[encoded data removed]",
      "text/plain": [
       "<Figure size 432x288 with 1 Axes>"
      ]
     },
     "metadata": {
      "needs_background": "light"
     },
     "output_type": "display_data"
    }
   ],
   "source": [
    "n_x = 100  # number of points for approximation of path\n",
    "x_end = 3  # final x position when height is zero\n",
    "\n",
    "# analytical solution\n",
    "xa, ya = analytical(x_end=x_end, n_x=n_x)\n",
    "\n",
    "# numerical solution\n",
    "x, y_opt = numerical(x_end=x_end, n_x=n_x)\n",
    "\n",
    "# plot\n",
    "plt.title('brachistochrone')\n",
    "plt.plot(x, y_opt, label='numerical')\n",
    "plt.plot(xa, ya, 'r--', label='analytical', alpha=0.5)\n",
    "plt.grid(True)\n",
    "plt.xlabel('x, m')\n",
    "plt.ylabel('z, m')\n",
    "plt.legend()"
   ]
  }
 ],
 "metadata": {
  "kernelspec": {
   "display_name": "Python 3",
   "language": "python",
   "name": "python3"
  },
  "language_info": {
   "codemirror_mode": {
    "name": "ipython",
    "version": 3
   },
   "file_extension": ".py",
   "mimetype": "text/x-python",
   "name": "python",
   "nbconvert_exporter": "python",
   "pygments_lexer": "ipython3",
   "version": "3.7.3"
  }
 },
 "nbformat": 4,
 "nbformat_minor": 4
}
