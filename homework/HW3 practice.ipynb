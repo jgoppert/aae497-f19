{
 "cells": [
  {
   "cell_type": "code",
   "execution_count": 1,
   "metadata": {},
   "outputs": [],
   "source": [
    "import casadi as ca\n",
    "import matplotlib.pyplot as plt\n",
    "%matplotlib inline\n",
    "import numpy as np\n"
   ]
  },
  {
   "cell_type": "markdown",
   "metadata": {},
   "source": [
    "# Parameter"
   ]
  },
  {
   "cell_type": "code",
   "execution_count": 7,
   "metadata": {},
   "outputs": [],
   "source": [
    "S=2170.0;\n",
    "CBAR=17.5;\n",
    "MASS=5.0E3; \n",
    "IYY= 4.1E6;\n",
    "TSTAT=6.0E4;\n",
    "DTDV = -38.0;\n",
    "ZE = 2.0;\n",
    "CDCLS= 0.042;\n",
    "CLA = 0.085;\n",
    "CMA = -0.022; \n",
    "CMDE = -0.016;  \n",
    "CMQ =-16.0;\n",
    "CMADOT= -6.0;\n",
    "CLADOT= 0.0;\n",
    "RTOD = 57.29578;\n",
    "GD=32.17;\n",
    "R0 = 2.377e-5;"
   ]
  },
  {
   "cell_type": "code",
   "execution_count": 8,
   "metadata": {},
   "outputs": [],
   "source": [
    "thtl = ca.SX.sym('thtl')\n",
    "elev = ca.SX.sym('elev')\n",
    "xcg = ca.SX.sym('xcg')\n",
    "land = ca.SX.sym('land')\n",
    "VT = ca.SX.sym('VT')\n",
    "alhpa = RTOD * ca.SX.sym('alpha')\n",
    "theta = ca.SX.sym('theta')\n",
    "Q = ca.SX.sym('Q')\n",
    "H = ca.SX.sym('H')"
   ]
  },
  {
   "cell_type": "code",
   "execution_count": 10,
   "metadata": {},
   "outputs": [],
   "source": [
    "tfac = 1.0 - 0.703e-5 * H\n",
    "T = 519.0 * tfac\n",
    "rho = R0 * (tfac ** 4.14)\n",
    "qbar = 0.5*rho*VT*VT\n",
    "mach = VT / np.sqrt(1.4*1716.3*T)"
   ]
  },
  {
   "cell_type": "code",
   "execution_count": null,
   "metadata": {},
   "outputs": [],
   "source": [
    "qs = qbar * S;\n",
    "salp = np.sin()"
   ]
  }
 ],
 "metadata": {
  "kernelspec": {
   "display_name": "Python 3",
   "language": "python",
   "name": "python3"
  },
  "language_info": {
   "codemirror_mode": {
    "name": "ipython",
    "version": 3
   },
   "file_extension": ".py",
   "mimetype": "text/x-python",
   "name": "python",
   "nbconvert_exporter": "python",
   "pygments_lexer": "ipython3",
   "version": "3.7.3"
  }
 },
 "nbformat": 4,
 "nbformat_minor": 4
}
