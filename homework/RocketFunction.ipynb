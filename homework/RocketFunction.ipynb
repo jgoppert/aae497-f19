{
 "cells": [
  {
   "cell_type": "code",
   "execution_count": 10,
   "metadata": {},
   "outputs": [],
   "source": [
    "import casadi as ca\n",
    "import numpy as np\n",
    "from casadi.tools.graph import dotgraph\n",
    "from IPython.display import Image\n",
    "\n",
    "def draw_graph(expr):\n",
    "    return Image(dotgraph(expr).create_png())"
   ]
  },
  {
   "cell_type": "code",
   "execution_count": 11,
   "metadata": {},
   "outputs": [],
   "source": [
    "#EOM = pg 111 table 2.5-1\n",
    "def rhs(x, u):\n",
    "    sf = (0.3*0.3*0.5) #m^2\n",
    "    g = 9.81 #m/s\n",
    "    roh = 1.225 #kg/m^3\n",
    "    \n",
    "    \n",
    "    VT = u[0] #m/s\n",
    "    alpha = u[1] #deg\n",
    "    xcg = u[2]\n",
    "    land = u[3]\n",
    "    PHI = u[4]\n",
    "    \n",
    "    vt = x[0]  # velocity, ft/s\n",
    "    alpha = x[1]\n",
    "    alpha_deg = rtod*alpha  # angle of attack, deg\n",
    "    theta = x[2]  # pitch angle, rad\n",
    "    q = x[3]  # pitch rate, rad/s\n",
    "    h = x[4]  # altitude, ft\n",
    "    pos = x[5]  # horizontal position from origin, ft (not used in dynamics)\n",
    "    \n",
    "    r0 = 2.377e-3\n",
    "    tfac = 1.0 - 0.703e-5*h\n",
    "    temperature = ca.if_else(h > 35000, 390.0, 519.0*tfac)\n",
    "    rho = r0*(tfac**4.14)\n",
    "    mach = vt/ca.sqrt(1.4*1716.3*temperature)\n",
    "    qbar = 0.5*rho*vt**2\n",
    "    \n",
    "    qs = qbar*s\n",
    "    salp = ca.sin(alpha+PHI)\n",
    "    calp = ca.cos(alpha+PHI)\n",
    "    gam = theta - alpha\n",
    "    sgam = ca.sin(gam)\n",
    "    cgam = ca.cos(gam)\n",
    "    \n",
    "    aero_p = ca.if_else(\n",
    "        land,\n",
    "        (1.0, 0.08, -0.20, 0.02, -0.05),\n",
    "        (0.2, 0.016, 0.05, 0.0, 0.0))\n",
    "    cl0 = aero_p[0]\n",
    "    cd0 = aero_p[1]\n",
    "    cm0 = aero_p[2]\n",
    "    dcdg = aero_p[3]\n",
    "    dcmg = aero_p[4]\n",
    "    \n",
    "    thr = (tstat + vt*dtdv)*ca.fmax(thtl, 0)\n",
    "    cl = cl0 + cla*alpha_deg\n",
    "    cm = dcmg + cm0 + cma*alpha_deg + cmde*elev_deg + cl*(xcg - 0.25)\n",
    "    cd = dcdg + cd0 + cdcls*cl**2\n",
    "    \n",
    "    x_dot = ca.SX.zeros(6)\n",
    "    x_dot[0] = (thr*calp - qs*cd)/mass - gd*sgam\n",
    "    x_dot[1] = (-thr*salp - qs*cl + mass*(vt*q + gd*cgam))/(mass*vt + qs*cladot)\n",
    "    x_dot[2] = q\n",
    "    d = 0.5*cbar*(cmq*q + cmadot*x_dot[1])/vt\n",
    "    x_dot[3] = (qs*cbar*(cm + d) + thr*ze)/iyy\n",
    "    x_dot[4] = vt*sgam\n",
    "    x_dot[5] = vt*cgam\n",
    "    return x_dot"
   ]
  },
  {
   "cell_type": "code",
   "execution_count": 12,
   "metadata": {},
   "outputs": [],
   "source": [
    "def constrain(s, vt, h, gamma):\n",
    "    \n",
    "    # s is our design vector:\n",
    "    # s = [thtl, elev_deg, alpha]\n",
    "    thtl = s[0]\n",
    "    elev_deg = s[1]\n",
    "    alpha = s[2]\n",
    "    phi = s[3]\n",
    "    \n",
    "    pos = 0  # we don't care what horiz. position we are at\n",
    "    q = 0 # we don't want to be rotating, so no pitch-rate\n",
    "    xcg = 0.25  # we assume xcg at 1/4 chord\n",
    "    land = 0  # we assume we do not have flaps/gear deployed\n",
    "    theta = alpha + gamma\n",
    "    \n",
    "    # vt, alpha, theta, q, h, pos\n",
    "    x = ca.vertcat(vt, alpha, theta, q, h, pos)\n",
    "    \n",
    "    # thtl, elev_deg, xcg, land\n",
    "    u = ca.vertcat(thtl, elev_deg, xcg, land, phi)\n",
    "    return x, u\n",
    "\n",
    "def trim_cost(x, u):\n",
    "    x_dot = rhs(x, u)\n",
    "    return x_dot[0]**2 + 100*x_dot[1]**2 + 10*x_dot[3]**2 + u[0]**2\n",
    "\n",
    "def objective(s, vt, h, gamma):\n",
    "    x, u = constrain(s, vt, h, gamma)\n",
    "    return trim_cost(x, u)"
   ]
  },
  {
   "cell_type": "code",
   "execution_count": 13,
   "metadata": {},
   "outputs": [],
   "source": [
    "def solve_problem():\n",
    "    s = ca.SX.sym('s', 4)\n",
    "    nlp = {'x': s, 'f': objective(s, vt=500, h=0, gamma=0)}\n",
    "    S = ca.nlpsol('S', 'ipopt', nlp)\n",
    "\n",
    "    # s = [thtl, elev_deg, alpha, phi]\n",
    "    s0 = [0.293, 2.46, np.deg2rad(0.58), 0]\n",
    "    res = S(x0=s0)\n",
    "    return res['x']"
   ]
  },
  {
   "cell_type": "code",
   "execution_count": 14,
   "metadata": {},
   "outputs": [
    {
     "name": "stdout",
     "output_type": "stream",
     "text": [
      "This is Ipopt version 3.12.3, running with linear solver mumps.\n",
      "NOTE: Other linear solvers might be more efficient (see Ipopt documentation).\n",
      "\n",
      "Number of nonzeros in equality constraint Jacobian...:        0\n",
      "Number of nonzeros in inequality constraint Jacobian.:        0\n",
      "Number of nonzeros in Lagrangian Hessian.............:       10\n",
      "\n",
      "Total number of variables............................:        4\n",
      "                     variables with only lower bounds:        0\n",
      "                variables with lower and upper bounds:        0\n",
      "                     variables with only upper bounds:        0\n",
      "Total number of equality constraints.................:        0\n",
      "Total number of inequality constraints...............:        0\n",
      "        inequality constraints with only lower bounds:        0\n",
      "   inequality constraints with lower and upper bounds:        0\n",
      "        inequality constraints with only upper bounds:        0\n",
      "\n",
      "iter    objective    inf_pr   inf_du lg(mu)  ||d||  lg(rg) alpha_du alpha_pr  ls\n",
      "   0  8.5855948e-02 0.00e+00 6.29e-01  -1.0 0.00e+00    -  0.00e+00 0.00e+00   0\n",
      "   1  8.3565156e-02 0.00e+00 2.22e-02  -1.7 7.46e-03   0.0 1.00e+00 1.00e+00f  1\n",
      "   2  8.3131503e-02 0.00e+00 6.45e-03  -3.8 1.88e-01    -  1.00e+00 1.00e+00f  1\n",
      "   3  8.3131437e-02 0.00e+00 3.45e-07  -3.8 1.09e-04    -  1.00e+00 1.00e+00f  1\n",
      "   4  8.3131437e-02 0.00e+00 1.83e-11  -8.6 7.96e-07    -  1.00e+00 1.00e+00f  1\n",
      "\n",
      "Number of Iterations....: 4\n",
      "\n",
      "                                   (scaled)                 (unscaled)\n",
      "Objective...............:   8.3131436927966956e-02    8.3131436927966956e-02\n",
      "Dual infeasibility......:   1.8280277031684777e-11    1.8280277031684777e-11\n",
      "Constraint violation....:   0.0000000000000000e+00    0.0000000000000000e+00\n",
      "Complementarity.........:   0.0000000000000000e+00    0.0000000000000000e+00\n",
      "Overall NLP error.......:   1.8280277031684777e-11    1.8280277031684777e-11\n",
      "\n",
      "\n",
      "Number of objective function evaluations             = 5\n",
      "Number of objective gradient evaluations             = 5\n",
      "Number of equality constraint evaluations            = 0\n",
      "Number of inequality constraint evaluations          = 0\n",
      "Number of equality constraint Jacobian evaluations   = 0\n",
      "Number of inequality constraint Jacobian evaluations = 0\n",
      "Number of Lagrangian Hessian evaluations             = 4\n",
      "Total CPU secs in IPOPT (w/o function evaluations)   =      0.002\n",
      "Total CPU secs in NLP function evaluations           =      0.000\n",
      "\n",
      "EXIT: Optimal Solution Found.\n",
      "               t_proc [s]   t_wall [s]    n_eval\n",
      "           S      0.00369       0.0027         1\n",
      "       nlp_f      1.9e-05     1.84e-05         5\n",
      "  nlp_grad_f        8e-05     2.42e-05         6\n",
      "  nlp_hess_l      1.8e-05     1.84e-05         4\n"
     ]
    },
    {
     "data": {
      "text/plain": [
       "DM([0.284171, 2.65229, 0.00735272, 0.0124526])"
      ]
     },
     "execution_count": 14,
     "metadata": {},
     "output_type": "execute_result"
    }
   ],
   "source": [
    "solve_problem()"
   ]
  },
  {
   "cell_type": "code",
   "execution_count": 15,
   "metadata": {},
   "outputs": [],
   "source": [
    "# The trim conditons for 500ft/s are thtl = 0.284171, elev_deg = 2.65229, alpha = 0.00735272, phi\"rotor tilt\" = 0.0124526rads"
   ]
  },
  {
   "cell_type": "code",
   "execution_count": 16,
   "metadata": {},
   "outputs": [],
   "source": [
    "def solve_problem():\n",
    "    s = ca.SX.sym('s', 4)\n",
    "    nlp = {'x': s, 'f': objective(s, vt=100, h=0, gamma=0)}\n",
    "    S = ca.nlpsol('S', 'ipopt', nlp)\n",
    "\n",
    "    # s = [thtl, elev_deg, alpha, phi]\n",
    "    s0 = [0.293, 2.46, np.deg2rad(0.58), 0]\n",
    "    res = S(x0=s0)\n",
    "    return res['x']"
   ]
  },
  {
   "cell_type": "code",
   "execution_count": 17,
   "metadata": {},
   "outputs": [
    {
     "name": "stdout",
     "output_type": "stream",
     "text": [
      "This is Ipopt version 3.12.3, running with linear solver mumps.\n",
      "NOTE: Other linear solvers might be more efficient (see Ipopt documentation).\n",
      "\n",
      "Number of nonzeros in equality constraint Jacobian...:        0\n",
      "Number of nonzeros in inequality constraint Jacobian.:        0\n",
      "Number of nonzeros in Lagrangian Hessian.............:       10\n",
      "\n",
      "Total number of variables............................:        4\n",
      "                     variables with only lower bounds:        0\n",
      "                variables with lower and upper bounds:        0\n",
      "                     variables with only upper bounds:        0\n",
      "Total number of equality constraints.................:        0\n",
      "Total number of inequality constraints...............:        0\n",
      "        inequality constraints with only lower bounds:        0\n",
      "   inequality constraints with lower and upper bounds:        0\n",
      "        inequality constraints with only upper bounds:        0\n",
      "\n",
      "iter    objective    inf_pr   inf_du lg(mu)  ||d||  lg(rg) alpha_du alpha_pr  ls\n",
      "   0  1.9826360e+01 0.00e+00 7.24e+01  -1.0 0.00e+00    -  0.00e+00 0.00e+00   0\n",
      "   1  5.8505151e+00 0.00e+00 3.10e+01  -1.0 7.03e-01   2.0 1.00e+00 1.00e+00f  1\n",
      "   2  1.6745109e+00 0.00e+00 1.61e+01  -1.0 2.48e-01   1.5 1.00e+00 1.00e+00f  1\n",
      "   3  8.4409444e-01 0.00e+00 5.25e+00  -1.0 1.12e+00   1.0 1.00e+00 1.25e-01f  4\n",
      "   4  6.6297794e-01 0.00e+00 3.59e+00  -1.0 1.24e-01   0.6 1.00e+00 1.00e+00f  1\n",
      "   5  4.6708223e-01 0.00e+00 2.42e+00  -1.0 6.51e+01    -  1.00e+00 1.00e+00f  1\n",
      "   6  4.3154130e-01 0.00e+00 2.82e+00  -1.0 3.73e+00    -  1.00e+00 1.00e+00f  1\n",
      "   7  4.1106966e-01 0.00e+00 8.54e-01  -1.0 1.69e+00    -  1.00e+00 1.00e+00f  1\n",
      "   8  4.0405554e-01 0.00e+00 1.05e+00  -1.7 1.93e+00    -  1.00e+00 1.00e+00f  1\n",
      "   9  4.0204763e-01 0.00e+00 8.71e-02  -1.7 4.51e-01    -  1.00e+00 1.00e+00f  1\n",
      "iter    objective    inf_pr   inf_du lg(mu)  ||d||  lg(rg) alpha_du alpha_pr  ls\n",
      "  10  4.0191713e-01 0.00e+00 2.86e-02  -2.5 3.03e-01    -  1.00e+00 1.00e+00f  1\n",
      "  11  4.0191592e-01 0.00e+00 5.04e-05  -2.5 1.04e-02    -  1.00e+00 1.00e+00f  1\n",
      "  12  4.0191592e-01 0.00e+00 1.40e-08  -5.7 2.12e-04    -  1.00e+00 1.00e+00f  1\n",
      "  13  4.0191592e-01 0.00e+00 4.16e-14  -9.0 3.85e-09    -  1.00e+00 1.00e+00f  1\n",
      "\n",
      "Number of Iterations....: 13\n",
      "\n",
      "                                   (scaled)                 (unscaled)\n",
      "Objective...............:   4.0191591536926868e-01    4.0191591536926868e-01\n",
      "Dual infeasibility......:   4.1577852272212112e-14    4.1577852272212112e-14\n",
      "Constraint violation....:   0.0000000000000000e+00    0.0000000000000000e+00\n",
      "Complementarity.........:   0.0000000000000000e+00    0.0000000000000000e+00\n",
      "Overall NLP error.......:   4.1577852272212112e-14    4.1577852272212112e-14\n",
      "\n",
      "\n",
      "Number of objective function evaluations             = 21\n",
      "Number of objective gradient evaluations             = 14\n",
      "Number of equality constraint evaluations            = 0\n",
      "Number of inequality constraint evaluations          = 0\n",
      "Number of equality constraint Jacobian evaluations   = 0\n",
      "Number of inequality constraint Jacobian evaluations = 0\n",
      "Number of Lagrangian Hessian evaluations             = 13\n",
      "Total CPU secs in IPOPT (w/o function evaluations)   =      0.011\n",
      "Total CPU secs in NLP function evaluations           =      0.001\n",
      "\n",
      "EXIT: Optimal Solution Found.\n",
      "               t_proc [s]   t_wall [s]    n_eval\n",
      "           S       0.0188       0.0159         1\n",
      "       nlp_f     0.000204     0.000195        21\n",
      "  nlp_grad_f     0.000141     0.000135        15\n",
      "  nlp_hess_l      0.00016     0.000161        13\n"
     ]
    },
    {
     "data": {
      "text/plain": [
       "DM([0.594474, -70.7273, 1.04593, -0.627508])"
      ]
     },
     "execution_count": 17,
     "metadata": {},
     "output_type": "execute_result"
    }
   ],
   "source": [
    "solve_problem()"
   ]
  },
  {
   "cell_type": "code",
   "execution_count": 18,
   "metadata": {},
   "outputs": [],
   "source": [
    "#The trim conditons for 100ft/s are thtl = 0.594474, elev_deg = -70.7273, alpha = 1.04593, phi\"rotor tilt\" = -0.627508rads\n",
    "#At 100ft/s you encounter issues with generating enough opposing force to stay aloft. This led to throttel often going beyond 1 so I had to minimize it to."
   ]
  },
  {
   "cell_type": "code",
   "execution_count": null,
   "metadata": {},
   "outputs": [],
   "source": []
  }
 ],
 "metadata": {
  "kernelspec": {
   "display_name": "Python 3",
   "language": "python",
   "name": "python3"
  },
  "language_info": {
   "codemirror_mode": {
    "name": "ipython",
    "version": 3
   },
   "file_extension": ".py",
   "mimetype": "text/x-python",
   "name": "python",
   "nbconvert_exporter": "python",
   "pygments_lexer": "ipython3",
   "version": "3.7.3"
  }
 },
 "nbformat": 4,
 "nbformat_minor": 4
}
