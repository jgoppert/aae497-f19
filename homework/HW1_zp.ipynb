{
 "cells": [
  {
   "cell_type": "code",
   "execution_count": 2,
   "metadata": {},
   "outputs": [],
   "source": [
    "import sys\n",
    "sys.path.insert(0, '../python/casadi_f16')\n",
    "import f16\n",
    "import control\n",
    "import numpy as np\n",
    "import matplotlib.pyplot as plt\n",
    "import analysis\n",
    "from analysis import loop_analysis\n",
    "from analysis import rlocus\n",
    "from analysis import step_reponse"
   ]
  },
  {
   "cell_type": "markdown",
   "metadata": {},
   "source": [
    "# Pitch Autopilot Design\n",
    "\n",
    "* See Pitch Autopilot design example in section 4.6 of Stevens and Lewis.\n",
    "* Homework 1: Due 8/30 @  11 pm: Trim the F16 model around a VT=550 ft/s, 20 deg/s yaw rate turn.\n",
    "* Find the A, B, C, D matrices for the state space model.\n",
    "* Find the transfer function for the aileron to pitch rate (Q).\n",
    "* Design a PID controller attempting to meet the following specifications\n",
    "    * Maximum overshoot: 20%\n",
    "    * Rise time: 0.1 second\n",
    "    * Settling time 1 second\n",
    "* Simulate and plot the response of your controlled system and the linear model for a step response in pitch rate of 10 deg/s and 100 deg/s. How do the nonlinear and linear responses compare?\n",
    "* Using git, fork aae497-f16 on github. Complete the homework. Submit your homework via pull request on aae497-f16."
   ]
  },
  {
   "cell_type": "markdown",
   "metadata": {},
   "source": [
    "# Work\n",
    "* Set trimming Conditions: $VT=550 ft/s, R = 20 deg/s = \\frac{\\pi}{9}$ rad/s"
   ]
  },
  {
   "cell_type": "code",
   "execution_count": 3,
   "metadata": {},
   "outputs": [],
   "source": [
    "p = f16.Parameters()\n",
    "\n",
    "x0, u0 = f16.trim(x=f16.State(VT=550, R=np.pi/9), p = p,\n",
    "        phi_dot=0, theta_dot=0, psi_dot=0, gam=0)"
   ]
  },
  {
   "cell_type": "markdown",
   "metadata": {},
   "source": [
    "* linearize the states and get state matrices"
   ]
  },
  {
   "cell_type": "code",
   "execution_count": 4,
   "metadata": {},
   "outputs": [],
   "source": [
    "ss = f16.linearize(x0=x0, u0=u0, p0=p)\n",
    "#ss"
   ]
  },
  {
   "cell_type": "markdown",
   "metadata": {},
   "source": [
    "* Transfer function of elevator to pitch rate"
   ]
  },
  {
   "cell_type": "code",
   "execution_count": 34,
   "metadata": {},
   "outputs": [
    {
     "name": "stdout",
     "output_type": "stream",
     "text": [
      "A = [[-1.11607665e+00  9.06007222e-01 -2.35158696e-03  0.00000000e+00]\n",
      " [ 9.85813115e-01 -1.17939983e+00 -2.10904761e-01  0.00000000e+00]\n",
      " [ 0.00000000e+00  0.00000000e+00 -2.02020000e+01  2.31497868e+03]\n",
      " [ 1.00000000e+00  0.00000000e+00  0.00000000e+00 -1.00000000e+01]]\n",
      "\n",
      "B = [[    0.        ]\n",
      " [    0.        ]\n",
      " [-1157.48933772]\n",
      " [    0.        ]]\n",
      "\n",
      "C = [[1. 0. 0. 0.]\n",
      " [0. 1. 0. 0.]]\n",
      "\n",
      "D = [[0.]\n",
      " [0.]]\n",
      "\n"
     ]
    }
   ],
   "source": [
    "def select(n, i):\n",
    "    D = np.zeros((1, n))\n",
    "    D[0, i] = 1\n",
    "    return control.ss([], [], [], D)\n",
    "ss = f16.linearize(x0, u0, p)\n",
    "s = control.tf([1, 0], [0, 1])\n",
    "G = -(180/np.pi)*ss.sub_system(x=['alpha', 'Q', 'elv_deg'], \n",
    "                               u=['elv_cmd_deg'], y=['alpha', 'Q']).to_control()\n",
    "sys1 = control.feedback(G, 0.2*10/(s+10)*select(2, 0))\n",
    "print(sys1)\n",
    "kvect = np.linspace(1,1000)"
   ]
  },
  {
   "cell_type": "markdown",
   "metadata": {},
   "source": [
    "* PI controller and root locus analysis"
   ]
  },
  {
   "cell_type": "code",
   "execution_count": 69,
   "metadata": {},
   "outputs": [
    {
     "data": {
      "image/png": "[encoded data removed]",
      "text/plain": [
       "<Figure size 432x288 with 1 Axes>"
      ]
     },
     "metadata": {
      "needs_background": "light"
     },
     "output_type": "display_data"
    }
   ],
   "source": [
    "kvect = np.linspace(1,1000)\n",
    "\n",
    "H = 2.4 + 0.1/s\n",
    "\n",
    "sys2 = H*sys1[1,0]\n",
    "\n",
    "analysis.rlocus('test',sys2,kvect);"
   ]
  },
  {
   "cell_type": "markdown",
   "metadata": {},
   "source": [
    "* Step response"
   ]
  },
  {
   "cell_type": "code",
   "execution_count": 79,
   "metadata": {},
   "outputs": [
    {
     "data": {
      "image/png": "[encoded data removed]",
      "text/plain": [
       "<Figure size 432x288 with 1 Axes>"
      ]
     },
     "metadata": {
      "needs_background": "light"
     },
     "output_type": "display_data"
    }
   ],
   "source": [
    "tvect = np.linspace(0,1)\n",
    "q = analysis.step_reponse('test',sys2/(sys2+1),tvect)"
   ]
  }
 ],
 "metadata": {
  "kernelspec": {
   "display_name": "Python 3",
   "language": "python",
   "name": "python3"
  },
  "language_info": {
   "codemirror_mode": {
    "name": "ipython",
    "version": 3
   },
   "file_extension": ".py",
   "mimetype": "text/x-python",
   "name": "python",
   "nbconvert_exporter": "python",
   "pygments_lexer": "ipython3",
   "version": "3.7.3"
  }
 },
 "nbformat": 4,
 "nbformat_minor": 4
}
