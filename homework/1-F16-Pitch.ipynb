{
 "cells": [
  {
   "cell_type": "code",
   "execution_count": 139,
   "metadata": {},
   "outputs": [],
   "source": [
    "import sys\n",
    "sys.path.insert(0, '../python/casadi_f16')\n",
    "import f16\n",
    "import control\n",
    "import numpy as np\n",
    "import matplotlib.pyplot as plt\n",
    "import scipy.linalg\n",
    "\n",
    "import analysis\n",
    "from analysis import loop_analysis, rlocus, bode"
   ]
  },
  {
   "cell_type": "code",
   "execution_count": 140,
   "metadata": {},
   "outputs": [
    {
     "name": "stdout",
     "output_type": "stream",
     "text": [
      "Requirement already satisfied: casadi in /home/kevin/anaconda3/envs/aae497-f19/lib/python3.7/site-packages (3.4.5)\n"
     ]
    }
   ],
   "source": [
    "!pip install casadi"
   ]
  },
  {
   "cell_type": "markdown",
   "metadata": {},
   "source": [
    "# Roll Autopilot Design\n",
    "\n",
    "* See Roll Autopilot design example in section 4.6 of Stevens and Lewis.\n",
    "* Homework 1: Due 8/30 @  11 pm: Trim the F16 model around a VT=550 ft/s, 20 deg/s yaw rate turn.\n",
    "* Find the A, B, C, D matrices for the state space model.\n",
    "* Find the transfer function for the aileron to roll rate (P).\n",
    "* Design a PID controller attempting to meet the following specifications\n",
    "    * Maximum overshoot: 20%\n",
    "    * Rise time: 0.1 second\n",
    "    * Settling time 1 second\n",
    "* Simulate and plot the response of your controlled system and the linear model for a step response in roll rate of 10 deg/s and 100 deg/s. How do the nonlinear and linear responses compare?\n",
    "* Using git, fork aae497-f16 on github. Complete the homework. Submit your homework via pull request on aae497-f16."
   ]
  },
  {
   "cell_type": "code",
   "execution_count": 141,
   "metadata": {},
   "outputs": [],
   "source": [
    "p = f16.Parameters()\n",
    "x0, u0 = f16.trim(x=f16.State(VT=550), p=p, phi_dot=0, theta_dot=0, psi_dot=20.0*np.pi/180, gam=0)"
   ]
  },
  {
   "cell_type": "code",
   "execution_count": 142,
   "metadata": {},
   "outputs": [
    {
     "data": {
      "text/plain": [
       "State(VT=550, alpha=DM(0.251546), beta=DM(0.00040503), phi=DM(1.41001), theta=DM(0.0415563), psi=0, P=DM(-0.0145017), Q=DM(0.344266), R=DM(0.0558364), p_N=0, p_E=0, alt=0, power=DM(86.8792), ail_deg=DM(0.0832868), elv_deg=DM(-1.41359), rdr_deg=DM(-0.3512))"
      ]
     },
     "execution_count": 142,
     "metadata": {},
     "output_type": "execute_result"
    }
   ],
   "source": [
    "x0"
   ]
  },
  {
   "cell_type": "code",
   "execution_count": 143,
   "metadata": {},
   "outputs": [
    {
     "data": {
      "text/plain": [
       "Control(thtl=DM(0.939641), ail_cmd_deg=DM(0.0832868), elv_cmd_deg=DM(-1.41359), rdr_cmd_deg=DM(-0.3512))"
      ]
     },
     "execution_count": 143,
     "metadata": {},
     "output_type": "execute_result"
    }
   ],
   "source": [
    "u0"
   ]
  },
  {
   "cell_type": "code",
   "execution_count": 144,
   "metadata": {},
   "outputs": [],
   "source": [
    "ss = f16.linearize(x0, u0, p)\n",
    "#ss"
   ]
  },
  {
   "cell_type": "code",
   "execution_count": 145,
   "metadata": {},
   "outputs": [],
   "source": [
    "#sys = control.ss2tf(ss.A,ss.B,ss.C,ss.D);\n",
    "#sys = control.minreal(sys,1e-7);\n",
    "#sys"
   ]
  },
  {
   "cell_type": "code",
   "execution_count": 146,
   "metadata": {},
   "outputs": [],
   "source": [
    "def select(n, i):\n",
    "    D = np.zeros((1, n))\n",
    "    D[0, i] = 1\n",
    "    return control.ss([], [], [], D)"
   ]
  },
  {
   "cell_type": "code",
   "execution_count": 147,
   "metadata": {},
   "outputs": [
    {
     "data": {
      "text/plain": [
       "A = [[-1.15177248e+00  9.03393838e-01 -2.34025343e-03  0.00000000e+00]\n",
       " [ 3.98296410e+00 -1.48073989e+00 -2.35589930e-01  0.00000000e+00]\n",
       " [ 0.00000000e+00  0.00000000e+00 -2.02020000e+01  2.31497868e+03]\n",
       " [ 1.00000000e+00  0.00000000e+00  0.00000000e+00 -1.00000000e+01]]\n",
       "\n",
       "B = [[    0.        ]\n",
       " [    0.        ]\n",
       " [-1157.48933772]\n",
       " [    0.        ]]\n",
       "\n",
       "C = [[1. 0. 0. 0.]\n",
       " [0. 1. 0. 0.]]\n",
       "\n",
       "D = [[0.]\n",
       " [0.]]"
      ]
     },
     "execution_count": 147,
     "metadata": {},
     "output_type": "execute_result"
    }
   ],
   "source": [
    "s = control.tf([1, 0], [0, 1])\n",
    "G = -(180/np.pi)*ss.sub_system(x=['alpha', 'Q', 'elv_deg'],\n",
    "                  u=['elv_cmd_deg'], y=['alpha', 'Q']).to_control()\n",
    "sys3 = control.feedback(G, 0.2*10/(s+10)*select(2, 0))\n",
    "sys3\n"
   ]
  },
  {
   "cell_type": "code",
   "execution_count": 148,
   "metadata": {},
   "outputs": [
    {
     "name": "stdout",
     "output_type": "stream",
     "text": [
      "3 states have been removed from the model\n"
     ]
    },
    {
     "data": {
      "text/plain": [
       "[-21, 0, -8, 8]"
      ]
     },
     "execution_count": 148,
     "metadata": {},
     "output_type": "execute_result"
    },
    {
     "data": {
      "image/png": "[encoded data removed]",
      "text/plain": [
       "<Figure size 432x288 with 1 Axes>"
      ]
     },
     "metadata": {
      "needs_background": "light"
     },
     "output_type": "display_data"
    }
   ],
   "source": [
    "from analysis import rlocus\n",
    "H = (10/(s+10))*select(2, 0)\n",
    "plt.figure()\n",
    "kalpha = 0.2\n",
    "rlocus('alpha', control.minreal(H*G), kvect=np.linspace(0, 10, 1000), k=kalpha*2);\n",
    "plt.plot([0, -2], [0, 2], '--')\n",
    "plt.axis([-21, 0, -8, 8])"
   ]
  },
  {
   "cell_type": "code",
   "execution_count": 149,
   "metadata": {},
   "outputs": [
    {
     "data": {
      "text/plain": [
       "[-20, 0, -5, 5]"
      ]
     },
     "execution_count": 149,
     "metadata": {},
     "output_type": "execute_result"
    },
    {
     "data": {
      "image/png": "[encoded data removed]",
      "text/plain": [
       "<Figure size 432x288 with 1 Axes>"
      ]
     },
     "metadata": {
      "needs_background": "light"
     },
     "output_type": "display_data"
    }
   ],
   "source": [
    "plt.figure()\n",
    "sys3 = control.feedback(G, kalpha*(10/(s+10))*select(2, 0))\n",
    "k = 2.2;\n",
    "rlocus('p', (s**2*0.06+s+4.5)/s*sys3[1, 0], kvect=np.linspace(0, 1, 1000), k=k)\n",
    "plt.plot([0, -10], [0, 10*np.cos(0.707)], '--')\n",
    "plt.axis([-20, 0, -5, 5])"
   ]
  },
  {
   "cell_type": "code",
   "execution_count": 150,
   "metadata": {},
   "outputs": [],
   "source": [
    "#bode('test', (s+5)/s*sys3[1, 0], omega=np.logspace(-2, 4), margins=True, Hz=True)"
   ]
  },
  {
   "cell_type": "code",
   "execution_count": 151,
   "metadata": {},
   "outputs": [],
   "source": [
    "sys4 = control.feedback((s**2*0.06+s+4.5)*k/s*sys3[1, 0], 1)\n",
    "sys4\n",
    "\n",
    "#def f_control(t, x, x_dot, x_int):\n",
    "#    return f16.Control(\n",
    "#        thtl=u0.thtl,\n",
    "#        ail_cmd_deg=u0.ail_cmd_deg,\n",
    "#        elv_cmd_deg=u0.elv_cmd_deg + x.alpha*k + x_dot.alpha*0.06*k + x_int.alpha*4.5*k,\n",
    "#        rdr_cmd_deg=u0.rdr_cmd_deg)"
   ]
  },
  {
   "cell_type": "code",
   "execution_count": 152,
   "metadata": {},
   "outputs": [],
   "source": [
    "#By frmdstryr | https://sourceforge.net/p/python-control/discussion/1022992/thread/3d038097/\n",
    "def step_info(t,yout):\n",
    "    print(\"Overshoot    :\" + str((yout.max()/yout[-1]-1)*100) + \"%\")\n",
    "    print(\"Rise Time    :\" + str(t[next(i for i in range(0,len(yout)-1) if yout[i]>yout[-1]*.90)]-t[0]))\n",
    "    print(\"Settling Time:\" + str(t[next(len(yout)-i for i in range(2,len(yout)-1) if abs(yout[-i]/yout[-1])>1.02)]-t[0]))"
   ]
  },
  {
   "cell_type": "code",
   "execution_count": 154,
   "metadata": {},
   "outputs": [
    {
     "name": "stdout",
     "output_type": "stream",
     "text": [
      "Overshoot    :7.21002358449685%\n",
      "Rise Time    :0.08163265306122448\n",
      "Settling Time:0.5510204081632653\n"
     ]
    },
    {
     "data": {
      "image/png": "[encoded data removed]",
      "text/plain": [
       "<Figure size 432x288 with 1 Axes>"
      ]
     },
     "metadata": {
      "needs_background": "light"
     },
     "output_type": "display_data"
    }
   ],
   "source": [
    "analysis.step_reponse('Linear 10 Deg Pitch',10*sys4,np.linspace(0,1));\n",
    "t, y = control.step_response(sys4,np.linspace(0,1));\n",
    "step_info(t,y)\n",
    "\n",
    "#res = f16.simulate(x0, f_control, p, 0, 20, 0.005)\n",
    "#plt.plot(res['t'], np.rad2deg(res['x'][:, f16.State().name_to_index('alpha')]))\n",
    "#plt.xlabel('t ,sec')\n",
    "#plt.ylabel(r'$\\alpha$, deg')\n",
    "#plt.grid()\n",
    "#plt.title('Nonlinear 10 Deg Pitch Step Response')"
   ]
  },
  {
   "cell_type": "code",
   "execution_count": 138,
   "metadata": {},
   "outputs": [
    {
     "name": "stdout",
     "output_type": "stream",
     "text": [
      "Overshoot    :7.21002358449685%\n",
      "Rise Time    :0.08163265306122448\n",
      "Settling Time:0.5510204081632653\n"
     ]
    },
    {
     "data": {
      "image/png": "[encoded data removed]",
      "text/plain": [
       "<Figure size 432x288 with 1 Axes>"
      ]
     },
     "metadata": {
      "needs_background": "light"
     },
     "output_type": "display_data"
    }
   ],
   "source": [
    "analysis.step_reponse('Linear 100 Deg Pitch',sys4*100,np.linspace(0,1));\n",
    "t, y = control.step_response(sys4,np.linspace(0,1));\n",
    "step_info(t,y)"
   ]
  },
  {
   "cell_type": "code",
   "execution_count": null,
   "metadata": {},
   "outputs": [],
   "source": []
  }
 ],
 "metadata": {
  "kernelspec": {
   "display_name": "Python 3",
   "language": "python",
   "name": "python3"
  },
  "language_info": {
   "codemirror_mode": {
    "name": "ipython",
    "version": 3
   },
   "file_extension": ".py",
   "mimetype": "text/x-python",
   "name": "python",
   "nbconvert_exporter": "python",
   "pygments_lexer": "ipython3",
   "version": "3.7.3"
  }
 },
 "nbformat": 4,
 "nbformat_minor": 4
}
