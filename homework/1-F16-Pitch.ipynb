{
 "cells": [
  {
   "cell_type": "code",
   "execution_count": 1,
   "metadata": {},
   "outputs": [],
   "source": [
    "import sys\n",
    "sys.path.insert(0, '../python/casadi_f16')\n",
    "import f16\n",
    "import control\n",
    "import numpy as np\n",
    "import matplotlib.pyplot as plt\n",
    "from analysis import loop_analysis"
   ]
  },
  {
   "cell_type": "markdown",
   "metadata": {},
   "source": [
    "# Pitch Autopilot Design\n",
    "\n",
    "* See Pitch Autopilot design example in section 4.6 of Stevens and Lewis.\n",
    "* Homework 1: Due 8/30 @  11 pm: Trim the F16 model around a VT=550 ft/s, 20 deg/s yaw rate turn.\n",
    "* Find the A, B, C, D matrices for the state space model.\n",
    "* Find the transfer function for the aileron to pitch rate (Q).\n",
    "* Design a PID controller attempting to meet the following specifications\n",
    "    * Maximum overshoot: 20%\n",
    "    * Rise time: 0.1 second\n",
    "    * Settling time 1 second\n",
    "* Simulate and plot the response of your controlled system and the linear model for a step response in pitch rate of 10 deg/s and 100 deg/s. How do the nonlinear and linear responses compare?\n",
    "* Using git, fork aae497-f16 on github. Complete the homework. Submit your homework via pull request on aae497-f16."
   ]
  }
 ],
 "metadata": {
  "kernelspec": {
   "display_name": "Python 3",
   "language": "python",
   "name": "python3"
  },
  "language_info": {
   "codemirror_mode": {
    "name": "ipython",
    "version": 3
   },
   "file_extension": ".py",
   "mimetype": "text/x-python",
   "name": "python",
   "nbconvert_exporter": "python",
   "pygments_lexer": "ipython3",
   "version": "3.7.3"
  }
 },
 "nbformat": 4,
 "nbformat_minor": 4
}
