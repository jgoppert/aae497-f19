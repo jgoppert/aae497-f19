{
 "cells": [
  {
   "cell_type": "code",
   "execution_count": 1,
   "metadata": {},
   "outputs": [],
   "source": [
    "import casadi as ca\n",
    "import matplotlib.pyplot as plt\n",
    "%matplotlib inline"
   ]
  },
  {
   "cell_type": "markdown",
   "metadata": {},
   "source": [
    "$m \\ddot{x} + c \\dot{x} + k x + sin(x) = u$"
   ]
  },
  {
   "cell_type": "markdown",
   "metadata": {},
   "source": [
    "$\\vec{x} = \\begin{bmatrix}\n",
    "x \\\\\n",
    "\\dot{x}\n",
    "\\end{bmatrix}$"
   ]
  },
  {
   "cell_type": "markdown",
   "metadata": {},
   "source": [
    "$\\vec{u} = \\begin{bmatrix} u\\end{bmatrix}$"
   ]
  },
  {
   "cell_type": "markdown",
   "metadata": {},
   "source": [
    "$\\vec{y} = \\vec{g}(\\vec{x}) = \\begin{bmatrix} x\\end{bmatrix}$"
   ]
  },
  {
   "cell_type": "markdown",
   "metadata": {},
   "source": [
    "$\\ddot{x} = (-c \\dot{x} - kx + u)/m$"
   ]
  },
  {
   "cell_type": "markdown",
   "metadata": {},
   "source": [
    "$\\dot{\\vec{x}} = \\vec{f}(\\vec{x}) = \\begin{bmatrix}\n",
    "\\dot{x} \\\\\n",
    "(-c \\dot{x} - kx - sin(x) + u)/m\n",
    "\\end{bmatrix}$"
   ]
  },
  {
   "cell_type": "markdown",
   "metadata": {},
   "source": [
    "$\\dot{\\vec{x}} = A \\vec{x} + B \\vec{u}$\n",
    "\n",
    "$\\vec{y} = C \\vec{x} + D \\vec{u}$"
   ]
  },
  {
   "cell_type": "markdown",
   "metadata": {},
   "source": [
    "$A = \\dfrac{\\partial \\vec{f}}{\\partial \\vec{x}}$\n",
    "\n",
    "$B = \\dfrac{\\partial \\vec{f}}{\\partial \\vec{u}}$\n",
    "\n",
    "$C = \\dfrac{\\partial \\vec{g}}{\\partial \\vec{x}}$\n",
    "\n",
    "$D = \\dfrac{\\partial \\vec{g}}{\\partial \\vec{u}}$"
   ]
  },
  {
   "cell_type": "code",
   "execution_count": 2,
   "metadata": {},
   "outputs": [
    {
     "data": {
      "text/plain": [
       "SX([x_1, (((u-(((c*x_1)+(k*x_0))+sin(x_0)))+3)/m)])"
      ]
     },
     "execution_count": 2,
     "metadata": {},
     "output_type": "execute_result"
    }
   ],
   "source": [
    "m = ca.SX.sym('m')\n",
    "c = ca.SX.sym('c')\n",
    "k = ca.SX.sym('k')\n",
    "p = ca.vertcat(m, c, k)\n",
    "\n",
    "u = ca.SX.sym('u')\n",
    "xv = ca.SX.sym('x', 2)\n",
    "x = xv[0]\n",
    "xd = xv[1]\n",
    "\n",
    "y = x\n",
    "\n",
    "xv_dot = ca.vertcat(xd, (-c*xd - k*x - ca.sin(x) + u + 3)/m)\n",
    "xv_dot"
   ]
  },
  {
   "cell_type": "code",
   "execution_count": 3,
   "metadata": {},
   "outputs": [
    {
     "data": {
      "text/plain": [
       "Function(rhs:(x[2],u,p[3])->(x_dot[2]) SXFunction)"
      ]
     },
     "execution_count": 3,
     "metadata": {},
     "output_type": "execute_result"
    }
   ],
   "source": [
    "f_rhs = ca.Function('rhs', [xv, u, p], [xv_dot], ['x', 'u', 'p'], ['x_dot'], {'jit': True})\n",
    "f_rhs"
   ]
  },
  {
   "cell_type": "code",
   "execution_count": 4,
   "metadata": {},
   "outputs": [
    {
     "data": {
      "text/plain": [
       "DM([2, -4.84147])"
      ]
     },
     "execution_count": 4,
     "metadata": {},
     "output_type": "execute_result"
    }
   ],
   "source": [
    "f_rhs([1, 2], [0], [1, 2, 3])"
   ]
  },
  {
   "cell_type": "code",
   "execution_count": 5,
   "metadata": {},
   "outputs": [
    {
     "data": {
      "image/png": "[encoded data removed]",
      "text/plain": [
       "<Figure size 432x288 with 1 Axes>"
      ]
     },
     "metadata": {
      "needs_background": "light"
     },
     "output_type": "display_data"
    }
   ],
   "source": [
    "import scipy.integrate\n",
    "import numpy as np\n",
    "tf = 10\n",
    "res = scipy.integrate.solve_ivp(\n",
    "    fun=lambda t, x: np.array(f_rhs(x, 0.0, [1, 2, 3])).reshape(-1),\n",
    "    t_span=[0, tf],\n",
    "    y0=[0, 0], t_eval=np.arange(0, tf, 0.1))\n",
    "plt.plot(res['t'], res['y'][0, :]);"
   ]
  },
  {
   "cell_type": "code",
   "execution_count": 6,
   "metadata": {},
   "outputs": [
    {
     "data": {
      "text/plain": [
       "SX(\n",
       "[[00, 1], \n",
       " [(-((k+cos(x_0))/m)), (-(c/m))]])"
      ]
     },
     "execution_count": 6,
     "metadata": {},
     "output_type": "execute_result"
    }
   ],
   "source": [
    "A = ca.jacobian(xv_dot, xv)\n",
    "A"
   ]
  },
  {
   "cell_type": "code",
   "execution_count": 7,
   "metadata": {},
   "outputs": [
    {
     "data": {
      "text/plain": [
       "SX([00, (1./m)])"
      ]
     },
     "execution_count": 7,
     "metadata": {},
     "output_type": "execute_result"
    }
   ],
   "source": [
    "B = ca.jacobian(xv_dot, u)\n",
    "B"
   ]
  },
  {
   "cell_type": "code",
   "execution_count": 8,
   "metadata": {},
   "outputs": [
    {
     "data": {
      "text/plain": [
       "SX([[1, 00]])"
      ]
     },
     "execution_count": 8,
     "metadata": {},
     "output_type": "execute_result"
    }
   ],
   "source": [
    "C = ca.jacobian(y, xv)\n",
    "C"
   ]
  },
  {
   "cell_type": "code",
   "execution_count": 9,
   "metadata": {},
   "outputs": [
    {
     "data": {
      "text/plain": [
       "SX(00)"
      ]
     },
     "execution_count": 9,
     "metadata": {},
     "output_type": "execute_result"
    }
   ],
   "source": [
    "D = ca.jacobian(y, u)\n",
    "D"
   ]
  },
  {
   "cell_type": "code",
   "execution_count": 10,
   "metadata": {},
   "outputs": [
    {
     "data": {
      "text/plain": [
       "Function(f_ss:(x[2],p[3])->(A[2x2,3nz],B[2x1,1nz],C[1x2,1nz],D[1x1,0nz]) SXFunction)"
      ]
     },
     "execution_count": 10,
     "metadata": {},
     "output_type": "execute_result"
    }
   ],
   "source": [
    "f_ss = ca.Function('f_ss', [xv, p], [A, B, C, D], ['x', 'p'], ['A', 'B', 'C', 'D'])\n",
    "f_ss"
   ]
  },
  {
   "cell_type": "code",
   "execution_count": 11,
   "metadata": {},
   "outputs": [
    {
     "data": {
      "text/plain": [
       "A = [[ 0.  1.]\n",
       " [-4. -2.]]\n",
       "\n",
       "B = [[0.]\n",
       " [1.]]\n",
       "\n",
       "C = [[1. 0.]]\n",
       "\n",
       "D = [[0.]]"
      ]
     },
     "execution_count": 11,
     "metadata": {},
     "output_type": "execute_result"
    }
   ],
   "source": [
    "import control\n",
    "sys = control.ss(*f_ss([0, 0], [1, 2, 3]))\n",
    "sys"
   ]
  },
  {
   "cell_type": "code",
   "execution_count": 12,
   "metadata": {},
   "outputs": [
    {
     "data": {
      "text/plain": [
       "'rhs.c'"
      ]
     },
     "execution_count": 12,
     "metadata": {},
     "output_type": "execute_result"
    }
   ],
   "source": [
    "f_rhs.generate('rhs.c')\n",
    "#!cat rhs.c"
   ]
  },
  {
   "cell_type": "code",
   "execution_count": 13,
   "metadata": {},
   "outputs": [
    {
     "data": {
      "image/png": "[encoded data removed]",
      "text/plain": [
       "<Figure size 432x288 with 1 Axes>"
      ]
     },
     "metadata": {
      "needs_background": "light"
     },
     "output_type": "display_data"
    }
   ],
   "source": [
    "s = control.TransferFunction([1, 0], [0, 1])\n",
    "H = (s + 2)\n",
    "control.rlocus(H*sys);"
   ]
  },
  {
   "cell_type": "code",
   "execution_count": 14,
   "metadata": {},
   "outputs": [
    {
     "data": {
      "text/latex": [
       "$$\\frac{s + 2}{s^2 + 2 s + 4}$$"
      ],
      "text/plain": [
       "\n",
       "    s + 2\n",
       "-------------\n",
       "s^2 + 2 s + 4"
      ]
     },
     "execution_count": 14,
     "metadata": {},
     "output_type": "execute_result"
    }
   ],
   "source": [
    "H*sys"
   ]
  },
  {
   "cell_type": "markdown",
   "metadata": {},
   "source": [
    "# Linear Time Invariant Systems (LTI)"
   ]
  },
  {
   "cell_type": "markdown",
   "metadata": {},
   "source": [
    "* Transfer Functions: $G(s) = s/(s+1)$\n",
    "* State-space: $\\dot{x} = Ax + Bu$, $y = Cx + Du$\n",
    "* Impulse response function: $g(t)$"
   ]
  },
  {
   "cell_type": "markdown",
   "metadata": {},
   "source": [
    "* $\\dot{x} = a_1 x + a_2 x + b u$, $y = c x + du$ Linear?  (Yes) Because A = A1 + A2\n",
    "* $\\dot{x} = a_1 x + 3 + b u$, $y = c x + du$ Linear?  (No, not a linear system)"
   ]
  },
  {
   "cell_type": "markdown",
   "metadata": {},
   "source": [
    "* What u would balance this equation at x=0?  -> u0 = -3/b (trim input)"
   ]
  },
  {
   "cell_type": "markdown",
   "metadata": {},
   "source": [
    "For compensated dynamcis to be $G(s) = 1/(s+1)$,  u(x)=?"
   ]
  },
  {
   "cell_type": "markdown",
   "metadata": {},
   "source": [
    "* LTI $\\implies$ zero in -> zero out"
   ]
  },
  {
   "cell_type": "markdown",
   "metadata": {},
   "source": [
    "$u(x) = (-a1 x - x - 3)/b$\n",
    "\n",
    "$\\dot{x} = -x$"
   ]
  },
  {
   "cell_type": "markdown",
   "metadata": {},
   "source": [
    "# Trimming the MSD"
   ]
  },
  {
   "cell_type": "code",
   "execution_count": 15,
   "metadata": {},
   "outputs": [
    {
     "data": {
      "text/plain": [
       "DM([0, 0])"
      ]
     },
     "execution_count": 15,
     "metadata": {},
     "output_type": "execute_result"
    }
   ],
   "source": [
    "f_rhs([0, 0], [-3], [1, 2, 3])"
   ]
  },
  {
   "cell_type": "markdown",
   "metadata": {},
   "source": [
    "$\\dot{x} = Ax + Bu$, $y = Cx + Du + 3$   (non-linear -> violates zero in zero out law)"
   ]
  },
  {
   "cell_type": "markdown",
   "metadata": {},
   "source": [
    "Trimming an aircraft means, finding where the rhs = 0,  or $f(t, x) = 0$, in order to do this we want to minimize\n",
    "$dot(f(t, x), f(t, x))$."
   ]
  },
  {
   "cell_type": "code",
   "execution_count": 16,
   "metadata": {},
   "outputs": [],
   "source": [
    "def trim_function(xv_dot):\n",
    "#    return xv_dot[0] + xv_dot[1] # BAD, will drive to -inf\n",
    "    return xv_dot[0]**2 + xv_dot[1]**2"
   ]
  },
  {
   "cell_type": "markdown",
   "metadata": {},
   "source": [
    "This design problems find the state at which a given input will drive the sytem to.\n",
    "\n",
    "* x is the design vector\n",
    "* f is the objective function\n",
    "* p is a list of constant parameters\n",
    "* S is the solver itself"
   ]
  },
  {
   "cell_type": "code",
   "execution_count": 17,
   "metadata": {},
   "outputs": [
    {
     "name": "stdout",
     "output_type": "stream",
     "text": [
      "S:(x0[2],p[4],lbx[2],ubx[2],lbg[0],ubg[0],lam_x0[2],lam_g0[0])->(x[2],f,g[0],lam_x[2],lam_g[0],lam_p[4]) IpoptInterface\n"
     ]
    }
   ],
   "source": [
    "nlp = {'x':xv, 'f':trim_function(xv_dot), 'p': ca.vertcat(p, u)}\n",
    "S = ca.nlpsol('S', 'ipopt', nlp)\n",
    "print(S)"
   ]
  },
  {
   "cell_type": "code",
   "execution_count": 18,
   "metadata": {},
   "outputs": [
    {
     "name": "stdout",
     "output_type": "stream",
     "text": [
      "\n",
      "******************************************************************************\n",
      "This program contains Ipopt, a library for large-scale nonlinear optimization.\n",
      " Ipopt is released as open source code under the Eclipse Public License (EPL).\n",
      "         For more information visit http://projects.coin-or.org/Ipopt\n",
      "******************************************************************************\n",
      "\n",
      "This is Ipopt version 3.12.3, running with linear solver mumps.\n",
      "NOTE: Other linear solvers might be more efficient (see Ipopt documentation).\n",
      "\n",
      "Number of nonzeros in equality constraint Jacobian...:        0\n",
      "Number of nonzeros in inequality constraint Jacobian.:        0\n",
      "Number of nonzeros in Lagrangian Hessian.............:        3\n",
      "\n",
      "Total number of variables............................:        2\n",
      "                     variables with only lower bounds:        0\n",
      "                variables with lower and upper bounds:        0\n",
      "                     variables with only upper bounds:        0\n",
      "Total number of equality constraints.................:        0\n",
      "Total number of inequality constraints...............:        0\n",
      "        inequality constraints with only lower bounds:        0\n",
      "   inequality constraints with lower and upper bounds:        0\n",
      "        inequality constraints with only upper bounds:        0\n",
      "\n",
      "iter    objective    inf_pr   inf_du lg(mu)  ||d||  lg(rg) alpha_du alpha_pr  ls\n",
      "   0  9.0000000e+00 0.00e+00 2.40e+01  -1.0 0.00e+00    -  0.00e+00 0.00e+00   0\n",
      "   1  4.6732591e-03 0.00e+00 5.10e-01  -1.0 7.50e-01    -  1.00e+00 1.00e+00f  1\n",
      "   2  3.1560062e-07 0.00e+00 2.50e-03  -1.7 1.80e-02    -  1.00e+00 1.00e+00f  1\n",
      "   3  5.2554628e-15 0.00e+00 4.41e-07  -3.8 4.50e-04    -  1.00e+00 1.00e+00f  1\n",
      "   4  1.5117267e-30 0.00e+00 6.61e-15  -8.6 4.18e-08    -  1.00e+00 1.00e+00f  1\n",
      "\n",
      "Number of Iterations....: 4\n",
      "\n",
      "                                   (scaled)                 (unscaled)\n",
      "Objective...............:   1.5117267303341599e-30    1.5117267303341599e-30\n",
      "Dual infeasibility......:   6.6063745872867690e-15    6.6063745872867690e-15\n",
      "Constraint violation....:   0.0000000000000000e+00    0.0000000000000000e+00\n",
      "Complementarity.........:   0.0000000000000000e+00    0.0000000000000000e+00\n",
      "Overall NLP error.......:   6.6063745872867690e-15    6.6063745872867690e-15\n",
      "\n",
      "\n",
      "Number of objective function evaluations             = 5\n",
      "Number of objective gradient evaluations             = 5\n",
      "Number of equality constraint evaluations            = 0\n",
      "Number of inequality constraint evaluations          = 0\n",
      "Number of equality constraint Jacobian evaluations   = 0\n",
      "Number of inequality constraint Jacobian evaluations = 0\n",
      "Number of Lagrangian Hessian evaluations             = 4\n",
      "Total CPU secs in IPOPT (w/o function evaluations)   =      0.008\n",
      "Total CPU secs in NLP function evaluations           =      0.000\n",
      "\n",
      "EXIT: Optimal Solution Found.\n",
      "               t_proc [s]   t_wall [s]    n_eval\n",
      "           S       0.0122       0.0152         1\n",
      "       nlp_f      5.7e-05     5.29e-05         5\n",
      "    nlp_grad        9e-06     8.43e-06         1\n",
      "  nlp_grad_f      6.5e-05      5.9e-05         6\n",
      "  nlp_hess_l      3.3e-05     3.29e-05         4\n"
     ]
    },
    {
     "data": {
      "text/plain": [
       "{'f': DM(1.51173e-30),\n",
       " 'g': DM([]),\n",
       " 'lam_g': DM([]),\n",
       " 'lam_p': DM([1.57772e-30, 1.51029e-30, 1.36486e-15, -1.77636e-15]),\n",
       " 'lam_x': DM([0, 0]),\n",
       " 'x': DM([0.76835, 8.50215e-16])}"
      ]
     },
     "execution_count": 18,
     "metadata": {},
     "output_type": "execute_result"
    }
   ],
   "source": [
    "S(x0=(0, 0), p=(1, 2, 3, 0))"
   ]
  },
  {
   "cell_type": "code",
   "execution_count": 19,
   "metadata": {},
   "outputs": [
    {
     "name": "stdout",
     "output_type": "stream",
     "text": [
      "S:(x0,p[5],lbx,ubx,lbg[0],ubg[0],lam_x0,lam_g0[0])->(x,f,g[0],lam_x,lam_g[0],lam_p[5]) IpoptInterface\n"
     ]
    }
   ],
   "source": [
    "nlp = {'x':u, 'f':trim_function(xv_dot), 'p': ca.vertcat(p, xv)}\n",
    "S2 = ca.nlpsol('S', 'ipopt', nlp)\n",
    "print(S2)"
   ]
  },
  {
   "cell_type": "code",
   "execution_count": 20,
   "metadata": {},
   "outputs": [],
   "source": [
    "#res = S(x0=(0), p=(1, 2, 3, 0, 0))\n",
    "#print('we need a trim input of {:f}'.format(float(res['x'])))"
   ]
  },
  {
   "cell_type": "code",
   "execution_count": 21,
   "metadata": {},
   "outputs": [],
   "source": [
    "\n",
    "from casadi.tools.graph import dotgraph\n",
    "from IPython.display import Image\n",
    "\n",
    "def draw_graph(expr):\n",
    "    return Image(dotgraph(expr).create_png())\n",
    "\n",
    "S=2170.0; \n",
    "CBAR=17.5; \n",
    "MASS=5.0e3; \n",
    "IYY= 4.1e6;\n",
    "TSTAT=6.0e4; \n",
    "DTDV = -38.0;\n",
    "ZE = 2.0; \n",
    "CDCLS= 0.042;\n",
    "CLA = 0.085; # per degree\n",
    "CMA =-0.022; # per degree\n",
    "CMDE =-.016; # per degree\n",
    "CMQ =-16.0; # per radian\n",
    "CMADOT= -6.0; # per radian\n",
    "CLADOT= 0.0; # per radian\n",
    "RTOD = 57.29578; \n",
    "GD=32.17;\n",
    "#code 190\n",
    "#4tran 725 standered atmospher model"
   ]
  },
  {
   "cell_type": "code",
   "execution_count": 22,
   "metadata": {},
   "outputs": [],
   "source": [
    "import casadi as ca\n",
    "THTL = ca.SX.sym('THTL')\n",
    "ELEV = ca.SX.sym('ELEV')\n",
    "XCG = ca.SX.sym('XCG')\n",
    "LAND = ca.SX.sym('LAND')\n",
    "PHI = ca.SX.sym('PHI')\n",
    "u = ca.vertcat(THTL, ELEV, XCG, LAND, PHI)\n",
    "\n",
    "VT = ca.SX.sym('VT')\n",
    "ALPHA = ca.SX.sym('ALPHA')\n",
    "THETA = ca.SX.sym('THETA')\n",
    "Q = ca.SX.sym('Q')\n",
    "H = ca.SX.sym('H')\n",
    "PX = ca.SX.sym('PX')"
   ]
  },
  {
   "cell_type": "code",
   "execution_count": 23,
   "metadata": {},
   "outputs": [],
   "source": [
    "RO = ca.SX(2.377e-3)\n",
    "TFAC = ca.SX(1.0 - 0.703e-5 * H)\n",
    "T = ca.SX(519*TFAC)\n",
    "RHO = ca.SX(RO*(TFAC**4.14))#density\n",
    "QBAR = ca.SX(0.5*RHO*VT*VT)#dynamic Pressure\n",
    "CPS = ca.SX(1715.0*RHO*T)\n",
    "#draw_graph(QBAR)"
   ]
  },
  {
   "cell_type": "code",
   "execution_count": 24,
   "metadata": {},
   "outputs": [],
   "source": [
    "#no flaps"
   ]
  },
  {
   "cell_type": "code",
   "execution_count": 25,
   "metadata": {},
   "outputs": [],
   "source": [
    "CLO = ca.SX(.20)\n",
    "CDO = ca.SX(0.016)\n",
    "CMO = ca.SX(0.05)\n",
    "DCDG = ca.SX(0)\n",
    "DCMG = ca.SX(0)"
   ]
  },
  {
   "cell_type": "code",
   "execution_count": 26,
   "metadata": {},
   "outputs": [],
   "source": [
    "# Equations"
   ]
  },
  {
   "cell_type": "code",
   "execution_count": 27,
   "metadata": {},
   "outputs": [],
   "source": [
    "QS = ca.SX(QBAR*S)\n",
    "SALP = ca.sin(ALPHA+PHI)\n",
    "CALP = ca.cos(ALPHA+PHI)\n",
    "GAM = ca.SX(THETA-ALPHA)\n",
    "SGAM = ca.sin(GAM)\n",
    "CGAM = ca.cos(GAM)\n",
    "\n",
    "THR = ca.SX((TSTAT+VT*DTDV) * ca.fmax(THTL,0))#Thrust\n",
    "CL = ca.SX(CLO+CLA*ALPHA) #NONDIM. LIFT\n",
    "CM = ca.SX(DCMG+CMO+CMA*ALPHA+CMDE*ELEV+CL* (XCG-.25)) #MOMENT\n",
    "CD = ca.SX(DCDG+CDO+CDCLS*CL*CL) #DRAG POLAR"
   ]
  },
  {
   "cell_type": "code",
   "execution_count": 28,
   "metadata": {},
   "outputs": [],
   "source": [
    "#EQU of motion"
   ]
  },
  {
   "cell_type": "code",
   "execution_count": 29,
   "metadata": {},
   "outputs": [],
   "source": [
    "x1 = ((THR*CALP-QS*CD)/MASS - GD*SGAM)\n",
    "x2 = ((-THR*SALP-QS*CL+MASS*(VT*Q+GD*CGAM))/(MASS*VT+QS*CLADOT))\n",
    "x3 = (Q)\n",
    "D = ((1/2)*CBAR*(CMQ*Q+CMADOT*x2/VT)) #PITCH DAMPING\n",
    "x4 = ((QS*CBAR*(CM+D)+THR*ZE)/IYY) #Q-DOT\n",
    "x5 = (VT*SGAM) #VERTICAL SPEED\n",
    "x6 = (VT*CGAM) #ORIZNTal SPEED"
   ]
  },
  {
   "cell_type": "code",
   "execution_count": 35,
   "metadata": {},
   "outputs": [],
   "source": [
    "totalbal=x1**2 + x2**2 + x4**2 + x5**2\n",
    "trimm=ca.mmin(totalbal)\n",
    "#draw_graph(trimm) \n",
    "x = ca.vertcat(x1, x2, x3, x4, x5, x6)"
   ]
  },
  {
   "cell_type": "code",
   "execution_count": 39,
   "metadata": {},
   "outputs": [],
   "source": [
    "def objective(s, VT, H, GAMMA):\n",
    "    THRTL = s[0]\n",
    "    ELEV = s[1]\n",
    "    ALPHA = s[2]\n",
    "    PHI = s[3]\n",
    "    \n",
    "    POS = 0\n",
    "    Q = 0\n",
    "    XCG = 0.25\n",
    "    THETA = ALPHA+GAMMA\n",
    "    \n",
    "    x = ca.vertcat(thtl, elev, xcg, land)\n",
    "    \n",
    "    x = ca.vertcat"
   ]
  },
  {
   "cell_type": "code",
   "execution_count": null,
   "metadata": {},
   "outputs": [],
   "source": [
    "nlp = {'x': s, 'f': objectives(s, VT=500, H=0, GAMMA=0)}\n",
    "S = "
   ]
  },
  {
   "cell_type": "code",
   "execution_count": null,
   "metadata": {},
   "outputs": [],
   "source": []
  }
 ],
 "metadata": {
  "kernelspec": {
   "display_name": "Python 3",
   "language": "python",
   "name": "python3"
  },
  "language_info": {
   "codemirror_mode": {
    "name": "ipython",
    "version": 3
   },
   "file_extension": ".py",
   "mimetype": "text/x-python",
   "name": "python",
   "nbconvert_exporter": "python",
   "pygments_lexer": "ipython3",
   "version": "3.7.3"
  }
 },
 "nbformat": 4,
 "nbformat_minor": 4
}
