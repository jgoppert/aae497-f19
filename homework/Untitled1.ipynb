{
 "cells": [
  {
   "cell_type": "code",
   "execution_count": 1,
   "metadata": {},
   "outputs": [],
   "source": [
    "import casadi as ca\n",
    "import matplotlib.pyplot as plt\n",
    "import numpy as np\n",
    "import control\n",
    "#matplotlib inline"
   ]
  },
  {
   "cell_type": "code",
   "execution_count": 11,
   "metadata": {},
   "outputs": [],
   "source": [
    "df = ca.SX.sym('df')\n",
    "v = ca.SX.sym('v')\n",
    "cl0 = 0.0\n",
    "\n",
    "cla = 2 * np.pi \n",
    "rho = 1.225\n",
    "q = rho * .5 * v**2\n",
    "kclcd =.01\n",
    "cd0 = 0.0\n",
    "sf = .1\n",
    "lf =1\n",
    "CL = cl0 + cla * df\n",
    "CD = cd0 +kclcd *CL**2\n",
    "CDb = .01\n",
    "Lf = CD * q *sf\n",
    "Df = CDb\n",
    "sb = np.pi**2\n",
    "Db = CDb * q * sb\n",
    "\n",
    "m_aero = lf *Lf"
   ]
  },
  {
   "cell_type": "code",
   "execution_count": null,
   "metadata": {},
   "outputs": [],
   "source": [
    "U"
   ]
  }
 ],
 "metadata": {
  "kernelspec": {
   "display_name": "Python 3",
   "language": "python",
   "name": "python3"
  },
  "language_info": {
   "codemirror_mode": {
    "name": "ipython",
    "version": 3
   },
   "file_extension": ".py",
   "mimetype": "text/x-python",
   "name": "python",
   "nbconvert_exporter": "python",
   "pygments_lexer": "ipython3",
   "version": "3.7.3"
  }
 },
 "nbformat": 4,
 "nbformat_minor": 4
}
