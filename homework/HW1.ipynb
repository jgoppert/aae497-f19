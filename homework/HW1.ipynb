{
 "cells": [
  {
   "cell_type": "code",
   "execution_count": null,
   "metadata": {},
   "outputs": [],
   "source": [
    "%matplotlib inline\n",
    "\n",
    "import sys\n",
    "sys.path.insert(0, '../python/casadi_f16')\n",
    "import f16\n",
    "import control\n",
    "import numpy as np\n",
    "import matplotlib.pyplot as plt\n",
    "import scipy.linalg\n",
    "\n",
    "from analysis import loop_analysis, rlocus, bode\n",
    "\n",
    "plt.rcParams['figure.figsize'] = (10, 10)"
   ]
  },
  {
   "cell_type": "markdown",
   "metadata": {},
   "source": [
    "# Pitch-Rate CAS Design\n",
    "\n",
    "* Example 4.5-1\n",
    "* pg. 310"
   ]
  },
  {
   "cell_type": "code",
   "execution_count": null,
   "metadata": {},
   "outputs": [],
   "source": [
    "p = f16.Parameters()\n",
    "x0, u0 = f16.trim(x=f16.State(VT=550), p=p, phi_dot=0, theta_dot=0, psi_dot=np.radians(20), gam=0)"
   ]
  },
  {
   "cell_type": "code",
   "execution_count": null,
   "metadata": {},
   "outputs": [],
   "source": [
    "np.radians(20)"
   ]
  },
  {
   "cell_type": "code",
   "execution_count": null,
   "metadata": {},
   "outputs": [],
   "source": [
    "def f_control(t, x):\n",
    "    return f16.Control(\n",
    "        thtl=u0.thtl,\n",
    "        ail_cmd_deg=u0.ail_cmd_deg,\n",
    "        elv_cmd_deg=u0.elv_cmd_deg + 0*np.sin(2*np.pi*2*t),\n",
    "        rdr_cmd_deg=u0.rdr_cmd_deg)\n",
    "\n",
    "f_control(0, x0)"
   ]
  },
  {
   "cell_type": "code",
   "execution_count": null,
   "metadata": {},
   "outputs": [],
   "source": [
    "res = f16.simulate(x0, f_control, p, 0, 20, 0.01)\n",
    "plt.plot(res['t'], np.rad2deg(res['x'][:, f16.State().name_to_index('alpha')]))\n",
    "plt.xlabel('t ,sec')\n",
    "plt.ylabel(r'$\\alpha$, deg')\n",
    "plt.grid()\n",
    "plt.title('angle of attack')"
   ]
  },
  {
   "cell_type": "code",
   "execution_count": null,
   "metadata": {},
   "outputs": [],
   "source": [
    "res = f16.simulate(x0, f_control, p, 0, 20, 0.01)\n",
    "\n",
    "plt.plot(res['x'][:, f16.State().name_to_index('p_E')], res['x'][:, f16.State().name_to_index('p_N')])\n",
    "plt.axis('equal');\n",
    "plt.xlabel('East, ft')\n",
    "plt.ylabel('North, ft')\n",
    "plt.grid()\n",
    "plt.title('trajectory')"
   ]
  },
  {
   "cell_type": "code",
   "execution_count": null,
   "metadata": {},
   "outputs": [],
   "source": [
    "def f_control(t, x):\n",
    "    print(x)\n",
    "    return f16.Control(\n",
    "        thtl=u0.thtl,\n",
    "        ail_cmd_deg=u0.ail_cmd_deg,\n",
    "        elv_cmd_deg=u0.elv_cmd_deg + 1*np.sin(2*np.pi*2*t),\n",
    "        rdr_cmd_deg=u0.rdr_cmd_deg)"
   ]
  },
  {
   "cell_type": "code",
   "execution_count": null,
   "metadata": {},
   "outputs": [],
   "source": [
    "def select(n, i):\n",
    "    D = np.zeros((1, n))\n",
    "    D[0, i] = 1\n",
    "    return control.ss([], [], [], D)"
   ]
  },
  {
   "cell_type": "code",
   "execution_count": null,
   "metadata": {},
   "outputs": [],
   "source": [
    "ss = f16.linearize(x0, u0, p)\n",
    "s = control.tf([1, 0], [0, 1])\n",
    "G = -(180/np.pi)*ss.sub_system(x=['alpha', 'Q', 'elv_deg'],\n",
    "                  u=['elv_cmd_deg'], y=['alpha', 'Q']).to_control()\n",
    "sys3 = control.feedback(G, 0.2*10/(s+10)*select(2, 0))\n",
    "sys3"
   ]
  },
  {
   "cell_type": "code",
   "execution_count": null,
   "metadata": {},
   "outputs": [],
   "source": [
    "from analysis import rlocus\n",
    "H = (10/(s+10))*select(2, 0)\n",
    "plt.figure()\n",
    "kalpha = 0.2\n",
    "rlocus('alpha', control.minreal(H*G), kvect=np.linspace(0, 10, 1000), k=kalpha);\n",
    "plt.plot([0, -2], [0, 2], '--')\n",
    "plt.axis([-21, 0, -8, 8])"
   ]
  },
  {
   "cell_type": "code",
   "execution_count": null,
   "metadata": {},
   "outputs": [],
   "source": [
    "plt.figure()\n",
    "sys3 = control.feedback(G, kalpha*(10/(s+10))*select(2, 0))\n",
    "rlocus('p', (s+3)/s*sys3[1, 0], kvect=np.linspace(0, 1, 1000), k=0.4)\n",
    "zeta_des = 0.707\n",
    "plt.plot([0, -10], [0, 10*np.cos(zeta_des)], '--')\n",
    "#plt.axis([-20, 0, -5, 5]) k changes location of close root pole"
   ]
  },
  {
   "cell_type": "code",
   "execution_count": null,
   "metadata": {},
   "outputs": [],
   "source": [
    "H_PI = 2.28+ 1 *(0.7/s) + 1*0*s\n",
    "H_PI\n",
    "# Wroking Values H_PI = 2 + 1 *(1/s) + 1*0*s"
   ]
  },
  {
   "cell_type": "code",
   "execution_count": null,
   "metadata": {},
   "outputs": [],
   "source": [
    "Go = H_PI*sys3[1, 0] #open loop tf\n",
    "Go"
   ]
  },
  {
   "cell_type": "code",
   "execution_count": null,
   "metadata": {},
   "outputs": [],
   "source": [
    "Gc = control.feedback(Go, 1)\n",
    "#Gc = Go/(1+Go) closed loop"
   ]
  },
  {
   "cell_type": "code",
   "execution_count": null,
   "metadata": {},
   "outputs": [],
   "source": [
    "t, y = control.step_response(Gc, T=np.linspace(0, 1, 1000))\n",
    "plt.figure(figsize=(10, 5))\n",
    "plt.plot(t, 1*y)\n",
    "plt.grid()\n",
    "plt.show()\n",
    "max(y)\n",
    "#This is so I can see the over shoot. It seems it is the limiting factor suppressing my rise time from being better."
   ]
  },
  {
   "cell_type": "code",
   "execution_count": null,
   "metadata": {},
   "outputs": [],
   "source": [
    "bode('test', Go, omega=np.logspace(-2, 4), margins=True, Hz=True)"
   ]
  },
  {
   "cell_type": "code",
   "execution_count": null,
   "metadata": {},
   "outputs": [],
   "source": [
    "control.nyquist(Go);"
   ]
  },
  {
   "cell_type": "code",
   "execution_count": null,
   "metadata": {},
   "outputs": [],
   "source": [
    "t, y = control.step_response(Gc, T=np.linspace(0, 1, 1000))\n",
    "plt.figure(figsize=(10, 5))\n",
    "plt.plot(t, 10*y)\n",
    "plt.grid()\n",
    "plt.show()"
   ]
  },
  {
   "cell_type": "code",
   "execution_count": null,
   "metadata": {},
   "outputs": [],
   "source": [
    "t, y = control.step_response(Gc, T=np.linspace(0, 1, 1000))\n",
    "plt.figure(figsize=(10, 5))\n",
    "plt.plot(t, 100*y)\n",
    "plt.grid()\n",
    "plt.show()"
   ]
  },
  {
   "cell_type": "code",
   "execution_count": null,
   "metadata": {},
   "outputs": [],
   "source": []
  },
  {
   "cell_type": "code",
   "execution_count": null,
   "metadata": {},
   "outputs": [],
   "source": []
  },
  {
   "cell_type": "code",
   "execution_count": null,
   "metadata": {},
   "outputs": [],
   "source": []
  }
 ],
 "metadata": {
  "kernelspec": {
   "display_name": "Python 3",
   "language": "python",
   "name": "python3"
  },
  "language_info": {
   "codemirror_mode": {
    "name": "ipython",
    "version": 3
   },
   "file_extension": ".py",
   "mimetype": "text/x-python",
   "name": "python",
   "nbconvert_exporter": "python",
   "pygments_lexer": "ipython3",
   "version": "3.7.3"
  }
 },
 "nbformat": 4,
 "nbformat_minor": 4
}
