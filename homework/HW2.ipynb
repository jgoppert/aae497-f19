{
 "cells": [
  {
   "cell_type": "code",
   "execution_count": 8,
   "metadata": {},
   "outputs": [
    {
     "ename": "ModuleNotFoundError",
     "evalue": "No module named 'casadi'",
     "output_type": "error",
     "traceback": [
      "\u001b[0;31m---------------------------------------------------------------------------\u001b[0m",
      "\u001b[0;31mModuleNotFoundError\u001b[0m                       Traceback (most recent call last)",
      "\u001b[0;32m<ipython-input-8-e215d4aa97f6>\u001b[0m in \u001b[0;36m<module>\u001b[0;34m\u001b[0m\n\u001b[0;32m----> 1\u001b[0;31m \u001b[0;32mimport\u001b[0m \u001b[0mcasadi\u001b[0m \u001b[0;32mas\u001b[0m \u001b[0mca\u001b[0m\u001b[0;34m\u001b[0m\u001b[0;34m\u001b[0m\u001b[0m\n\u001b[0m\u001b[1;32m      2\u001b[0m \u001b[0mm\u001b[0m \u001b[0;34m=\u001b[0m \u001b[0mca\u001b[0m\u001b[0;34m.\u001b[0m\u001b[0mSX\u001b[0m\u001b[0;34m.\u001b[0m\u001b[0msym\u001b[0m\u001b[0;34m(\u001b[0m\u001b[0;34m'm'\u001b[0m\u001b[0;34m)\u001b[0m\u001b[0;34m\u001b[0m\u001b[0;34m\u001b[0m\u001b[0m\n\u001b[1;32m      3\u001b[0m \u001b[0mc\u001b[0m \u001b[0;34m=\u001b[0m \u001b[0mca\u001b[0m\u001b[0;34m.\u001b[0m\u001b[0mSX\u001b[0m\u001b[0;34m.\u001b[0m\u001b[0msym\u001b[0m\u001b[0;34m(\u001b[0m\u001b[0;34m'c'\u001b[0m\u001b[0;34m)\u001b[0m\u001b[0;34m\u001b[0m\u001b[0;34m\u001b[0m\u001b[0m\n\u001b[1;32m      4\u001b[0m \u001b[0mk\u001b[0m \u001b[0;34m=\u001b[0m \u001b[0mca\u001b[0m\u001b[0;34m.\u001b[0m\u001b[0mSX\u001b[0m\u001b[0;34m.\u001b[0m\u001b[0msym\u001b[0m\u001b[0;34m(\u001b[0m\u001b[0;34m'k'\u001b[0m\u001b[0;34m)\u001b[0m\u001b[0;34m\u001b[0m\u001b[0;34m\u001b[0m\u001b[0m\n\u001b[1;32m      5\u001b[0m \u001b[0mp\u001b[0m \u001b[0;34m=\u001b[0m \u001b[0mca\u001b[0m\u001b[0;34m.\u001b[0m\u001b[0mvertcat\u001b[0m\u001b[0;34m(\u001b[0m\u001b[0mm\u001b[0m\u001b[0;34m,\u001b[0m \u001b[0mc\u001b[0m\u001b[0;34m,\u001b[0m \u001b[0mk\u001b[0m\u001b[0;34m)\u001b[0m\u001b[0;34m\u001b[0m\u001b[0;34m\u001b[0m\u001b[0m\n",
      "\u001b[0;31mModuleNotFoundError\u001b[0m: No module named 'casadi'"
     ]
    }
   ],
   "source": [
    "import casadi as ca \n",
    "m = ca.SX.sym('m')\n",
    "c = ca.SX.sym('c')\n",
    "k = ca.SX.sym('k')\n",
    "p = ca.vertcat(m, c, k)\n",
    "\n",
    "u = ca.SX.sym('u')\n",
    "xv = ca.SX.sym('x', 2)\n",
    "x = xv[0]\n",
    "xd = xv[1]\n",
    "\n",
    "y = x\n",
    "\n",
    "xv_dot = ca.vertcat(xd, (-c*xd - k*x - ca.sin(x) + u + 3)/m)\n",
    "xv_dot"
   ]
  },
  {
   "cell_type": "code",
   "execution_count": 9,
   "metadata": {},
   "outputs": [],
   "source": [
    "def transp(time,x,u):\n",
    "    # CL0 = ca.if_else(land,1.0,0.2)\n",
    "    # Medium-sized transport aircraft, longitudinal dynamics.\n",
    "    u = ca.SX.sym('u');\n",
    "    x = ca.SX.sym('x');\n",
    "    xd = ca.SX.sym('xd');\n",
    "    LAND = ca.SX.sym('LAND');\n",
    "    LAND0 = ca.SX.sym('LAND0');\n",
    "    LAND1 = ca.SX.sym('LAND1');\n",
    "    \n",
    "    LAND0 = [.20, .016, .05, 0.0, 0.0]\n",
    "    LAND1 = [1.0, .08, -.20, .02, -.05]\n",
    "    CL0 = LAND[0];\n",
    "    CD0 = LAND[1];\n",
    "    CM0 = LAND[2];\n",
    "    DCDG = LAND[3];\n",
    "    \n",
    "    S = 2170.0; \n",
    "    CBAR = 17.5; \n",
    "    MASS = 5.0E3; \n",
    "    IYY = 4.1E6;\n",
    "    TSTAT = 6.0E4; \n",
    "    DTDV = -38.0; \n",
    "    ZE = 2.0; \n",
    "    CDCLS = 0.042;\n",
    "    CLA = 0.085; \n",
    "    CMA = -0.022; \n",
    "    CMDE = -0.016; # per degree\n",
    "    CMQ = -16.0; \n",
    "    CMADOT = -6.0; \n",
    "    CLADOT = 0.0; # per radian\n",
    "    RTOD = 57.29578; # rad2deg\n",
    "    GD = 32.17;\n",
    "    THTL = u[1];\n",
    "    ELEV = u[2];\n",
    "    XCG = u[3];\n",
    "    LAND = u[4];\n",
    "    VT = x[1]; # TAS in fps\n",
    "    ALPHA = RTOD*x[2]; # A.O.A.\n",
    "    THETA = x[3]; # PITCH ATTITUDE\n",
    "    Q = x[4]; # PITCH RATE\n",
    "    H = x[5]; # ALTITUDE\n",
    "\n",
    "    [MACH,QBAR] = ADC(VT,H);\n",
    "    QS = QBAR*S;\n",
    "    SALP = ca.sin(x[2]); \n",
    "    CALP = ca.cos(x[2]);\n",
    "    GAM = THETA - x[2]; \n",
    "    SGAM = ca.sin(GAM); \n",
    "    CGAM = ca.cos(GAM);\n",
    "    \n",
    "    coeff = ca.if_else(LAND,LAND0,LAND1) # if else logic \n",
    "\n",
    "    THR = (TSTAT + VT*DTDV) * ca.fmax(THTL,0); # THRUST\n",
    "    CL = CLO + CLA*ALPHA; # NONDIM. LIFT\n",
    "    CM = DCMG + CMO + CMA*ALPHA + CMDE*ELEV + CL* (XCG - 0.25); # MOMENT\n",
    "    CD = DCDG + CDO + CDCLS*CL**2; # DRAG POLAR\n",
    "\n",
    "    # STATE EQUATIONS NEXT\n",
    "    xd = ca.SX.zeros(6)\n",
    "    xd[1] = (THR*CALP - QS*CD)/MASS - GD*SGAM;\n",
    "    xd[2]=(-THR*SALP - QS*CL + MASS*(VT*Q + GD*CGAM))/(MASS*VT + QS*CLADOT);\n",
    "    xd[3] = Q;\n",
    "    D = .5*CBAR*(CMQ*Q+CMADOT*xd(2))/VT; # PITCH DAMPING\n",
    "    xd[4] = (QS*CBAR*(CM + D) + THR*ZE)/IYY; # Q-DOT\n",
    "    xd[5] = VT*SGAM; # VERTICAL SPEED\n",
    "    xd[6] = VT*CGAM; # HORIZNTL. SPEED\n",
    "    return xd\n",
    "\n",
    "#x = ca.SX.sym('x', 6)\n",
    "#u = ca.SX.sym('u', 4)\n",
    "#rhs(x,u)"
   ]
  },
  {
   "cell_type": "code",
   "execution_count": null,
   "metadata": {},
   "outputs": [],
   "source": [
    "def rhs(x,u)\n",
    "    s = 2170\n",
    "    cbar = 17.5\n",
    "    mass = 5.0e3\n",
    "    iyy = 4.1e6\n",
    "    tstat = 6.0e4\n",
    "    dtdv = -38.0\n",
    "    ze = 2.0\n",
    "    cdcls = 0.042\n",
    "    cla = 0.085\n",
    "    cma = -0.022\n",
    "    cmde = -0.016\n",
    "    cmq = -16.0\n",
    "    cmadot = -6.0\n",
    "    cladot = 0.0\n",
    "    rtod = 57.29578\n",
    "    gd = 32.17\n",
    "    \n",
    "    thtl = u[0]\n",
    "    "
   ]
  },
  {
   "cell_type": "code",
   "execution_count": null,
   "metadata": {},
   "outputs": [],
   "source": [
    "def objective(s,vt, h, gamma, land):\n",
    "    u[0] = "
   ]
  },
  {
   "cell_type": "code",
   "execution_count": null,
   "metadata": {},
   "outputs": [],
   "source": [
    "# Cost Function for 3-DOF Aircraft\n",
    "def cost(s, x, u, gama);\n",
    "    u[1] = s[1];\n",
    "    u[2] = s[2];\n",
    "    x[2] = s[3];\n",
    "    x[3] = x[2] + gamma;\n",
    "    time = 0.0;\n",
    "    xd = transp(time,x,u); # transportation aircraft\n",
    "    f= xd[1]**2 + 100*xd[2]**2 + 10*xd[4]**2;\n",
    "    return f"
   ]
  },
  {
   "cell_type": "code",
   "execution_count": null,
   "metadata": {},
   "outputs": [],
   "source": [
    "nlp = {'x': s, 'f': objective(s, vt=500, h=0, gamma=0)}"
   ]
  },
  {
   "cell_type": "code",
   "execution_count": null,
   "metadata": {},
   "outputs": [],
   "source": []
  }
 ],
 "metadata": {
  "kernelspec": {
   "display_name": "Python 3",
   "language": "python",
   "name": "python3"
  },
  "language_info": {
   "codemirror_mode": {
    "name": "ipython",
    "version": 3
   },
   "file_extension": ".py",
   "mimetype": "text/x-python",
   "name": "python",
   "nbconvert_exporter": "python",
   "pygments_lexer": "ipython3",
   "version": "3.7.3"
  }
 },
 "nbformat": 4,
 "nbformat_minor": 4
}
