{
 "cells": [
  {
   "cell_type": "code",
   "execution_count": 18,
   "metadata": {},
   "outputs": [],
   "source": [
    "import casadi as ca\n",
    "import matplotlib.pyplot as plt\n",
    "import numpy as np\n",
    "import casadi.tools.graph as\n",
    "%matplotlib inline"
   ]
  },
  {
   "cell_type": "code",
   "execution_count": 12,
   "metadata": {},
   "outputs": [],
   "source": [
    "S = 2170\n",
    "CBAR = 17.5\n",
    "MASS = 5000\n",
    "IYY = 4.1 * 10 **6\n",
    "TSTAT = 60000\n",
    "DTDV = -38\n",
    "ZE = 2.0\n",
    "CDCLS = .042\n",
    "CLA = .085\n",
    "CMA = -.022\n",
    "CMDE = -.016\n",
    "\n",
    "CMQ = -16\n",
    "CMADOT = -6\n",
    "CLADOT = 0\n",
    "RTOD = 57.29578\n",
    "GD = 32.17\n",
    "u = ca.SX.sym('u',4)\n",
    "THTL = u[0]\n",
    "ELEV = u[1]\n",
    "XCG = u[2]\n",
    "LAND = [3]\n",
    "x = ca.SX.sym('x',5)\n",
    "VT = x[0]\n",
    "ALPHA = RTOD * x[1]\n",
    "THETA = x[2]\n",
    "Q = x[3]\n",
    "H = x[4]\n"
   ]
  },
  {
   "cell_type": "code",
   "execution_count": 28,
   "metadata": {},
   "outputs": [
    {
     "name": "stdout",
     "output_type": "stream",
     "text": [
      "Landing Gear and Flaps?\n"
     ]
    }
   ],
   "source": [
    "#[MACH,QBAR] = ADC(VT,H)\n",
    "#QS = QBAR *S;\n",
    "SALP = ca.sin(x[2]); CALP = ca.cos(x[2])\n",
    "GAM =THETA - x[2]; SGAM = ca.sin(GAM); CGAM =ca.cos(GAM);\n",
    "if (LAND == 0):\n",
    "  CLO = .2;CDO=.016;  \n",
    "elif(LAND ==1):\n",
    "    \n",
    "    CLO = 1; CDO = .08\n",
    "    CMO = -.2; DCDG = .02; DCMG = -.05;\n",
    "else:\n",
    "    print('Landing Gear and Flaps?')\n",
    "\n",
    "THR = "
   ]
  },
  {
   "cell_type": "code",
   "execution_count": null,
   "metadata": {},
   "outputs": [],
   "source": []
  }
 ],
 "metadata": {
  "kernelspec": {
   "display_name": "Python 3",
   "language": "python",
   "name": "python3"
  },
  "language_info": {
   "codemirror_mode": {
    "name": "ipython",
    "version": 3
   },
   "file_extension": ".py",
   "mimetype": "text/x-python",
   "name": "python",
   "nbconvert_exporter": "python",
   "pygments_lexer": "ipython3",
   "version": "3.7.3"
  }
 },
 "nbformat": 4,
 "nbformat_minor": 4
}
