{
 "cells": [
  {
   "cell_type": "code",
   "execution_count": 2,
   "metadata": {},
   "outputs": [],
   "source": [
    "import casadi as ca\n",
    "from casadi import CodeGenerator"
   ]
  },
  {
   "cell_type": "code",
   "execution_count": 16,
   "metadata": {},
   "outputs": [
    {
     "data": {
      "text/plain": [
       "'my_code.c'"
      ]
     },
     "execution_count": 16,
     "metadata": {},
     "output_type": "execute_result"
    }
   ],
   "source": [
    "x = ca.SX.sym('x', 3)\n",
    "y = ca.vertcat(1, 1, 2*ca.cos(x[0]) + 100)\n",
    "f = ca.Function('f', [x], [y], ['x'], ['y'])\n",
    "g = ca.Function('g', [x], [2*y], ['x'], ['y'])\n",
    "\n",
    "# for your homework, you will want, with_mem: True\n",
    "gen_with_main = CodeGenerator(\n",
    "    'my_code.c',\n",
    "    {'main': True, 'mex': False, 'with_header': True, 'with_mem': False})\n",
    "gen_with_main.add(f)\n",
    "gen_with_main.add(g)\n",
    "\n",
    "gen_with_main.generate()"
   ]
  },
  {
   "cell_type": "code",
   "execution_count": 17,
   "metadata": {},
   "outputs": [],
   "source": [
    "!g++ my_code.c -o my_code"
   ]
  },
  {
   "cell_type": "code",
   "execution_count": null,
   "metadata": {},
   "outputs": [],
   "source": []
  }
 ],
 "metadata": {
  "kernelspec": {
   "display_name": "Python 3",
   "language": "python",
   "name": "python3"
  },
  "language_info": {
   "codemirror_mode": {
    "name": "ipython",
    "version": 3
   },
   "file_extension": ".py",
   "mimetype": "text/x-python",
   "name": "python",
   "nbconvert_exporter": "python",
   "pygments_lexer": "ipython3",
   "version": "3.7.4"
  }
 },
 "nbformat": 4,
 "nbformat_minor": 4
}
