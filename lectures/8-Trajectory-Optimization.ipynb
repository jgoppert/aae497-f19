{
 "cells": [
  {
   "cell_type": "code",
   "execution_count": 1,
   "metadata": {},
   "outputs": [],
   "source": [
    "import casadi as ca\n",
    "import numpy as np\n",
    "import matplotlib.pyplot as plt\n",
    "from casadi.tools.graph import dotgraph\n",
    "\n",
    "from IPython.display import Image\n",
    "\n",
    "def draw_graph(expr):\n",
    "    return Image(dotgraph(expr).create_png())\n",
    "\n",
    "import sys\n",
    "sys.path.insert(0, '../python/pyecca')\n",
    "\n",
    "from pyecca.util import rk4"
   ]
  },
  {
   "cell_type": "markdown",
   "metadata": {},
   "source": [
    "This notebooks demonstrates how to design reference trajectories for a rocket using the nonlinear optimization tools within Casadi."
   ]
  },
  {
   "cell_type": "code",
   "execution_count": 2,
   "metadata": {},
   "outputs": [],
   "source": [
    "def derive_equations():\n",
    "    p_x = ca.SX.sym('p_x')\n",
    "    p_z = ca.SX.sym('p_z')\n",
    "    v_x = ca.SX.sym('v_x')\n",
    "    v_z = ca.SX.sym('v_z')\n",
    "    theta = ca.SX.sym('theta')\n",
    "    omega = ca.SX.sym('omega')\n",
    "    thrust = ca.SX.sym('thrust')\n",
    "    g = ca.SX.sym('g')\n",
    "    t = ca.SX.sym('t')\n",
    "\n",
    "    x = ca.vertcat(p_x, p_z, v_x, v_z, theta)\n",
    "    u = ca.vertcat(omega)\n",
    "    p = ca.vertcat(thrust, g)\n",
    "\n",
    "    dx = ca.vertcat(v_x, v_z, thrust*ca.cos(theta), thrust*ca.sin(theta) - g, omega)\n",
    "    return {\n",
    "        'rhs': ca.Function('rhs', [x, u, p], [dx])\n",
    "    }"
   ]
  },
  {
   "cell_type": "code",
   "execution_count": 4,
   "metadata": {},
   "outputs": [
    {
     "name": "stdout",
     "output_type": "stream",
     "text": [
      "Solve_Succeeded\n"
     ]
    },
    {
     "data": {
      "image/png": "[encoded data removed]",
      "text/plain": [
       "<Figure size 432x288 with 1 Axes>"
      ]
     },
     "metadata": {
      "needs_background": "light"
     },
     "output_type": "display_data"
    },
    {
     "data": {
      "image/png": "[encoded data removed]",
      "text/plain": [
       "<Figure size 432x288 with 1 Axes>"
      ]
     },
     "metadata": {
      "needs_background": "light"
     },
     "output_type": "display_data"
    }
   ],
   "source": [
    "def objective(eqs, x_vect, u_vect, p):\n",
    "    return ca.dot(u_vect, u_vect)\n",
    "\n",
    "def constraint(eqs, x_vect, u_vect, p):\n",
    "    uf = u_vect[-1]\n",
    "    xf = x_vect[:, -1]\n",
    "    #x_dot = eqs['rhs'](xf, uf, p)\n",
    "    return ca.vertcat(\n",
    "        xf[1] - 10,  # be at 10 m altitude\n",
    "        xf[3],  # don't change altitude\n",
    "    )\n",
    "    \n",
    "def optimize_trajectory(eqs, x0, p, t0, tf, h):\n",
    "    # symbolic integration\n",
    "    x = x0\n",
    "    \n",
    "    t_vect = np.arange(t0, tf, h)\n",
    "    n = len(t_vect)\n",
    "    u_vect = ca.SX.sym('u', n)\n",
    "    x_vect = x0\n",
    "\n",
    "    for t, u in zip(t_vect, u_vect):\n",
    "        x = rk4(lambda t, x: eqs['rhs'](x, u, p), t, x, h)\n",
    "        x_vect = ca.horzcat(x_vect, x)\n",
    "    # NLP declaration\n",
    "    nlp = {'x':u_vect,'f':objective(eqs, x, u_vect, p),'g':constraint(eqs, x_vect , u_vect, p)};\n",
    "    S = ca.nlpsol('S', 'ipopt', nlp, {\n",
    "        'print_time': 0,\n",
    "        'ipopt': {\n",
    "            'sb': 'yes',\n",
    "            'print_level': 0,\n",
    "            }\n",
    "        })\n",
    "    n_g = 1\n",
    "    res = S(x0=np.zeros(n),\n",
    "            lbg=np.zeros(n_g), ubg=np.zeros(n_g),\n",
    "            lbx=-10*np.ones(n), ubx=10*np.ones(n)\n",
    "           )\n",
    "    stats = S.stats()\n",
    "    print(stats['return_status'])\n",
    "    u_opt = res['x']\n",
    "    return t_vect, u_opt, x\n",
    "\n",
    "def simulate(eqs, x0, p, t_vect, u_vect):\n",
    "    data = {\n",
    "        't': [t_vect[0]],\n",
    "        'x': [np.reshape(x0, -1)],\n",
    "        'u': [u_vect[0]]\n",
    "    }\n",
    "    x = x0\n",
    "    h = t_vect[1] - t_vect[0] # assumes equally spaced\n",
    "    for t, u in zip(t_vect, u_vect):\n",
    "        x = rk4(lambda t, x: eqs['rhs'](x, u, p), t, x, h)\n",
    "        data['t'].append(t)\n",
    "        data['u'].append(u)\n",
    "        data['x'].append(np.reshape(x, -1))\n",
    "    for k in data.keys():\n",
    "        data[k] = np.array(data[k], dtype=float)\n",
    "    return data\n",
    "\n",
    "p = ca.vertcat(100, 9.8)\n",
    "eqs = derive_equations()\n",
    "x0 = ca.DM([0, 0, 0, 0, np.deg2rad(75)])\n",
    "t_vect, u_opt, x = optimize_trajectory(eqs, x0=x0, p=p, t0=0, tf=2, h=0.1)\n",
    "data = simulate(eqs, x0, p, t_vect, u_opt)\n",
    "\n",
    "plt.figure()\n",
    "plt.plot(data['t'], data['x'][:, 0], label='x')\n",
    "plt.plot(data['t'], data['x'][:, 1], label='z')\n",
    "plt.plot(data['t'], data['u'], label='omega')\n",
    "plt.xlabel('t, sec')\n",
    "plt.grid(True)\n",
    "plt.legend()\n",
    "\n",
    "plt.figure()\n",
    "plt.plot(data['x'][:, 0], data['x'][:, 1])\n",
    "plt.xlabel('x')\n",
    "plt.ylabel('z')\n",
    "plt.grid(True)\n",
    "plt.title('trajectory [side]')\n",
    "plt.savefig('rocket_ref_trajectory.png')"
   ]
  }
 ],
 "metadata": {
  "kernelspec": {
   "display_name": "Python 3",
   "language": "python",
   "name": "python3"
  },
  "language_info": {
   "codemirror_mode": {
    "name": "ipython",
    "version": 3
   },
   "file_extension": ".py",
   "mimetype": "text/x-python",
   "name": "python",
   "nbconvert_exporter": "python",
   "pygments_lexer": "ipython3",
   "version": "3.7.3"
  }
 },
 "nbformat": 4,
 "nbformat_minor": 4
}
