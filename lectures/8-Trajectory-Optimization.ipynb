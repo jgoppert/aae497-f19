{
 "cells": [
  {
   "cell_type": "code",
   "execution_count": 1,
   "metadata": {},
   "outputs": [],
   "source": [
    "import casadi as ca\n",
    "import numpy as np\n",
    "import matplotlib.pyplot as plt\n",
    "from casadi.tools.graph import dotgraph\n",
    "\n",
    "from IPython.display import Image\n",
    "\n",
    "def draw_graph(expr):\n",
    "    return Image(dotgraph(expr).create_png())\n",
    "\n",
    "\n",
    "import sys\n",
    "sys.path.insert(0, '../python/pyecca')\n",
    "\n",
    "from pyecca.util import rk4\n",
    "\n",
    "cos = ca.cos\n",
    "sin = ca.sin"
   ]
  },
  {
   "cell_type": "code",
   "execution_count": 2,
   "metadata": {},
   "outputs": [],
   "source": [
    "def derive_equations():\n",
    "    p_x = ca.SX.sym('p_x')\n",
    "    p_z = ca.SX.sym('p_z')\n",
    "    theta = ca.SX.sym('theta')\n",
    "    omega = ca.SX.sym('omega')\n",
    "    v = ca.SX.sym('v')\n",
    "    g = ca.SX.sym('g')\n",
    "    t = ca.SX.sym('t')\n",
    "\n",
    "    x = ca.vertcat(p_x, p_z, theta)\n",
    "    u = ca.vertcat(omega)\n",
    "    p = ca.vertcat(v, g)\n",
    "\n",
    "    dx = ca.vertcat(u*cos(theta), u*ca.sin(theta), omega)\n",
    "    return {\n",
    "        'rhs': ca.Function('rhs', [x, u, p], [dx])\n",
    "    }"
   ]
  },
  {
   "cell_type": "code",
   "execution_count": 3,
   "metadata": {},
   "outputs": [
    {
     "name": "stdout",
     "output_type": "stream",
     "text": [
      "Infeasible_Problem_Detected\n"
     ]
    }
   ],
   "source": [
    "def objective(eqs, x, u_vect, p):\n",
    "    return ca.dot(u_vect, u_vect)\n",
    "\n",
    "def constraint(eqs, x, u_vect, p):\n",
    "    u = u_vect[-1]\n",
    "    x_dot = eqs['rhs'](x, u, p)\n",
    "    return ca.vertcat(\n",
    "        x[1] -10,  # be at 10 m altitude\n",
    "        x_dot[2]  # don't rotate\n",
    "    )\n",
    "    \n",
    "def optimize_trajectory(eqs, x0, p, t0, tf, h):\n",
    "    # symbolic integration\n",
    "    x = x0\n",
    "    \n",
    "    t_vect = np.arange(t0, tf, h)\n",
    "    n = len(t_vect)\n",
    "    u_vect = ca.SX.sym('u', n)\n",
    "    x_vect = x0\n",
    "\n",
    "    for t, u in zip(t_vect, u_vect):\n",
    "        x = rk4(lambda t, x: eqs['rhs'](x, u, p), t, x, h)\n",
    "        x_vect = ca.horzcat(x_vect, x)\n",
    "    \n",
    "    # NLP declaration\n",
    "    nlp = {'x':u_vect,'f':objective(eqs, x, u_vect, p),'g':constraint(eqs, x , u_vect, p)};\n",
    "    S = ca.nlpsol('S', 'ipopt', nlp, {\n",
    "        'print_time': 0,\n",
    "        'ipopt': {\n",
    "            'sb': 'yes',\n",
    "            'print_level': 0,\n",
    "            }\n",
    "        })\n",
    "    n_g = 2\n",
    "    res = S(x0=np.zeros(n),\n",
    "        lbg=np.zeros(n_g), ubg=np.zeros(n_g), lbx=-5*np.ones(n), ubx=5*np.ones(n))\n",
    "    stats = S.stats()\n",
    "    print(stats['return_status'])\n",
    "    u_opt = res['x']\n",
    "    return t_vect, u_opt, x\n",
    "\n",
    "def simulate(eqs, x0, p, t_vect, u_opt):\n",
    "    data = {\n",
    "        't': [],\n",
    "        'x': [],\n",
    "        'u': []\n",
    "    }\n",
    "    x = x0\n",
    "    h = t_vect[1] - t_vect[0] # assumes equally spaced\n",
    "    for t, u in zip(t_vect, u_opt):\n",
    "        data['t'].append(t)\n",
    "        data['u'].append(u)\n",
    "        data['x'].append(np.reshape(x, -1))\n",
    "        x = rk4(lambda t, x: eqs['rhs'](x, u, p), t, x, h)\n",
    "    for k in data.keys():\n",
    "        data[k] = np.array(data[k], dtype=float)\n",
    "    return data\n",
    "\n",
    "p = ca.vertcat(10, 9.8)\n",
    "eqs = derive_equations()\n",
    "x0 = ca.DM([0, 0, ca.pi/2])\n",
    "t_vect, u_opt, x = optimize_trajectory(eqs, x0, p, 0, 1, 0.01)\n",
    "data = simulate(eqs, x0, p, t_vect, u_opt)"
   ]
  },
  {
   "cell_type": "code",
   "execution_count": 4,
   "metadata": {},
   "outputs": [],
   "source": [
    "#draw_graph(x)"
   ]
  },
  {
   "cell_type": "markdown",
   "metadata": {},
   "source": [
    "$ J = \\int (x^T Q x + u^T R u) dt$"
   ]
  },
  {
   "cell_type": "code",
   "execution_count": 5,
   "metadata": {},
   "outputs": [
    {
     "data": {
      "text/plain": [
       "Text(0, 0.5, 'z')"
      ]
     },
     "execution_count": 5,
     "metadata": {},
     "output_type": "execute_result"
    },
    {
     "data": {
      "image/png": "[encoded data removed]",
      "text/plain": [
       "<Figure size 432x288 with 1 Axes>"
      ]
     },
     "metadata": {
      "needs_background": "light"
     },
     "output_type": "display_data"
    }
   ],
   "source": [
    "plt.plot(data['t'], data['x'][:, 1])\n",
    "plt.xlabel('t, sec')\n",
    "plt.ylabel('z')"
   ]
  },
  {
   "cell_type": "code",
   "execution_count": 6,
   "metadata": {},
   "outputs": [
    {
     "data": {
      "text/plain": [
       "Text(0, 0.5, 'u')"
      ]
     },
     "execution_count": 6,
     "metadata": {},
     "output_type": "execute_result"
    },
    {
     "data": {
      "image/png": "[encoded data removed]",
      "text/plain": [
       "<Figure size 432x288 with 1 Axes>"
      ]
     },
     "metadata": {
      "needs_background": "light"
     },
     "output_type": "display_data"
    }
   ],
   "source": [
    "plt.plot(data['t'], data['u'])\n",
    "plt.xlabel('t, sec')\n",
    "plt.ylabel('u')"
   ]
  },
  {
   "cell_type": "code",
   "execution_count": null,
   "metadata": {},
   "outputs": [],
   "source": []
  }
 ],
 "metadata": {
  "kernelspec": {
   "display_name": "Python 3",
   "language": "python",
   "name": "python3"
  },
  "language_info": {
   "codemirror_mode": {
    "name": "ipython",
    "version": 3
   },
   "file_extension": ".py",
   "mimetype": "text/x-python",
   "name": "python",
   "nbconvert_exporter": "python",
   "pygments_lexer": "ipython3",
   "version": "3.7.4"
  }
 },
 "nbformat": 4,
 "nbformat_minor": 4
}
