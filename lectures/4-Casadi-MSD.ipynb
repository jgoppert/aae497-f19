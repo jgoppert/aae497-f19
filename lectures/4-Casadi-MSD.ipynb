{
 "cells": [
  {
   "cell_type": "code",
   "execution_count": 38,
   "metadata": {},
   "outputs": [],
   "source": [
    "import casadi as ca\n",
    "import matplotlib.pyplot as plt\n",
    "%matplotlib inline"
   ]
  },
  {
   "cell_type": "markdown",
   "metadata": {},
   "source": [
    "$m \\ddot{x} + c \\dot{x} + k x + sin(x) = u$"
   ]
  },
  {
   "cell_type": "markdown",
   "metadata": {},
   "source": [
    "$\\vec{x} = \\begin{bmatrix}\n",
    "x \\\\\n",
    "\\dot{x}\n",
    "\\end{bmatrix}$"
   ]
  },
  {
   "cell_type": "markdown",
   "metadata": {},
   "source": [
    "$\\vec{u} = \\begin{bmatrix} u\\end{bmatrix}$"
   ]
  },
  {
   "cell_type": "markdown",
   "metadata": {},
   "source": [
    "$\\vec{y} = \\vec{g}(\\vec{x}) = \\begin{bmatrix} x\\end{bmatrix}$"
   ]
  },
  {
   "cell_type": "markdown",
   "metadata": {},
   "source": [
    "$\\ddot{x} = (-c \\dot{x} - kx + u)/m$"
   ]
  },
  {
   "cell_type": "markdown",
   "metadata": {},
   "source": [
    "$\\dot{\\vec{x}} = \\vec{f}(\\vec{x}) = \\begin{bmatrix}\n",
    "\\dot{x} \\\\\n",
    "(-c \\dot{x} - kx - sin(x) + u)/m\n",
    "\\end{bmatrix}$"
   ]
  },
  {
   "cell_type": "markdown",
   "metadata": {},
   "source": [
    "$\\dot{\\vec{x}} = A \\vec{x} + B \\vec{u}$\n",
    "\n",
    "$\\vec{y} = C \\vec{x} + D \\vec{u}$"
   ]
  },
  {
   "cell_type": "markdown",
   "metadata": {},
   "source": [
    "$A = \\dfrac{\\partial \\vec{f}}{\\partial \\vec{x}}$\n",
    "\n",
    "$B = \\dfrac{\\partial \\vec{f}}{\\partial \\vec{u}}$\n",
    "\n",
    "$C = \\dfrac{\\partial \\vec{g}}{\\partial \\vec{x}}$\n",
    "\n",
    "$D = \\dfrac{\\partial \\vec{g}}{\\partial \\vec{u}}$"
   ]
  },
  {
   "cell_type": "code",
   "execution_count": 83,
   "metadata": {},
   "outputs": [
    {
     "data": {
      "text/plain": [
       "SX([x_1, ((u-(((c*x_1)+(k*x_0))+sin(x_0)))/m)])"
      ]
     },
     "execution_count": 83,
     "metadata": {},
     "output_type": "execute_result"
    }
   ],
   "source": [
    "m = ca.SX.sym('m')\n",
    "c = ca.SX.sym('c')\n",
    "k = ca.SX.sym('k')\n",
    "p = ca.vertcat(m, c, k)\n",
    "\n",
    "u = ca.SX.sym('u')\n",
    "xv = ca.SX.sym('x', 2)\n",
    "x = xv[0]\n",
    "xd = xv[1]\n",
    "\n",
    "y = x\n",
    "\n",
    "xv_dot = ca.vertcat(xd, (-c*xd - k*x - ca.sin(x) + u)/m)\n",
    "xv_dot"
   ]
  },
  {
   "cell_type": "code",
   "execution_count": 84,
   "metadata": {},
   "outputs": [
    {
     "data": {
      "text/plain": [
       "Function(rhs:(x[2],u,p[3])->(x_dot[2]) SXFunction)"
      ]
     },
     "execution_count": 84,
     "metadata": {},
     "output_type": "execute_result"
    }
   ],
   "source": [
    "f_rhs = ca.Function('rhs', [xv, u, p], [xv_dot], ['x', 'u', 'p'], ['x_dot'], {'jit': True})\n",
    "f_rhs"
   ]
  },
  {
   "cell_type": "code",
   "execution_count": 85,
   "metadata": {},
   "outputs": [
    {
     "data": {
      "text/plain": [
       "DM([2, -7.84147])"
      ]
     },
     "execution_count": 85,
     "metadata": {},
     "output_type": "execute_result"
    }
   ],
   "source": [
    "f_rhs([1, 2], [0], [1, 2, 3])"
   ]
  },
  {
   "cell_type": "code",
   "execution_count": 86,
   "metadata": {},
   "outputs": [
    {
     "data": {
      "image/png": "[encoded data removed]",
      "text/plain": [
       "<Figure size 432x288 with 1 Axes>"
      ]
     },
     "metadata": {
      "needs_background": "light"
     },
     "output_type": "display_data"
    }
   ],
   "source": [
    "import scipy.integrate\n",
    "import numpy as np\n",
    "tf = 10\n",
    "res = scipy.integrate.solve_ivp(\n",
    "    fun=lambda t, x: np.array(f_rhs(x, 1.0, [1, 2, 3])).reshape(-1),\n",
    "    t_span=[0, tf],\n",
    "    y0=[0, 0], t_eval=np.arange(0, tf, 0.1))\n",
    "plt.plot(res['t'], res['y'][0, :]);"
   ]
  },
  {
   "cell_type": "code",
   "execution_count": 87,
   "metadata": {},
   "outputs": [
    {
     "data": {
      "text/plain": [
       "SX(\n",
       "[[00, 1], \n",
       " [(-((k+cos(x_0))/m)), (-(c/m))]])"
      ]
     },
     "execution_count": 87,
     "metadata": {},
     "output_type": "execute_result"
    }
   ],
   "source": [
    "A = ca.jacobian(xv_dot, xv)\n",
    "A"
   ]
  },
  {
   "cell_type": "code",
   "execution_count": 88,
   "metadata": {},
   "outputs": [
    {
     "data": {
      "text/plain": [
       "SX([00, (1./m)])"
      ]
     },
     "execution_count": 88,
     "metadata": {},
     "output_type": "execute_result"
    }
   ],
   "source": [
    "B = ca.jacobian(xv_dot, u)\n",
    "B"
   ]
  },
  {
   "cell_type": "code",
   "execution_count": 89,
   "metadata": {},
   "outputs": [
    {
     "data": {
      "text/plain": [
       "SX([[1, 00]])"
      ]
     },
     "execution_count": 89,
     "metadata": {},
     "output_type": "execute_result"
    }
   ],
   "source": [
    "C = ca.jacobian(y, xv)\n",
    "C"
   ]
  },
  {
   "cell_type": "code",
   "execution_count": 90,
   "metadata": {},
   "outputs": [
    {
     "data": {
      "text/plain": [
       "SX(00)"
      ]
     },
     "execution_count": 90,
     "metadata": {},
     "output_type": "execute_result"
    }
   ],
   "source": [
    "D = ca.jacobian(y, u)\n",
    "D"
   ]
  },
  {
   "cell_type": "code",
   "execution_count": 94,
   "metadata": {},
   "outputs": [
    {
     "data": {
      "text/plain": [
       "Function(f_ss:(x[2],p[3])->(A[2x2,3nz],B[2x1,1nz],C[1x2,1nz],D[1x1,0nz]) SXFunction)"
      ]
     },
     "execution_count": 94,
     "metadata": {},
     "output_type": "execute_result"
    }
   ],
   "source": [
    "f_ss = ca.Function('f_ss', [xv, p], [A, B, C, D], ['x', 'p'], ['A', 'B', 'C', 'D'])\n",
    "f_ss"
   ]
  },
  {
   "cell_type": "code",
   "execution_count": 95,
   "metadata": {},
   "outputs": [
    {
     "data": {
      "text/plain": [
       "A = [[ 0.  1.]\n",
       " [-4. -2.]]\n",
       "\n",
       "B = [[0.]\n",
       " [1.]]\n",
       "\n",
       "C = [[1. 0.]]\n",
       "\n",
       "D = [[0.]]"
      ]
     },
     "execution_count": 95,
     "metadata": {},
     "output_type": "execute_result"
    }
   ],
   "source": [
    "import control\n",
    "sys = control.ss(*f_ss([0, 0], [1, 2, 3]))\n",
    "sys"
   ]
  },
  {
   "cell_type": "code",
   "execution_count": 98,
   "metadata": {},
   "outputs": [
    {
     "name": "stdout",
     "output_type": "stream",
     "text": [
      "/* This file was automatically generated by CasADi.\n",
      "   The CasADi copyright holders make no ownership claim of its contents. */\n",
      "#ifdef __cplusplus\n",
      "extern \"C\" {\n",
      "#endif\n",
      "\n",
      "/* How to prefix internal symbols */\n",
      "#ifdef CODEGEN_PREFIX\n",
      "  #define NAMESPACE_CONCAT(NS, ID) _NAMESPACE_CONCAT(NS, ID)\n",
      "  #define _NAMESPACE_CONCAT(NS, ID) NS ## ID\n",
      "  #define CASADI_PREFIX(ID) NAMESPACE_CONCAT(CODEGEN_PREFIX, ID)\n",
      "#else\n",
      "  #define CASADI_PREFIX(ID) rhs_ ## ID\n",
      "#endif\n",
      "\n",
      "#include <math.h>\n",
      "\n",
      "#ifndef casadi_real\n",
      "#define casadi_real double\n",
      "#endif\n",
      "\n",
      "#ifndef casadi_int\n",
      "#define casadi_int long long int\n",
      "#endif\n",
      "\n",
      "/* Add prefix to internal symbols */\n",
      "#define casadi_f0 CASADI_PREFIX(f0)\n",
      "#define casadi_s0 CASADI_PREFIX(s0)\n",
      "#define casadi_s1 CASADI_PREFIX(s1)\n",
      "#define casadi_s2 CASADI_PREFIX(s2)\n",
      "\n",
      "/* Symbol visibility in DLLs */\n",
      "#ifndef CASADI_SYMBOL_EXPORT\n",
      "  #if defined(_WIN32) || defined(__WIN32__) || defined(__CYGWIN__)\n",
      "    #if defined(STATIC_LINKED)\n",
      "      #define CASADI_SYMBOL_EXPORT\n",
      "    #else\n",
      "      #define CASADI_SYMBOL_EXPORT __declspec(dllexport)\n",
      "    #endif\n",
      "  #elif defined(__GNUC__) && defined(GCC_HASCLASSVISIBILITY)\n",
      "    #define CASADI_SYMBOL_EXPORT __attribute__ ((visibility (\"default\")))\n",
      "  #else\n",
      "    #define CASADI_SYMBOL_EXPORT\n",
      "  #endif\n",
      "#endif\n",
      "\n",
      "static const casadi_int casadi_s0[6] = {2, 1, 0, 2, 0, 1};\n",
      "static const casadi_int casadi_s1[5] = {1, 1, 0, 1, 0};\n",
      "static const casadi_int casadi_s2[7] = {3, 1, 0, 3, 0, 1, 2};\n",
      "\n",
      "/* rhs:(x[2],u,p[3])->(x_dot[2]) */\n",
      "static int casadi_f0(const casadi_real** arg, casadi_real** res, casadi_int* iw, casadi_real* w, void* mem) {\n",
      "  casadi_real a0, a1, a2, a3;\n",
      "  a0=arg[0] ? arg[0][1] : 0;\n",
      "  if (res[0]!=0) res[0][0]=a0;\n",
      "  a1=arg[1] ? arg[1][0] : 0;\n",
      "  a2=arg[2] ? arg[2][1] : 0;\n",
      "  a2=(a2*a0);\n",
      "  a0=arg[2] ? arg[2][2] : 0;\n",
      "  a3=arg[0] ? arg[0][0] : 0;\n",
      "  a0=(a0*a3);\n",
      "  a2=(a2+a0);\n",
      "  a3=sin(a3);\n",
      "  a2=(a2+a3);\n",
      "  a1=(a1-a2);\n",
      "  a2=arg[2] ? arg[2][0] : 0;\n",
      "  a1=(a1/a2);\n",
      "  if (res[0]!=0) res[0][1]=a1;\n",
      "  return 0;\n",
      "}\n",
      "\n",
      "CASADI_SYMBOL_EXPORT int rhs(const casadi_real** arg, casadi_real** res, casadi_int* iw, casadi_real* w, void* mem){\n",
      "  return casadi_f0(arg, res, iw, w, mem);\n",
      "}\n",
      "\n",
      "CASADI_SYMBOL_EXPORT void rhs_incref(void) {\n",
      "}\n",
      "\n",
      "CASADI_SYMBOL_EXPORT void rhs_decref(void) {\n",
      "}\n",
      "\n",
      "CASADI_SYMBOL_EXPORT casadi_int rhs_n_in(void) { return 3;}\n",
      "\n",
      "CASADI_SYMBOL_EXPORT casadi_int rhs_n_out(void) { return 1;}\n",
      "\n",
      "CASADI_SYMBOL_EXPORT const char* rhs_name_in(casadi_int i){\n",
      "  switch (i) {\n",
      "    case 0: return \"x\";\n",
      "    case 1: return \"u\";\n",
      "    case 2: return \"p\";\n",
      "    default: return 0;\n",
      "  }\n",
      "}\n",
      "\n",
      "CASADI_SYMBOL_EXPORT const char* rhs_name_out(casadi_int i){\n",
      "  switch (i) {\n",
      "    case 0: return \"x_dot\";\n",
      "    default: return 0;\n",
      "  }\n",
      "}\n",
      "\n",
      "CASADI_SYMBOL_EXPORT const casadi_int* rhs_sparsity_in(casadi_int i) {\n",
      "  switch (i) {\n",
      "    case 0: return casadi_s0;\n",
      "    case 1: return casadi_s1;\n",
      "    case 2: return casadi_s2;\n",
      "    default: return 0;\n",
      "  }\n",
      "}\n",
      "\n",
      "CASADI_SYMBOL_EXPORT const casadi_int* rhs_sparsity_out(casadi_int i) {\n",
      "  switch (i) {\n",
      "    case 0: return casadi_s0;\n",
      "    default: return 0;\n",
      "  }\n",
      "}\n",
      "\n",
      "CASADI_SYMBOL_EXPORT int rhs_work(casadi_int *sz_arg, casadi_int* sz_res, casadi_int *sz_iw, casadi_int *sz_w) {\n",
      "  if (sz_arg) *sz_arg = 3;\n",
      "  if (sz_res) *sz_res = 1;\n",
      "  if (sz_iw) *sz_iw = 0;\n",
      "  if (sz_w) *sz_w = 0;\n",
      "  return 0;\n",
      "}\n",
      "\n",
      "\n",
      "#ifdef __cplusplus\n",
      "} /* extern \"C\" */\n",
      "#endif\n"
     ]
    }
   ],
   "source": [
    "f_rhs.generate('rhs.c')\n",
    "!cat rhs.c"
   ]
  },
  {
   "cell_type": "code",
   "execution_count": 108,
   "metadata": {},
   "outputs": [
    {
     "data": {
      "image/png": "[encoded data removed]",
      "text/plain": [
       "<Figure size 432x288 with 1 Axes>"
      ]
     },
     "metadata": {
      "needs_background": "light"
     },
     "output_type": "display_data"
    }
   ],
   "source": [
    "s = control.TransferFunction([1, 0], [0, 1])\n",
    "H = (s + 2)\n",
    "control.rlocus(H*sys);"
   ]
  },
  {
   "cell_type": "code",
   "execution_count": 107,
   "metadata": {},
   "outputs": [
    {
     "data": {
      "text/latex": [
       "$$\\frac{s + 2}{s^2 + 2 s + 4}$$"
      ],
      "text/plain": [
       "\n",
       "    s + 2\n",
       "-------------\n",
       "s^2 + 2 s + 4"
      ]
     },
     "execution_count": 107,
     "metadata": {},
     "output_type": "execute_result"
    }
   ],
   "source": [
    "H*sys"
   ]
  }
 ],
 "metadata": {
  "kernelspec": {
   "display_name": "Python 3",
   "language": "python",
   "name": "python3"
  },
  "language_info": {
   "codemirror_mode": {
    "name": "ipython",
    "version": 3
   },
   "file_extension": ".py",
   "mimetype": "text/x-python",
   "name": "python",
   "nbconvert_exporter": "python",
   "pygments_lexer": "ipython3",
   "version": "3.7.3"
  }
 },
 "nbformat": 4,
 "nbformat_minor": 4
}
