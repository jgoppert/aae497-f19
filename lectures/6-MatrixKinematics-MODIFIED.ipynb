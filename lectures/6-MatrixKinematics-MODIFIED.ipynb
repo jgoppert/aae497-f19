{
 "cells": [
  {
   "cell_type": "code",
   "execution_count": 2,
   "metadata": {},
   "outputs": [
    {
     "ename": "ModuleNotFoundError",
     "evalue": "No module named 'pyecca'",
     "output_type": "error",
     "traceback": [
      "\u001b[0;31m---------------------------------------------------------------------------\u001b[0m",
      "\u001b[0;31mModuleNotFoundError\u001b[0m                       Traceback (most recent call last)",
      "\u001b[0;32m<ipython-input-2-d41e3b062166>\u001b[0m in \u001b[0;36m<module>\u001b[0;34m\u001b[0m\n\u001b[1;32m      2\u001b[0m \u001b[0;32mimport\u001b[0m \u001b[0msys\u001b[0m\u001b[0;34m\u001b[0m\u001b[0;34m\u001b[0m\u001b[0m\n\u001b[1;32m      3\u001b[0m \u001b[0msys\u001b[0m\u001b[0;34m.\u001b[0m\u001b[0mpath\u001b[0m\u001b[0;34m.\u001b[0m\u001b[0minsert\u001b[0m\u001b[0;34m(\u001b[0m\u001b[0;36m0\u001b[0m\u001b[0;34m,\u001b[0m \u001b[0;34m'../python/pyecca/'\u001b[0m\u001b[0;34m)\u001b[0m\u001b[0;34m\u001b[0m\u001b[0;34m\u001b[0m\u001b[0m\n\u001b[0;32m----> 4\u001b[0;31m \u001b[0;32mfrom\u001b[0m \u001b[0mpyecca\u001b[0m\u001b[0;34m.\u001b[0m\u001b[0mlie\u001b[0m \u001b[0;32mimport\u001b[0m \u001b[0mso3\u001b[0m\u001b[0;34m\u001b[0m\u001b[0;34m\u001b[0m\u001b[0m\n\u001b[0m\u001b[1;32m      5\u001b[0m \u001b[0;32mfrom\u001b[0m \u001b[0mpyecca\u001b[0m\u001b[0;34m.\u001b[0m\u001b[0mutil\u001b[0m \u001b[0;32mimport\u001b[0m \u001b[0mrk4\u001b[0m\u001b[0;34m\u001b[0m\u001b[0;34m\u001b[0m\u001b[0m\n\u001b[1;32m      6\u001b[0m \u001b[0;34m\u001b[0m\u001b[0m\n",
      "\u001b[0;31mModuleNotFoundError\u001b[0m: No module named 'pyecca'"
     ]
    }
   ],
   "source": [
    "import casadi as ca\n",
    "import sys\n",
    "sys.path.insert(0, '../python/pyecca/')\n",
    "from pyecca.lie import so3\n",
    "from pyecca.util import rk4\n",
    "\n",
    "from IPython.display import Image\n",
    "from casadi.tools.graph import dotgraph\n",
    "\n",
    "def draw_graph(expr):\n",
    "    return Image(dotgraph(expr).create_png())"
   ]
  },
  {
   "cell_type": "markdown",
   "metadata": {},
   "source": [
    "$ ^e\\dfrac{d}{dt}(mv) = F$ Newton's 2nd law. Derivative of linear momentum with respect to the inertial frame is equal to the force applied on a rigid body.\n",
    "\n",
    "$ ^e\\dfrac{d}{dt}(J^e\\omega^b) = M$ Newton's 2nd law (angular cersion). Derivative of the angular momentum with respect to the inertial frame is equal to the moment applied on the rigid body."
   ]
  },
  {
   "cell_type": "markdown",
   "metadata": {},
   "source": [
    "$\\dot{m} v + m \\dfrac{^ed}{dt} = A$"
   ]
  },
  {
   "cell_type": "markdown",
   "metadata": {},
   "source": [
    "$\\dot{m} v_e + m a_e = A$"
   ]
  },
  {
   "cell_type": "code",
   "execution_count": 4,
   "metadata": {},
   "outputs": [
    {
     "ename": "NameError",
     "evalue": "name 'so3' is not defined",
     "output_type": "error",
     "traceback": [
      "\u001b[0;31m---------------------------------------------------------------------------\u001b[0m",
      "\u001b[0;31mNameError\u001b[0m                                 Traceback (most recent call last)",
      "\u001b[0;32m<ipython-input-4-cf8d162759cd>\u001b[0m in \u001b[0;36m<module>\u001b[0;34m\u001b[0m\n\u001b[1;32m     44\u001b[0m \u001b[0mp0\u001b[0m \u001b[0;34m=\u001b[0m \u001b[0mca\u001b[0m\u001b[0;34m.\u001b[0m\u001b[0mvertcat\u001b[0m\u001b[0;34m(\u001b[0m\u001b[0;36m9.8\u001b[0m\u001b[0;34m,\u001b[0m \u001b[0;36m1\u001b[0m\u001b[0;34m,\u001b[0m \u001b[0;36m1\u001b[0m\u001b[0;34m,\u001b[0m \u001b[0;36m1\u001b[0m\u001b[0;34m,\u001b[0m \u001b[0;36m0.1\u001b[0m\u001b[0;34m,\u001b[0m \u001b[0;36m350\u001b[0m\u001b[0;34m)\u001b[0m\u001b[0;34m\u001b[0m\u001b[0;34m\u001b[0m\u001b[0m\n\u001b[1;32m     45\u001b[0m \u001b[0;31m# x: omega_b, q_nb, v_b, p_n, m\u001b[0m\u001b[0;34m\u001b[0m\u001b[0;34m\u001b[0m\u001b[0;34m\u001b[0m\u001b[0m\n\u001b[0;32m---> 46\u001b[0;31m \u001b[0mx0\u001b[0m \u001b[0;34m=\u001b[0m \u001b[0mca\u001b[0m\u001b[0;34m.\u001b[0m\u001b[0mvertcat\u001b[0m\u001b[0;34m(\u001b[0m\u001b[0;36m0\u001b[0m\u001b[0;34m,\u001b[0m \u001b[0;36m0\u001b[0m\u001b[0;34m,\u001b[0m \u001b[0;36m0\u001b[0m\u001b[0;34m,\u001b[0m \u001b[0mso3\u001b[0m\u001b[0;34m.\u001b[0m\u001b[0mMrp\u001b[0m\u001b[0;34m.\u001b[0m\u001b[0mfrom_euler\u001b[0m\u001b[0;34m(\u001b[0m\u001b[0mca\u001b[0m\u001b[0;34m.\u001b[0m\u001b[0mvertcat\u001b[0m\u001b[0;34m(\u001b[0m\u001b[0;36m0\u001b[0m\u001b[0;34m,\u001b[0m \u001b[0;36m0\u001b[0m\u001b[0;34m,\u001b[0m \u001b[0;36m0\u001b[0m\u001b[0;34m)\u001b[0m\u001b[0;34m)\u001b[0m\u001b[0;34m,\u001b[0m \u001b[0;36m0\u001b[0m\u001b[0;34m,\u001b[0m \u001b[0;36m0\u001b[0m\u001b[0;34m,\u001b[0m \u001b[0;36m0\u001b[0m\u001b[0;34m,\u001b[0m \u001b[0;36m0\u001b[0m\u001b[0;34m,\u001b[0m \u001b[0;36m0\u001b[0m\u001b[0;34m,\u001b[0m \u001b[0;36m0\u001b[0m\u001b[0;34m,\u001b[0m \u001b[0;36m1\u001b[0m\u001b[0;34m)\u001b[0m\u001b[0;34m\u001b[0m\u001b[0;34m\u001b[0m\u001b[0m\n\u001b[0m\u001b[1;32m     47\u001b[0m \u001b[0mu0\u001b[0m \u001b[0;34m=\u001b[0m \u001b[0mca\u001b[0m\u001b[0;34m.\u001b[0m\u001b[0mvertcat\u001b[0m\u001b[0;34m(\u001b[0m\u001b[0;36m0.2\u001b[0m\u001b[0;34m)\u001b[0m\u001b[0;34m\u001b[0m\u001b[0;34m\u001b[0m\u001b[0m\n\u001b[1;32m     48\u001b[0m \u001b[0mrhs\u001b[0m \u001b[0;34m=\u001b[0m \u001b[0mrocket_rhs\u001b[0m\u001b[0;34m(\u001b[0m\u001b[0;34m)\u001b[0m\u001b[0;34m\u001b[0m\u001b[0;34m\u001b[0m\u001b[0m\n",
      "\u001b[0;31mNameError\u001b[0m: name 'so3' is not defined"
     ]
    }
   ],
   "source": [
    "def rocket_rhs():\n",
    "    x = ca.SX.sym('x', 14)\n",
    "    u = ca.SX.sym('u', 1)\n",
    "    p = ca.SX.sym('p', 6)\n",
    "\n",
    "    # State: x\n",
    "    omega_b = x[0:3]  # inertial angular velocity expressed in body frame\n",
    "    r_nb = x[3:7]  # modified rodrigues parameters\n",
    "    v_b = x[7:10]  # body veloctiy\n",
    "    p_n = x[10:13]  # positon in nav frame\n",
    "    m = x[13]\n",
    "    \n",
    "    # Input: u    \n",
    "    m_dot = u[0]\n",
    "    \n",
    "    # Parameters: p\n",
    "    g = p[0]  # gravity\n",
    "    Jx = p[1]  # moment of inertia\n",
    "    Jy = p[2]\n",
    "    Jz = p[3]\n",
    "    Jxz = p[4]\n",
    "    ve = p[5]\n",
    "\n",
    "    # Calculations\n",
    "    VT = ca.norm_2(v_b)\n",
    "    F_b = ca.vertcat(m_dot*ve, 0, 0)\n",
    "    M_b = ca.vertcat(0, 0, 0)\n",
    "    J_b = ca.SX.zeros(3, 3)\n",
    "    J_b[0, 0] = Jx\n",
    "    J_b[1, 1] = Jy\n",
    "    J_b[2, 2] = Jz\n",
    "    J_b[0, 2] = J_b[2, 0] = Jxz\n",
    "    C_nb = so3.Dcm.from_mrp(r_nb)\n",
    "    g_n = ca.vertcat(0, 0, g)\n",
    "    v_n = ca.mtimes(C_nb, v_b)\n",
    "    \n",
    "    return ca.Function('rhs', [x, u, p], [ca.vertcat(\n",
    "        ca.mtimes(ca.inv(J_b), M_b - ca.cross(omega_b, ca.mtimes(J_b, omega_b))),\n",
    "        so3.Mrp.kinematics(r_nb, omega_b),\n",
    "        F_b/m - m_dot*v_b/m - ca.cross(omega_b, v_b),\n",
    "        ca.mtimes(C_nb, v_b))], ['x', 'u', 'p'], ['rhs'])\n",
    "\n",
    "\n",
    "p0 = ca.vertcat(9.8, 1, 1, 1, 0.1, 350)\n",
    "# x: omega_b, q_nb, v_b, p_n, m\n",
    "x0 = ca.vertcat(0, 0, 0, so3.Mrp.from_euler(ca.vertcat(0, 0, 0)), 0, 0, 0, 0, 0, 0, 1)\n",
    "u0 = ca.vertcat(0.2)\n",
    "rhs = rocket_rhs()\n",
    "\n",
    "x = ca.SX.sym('x', 14)\n",
    "u = ca.SX.sym('u', 1)\n",
    "p = ca.SX.sym('p', 6)\n",
    "rhs(x, u, p)"
   ]
  },
  {
   "cell_type": "code",
   "execution_count": null,
   "metadata": {},
   "outputs": [],
   "source": [
    "draw_graph(rhs(x, u, p))"
   ]
  },
  {
   "cell_type": "code",
   "execution_count": null,
   "metadata": {},
   "outputs": [],
   "source": []
  }
 ],
 "metadata": {
  "kernelspec": {
   "display_name": "Python 3",
   "language": "python",
   "name": "python3"
  },
  "language_info": {
   "codemirror_mode": {
    "name": "ipython",
    "version": 3
   },
   "file_extension": ".py",
   "mimetype": "text/x-python",
   "name": "python",
   "nbconvert_exporter": "python",
   "pygments_lexer": "ipython3",
   "version": "3.7.3"
  }
 },
 "nbformat": 4,
 "nbformat_minor": 4
}
