{
 "cells": [
  {
   "cell_type": "code",
   "execution_count": 1,
   "metadata": {},
   "outputs": [],
   "source": [
    "import casadi as ca\n",
    "import numpy as np\n",
    "import matplotlib.pyplot as plt\n",
    "import control\n",
    "import collections\n",
    "import pandas as pd "
   ]
  },
  {
   "cell_type": "code",
   "execution_count": 2,
   "metadata": {},
   "outputs": [
    {
     "data": {
      "text/html": [
       "<div>\n",
       "<style scoped>\n",
       "    .dataframe tbody tr th:only-of-type {\n",
       "        vertical-align: middle;\n",
       "    }\n",
       "\n",
       "    .dataframe tbody tr th {\n",
       "        vertical-align: top;\n",
       "    }\n",
       "\n",
       "    .dataframe thead th {\n",
       "        text-align: right;\n",
       "    }\n",
       "</style>\n",
       "<table border=\"1\" class=\"dataframe\">\n",
       "  <thead>\n",
       "    <tr style=\"text-align: right;\">\n",
       "      <th></th>\n",
       "      <th>ESC signal (µs)</th>\n",
       "      <th>Servo 1 (µs)</th>\n",
       "      <th>Servo 2 (µs)</th>\n",
       "      <th>Servo 3 (µs)</th>\n",
       "      <th>AccX (g)</th>\n",
       "      <th>AccY (g)</th>\n",
       "      <th>AccZ (g)</th>\n",
       "      <th>Torque (N·m)</th>\n",
       "      <th>Thrust (kgf)</th>\n",
       "      <th>Voltage (V)</th>\n",
       "      <th>Current (A)</th>\n",
       "      <th>Motor Electrical Speed (RPM)</th>\n",
       "      <th>Motor Optical Speed (RPM)</th>\n",
       "      <th>Electrical Power (W)</th>\n",
       "      <th>Mechanical Power (W)</th>\n",
       "      <th>Motor Efficiency (%)</th>\n",
       "      <th>Propeller Mech. Efficiency (kgf/W)</th>\n",
       "      <th>Overall Efficiency (kgf/W)</th>\n",
       "      <th>Vibration (g)</th>\n",
       "      <th>App message</th>\n",
       "    </tr>\n",
       "    <tr>\n",
       "      <th>Time (s)</th>\n",
       "      <th></th>\n",
       "      <th></th>\n",
       "      <th></th>\n",
       "      <th></th>\n",
       "      <th></th>\n",
       "      <th></th>\n",
       "      <th></th>\n",
       "      <th></th>\n",
       "      <th></th>\n",
       "      <th></th>\n",
       "      <th></th>\n",
       "      <th></th>\n",
       "      <th></th>\n",
       "      <th></th>\n",
       "      <th></th>\n",
       "      <th></th>\n",
       "      <th></th>\n",
       "      <th></th>\n",
       "      <th></th>\n",
       "      <th></th>\n",
       "    </tr>\n",
       "  </thead>\n",
       "  <tbody>\n",
       "    <tr>\n",
       "      <td>0.000000</td>\n",
       "      <td>1000</td>\n",
       "      <td>NaN</td>\n",
       "      <td>NaN</td>\n",
       "      <td>NaN</td>\n",
       "      <td>-1.0625</td>\n",
       "      <td>0.000000</td>\n",
       "      <td>0.042969</td>\n",
       "      <td>NaN</td>\n",
       "      <td>NaN</td>\n",
       "      <td>12.227713</td>\n",
       "      <td>-0.005257</td>\n",
       "      <td>0</td>\n",
       "      <td>0</td>\n",
       "      <td>0.064285</td>\n",
       "      <td>NaN</td>\n",
       "      <td>0.0</td>\n",
       "      <td>NaN</td>\n",
       "      <td>NaN</td>\n",
       "      <td>0.082031</td>\n",
       "      <td>NaN</td>\n",
       "    </tr>\n",
       "    <tr>\n",
       "      <td>0.000000</td>\n",
       "      <td>1000</td>\n",
       "      <td>NaN</td>\n",
       "      <td>NaN</td>\n",
       "      <td>NaN</td>\n",
       "      <td>-1.0625</td>\n",
       "      <td>0.027344</td>\n",
       "      <td>0.007812</td>\n",
       "      <td>NaN</td>\n",
       "      <td>0.000294</td>\n",
       "      <td>12.227912</td>\n",
       "      <td>-0.004669</td>\n",
       "      <td>0</td>\n",
       "      <td>0</td>\n",
       "      <td>0.057093</td>\n",
       "      <td>NaN</td>\n",
       "      <td>0.0</td>\n",
       "      <td>NaN</td>\n",
       "      <td>NaN</td>\n",
       "      <td>0.082031</td>\n",
       "      <td>NaN</td>\n",
       "    </tr>\n",
       "    <tr>\n",
       "      <td>0.022555</td>\n",
       "      <td>1000</td>\n",
       "      <td>NaN</td>\n",
       "      <td>NaN</td>\n",
       "      <td>NaN</td>\n",
       "      <td>-1.0625</td>\n",
       "      <td>-0.011719</td>\n",
       "      <td>-0.003906</td>\n",
       "      <td>NaN</td>\n",
       "      <td>NaN</td>\n",
       "      <td>12.227754</td>\n",
       "      <td>-0.002706</td>\n",
       "      <td>0</td>\n",
       "      <td>0</td>\n",
       "      <td>0.033094</td>\n",
       "      <td>NaN</td>\n",
       "      <td>0.0</td>\n",
       "      <td>NaN</td>\n",
       "      <td>NaN</td>\n",
       "      <td>0.082031</td>\n",
       "      <td>NaN</td>\n",
       "    </tr>\n",
       "    <tr>\n",
       "      <td>0.047755</td>\n",
       "      <td>1000</td>\n",
       "      <td>NaN</td>\n",
       "      <td>NaN</td>\n",
       "      <td>NaN</td>\n",
       "      <td>-1.0625</td>\n",
       "      <td>0.007812</td>\n",
       "      <td>0.021484</td>\n",
       "      <td>NaN</td>\n",
       "      <td>NaN</td>\n",
       "      <td>12.227789</td>\n",
       "      <td>-0.003262</td>\n",
       "      <td>0</td>\n",
       "      <td>0</td>\n",
       "      <td>0.039890</td>\n",
       "      <td>NaN</td>\n",
       "      <td>0.0</td>\n",
       "      <td>NaN</td>\n",
       "      <td>NaN</td>\n",
       "      <td>0.082031</td>\n",
       "      <td>NaN</td>\n",
       "    </tr>\n",
       "    <tr>\n",
       "      <td>0.072535</td>\n",
       "      <td>1000</td>\n",
       "      <td>NaN</td>\n",
       "      <td>NaN</td>\n",
       "      <td>NaN</td>\n",
       "      <td>-1.0625</td>\n",
       "      <td>0.007812</td>\n",
       "      <td>0.021484</td>\n",
       "      <td>-0.00014</td>\n",
       "      <td>NaN</td>\n",
       "      <td>12.227820</td>\n",
       "      <td>-0.001756</td>\n",
       "      <td>0</td>\n",
       "      <td>0</td>\n",
       "      <td>0.021468</td>\n",
       "      <td>0.0</td>\n",
       "      <td>0.0</td>\n",
       "      <td>0.0</td>\n",
       "      <td>0.0</td>\n",
       "      <td>0.082031</td>\n",
       "      <td>NaN</td>\n",
       "    </tr>\n",
       "    <tr>\n",
       "      <td>...</td>\n",
       "      <td>...</td>\n",
       "      <td>...</td>\n",
       "      <td>...</td>\n",
       "      <td>...</td>\n",
       "      <td>...</td>\n",
       "      <td>...</td>\n",
       "      <td>...</td>\n",
       "      <td>...</td>\n",
       "      <td>...</td>\n",
       "      <td>...</td>\n",
       "      <td>...</td>\n",
       "      <td>...</td>\n",
       "      <td>...</td>\n",
       "      <td>...</td>\n",
       "      <td>...</td>\n",
       "      <td>...</td>\n",
       "      <td>...</td>\n",
       "      <td>...</td>\n",
       "      <td>...</td>\n",
       "      <td>...</td>\n",
       "    </tr>\n",
       "    <tr>\n",
       "      <td>152.556635</td>\n",
       "      <td>1000</td>\n",
       "      <td>NaN</td>\n",
       "      <td>NaN</td>\n",
       "      <td>NaN</td>\n",
       "      <td>-1.0625</td>\n",
       "      <td>-0.001953</td>\n",
       "      <td>0.019531</td>\n",
       "      <td>NaN</td>\n",
       "      <td>NaN</td>\n",
       "      <td>12.022629</td>\n",
       "      <td>-0.000434</td>\n",
       "      <td>0</td>\n",
       "      <td>0</td>\n",
       "      <td>0.000000</td>\n",
       "      <td>NaN</td>\n",
       "      <td>0.0</td>\n",
       "      <td>NaN</td>\n",
       "      <td>NaN</td>\n",
       "      <td>0.087891</td>\n",
       "      <td>NaN</td>\n",
       "    </tr>\n",
       "    <tr>\n",
       "      <td>152.582630</td>\n",
       "      <td>1000</td>\n",
       "      <td>NaN</td>\n",
       "      <td>NaN</td>\n",
       "      <td>NaN</td>\n",
       "      <td>-1.0625</td>\n",
       "      <td>0.011719</td>\n",
       "      <td>-0.001953</td>\n",
       "      <td>NaN</td>\n",
       "      <td>NaN</td>\n",
       "      <td>12.022777</td>\n",
       "      <td>-0.001756</td>\n",
       "      <td>0</td>\n",
       "      <td>0</td>\n",
       "      <td>0.021107</td>\n",
       "      <td>NaN</td>\n",
       "      <td>0.0</td>\n",
       "      <td>NaN</td>\n",
       "      <td>NaN</td>\n",
       "      <td>0.087891</td>\n",
       "      <td>NaN</td>\n",
       "    </tr>\n",
       "    <tr>\n",
       "      <td>152.609160</td>\n",
       "      <td>1000</td>\n",
       "      <td>NaN</td>\n",
       "      <td>NaN</td>\n",
       "      <td>NaN</td>\n",
       "      <td>-1.0625</td>\n",
       "      <td>0.005859</td>\n",
       "      <td>0.007812</td>\n",
       "      <td>NaN</td>\n",
       "      <td>0.000368</td>\n",
       "      <td>12.023013</td>\n",
       "      <td>-0.002532</td>\n",
       "      <td>0</td>\n",
       "      <td>0</td>\n",
       "      <td>0.030444</td>\n",
       "      <td>NaN</td>\n",
       "      <td>0.0</td>\n",
       "      <td>NaN</td>\n",
       "      <td>NaN</td>\n",
       "      <td>0.087891</td>\n",
       "      <td>NaN</td>\n",
       "    </tr>\n",
       "    <tr>\n",
       "      <td>152.632090</td>\n",
       "      <td>1000</td>\n",
       "      <td>NaN</td>\n",
       "      <td>NaN</td>\n",
       "      <td>NaN</td>\n",
       "      <td>-1.0625</td>\n",
       "      <td>0.023438</td>\n",
       "      <td>0.000000</td>\n",
       "      <td>NaN</td>\n",
       "      <td>NaN</td>\n",
       "      <td>12.023390</td>\n",
       "      <td>-0.001974</td>\n",
       "      <td>0</td>\n",
       "      <td>0</td>\n",
       "      <td>0.023733</td>\n",
       "      <td>NaN</td>\n",
       "      <td>0.0</td>\n",
       "      <td>NaN</td>\n",
       "      <td>NaN</td>\n",
       "      <td>0.087891</td>\n",
       "      <td>NaN</td>\n",
       "    </tr>\n",
       "    <tr>\n",
       "      <td>152.657425</td>\n",
       "      <td>1000</td>\n",
       "      <td>NaN</td>\n",
       "      <td>NaN</td>\n",
       "      <td>NaN</td>\n",
       "      <td>-1.0625</td>\n",
       "      <td>-0.001953</td>\n",
       "      <td>0.042969</td>\n",
       "      <td>NaN</td>\n",
       "      <td>NaN</td>\n",
       "      <td>12.023937</td>\n",
       "      <td>0.000231</td>\n",
       "      <td>0</td>\n",
       "      <td>0</td>\n",
       "      <td>0.000000</td>\n",
       "      <td>NaN</td>\n",
       "      <td>0.0</td>\n",
       "      <td>NaN</td>\n",
       "      <td>NaN</td>\n",
       "      <td>0.087891</td>\n",
       "      <td>NaN</td>\n",
       "    </tr>\n",
       "  </tbody>\n",
       "</table>\n",
       "<p>5997 rows × 20 columns</p>\n",
       "</div>"
      ],
      "text/plain": [
       "            ESC signal (µs)  Servo 1 (µs)  Servo 2 (µs)  Servo 3 (µs)  \\\n",
       "Time (s)                                                                \n",
       "0.000000               1000           NaN           NaN           NaN   \n",
       "0.000000               1000           NaN           NaN           NaN   \n",
       "0.022555               1000           NaN           NaN           NaN   \n",
       "0.047755               1000           NaN           NaN           NaN   \n",
       "0.072535               1000           NaN           NaN           NaN   \n",
       "...                     ...           ...           ...           ...   \n",
       "152.556635             1000           NaN           NaN           NaN   \n",
       "152.582630             1000           NaN           NaN           NaN   \n",
       "152.609160             1000           NaN           NaN           NaN   \n",
       "152.632090             1000           NaN           NaN           NaN   \n",
       "152.657425             1000           NaN           NaN           NaN   \n",
       "\n",
       "            AccX (g)  AccY (g)  AccZ (g)  Torque (N·m)  Thrust (kgf)  \\\n",
       "Time (s)                                                               \n",
       "0.000000     -1.0625  0.000000  0.042969           NaN           NaN   \n",
       "0.000000     -1.0625  0.027344  0.007812           NaN      0.000294   \n",
       "0.022555     -1.0625 -0.011719 -0.003906           NaN           NaN   \n",
       "0.047755     -1.0625  0.007812  0.021484           NaN           NaN   \n",
       "0.072535     -1.0625  0.007812  0.021484      -0.00014           NaN   \n",
       "...              ...       ...       ...           ...           ...   \n",
       "152.556635   -1.0625 -0.001953  0.019531           NaN           NaN   \n",
       "152.582630   -1.0625  0.011719 -0.001953           NaN           NaN   \n",
       "152.609160   -1.0625  0.005859  0.007812           NaN      0.000368   \n",
       "152.632090   -1.0625  0.023438  0.000000           NaN           NaN   \n",
       "152.657425   -1.0625 -0.001953  0.042969           NaN           NaN   \n",
       "\n",
       "            Voltage (V)  Current (A)  Motor Electrical Speed (RPM)  \\\n",
       "Time (s)                                                             \n",
       "0.000000      12.227713    -0.005257                             0   \n",
       "0.000000      12.227912    -0.004669                             0   \n",
       "0.022555      12.227754    -0.002706                             0   \n",
       "0.047755      12.227789    -0.003262                             0   \n",
       "0.072535      12.227820    -0.001756                             0   \n",
       "...                 ...          ...                           ...   \n",
       "152.556635    12.022629    -0.000434                             0   \n",
       "152.582630    12.022777    -0.001756                             0   \n",
       "152.609160    12.023013    -0.002532                             0   \n",
       "152.632090    12.023390    -0.001974                             0   \n",
       "152.657425    12.023937     0.000231                             0   \n",
       "\n",
       "            Motor Optical Speed (RPM)  Electrical Power (W)  \\\n",
       "Time (s)                                                      \n",
       "0.000000                            0              0.064285   \n",
       "0.000000                            0              0.057093   \n",
       "0.022555                            0              0.033094   \n",
       "0.047755                            0              0.039890   \n",
       "0.072535                            0              0.021468   \n",
       "...                               ...                   ...   \n",
       "152.556635                          0              0.000000   \n",
       "152.582630                          0              0.021107   \n",
       "152.609160                          0              0.030444   \n",
       "152.632090                          0              0.023733   \n",
       "152.657425                          0              0.000000   \n",
       "\n",
       "            Mechanical Power (W)  Motor Efficiency (%)  \\\n",
       "Time (s)                                                 \n",
       "0.000000                     NaN                   0.0   \n",
       "0.000000                     NaN                   0.0   \n",
       "0.022555                     NaN                   0.0   \n",
       "0.047755                     NaN                   0.0   \n",
       "0.072535                     0.0                   0.0   \n",
       "...                          ...                   ...   \n",
       "152.556635                   NaN                   0.0   \n",
       "152.582630                   NaN                   0.0   \n",
       "152.609160                   NaN                   0.0   \n",
       "152.632090                   NaN                   0.0   \n",
       "152.657425                   NaN                   0.0   \n",
       "\n",
       "            Propeller Mech. Efficiency (kgf/W)  Overall Efficiency (kgf/W)  \\\n",
       "Time (s)                                                                     \n",
       "0.000000                                   NaN                         NaN   \n",
       "0.000000                                   NaN                         NaN   \n",
       "0.022555                                   NaN                         NaN   \n",
       "0.047755                                   NaN                         NaN   \n",
       "0.072535                                   0.0                         0.0   \n",
       "...                                        ...                         ...   \n",
       "152.556635                                 NaN                         NaN   \n",
       "152.582630                                 NaN                         NaN   \n",
       "152.609160                                 NaN                         NaN   \n",
       "152.632090                                 NaN                         NaN   \n",
       "152.657425                                 NaN                         NaN   \n",
       "\n",
       "            Vibration (g) App message  \n",
       "Time (s)                               \n",
       "0.000000         0.082031         NaN  \n",
       "0.000000         0.082031         NaN  \n",
       "0.022555         0.082031         NaN  \n",
       "0.047755         0.082031         NaN  \n",
       "0.072535         0.082031         NaN  \n",
       "...                   ...         ...  \n",
       "152.556635       0.087891         NaN  \n",
       "152.582630       0.087891         NaN  \n",
       "152.609160       0.087891         NaN  \n",
       "152.632090       0.087891         NaN  \n",
       "152.657425       0.087891         NaN  \n",
       "\n",
       "[5997 rows x 20 columns]"
      ]
     },
     "execution_count": 2,
     "metadata": {},
     "output_type": "execute_result"
    }
   ],
   "source": [
    "front_data = pd.read_csv('Rear_Motor_Final.csv', index_col=0, usecols=range(21))\n",
    "front_data"
   ]
  },
  {
   "cell_type": "code",
   "execution_count": null,
   "metadata": {},
   "outputs": [],
   "source": []
  },
  {
   "cell_type": "code",
   "execution_count": 3,
   "metadata": {},
   "outputs": [],
   "source": [
    "# creating variables from colom elements\n",
    "thrust = front_data['Thrust (kgf)']\n",
    "rpm = front_data['Motor Electrical Speed (RPM)']\n",
    "pwm = front_data['ESC signal (µs)']\n",
    "torque = front_data['Torque (N·m)']"
   ]
  },
  {
   "cell_type": "code",
   "execution_count": 4,
   "metadata": {},
   "outputs": [],
   "source": [
    "#Values\n",
    "rho = 1.225 #kg/m^3\n",
    "r = 0.06985/2 #prop diam in m \n",
    "s = np.pi*r*r"
   ]
  },
  {
   "cell_type": "code",
   "execution_count": 5,
   "metadata": {},
   "outputs": [],
   "source": [
    "#math to solve ct\n",
    "q = 0.5*rho*(rpm*(2*np.pi/60)*r)**2\n",
    "ct = thrust*(9.81)/(q*s)"
   ]
  },
  {
   "cell_type": "code",
   "execution_count": 6,
   "metadata": {},
   "outputs": [],
   "source": [
    "#math to nodimensionalize pwm aka voltage relation\n",
    "pwm_v = (pwm/1000)-1"
   ]
  },
  {
   "cell_type": "code",
   "execution_count": 7,
   "metadata": {},
   "outputs": [
    {
     "data": {
      "text/plain": [
       "[<matplotlib.lines.Line2D at 0x7f4dd5b914e0>]"
      ]
     },
     "execution_count": 7,
     "metadata": {},
     "output_type": "execute_result"
    },
    {
     "data": {
      "image/png": "[encoded data removed]",
      "text/plain": [
       "<Figure size 432x288 with 1 Axes>"
      ]
     },
     "metadata": {
      "needs_background": "light"
     },
     "output_type": "display_data"
    }
   ],
   "source": [
    "plt.plot(thrust*9.81,'o')"
   ]
  },
  {
   "cell_type": "code",
   "execution_count": 8,
   "metadata": {},
   "outputs": [
    {
     "data": {
      "text/plain": [
       "[<matplotlib.lines.Line2D at 0x7f4dd5b37978>]"
      ]
     },
     "execution_count": 8,
     "metadata": {},
     "output_type": "execute_result"
    },
    {
     "data": {
      "image/png": "[encoded data removed]",
      "text/plain": [
       "<Figure size 432x288 with 1 Axes>"
      ]
     },
     "metadata": {
      "needs_background": "light"
     },
     "output_type": "display_data"
    }
   ],
   "source": [
    "plt.plot(rpm,thrust,'o')"
   ]
  },
  {
   "cell_type": "code",
   "execution_count": 28,
   "metadata": {},
   "outputs": [
    {
     "data": {
      "text/plain": [
       "[<matplotlib.lines.Line2D at 0x7f4dd57fa320>]"
      ]
     },
     "execution_count": 28,
     "metadata": {},
     "output_type": "execute_result"
    },
    {
     "data": {
      "image/png": "[encoded data removed]",
      "text/plain": [
       "<Figure size 432x288 with 1 Axes>"
      ]
     },
     "metadata": {
      "needs_background": "light"
     },
     "output_type": "display_data"
    }
   ],
   "source": [
    "plt.plot(pwm_v,torque, 'o')"
   ]
  },
  {
   "cell_type": "code",
   "execution_count": 10,
   "metadata": {},
   "outputs": [
    {
     "data": {
      "text/plain": [
       "[<matplotlib.lines.Line2D at 0x7f4dd59ffc18>]"
      ]
     },
     "execution_count": 10,
     "metadata": {},
     "output_type": "execute_result"
    },
    {
     "data": {
      "image/png": "[encoded data removed]",
      "text/plain": [
       "<Figure size 432x288 with 1 Axes>"
      ]
     },
     "metadata": {
      "needs_background": "light"
     },
     "output_type": "display_data"
    }
   ],
   "source": [
    "#average of ct\n",
    "#ct = ct[500:3200]\n",
    "#pwm_v = pwm_v[500:3200]\n",
    "#num_ct = np.prod(ct.shape)\n",
    "plt.plot(pwm_v,ct, 'o')"
   ]
  },
  {
   "cell_type": "code",
   "execution_count": 30,
   "metadata": {},
   "outputs": [
    {
     "data": {
      "text/plain": [
       "Time (s)\n",
       "0.000000      inf\n",
       "0.000000      inf\n",
       "0.022555      inf\n",
       "0.047755      inf\n",
       "0.072535      inf\n",
       "             ... \n",
       "152.556635    inf\n",
       "152.582630    inf\n",
       "152.609160    inf\n",
       "152.632090    inf\n",
       "152.657425    inf\n",
       "Name: Motor Electrical Speed (RPM), Length: 5997, dtype: float64"
      ]
     },
     "execution_count": 30,
     "metadata": {},
     "output_type": "execute_result"
    }
   ],
   "source": [
    "ct.mean()\n",
    "torque.mean()*(9.81)/(q*s)"
   ]
  },
  {
   "cell_type": "code",
   "execution_count": 23,
   "metadata": {},
   "outputs": [],
   "source": [
    "ct = ct"
   ]
  },
  {
   "cell_type": "code",
   "execution_count": 24,
   "metadata": {},
   "outputs": [],
   "source": [
    "ct = ct[np.abs(ct-ct.mean()) <= (0.9*ct.std())]"
   ]
  },
  {
   "cell_type": "code",
   "execution_count": 25,
   "metadata": {},
   "outputs": [
    {
     "data": {
      "text/plain": [
       "329.02175235333834"
      ]
     },
     "execution_count": 25,
     "metadata": {},
     "output_type": "execute_result"
    }
   ],
   "source": [
    "q[12:78].mean()"
   ]
  },
  {
   "cell_type": "code",
   "execution_count": 26,
   "metadata": {},
   "outputs": [
    {
     "data": {
      "text/plain": [
       "0.003831975310674826"
      ]
     },
     "execution_count": 26,
     "metadata": {},
     "output_type": "execute_result"
    }
   ],
   "source": [
    "s"
   ]
  },
  {
   "cell_type": "code",
   "execution_count": 27,
   "metadata": {},
   "outputs": [
    {
     "data": {
      "text/plain": [
       "[<matplotlib.lines.Line2D at 0x7f4dd5891e48>]"
      ]
     },
     "execution_count": 27,
     "metadata": {},
     "output_type": "execute_result"
    },
    {
     "data": {
      "image/png": "[encoded data removed]",
      "text/plain": [
       "<Figure size 432x288 with 1 Axes>"
      ]
     },
     "metadata": {
      "needs_background": "light"
     },
     "output_type": "display_data"
    }
   ],
   "source": [
    "plt.plot(ct,'o')"
   ]
  },
  {
   "cell_type": "code",
   "execution_count": 17,
   "metadata": {},
   "outputs": [
    {
     "data": {
      "text/plain": [
       "nan"
      ]
     },
     "execution_count": 17,
     "metadata": {},
     "output_type": "execute_result"
    }
   ],
   "source": [
    "ct.mean()"
   ]
  },
  {
   "cell_type": "code",
   "execution_count": 18,
   "metadata": {},
   "outputs": [
    {
     "data": {
      "text/plain": [
       "nan"
      ]
     },
     "execution_count": 18,
     "metadata": {},
     "output_type": "execute_result"
    }
   ],
   "source": [
    "ct.max()"
   ]
  },
  {
   "cell_type": "code",
   "execution_count": 19,
   "metadata": {},
   "outputs": [
    {
     "data": {
      "text/plain": [
       "nan"
      ]
     },
     "execution_count": 19,
     "metadata": {},
     "output_type": "execute_result"
    }
   ],
   "source": [
    "ct.min()"
   ]
  },
  {
   "cell_type": "code",
   "execution_count": 20,
   "metadata": {},
   "outputs": [
    {
     "data": {
      "text/plain": [
       "[<matplotlib.lines.Line2D at 0x7f4dd5950710>]"
      ]
     },
     "execution_count": 20,
     "metadata": {},
     "output_type": "execute_result"
    },
    {
     "data": {
      "image/png": "[encoded data removed]",
      "text/plain": [
       "<Figure size 432x288 with 1 Axes>"
      ]
     },
     "metadata": {
      "needs_background": "light"
     },
     "output_type": "display_data"
    }
   ],
   "source": [
    "#torque section\n",
    "plt.plot(torque,'o')"
   ]
  },
  {
   "cell_type": "code",
   "execution_count": 21,
   "metadata": {},
   "outputs": [
    {
     "data": {
      "text/plain": [
       "[<matplotlib.lines.Line2D at 0x7f4dd58b5a90>]"
      ]
     },
     "execution_count": 21,
     "metadata": {},
     "output_type": "execute_result"
    },
    {
     "data": {
      "image/png": "[encoded data removed]",
      "text/plain": [
       "<Figure size 432x288 with 1 Axes>"
      ]
     },
     "metadata": {
      "needs_background": "light"
     },
     "output_type": "display_data"
    }
   ],
   "source": [
    "c_torque = torque/(q*s)\n",
    "plt.plot(c_torque,'o')"
   ]
  },
  {
   "cell_type": "code",
   "execution_count": 369,
   "metadata": {},
   "outputs": [],
   "source": [
    "c_torque = c_torque[12:78]\n",
    "c_torque = c_torque[np.abs(c_torque-c_torque.mean()) <= (0.9*c_torque.std())]"
   ]
  },
  {
   "cell_type": "code",
   "execution_count": 370,
   "metadata": {},
   "outputs": [
    {
     "data": {
      "text/plain": [
       "[<matplotlib.lines.Line2D at 0x7ff7e77053c8>]"
      ]
     },
     "execution_count": 370,
     "metadata": {},
     "output_type": "execute_result"
    },
    {
     "data": {
      "image/png": "[encoded data removed]",
      "text/plain": [
       "<Figure size 432x288 with 1 Axes>"
      ]
     },
     "metadata": {
      "needs_background": "light"
     },
     "output_type": "display_data"
    }
   ],
   "source": [
    "plt.plot(c_torque,'o')"
   ]
  },
  {
   "cell_type": "code",
   "execution_count": 371,
   "metadata": {},
   "outputs": [
    {
     "data": {
      "text/plain": [
       "0.00030081539232903776"
      ]
     },
     "execution_count": 371,
     "metadata": {},
     "output_type": "execute_result"
    }
   ],
   "source": [
    "c_torque.mean()"
   ]
  },
  {
   "cell_type": "code",
   "execution_count": 372,
   "metadata": {},
   "outputs": [
    {
     "data": {
      "text/plain": [
       "0.00026626914213022824"
      ]
     },
     "execution_count": 372,
     "metadata": {},
     "output_type": "execute_result"
    }
   ],
   "source": [
    "c_torque.min()"
   ]
  },
  {
   "cell_type": "code",
   "execution_count": 373,
   "metadata": {},
   "outputs": [
    {
     "data": {
      "text/plain": [
       "0.00032361114480061645"
      ]
     },
     "execution_count": 373,
     "metadata": {},
     "output_type": "execute_result"
    }
   ],
   "source": [
    "c_torque.max()"
   ]
  },
  {
   "cell_type": "code",
   "execution_count": 374,
   "metadata": {},
   "outputs": [
    {
     "data": {
      "text/plain": [
       "1.6005111058071664"
      ]
     },
     "execution_count": 374,
     "metadata": {},
     "output_type": "execute_result"
    }
   ],
   "source": [
    "trust_test = ct.mean()*q*s\n",
    "trust_test.mean()\n"
   ]
  },
  {
   "cell_type": "code",
   "execution_count": null,
   "metadata": {},
   "outputs": [],
   "source": []
  },
  {
   "cell_type": "code",
   "execution_count": null,
   "metadata": {},
   "outputs": [],
   "source": []
  },
  {
   "cell_type": "code",
   "execution_count": null,
   "metadata": {},
   "outputs": [],
   "source": []
  }
 ],
 "metadata": {
  "kernelspec": {
   "display_name": "Python 3",
   "language": "python",
   "name": "python3"
  },
  "language_info": {
   "codemirror_mode": {
    "name": "ipython",
    "version": 3
   },
   "file_extension": ".py",
   "mimetype": "text/x-python",
   "name": "python",
   "nbconvert_exporter": "python",
   "pygments_lexer": "ipython3",
   "version": "3.7.3"
  }
 },
 "nbformat": 4,
 "nbformat_minor": 4
}
