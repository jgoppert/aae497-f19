{
 "cells": [
  {
   "cell_type": "code",
   "execution_count": 1,
   "metadata": {},
   "outputs": [],
   "source": [
    "import casadi as ca\n",
    "import numpy as np"
   ]
  },
  {
   "cell_type": "code",
   "execution_count": 2,
   "metadata": {},
   "outputs": [],
   "source": [
    "CL0 = 0.0\n",
    "CLa = 2*np.pi\n",
    "rho = 1.225\n",
    "kclcd = 0.01\n",
    "CD0 = 0.0\n",
    "sf = 0.1  # area of fin\n",
    "r = 0.1  # radius of body\n",
    "sb = np.pi*r**2\n",
    "lf = 1.0  # distance from cg to fin\n",
    "\n",
    "df = ca.SX.sym('df')\n",
    "v = ca.SX.sym('v')\n",
    "q = 0.5*rho*v**2\n",
    "CL = CL0 + CLa*df\n",
    "CD = CD0 + kclcd*CL**2\n",
    "\n",
    "Lf = CD*q*sf\n",
    "Df = CD*q*sf\n",
    "\n",
    "CDb = 0.01\n",
    "Db = CDb*q*sb\n",
    "\n",
    "\n",
    "m_aero = lf*Lf"
   ]
  },
  {
   "cell_type": "code",
   "execution_count": null,
   "metadata": {},
   "outputs": [],
   "source": []
  }
 ],
 "metadata": {
  "kernelspec": {
   "display_name": "Python 3",
   "language": "python",
   "name": "python3"
  },
  "language_info": {
   "codemirror_mode": {
    "name": "ipython",
    "version": 3
   },
   "file_extension": ".py",
   "mimetype": "text/x-python",
   "name": "python",
   "nbconvert_exporter": "python",
   "pygments_lexer": "ipython3",
   "version": "3.7.3"
  }
 },
 "nbformat": 4,
 "nbformat_minor": 4
}
