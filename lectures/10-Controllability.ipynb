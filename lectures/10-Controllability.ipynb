{
 "cells": [
  {
   "cell_type": "markdown",
   "metadata": {},
   "source": [
    "# Controllability"
   ]
  },
  {
   "cell_type": "markdown",
   "metadata": {},
   "source": [
    "This example analyzes controllability of a 2D model of a quadrotor moving in a plane, controlled by a front and rear motor."
   ]
  },
  {
   "cell_type": "markdown",
   "metadata": {},
   "source": [
    "$\\ddot{p_x} = (u_0 + u_1) sin(\\theta)$\n",
    "\n",
    "$\\ddot{p_z} = (u_0 + u_1) cos(\\theta) - g$\n",
    "\n",
    "$J\\ddot{\\theta} = l (u_0 - u_1)$"
   ]
  },
  {
   "cell_type": "code",
   "execution_count": 1,
   "metadata": {},
   "outputs": [],
   "source": [
    "import casadi as ca\n",
    "import control\n",
    "import numpy as np"
   ]
  },
  {
   "cell_type": "code",
   "execution_count": 2,
   "metadata": {},
   "outputs": [],
   "source": [
    "u = ca.SX.sym('u', 2)\n",
    "\n",
    "m = ca.SX.sym('m')\n",
    "g = ca.SX.sym('g')\n",
    "l = ca.SX.sym('l')\n",
    "J = ca.SX.sym('J')\n",
    "p = ca.vertcat(m, l, g, J)\n",
    "\n",
    "p_x = ca.SX.sym('p_x')\n",
    "p_z = ca.SX.sym('p_z')\n",
    "v_x = ca.SX.sym('v_x')\n",
    "v_z = ca.SX.sym('v_z')\n",
    "omega = ca.SX.sym('omega')\n",
    "theta = ca.SX.sym('theta')\n",
    "x = ca.vertcat(p_x, p_z, theta, v_x, v_z, omega)\n",
    "\n",
    "T = u[0] + u[1]\n",
    "M = l*(u[0] - u[1])\n",
    "rhs = ca.vertcat(v_x, v_z, omega, T*ca.sin(theta), T*ca.cos(theta) - m*g, l*M/J)\n",
    "y = x\n",
    "\n",
    "\n",
    "A = ca.jacobian(rhs, x)\n",
    "B = ca.jacobian(rhs, u)\n",
    "C = ca.jacobian(y, x)\n",
    "D = ca.jacobian(y, u)\n",
    "\n",
    "f_ss = ca.Function('ss', [x, u, p], [A, B, C, D])"
   ]
  },
  {
   "cell_type": "code",
   "execution_count": 3,
   "metadata": {},
   "outputs": [
    {
     "data": {
      "text/plain": [
       "A = [[ 0.   0.   0.   1.   0.   0. ]\n",
       " [ 0.   0.   0.   0.   1.   0. ]\n",
       " [ 0.   0.   0.   0.   0.   1. ]\n",
       " [ 0.   0.   9.8  0.   0.   0. ]\n",
       " [ 0.   0.  -0.   0.   0.   0. ]\n",
       " [ 0.   0.   0.   0.   0.   0. ]]\n",
       "\n",
       "B = [[ 0.  0.]\n",
       " [ 0.  0.]\n",
       " [ 0.  0.]\n",
       " [ 0.  0.]\n",
       " [ 1.  1.]\n",
       " [ 1. -1.]]\n",
       "\n",
       "C = [[1. 0. 0. 0. 0. 0.]\n",
       " [0. 1. 0. 0. 0. 0.]\n",
       " [0. 0. 1. 0. 0. 0.]\n",
       " [0. 0. 0. 1. 0. 0.]\n",
       " [0. 0. 0. 0. 1. 0.]\n",
       " [0. 0. 0. 0. 0. 1.]]\n",
       "\n",
       "D = [[0. 0.]\n",
       " [0. 0.]\n",
       " [0. 0.]\n",
       " [0. 0.]\n",
       " [0. 0.]\n",
       " [0. 0.]]"
      ]
     },
     "execution_count": 3,
     "metadata": {},
     "output_type": "execute_result"
    }
   ],
   "source": [
    "# can solve trim easily for hover\n",
    "m0 = 1\n",
    "l0 = 1\n",
    "J0 = 1\n",
    "g0 = 9.8\n",
    "theta0 = 0\n",
    "T0 = m0*g0/np.cos(theta0)\n",
    "M0 = 0\n",
    "u0_0 = (M0/l0 + T0)/2\n",
    "u1_0 = T0 - u0_0\n",
    "\n",
    "sys_hover = control.ss(*f_ss([0, 0, 0, 0, 0, 0], [u0_0, u1_0], [m0, l0, g0, J0]))\n",
    "sys_hover"
   ]
  },
  {
   "cell_type": "code",
   "execution_count": 4,
   "metadata": {},
   "outputs": [
    {
     "data": {
      "text/plain": [
       "matrix([[ 0. ,  0. ,  0. ,  0. ,  0. ,  0. ,  9.8, -9.8,  0. ,  0. ,\n",
       "          0. ,  0. ],\n",
       "        [ 0. ,  0. ,  1. ,  1. ,  0. ,  0. ,  0. ,  0. ,  0. ,  0. ,\n",
       "          0. ,  0. ],\n",
       "        [ 0. ,  0. ,  1. , -1. ,  0. ,  0. ,  0. ,  0. ,  0. ,  0. ,\n",
       "          0. ,  0. ],\n",
       "        [ 0. ,  0. ,  0. ,  0. ,  9.8, -9.8,  0. ,  0. ,  0. ,  0. ,\n",
       "          0. ,  0. ],\n",
       "        [ 1. ,  1. ,  0. ,  0. ,  0. ,  0. ,  0. ,  0. ,  0. ,  0. ,\n",
       "          0. ,  0. ],\n",
       "        [ 1. , -1. ,  0. ,  0. ,  0. ,  0. ,  0. ,  0. ,  0. ,  0. ,\n",
       "          0. ,  0. ]])"
      ]
     },
     "execution_count": 4,
     "metadata": {},
     "output_type": "execute_result"
    }
   ],
   "source": [
    "R = control.ctrb(sys_hover.A, sys_hover.B)\n",
    "R"
   ]
  },
  {
   "cell_type": "code",
   "execution_count": 5,
   "metadata": {},
   "outputs": [
    {
     "data": {
      "text/plain": [
       "(6, 6)"
      ]
     },
     "execution_count": 5,
     "metadata": {},
     "output_type": "execute_result"
    }
   ],
   "source": [
    "np.linalg.matrix_rank(R), A.shape[0]"
   ]
  }
 ],
 "metadata": {
  "kernelspec": {
   "display_name": "Python 3",
   "language": "python",
   "name": "python3"
  },
  "language_info": {
   "codemirror_mode": {
    "name": "ipython",
    "version": 3
   },
   "file_extension": ".py",
   "mimetype": "text/x-python",
   "name": "python",
   "nbconvert_exporter": "python",
   "pygments_lexer": "ipython3",
   "version": "3.7.4"
  }
 },
 "nbformat": 4,
 "nbformat_minor": 4
}
