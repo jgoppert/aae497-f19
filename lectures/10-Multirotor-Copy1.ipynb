{
 "cells": [
  {
   "cell_type": "markdown",
   "metadata": {},
   "source": [
    "# Multirotor Dynamic Model"
   ]
  },
  {
   "cell_type": "code",
   "execution_count": 2,
   "metadata": {},
   "outputs": [],
   "source": [
    "import casadi as ca\n",
    "import numpy as np\n",
    "import sys\n",
    "sys.path.insert(0, '../python/pyecca')\n",
    "import pyecca.lie.so3 as so3"
   ]
  },
  {
   "cell_type": "markdown",
   "metadata": {},
   "source": [
    "Here we will develop a simple thrust model for the propeller."
   ]
  },
  {
   "cell_type": "code",
   "execution_count": 3,
   "metadata": {},
   "outputs": [
    {
     "data": {
      "text/plain": [
       "0.39039349535108125"
      ]
     },
     "execution_count": 3,
     "metadata": {},
     "output_type": "execute_result"
    }
   ],
   "source": [
    "def thrust(throttle, rho, r, V, kV, CT):\n",
    "    \"\"\"\n",
    "    throttle: 0-1 controls voltage, []\n",
    "    rho: density of air, [kg/m^3\n",
    "    r: radius of propeller, [m]\n",
    "    V: voltage of battery [V]\n",
    "    kV: motor kV constant, [rpm/V]\n",
    "    \"\"\"\n",
    "    omega = throttle*V*kV*(2*ca.pi/60)\n",
    "    q = 0.5*rho*(omega*r)**2\n",
    "    s = ca.pi*r**2\n",
    "    return CT*q*s\n",
    "\n",
    "thrust(throttle=1, rho=1.225, r=0.05, V=11.1, kV=1550, CT=1.0e-2)"
   ]
  },
  {
   "cell_type": "code",
   "execution_count": 31,
   "metadata": {},
   "outputs": [
    {
     "name": "stdout",
     "output_type": "stream",
     "text": [
      "45\n",
      "-135\n",
      "-34\n",
      "135\n"
     ]
    }
   ],
   "source": [
    "# state space model\n",
    "#x: state: (position, orientation, velocity (body frame), angular velocity (body frame))\n",
    "#            3          mrp,4           3                      3\n",
    "x = ca.SX.sym('x',13)\n",
    "pos_n = x[0:3]\n",
    "r_nb = x[3:7]\n",
    "vel_b = x[7:10]\n",
    "omega_b = x[10:13]\n",
    "\n",
    "#u: control\n",
    "u = ca.SX.sym('u', 4)\n",
    "\n",
    "#y: output, just state for now\n",
    "y = x\n",
    "\n",
    "#parameters: Jx Jy Jz Jxy g m CL0 CLa CD0\n",
    "p = ca.SX.sym('J',9)\n",
    "Jx = p[0]\n",
    "Jy = p[1]\n",
    "Jz = p[2]\n",
    "Jxz = p[3]\n",
    "g = p[4]\n",
    "m = p[5]\n",
    "CL0 = p[6]\n",
    "CLa = p[7]\n",
    "CD0 = p[8]\n",
    "\n",
    "#inertia tensor\n",
    "J_b = ca.SX.zeros(3,3)\n",
    "J_b[0,0] = Jx\n",
    "J_b[1,1] = Jy\n",
    "J_b[2,2] = Jz\n",
    "J_b[0,2] = J_b[2,0] = Jxz\n",
    "\n",
    "C_nb = so3.Dcm.from_mrp(r_nb) # DCM rotation\n",
    "g_n = ca.vertcat(0,0,g) # gravity\n",
    "vel_n = ca.mtimes(C_nb, vel_b) # inertial velocity\n",
    "\n",
    "\n",
    "l_arm = 0.5\n",
    "arm_angles = [45, -135, -34, 135]\n",
    "for arm_angle in arm_angles:\n",
    "    print(arm_angle)\n",
    "\n",
    "thrusts = []\n",
    "F_b = ca.vertcat(0,0,0)\n",
    "M_b = ca.vertcat(0,0,0)\n",
    "\n",
    "for i in range(u.size()[0]):\n",
    "    thrust_i = thrust(throttle=u[i], rho=1.225, r=0.05, V=11.1, kV=1550, CT=1.0e-2)\n",
    "    thrusts.append(thrust_i)\n",
    "    angle = arm_angles[i]\n",
    "    arm_vect = np.array([np.cos(angle),-np.sin(angle),0])\n",
    "    thrust_vect = ca.vertcat(0,0,-thrust_i)\n",
    "    M_b += ca.cross(arm_vect,thrust_vect)\n",
    "    F_b += thrust_vect\n",
    "m = 0.2;    \n",
    "F_b += ca.mtimes(C_nb.T, m*g_n)\n",
    "M_b\n",
    "\n",
    "force_moment = ca.Function('force_moment',[x,u,p],[F_b,M_b],['x','u','p'],['F_b','M_b'])\n",
    "\n",
    "#left hand side, xdot\n",
    "xdot = ca.Function('rhs',[x,u,p],[ca.vertcat(\n",
    "    ca.mtimes(C_nb, vel_b),\n",
    "    so3.Mrp.kinematics(r_nb,omega_b),\n",
    "    F_b/m - ca.cross(omega_b,vel_b),\n",
    "    ca.mtimes(ca.inv(J_b), M_b - ca.cross(omega_b, ca.mtimes(J_b, omega_b))))],\n",
    "    ['x','u','p'],['xdot'])"
   ]
  },
  {
   "cell_type": "markdown",
   "metadata": {},
   "source": [
    "# Kinematics\n",
    "\n",
    "Consider the dynamics\n",
    "\n",
    "v = $\\begin{bmatrix}\n",
    "a\n",
    "\\end{bmatrix}$"
   ]
  },
  {
   "cell_type": "code",
   "execution_count": 16,
   "metadata": {},
   "outputs": [],
   "source": [
    "def SO3_adjoint(V):\n",
    "    v = V[0:3]\n",
    "    w = V[3:6]"
   ]
  },
  {
   "cell_type": "code",
   "execution_count": null,
   "metadata": {},
   "outputs": [],
   "source": []
  }
 ],
 "metadata": {
  "kernelspec": {
   "display_name": "Python 3",
   "language": "python",
   "name": "python3"
  },
  "language_info": {
   "codemirror_mode": {
    "name": "ipython",
    "version": 3
   },
   "file_extension": ".py",
   "mimetype": "text/x-python",
   "name": "python",
   "nbconvert_exporter": "python",
   "pygments_lexer": "ipython3",
   "version": "3.7.3"
  }
 },
 "nbformat": 4,
 "nbformat_minor": 4
}
