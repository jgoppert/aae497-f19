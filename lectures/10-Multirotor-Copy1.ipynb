{
 "cells": [
  {
   "cell_type": "markdown",
   "metadata": {},
   "source": [
    "# Multirotor Dynamic Model"
   ]
  },
  {
   "cell_type": "code",
   "execution_count": 2,
   "metadata": {},
   "outputs": [],
   "source": [
    "import casadi as ca\n",
    "import numpy as np\n",
    "import sys\n",
    "sys.path.insert(0, '../python/pyecca')\n",
    "import pyecca.lie.so3 as so3\n",
    "from pyecca.util import rk4\n",
    "import control\n",
    "import matplotlib.pyplot as plt\n"
   ]
  },
  {
   "cell_type": "markdown",
   "metadata": {},
   "source": [
    "Here we will develop a simple thrust model for the propeller."
   ]
  },
  {
   "cell_type": "code",
   "execution_count": 3,
   "metadata": {},
   "outputs": [
    {
     "data": {
      "text/plain": [
       "0.03979546333854039"
      ]
     },
     "execution_count": 3,
     "metadata": {},
     "output_type": "execute_result"
    }
   ],
   "source": [
    "def thrust(throttle, rho, r, V, kV, CT):\n",
    "    \"\"\"\n",
    "    throttle: 0-1 controls voltage, []\n",
    "    rho: density of air, [kg/m^3]\n",
    "    r: radius of propeller, [m]\n",
    "    V: voltage of battery [V]\n",
    "    kV: motor kV constant, [rpm/V]\n",
    "    \"\"\"\n",
    "    omega = throttle*V*kV*(2*ca.pi/60)\n",
    "    q = 0.5*rho*(omega*r)**2\n",
    "    s = ca.pi*r**2\n",
    "    return CT*q*s\n",
    "\n",
    "thrust(throttle=0.5, rho=1.225, r=0.05, V=11.1, kV=1550, CT=1.0e-2)*4/9.81"
   ]
  },
  {
   "cell_type": "markdown",
   "metadata": {},
   "source": [
    "$ u_{norm} = \\begin{bmatrix}u_{roll}\\\\u_{pitch}\\\\u_{yaw}\\\\u_{thrust} \\end{bmatrix} $"
   ]
  },
  {
   "cell_type": "code",
   "execution_count": 4,
   "metadata": {},
   "outputs": [],
   "source": [
    "def motor2mix(u_motor):\n",
    "    map = np.array([\n",
    "        [-1,1,1,-1],\n",
    "        [1,-1,1,-1],\n",
    "        [1,1,-1,-1],\n",
    "        [1,1,1,1]])\n",
    "    return ca.mtimes(map,u_motor)\n",
    "\n",
    "def mix2motor(u_mix):\n",
    "    map = np.linalg.inv(np.array([\n",
    "        [-1,1,1,-1],\n",
    "        [1,-1,1,-1],\n",
    "        [1,1,-1,-1],\n",
    "        [1,1,1,1]]))\n",
    "    return ca.mtimes(map,u_mix)\n",
    "\n",
    "# Derivative of Euler angles\n",
    "def euler_kinematics(e, w):\n",
    "    v = ca.SX.sym('v',3)\n",
    "    v[0] = (w[1]*ca.sin(e[2])+w[2]*ca.cos(e[2]))/ca.cos(e[1])\n",
    "    v[1] = w[1]*ca.cos(e[2]) - w[2]*ca.sin(e[2])\n",
    "    v[2] = w[0] + (w[1]*ca.sin(e[2]+w[2]*ca.cos(e[2])))*ca.tan(e[1])\n",
    "    return v"
   ]
  },
  {
   "cell_type": "code",
   "execution_count": 5,
   "metadata": {},
   "outputs": [],
   "source": [
    "def copter_equations(jit=True):\n",
    "    # state space model\n",
    "    #x: state: (position, orientation, velocity (body frame), angular velocity (body frame))\n",
    "    #            3          mrp,4           3                      3\n",
    "    x = ca.SX.sym('x',12)\n",
    "    pos_n = x[0:3]\n",
    "    euler = x[3:6]\n",
    "    vel_b = x[6:9]\n",
    "    omega_b = x[9:12]\n",
    "\n",
    "    #u: control, normalized to roll, pitch, yaw, and thrust\n",
    "    u_mix = ca.SX.sym('u_mix', 4)\n",
    "\n",
    "    #y: output, just state for now\n",
    "    y = x\n",
    "\n",
    "    #parameters: Jx Jy Jz Jxy g m CL0 CLa CD0\n",
    "    p = ca.SX.sym('J',6)\n",
    "    Jx = p[0]\n",
    "    Jy = p[1]\n",
    "    Jz = p[2]\n",
    "    Jxz = p[3]\n",
    "    g = p[4]\n",
    "    m = p[5]\n",
    "\n",
    "    #inertia tensor\n",
    "    J_b = ca.SX.zeros(3,3)\n",
    "    J_b[0,0] = Jx\n",
    "    J_b[1,1] = Jy\n",
    "    J_b[2,2] = Jz\n",
    "    J_b[0,2] = J_b[2,0] = Jxz\n",
    "\n",
    "    C_nb = so3.Dcm.from_euler(euler) # DCM rotation\n",
    "    g_n = ca.vertcat(0,0,g) # gravity\n",
    "    vel_n = ca.mtimes(C_nb, vel_b) # inertial velocity\n",
    "\n",
    "    l_arm = 0.5\n",
    "    arm_angles = [45, -135, -45, 135]\n",
    "\n",
    "    thrusts = []\n",
    "    F_b = ca.vertcat(0,0,0)\n",
    "    M_b = ca.vertcat(0,0,0)\n",
    "    u_motor = mix2motor(u_mix)\n",
    "    for i in range(u_motor.size()[0]):\n",
    "        thrust_i = thrust(throttle=u_motor[i], rho=1.225, r=0.05, V=11.1, kV=1550, CT=1.0e-2)\n",
    "        thrusts.append(thrust_i)\n",
    "        angle = arm_angles[i]\n",
    "        arm_vect = np.array([np.cos(angle),np.sin(angle),0])\n",
    "        thrust_vect = ca.vertcat(0,0,-thrust_i)\n",
    "        M_b += ca.cross(arm_vect,thrust_vect)\n",
    "        F_b += thrust_vect\n",
    "    m = 0.2;    \n",
    "    F_b += ca.mtimes(C_nb.T, m*g_n)\n",
    "\n",
    "    force = ca.Function('force',[x,u_mix,p],[F_b],['x','u_mix','p'],['F_b'])\n",
    "    moment = ca.Function('moment',[x,u_mix,p],[M_b],['x','u_mix','p'],['M_b'])\n",
    "    \n",
    "    # xdot = rhs hand side\n",
    "    rhs = ca.Function('rhs',[x,u_mix,p],[ca.vertcat(\n",
    "        ca.mtimes(C_nb, vel_b),\n",
    "        euler_kinematics(euler,omega_b),\n",
    "        F_b/m - ca.cross(omega_b,vel_b),\n",
    "        ca.mtimes(ca.inv(J_b), M_b - ca.cross(omega_b, ca.mtimes(J_b, omega_b))))],\n",
    "        ['x','u_mix','p'],['rhs'],{'jit': jit})\n",
    "    return {\n",
    "        'x': x,\n",
    "        'u_mix': u_mix,\n",
    "        'p': p,\n",
    "        'rhs': rhs\n",
    "    }"
   ]
  },
  {
   "cell_type": "code",
   "execution_count": 6,
   "metadata": {},
   "outputs": [
    {
     "data": {
      "text/latex": [
       "$$\\frac{0.07424}{s}$$"
      ],
      "text/plain": [
       "\n",
       "0.07424\n",
       "-------\n",
       "   s"
      ]
     },
     "execution_count": 6,
     "metadata": {},
     "output_type": "execute_result"
    }
   ],
   "source": [
    "def linearize():\n",
    "    # Get state space and make a casadi function\n",
    "    eqs = copter_equations()\n",
    "    x = eqs['x']\n",
    "    u_mix = eqs['u_mix']\n",
    "    p = eqs['p']\n",
    "    rhs = eqs['rhs']\n",
    "    xdot = rhs(x,u_mix,p)\n",
    "    A = ca.jacobian(xdot,x)\n",
    "    B = ca.jacobian(xdot,u_mix)\n",
    "    C = ca.jacobian(x,x)\n",
    "    D = ca.jacobian(x,u_mix)\n",
    "    \n",
    "    return ca.Function('ss',[x,u_mix,p],[A,B,C,D],['x','u_mix','p'],['A','B','C','D'])\n",
    "\n",
    "lin = linearize()\n",
    "x0 = np.zeros(12)\n",
    "u0 = np.array([0,0,0,0.5])\n",
    "p0 = np.array([1,1,1,0,9.81,0.03979546333854039])\n",
    "A,B,C,D = lin(x0,u0,p0)\n",
    "A = np.array(A)\n",
    "B = np.array(B)\n",
    "C = np.array(C)\n",
    "D = np.array(D)\n",
    "# do controller design\n",
    "sys_ss = control.ss(A,B,C,D)\n",
    "sys = control.tf(sys_ss).minreal()\n",
    "\n",
    "G_pitch_rate = sys[10,1]\n",
    "G_pitch_rate\n"
   ]
  },
  {
   "cell_type": "code",
   "execution_count": 24,
   "metadata": {},
   "outputs": [
    {
     "data": {
      "text/plain": [
       "<Figure size 432x288 with 0 Axes>"
      ]
     },
     "metadata": {},
     "output_type": "display_data"
    },
    {
     "data": {
      "image/png": "[encoded data removed]",
      "text/plain": [
       "<Figure size 432x288 with 1 Axes>"
      ]
     },
     "metadata": {
      "needs_background": "light"
     },
     "output_type": "display_data"
    },
    {
     "data": {
      "image/png": "[encoded data removed]",
      "text/plain": [
       "<Figure size 432x288 with 2 Axes>"
      ]
     },
     "metadata": {
      "needs_background": "light"
     },
     "output_type": "display_data"
    },
    {
     "data": {
      "image/png": "[encoded data removed]",
      "text/plain": [
       "<Figure size 432x288 with 1 Axes>"
      ]
     },
     "metadata": {
      "needs_background": "light"
     },
     "output_type": "display_data"
    }
   ],
   "source": [
    "s = control.tf([1,0],[0,1])\n",
    "H = (20+1*s)*10\n",
    "\n",
    "Ga = 1/(s/10+1)\n",
    "Go = Ga*G_pitch_rate*H\n",
    "\n",
    "Gc = control.feedback(Go)\n",
    "plt.figure()\n",
    "control.rlocus(Go,kvect= np.linspace(0,1));\n",
    "plt.axis('equal')\n",
    "t,y = control.step_response(Gc)\n",
    "control.step_info(Gc)\n",
    "plt.figure()\n",
    "control.bode(Go)\n",
    "plt.figure()\n",
    "plt.plot(t,y)\n",
    "plt.show()"
   ]
  },
  {
   "cell_type": "code",
   "execution_count": null,
   "metadata": {},
   "outputs": [],
   "source": [
    "t0 = ca.SX.sym('t0')\n",
    "h = ca.SX.sym('h')\n",
    "x0 = ca.SX.sym('x', 12)\n",
    "x1 = rk4(lambda t, x: xdot(x, u, p), t0, x0, h)\n",
    "predict = ca.Function('predict', [x0, u, p, t0, h], [x1], {'jit': jit})"
   ]
  },
  {
   "cell_type": "markdown",
   "metadata": {},
   "source": [
    "# Kinematics\n",
    "\n",
    "Consider the dynamics\n",
    "\n",
    "v = $\\begin{bmatrix}\n",
    "a\n",
    "\\end{bmatrix}$"
   ]
  },
  {
   "cell_type": "code",
   "execution_count": null,
   "metadata": {},
   "outputs": [],
   "source": [
    "def SO3_adjoint(V):\n",
    "    v = V[0:3]\n",
    "    w = V[3:6]"
   ]
  },
  {
   "cell_type": "code",
   "execution_count": null,
   "metadata": {},
   "outputs": [],
   "source": []
  }
 ],
 "metadata": {
  "kernelspec": {
   "display_name": "Python 3",
   "language": "python",
   "name": "python3"
  },
  "language_info": {
   "codemirror_mode": {
    "name": "ipython",
    "version": 3
   },
   "file_extension": ".py",
   "mimetype": "text/x-python",
   "name": "python",
   "nbconvert_exporter": "python",
   "pygments_lexer": "ipython3",
   "version": "3.7.3"
  }
 },
 "nbformat": 4,
 "nbformat_minor": 4
}
