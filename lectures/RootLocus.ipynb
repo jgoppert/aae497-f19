{
 "cells": [
  {
   "cell_type": "code",
   "execution_count": 7,
   "metadata": {},
   "outputs": [
    {
     "data": {
      "application/vnd.jupyter.widget-view+json": {
       "model_id": "49f7376ec24c43a5bbd7c5bb9dacd653",
       "version_major": 2,
       "version_minor": 0
      },
      "text/plain": [
       "Canvas(toolbar=Toolbar(toolitems=[('Home', 'Reset original view', 'home', 'home'), ('Back', 'Back to previous …"
      ]
     },
     "metadata": {},
     "output_type": "display_data"
    }
   ],
   "source": [
    "%matplotlib widget\n",
    "import control\n",
    "import numpy as np\n",
    "import matplotlib.pyplot as plt\n",
    "from matplotlib.widgets import Slider, Button, RadioButtons\n",
    "\n",
    "\n",
    "def root_locus(G):\n",
    "\n",
    "    fig, ax = plt.subplots()\n",
    "    plt.subplots_adjust(bottom=0.25)\n",
    "\n",
    "    roots = control.rlocus(G, kvect=np.logspace(-3, 3, 1000), Plot=False)[0].T\n",
    "    l_locus = [ ax.plot(np.real(root), np.imag(root), '-')[0] for root in roots]\n",
    "\n",
    "    a0 = 2\n",
    "    poles = control.pole(control.feedback(G*a0, 1))\n",
    "    l_poles, = ax.plot(np.real(poles), np.imag(poles), 'rx')\n",
    "    h_text = [ax.text(np.real(pole), np.imag(pole), '') for pole in poles]\n",
    " \n",
    "    ax.grid()\n",
    "    ax.set_title('root locus')\n",
    "    ax.margins(x=0)\n",
    "\n",
    "    axcolor = 'lightgoldenrodyellow'\n",
    "    axamp = plt.axes([0.2, 0.15, 0.65, 0.03], facecolor=axcolor)\n",
    "\n",
    "    samp = Slider(axamp, 'Gain', 0.1, 10.0, valinit=a0)\n",
    "\n",
    "    def update(jnk):\n",
    "        amp = samp.val\n",
    "        wns, zetas, poles = control.damp(control.feedback(G*amp, 1), doprint=False)\n",
    "        l_poles.set_xdata(np.real(poles))\n",
    "        l_poles.set_ydata(np.imag(poles))\n",
    "        #for h, pole, zeta, wn in zip(h_text, poles, zetas, wns):\n",
    "        #    h.set_x(np.real(pole))\n",
    "        #    h.set_y(np.imag(pole))\n",
    "        #    h.set_text(r'{:0.2f}, {:0.2f}'.format(zeta, wn))\n",
    "        fig.canvas.draw_idle()\n",
    "\n",
    "    samp.on_changed(update)\n",
    "    update(0)\n",
    "    ax.axis([-10, 10, -10, 10]);\n",
    "\n",
    "G = control.tf([1, 3, 4], [1, 2, 3, 4])\n",
    "root_locus(G)"
   ]
  },
  {
   "cell_type": "code",
   "execution_count": null,
   "metadata": {},
   "outputs": [],
   "source": []
  }
 ],
 "metadata": {
  "kernelspec": {
   "display_name": "Python 3",
   "language": "python",
   "name": "python3"
  },
  "language_info": {
   "codemirror_mode": {
    "name": "ipython",
    "version": 3
   },
   "file_extension": ".py",
   "mimetype": "text/x-python",
   "name": "python",
   "nbconvert_exporter": "python",
   "pygments_lexer": "ipython3",
   "version": "3.7.3"
  }
 },
 "nbformat": 4,
 "nbformat_minor": 4
}
