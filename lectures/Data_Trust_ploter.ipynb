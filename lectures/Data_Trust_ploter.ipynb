{
 "cells": [
  {
   "cell_type": "code",
   "execution_count": 349,
   "metadata": {},
   "outputs": [],
   "source": [
    "import casadi as ca\n",
    "import numpy as np\n",
    "import matplotlib.pyplot as plt\n",
    "import control\n",
    "import collections\n",
    "import pandas as pd "
   ]
  },
  {
   "cell_type": "code",
   "execution_count": 350,
   "metadata": {},
   "outputs": [
    {
     "data": {
      "text/html": [
       "<div>\n",
       "<style scoped>\n",
       "    .dataframe tbody tr th:only-of-type {\n",
       "        vertical-align: middle;\n",
       "    }\n",
       "\n",
       "    .dataframe tbody tr th {\n",
       "        vertical-align: top;\n",
       "    }\n",
       "\n",
       "    .dataframe thead th {\n",
       "        text-align: right;\n",
       "    }\n",
       "</style>\n",
       "<table border=\"1\" class=\"dataframe\">\n",
       "  <thead>\n",
       "    <tr style=\"text-align: right;\">\n",
       "      <th></th>\n",
       "      <th>ESC signal (µs)</th>\n",
       "      <th>Servo 1 (µs)</th>\n",
       "      <th>Servo 2 (µs)</th>\n",
       "      <th>Servo 3 (µs)</th>\n",
       "      <th>AccX (g)</th>\n",
       "      <th>AccY (g)</th>\n",
       "      <th>AccZ (g)</th>\n",
       "      <th>Torque (N·m)</th>\n",
       "      <th>Thrust (kgf)</th>\n",
       "      <th>Voltage (V)</th>\n",
       "      <th>Current (A)</th>\n",
       "      <th>Motor Electrical Speed (RPM)</th>\n",
       "      <th>Motor Optical Speed (RPM)</th>\n",
       "      <th>Electrical Power (W)</th>\n",
       "      <th>Mechanical Power (W)</th>\n",
       "      <th>Motor Efficiency (%)</th>\n",
       "      <th>Propeller Mech. Efficiency (kgf/W)</th>\n",
       "      <th>Overall Efficiency (kgf/W)</th>\n",
       "      <th>Vibration (g)</th>\n",
       "      <th>App message</th>\n",
       "    </tr>\n",
       "    <tr>\n",
       "      <th>Time (s)</th>\n",
       "      <th></th>\n",
       "      <th></th>\n",
       "      <th></th>\n",
       "      <th></th>\n",
       "      <th></th>\n",
       "      <th></th>\n",
       "      <th></th>\n",
       "      <th></th>\n",
       "      <th></th>\n",
       "      <th></th>\n",
       "      <th></th>\n",
       "      <th></th>\n",
       "      <th></th>\n",
       "      <th></th>\n",
       "      <th></th>\n",
       "      <th></th>\n",
       "      <th></th>\n",
       "      <th></th>\n",
       "      <th></th>\n",
       "      <th></th>\n",
       "    </tr>\n",
       "  </thead>\n",
       "  <tbody>\n",
       "    <tr>\n",
       "      <td>0.000000</td>\n",
       "      <td>1000.0</td>\n",
       "      <td>NaN</td>\n",
       "      <td>NaN</td>\n",
       "      <td>NaN</td>\n",
       "      <td>-1.011719</td>\n",
       "      <td>0.025391</td>\n",
       "      <td>0.013672</td>\n",
       "      <td>NaN</td>\n",
       "      <td>NaN</td>\n",
       "      <td>12.113388</td>\n",
       "      <td>-0.030684</td>\n",
       "      <td>3549</td>\n",
       "      <td>0</td>\n",
       "      <td>0.371690</td>\n",
       "      <td>NaN</td>\n",
       "      <td>32.812990</td>\n",
       "      <td>NaN</td>\n",
       "      <td>NaN</td>\n",
       "      <td>0.279297</td>\n",
       "      <td>NaN</td>\n",
       "    </tr>\n",
       "    <tr>\n",
       "      <td>0.000000</td>\n",
       "      <td>1000.0</td>\n",
       "      <td>NaN</td>\n",
       "      <td>NaN</td>\n",
       "      <td>NaN</td>\n",
       "      <td>-1.173828</td>\n",
       "      <td>0.042969</td>\n",
       "      <td>0.037109</td>\n",
       "      <td>-0.000325</td>\n",
       "      <td>NaN</td>\n",
       "      <td>12.113189</td>\n",
       "      <td>-0.030848</td>\n",
       "      <td>3549</td>\n",
       "      <td>0</td>\n",
       "      <td>0.373668</td>\n",
       "      <td>0.120796</td>\n",
       "      <td>32.327004</td>\n",
       "      <td>0.010261</td>\n",
       "      <td>0.003317</td>\n",
       "      <td>0.279297</td>\n",
       "      <td>NaN</td>\n",
       "    </tr>\n",
       "    <tr>\n",
       "      <td>0.028420</td>\n",
       "      <td>1000.0</td>\n",
       "      <td>NaN</td>\n",
       "      <td>NaN</td>\n",
       "      <td>NaN</td>\n",
       "      <td>-0.949219</td>\n",
       "      <td>-0.021484</td>\n",
       "      <td>0.007812</td>\n",
       "      <td>NaN</td>\n",
       "      <td>NaN</td>\n",
       "      <td>12.113191</td>\n",
       "      <td>-0.030710</td>\n",
       "      <td>3547</td>\n",
       "      <td>0</td>\n",
       "      <td>0.372001</td>\n",
       "      <td>NaN</td>\n",
       "      <td>32.456213</td>\n",
       "      <td>NaN</td>\n",
       "      <td>NaN</td>\n",
       "      <td>0.281250</td>\n",
       "      <td>NaN</td>\n",
       "    </tr>\n",
       "    <tr>\n",
       "      <td>0.053785</td>\n",
       "      <td>1000.0</td>\n",
       "      <td>NaN</td>\n",
       "      <td>NaN</td>\n",
       "      <td>NaN</td>\n",
       "      <td>-1.085938</td>\n",
       "      <td>0.005859</td>\n",
       "      <td>0.021484</td>\n",
       "      <td>NaN</td>\n",
       "      <td>-0.000069</td>\n",
       "      <td>12.112631</td>\n",
       "      <td>-0.029577</td>\n",
       "      <td>3551</td>\n",
       "      <td>0</td>\n",
       "      <td>0.358252</td>\n",
       "      <td>NaN</td>\n",
       "      <td>33.740975</td>\n",
       "      <td>NaN</td>\n",
       "      <td>NaN</td>\n",
       "      <td>0.279297</td>\n",
       "      <td>NaN</td>\n",
       "    </tr>\n",
       "    <tr>\n",
       "      <td>0.085815</td>\n",
       "      <td>1000.0</td>\n",
       "      <td>NaN</td>\n",
       "      <td>NaN</td>\n",
       "      <td>NaN</td>\n",
       "      <td>-0.912109</td>\n",
       "      <td>-0.064453</td>\n",
       "      <td>0.009766</td>\n",
       "      <td>NaN</td>\n",
       "      <td>NaN</td>\n",
       "      <td>12.112836</td>\n",
       "      <td>-0.029979</td>\n",
       "      <td>3551</td>\n",
       "      <td>0</td>\n",
       "      <td>0.363130</td>\n",
       "      <td>NaN</td>\n",
       "      <td>33.280888</td>\n",
       "      <td>NaN</td>\n",
       "      <td>NaN</td>\n",
       "      <td>0.277344</td>\n",
       "      <td>NaN</td>\n",
       "    </tr>\n",
       "    <tr>\n",
       "      <td>...</td>\n",
       "      <td>...</td>\n",
       "      <td>...</td>\n",
       "      <td>...</td>\n",
       "      <td>...</td>\n",
       "      <td>...</td>\n",
       "      <td>...</td>\n",
       "      <td>...</td>\n",
       "      <td>...</td>\n",
       "      <td>...</td>\n",
       "      <td>...</td>\n",
       "      <td>...</td>\n",
       "      <td>...</td>\n",
       "      <td>...</td>\n",
       "      <td>...</td>\n",
       "      <td>...</td>\n",
       "      <td>...</td>\n",
       "      <td>...</td>\n",
       "      <td>...</td>\n",
       "      <td>...</td>\n",
       "      <td>...</td>\n",
       "    </tr>\n",
       "    <tr>\n",
       "      <td>114.307335</td>\n",
       "      <td>NaN</td>\n",
       "      <td>NaN</td>\n",
       "      <td>NaN</td>\n",
       "      <td>NaN</td>\n",
       "      <td>-1.099609</td>\n",
       "      <td>0.003906</td>\n",
       "      <td>0.023438</td>\n",
       "      <td>NaN</td>\n",
       "      <td>-0.002699</td>\n",
       "      <td>11.858910</td>\n",
       "      <td>-0.028646</td>\n",
       "      <td>3575</td>\n",
       "      <td>0</td>\n",
       "      <td>0.339710</td>\n",
       "      <td>NaN</td>\n",
       "      <td>239.640186</td>\n",
       "      <td>NaN</td>\n",
       "      <td>NaN</td>\n",
       "      <td>0.267578</td>\n",
       "      <td>NaN</td>\n",
       "    </tr>\n",
       "    <tr>\n",
       "      <td>114.334755</td>\n",
       "      <td>NaN</td>\n",
       "      <td>NaN</td>\n",
       "      <td>NaN</td>\n",
       "      <td>NaN</td>\n",
       "      <td>-1.048828</td>\n",
       "      <td>-0.039062</td>\n",
       "      <td>0.019531</td>\n",
       "      <td>NaN</td>\n",
       "      <td>NaN</td>\n",
       "      <td>11.858849</td>\n",
       "      <td>-0.027530</td>\n",
       "      <td>3581</td>\n",
       "      <td>0</td>\n",
       "      <td>0.326472</td>\n",
       "      <td>NaN</td>\n",
       "      <td>249.806828</td>\n",
       "      <td>NaN</td>\n",
       "      <td>NaN</td>\n",
       "      <td>0.267578</td>\n",
       "      <td>NaN</td>\n",
       "    </tr>\n",
       "    <tr>\n",
       "      <td>114.355995</td>\n",
       "      <td>NaN</td>\n",
       "      <td>NaN</td>\n",
       "      <td>NaN</td>\n",
       "      <td>NaN</td>\n",
       "      <td>-1.048828</td>\n",
       "      <td>-0.082031</td>\n",
       "      <td>0.000000</td>\n",
       "      <td>NaN</td>\n",
       "      <td>NaN</td>\n",
       "      <td>11.859149</td>\n",
       "      <td>-0.028600</td>\n",
       "      <td>3583</td>\n",
       "      <td>0</td>\n",
       "      <td>0.339173</td>\n",
       "      <td>NaN</td>\n",
       "      <td>240.603262</td>\n",
       "      <td>NaN</td>\n",
       "      <td>NaN</td>\n",
       "      <td>0.267578</td>\n",
       "      <td>NaN</td>\n",
       "    </tr>\n",
       "    <tr>\n",
       "      <td>114.384065</td>\n",
       "      <td>NaN</td>\n",
       "      <td>NaN</td>\n",
       "      <td>NaN</td>\n",
       "      <td>NaN</td>\n",
       "      <td>-1.046875</td>\n",
       "      <td>0.044922</td>\n",
       "      <td>0.003906</td>\n",
       "      <td>NaN</td>\n",
       "      <td>NaN</td>\n",
       "      <td>11.859285</td>\n",
       "      <td>-0.028192</td>\n",
       "      <td>3584</td>\n",
       "      <td>0</td>\n",
       "      <td>0.334337</td>\n",
       "      <td>NaN</td>\n",
       "      <td>244.154959</td>\n",
       "      <td>NaN</td>\n",
       "      <td>NaN</td>\n",
       "      <td>0.269531</td>\n",
       "      <td>NaN</td>\n",
       "    </tr>\n",
       "    <tr>\n",
       "      <td>114.406865</td>\n",
       "      <td>NaN</td>\n",
       "      <td>NaN</td>\n",
       "      <td>NaN</td>\n",
       "      <td>NaN</td>\n",
       "      <td>-1.050781</td>\n",
       "      <td>0.039062</td>\n",
       "      <td>0.041016</td>\n",
       "      <td>-0.001873</td>\n",
       "      <td>NaN</td>\n",
       "      <td>11.859436</td>\n",
       "      <td>-0.028253</td>\n",
       "      <td>3585</td>\n",
       "      <td>0</td>\n",
       "      <td>0.335066</td>\n",
       "      <td>0.703442</td>\n",
       "      <td>209.941201</td>\n",
       "      <td>0.003837</td>\n",
       "      <td>0.008055</td>\n",
       "      <td>0.265625</td>\n",
       "      <td>NaN</td>\n",
       "    </tr>\n",
       "  </tbody>\n",
       "</table>\n",
       "<p>4649 rows × 20 columns</p>\n",
       "</div>"
      ],
      "text/plain": [
       "            ESC signal (µs)  Servo 1 (µs)  Servo 2 (µs)  Servo 3 (µs)  \\\n",
       "Time (s)                                                                \n",
       "0.000000             1000.0           NaN           NaN           NaN   \n",
       "0.000000             1000.0           NaN           NaN           NaN   \n",
       "0.028420             1000.0           NaN           NaN           NaN   \n",
       "0.053785             1000.0           NaN           NaN           NaN   \n",
       "0.085815             1000.0           NaN           NaN           NaN   \n",
       "...                     ...           ...           ...           ...   \n",
       "114.307335              NaN           NaN           NaN           NaN   \n",
       "114.334755              NaN           NaN           NaN           NaN   \n",
       "114.355995              NaN           NaN           NaN           NaN   \n",
       "114.384065              NaN           NaN           NaN           NaN   \n",
       "114.406865              NaN           NaN           NaN           NaN   \n",
       "\n",
       "            AccX (g)  AccY (g)  AccZ (g)  Torque (N·m)  Thrust (kgf)  \\\n",
       "Time (s)                                                               \n",
       "0.000000   -1.011719  0.025391  0.013672           NaN           NaN   \n",
       "0.000000   -1.173828  0.042969  0.037109     -0.000325           NaN   \n",
       "0.028420   -0.949219 -0.021484  0.007812           NaN           NaN   \n",
       "0.053785   -1.085938  0.005859  0.021484           NaN     -0.000069   \n",
       "0.085815   -0.912109 -0.064453  0.009766           NaN           NaN   \n",
       "...              ...       ...       ...           ...           ...   \n",
       "114.307335 -1.099609  0.003906  0.023438           NaN     -0.002699   \n",
       "114.334755 -1.048828 -0.039062  0.019531           NaN           NaN   \n",
       "114.355995 -1.048828 -0.082031  0.000000           NaN           NaN   \n",
       "114.384065 -1.046875  0.044922  0.003906           NaN           NaN   \n",
       "114.406865 -1.050781  0.039062  0.041016     -0.001873           NaN   \n",
       "\n",
       "            Voltage (V)  Current (A)  Motor Electrical Speed (RPM)  \\\n",
       "Time (s)                                                             \n",
       "0.000000      12.113388    -0.030684                          3549   \n",
       "0.000000      12.113189    -0.030848                          3549   \n",
       "0.028420      12.113191    -0.030710                          3547   \n",
       "0.053785      12.112631    -0.029577                          3551   \n",
       "0.085815      12.112836    -0.029979                          3551   \n",
       "...                 ...          ...                           ...   \n",
       "114.307335    11.858910    -0.028646                          3575   \n",
       "114.334755    11.858849    -0.027530                          3581   \n",
       "114.355995    11.859149    -0.028600                          3583   \n",
       "114.384065    11.859285    -0.028192                          3584   \n",
       "114.406865    11.859436    -0.028253                          3585   \n",
       "\n",
       "            Motor Optical Speed (RPM)  Electrical Power (W)  \\\n",
       "Time (s)                                                      \n",
       "0.000000                            0              0.371690   \n",
       "0.000000                            0              0.373668   \n",
       "0.028420                            0              0.372001   \n",
       "0.053785                            0              0.358252   \n",
       "0.085815                            0              0.363130   \n",
       "...                               ...                   ...   \n",
       "114.307335                          0              0.339710   \n",
       "114.334755                          0              0.326472   \n",
       "114.355995                          0              0.339173   \n",
       "114.384065                          0              0.334337   \n",
       "114.406865                          0              0.335066   \n",
       "\n",
       "            Mechanical Power (W)  Motor Efficiency (%)  \\\n",
       "Time (s)                                                 \n",
       "0.000000                     NaN             32.812990   \n",
       "0.000000                0.120796             32.327004   \n",
       "0.028420                     NaN             32.456213   \n",
       "0.053785                     NaN             33.740975   \n",
       "0.085815                     NaN             33.280888   \n",
       "...                          ...                   ...   \n",
       "114.307335                   NaN            239.640186   \n",
       "114.334755                   NaN            249.806828   \n",
       "114.355995                   NaN            240.603262   \n",
       "114.384065                   NaN            244.154959   \n",
       "114.406865              0.703442            209.941201   \n",
       "\n",
       "            Propeller Mech. Efficiency (kgf/W)  Overall Efficiency (kgf/W)  \\\n",
       "Time (s)                                                                     \n",
       "0.000000                                   NaN                         NaN   \n",
       "0.000000                              0.010261                    0.003317   \n",
       "0.028420                                   NaN                         NaN   \n",
       "0.053785                                   NaN                         NaN   \n",
       "0.085815                                   NaN                         NaN   \n",
       "...                                        ...                         ...   \n",
       "114.307335                                 NaN                         NaN   \n",
       "114.334755                                 NaN                         NaN   \n",
       "114.355995                                 NaN                         NaN   \n",
       "114.384065                                 NaN                         NaN   \n",
       "114.406865                            0.003837                    0.008055   \n",
       "\n",
       "            Vibration (g) App message  \n",
       "Time (s)                               \n",
       "0.000000         0.279297         NaN  \n",
       "0.000000         0.279297         NaN  \n",
       "0.028420         0.281250         NaN  \n",
       "0.053785         0.279297         NaN  \n",
       "0.085815         0.277344         NaN  \n",
       "...                   ...         ...  \n",
       "114.307335       0.267578         NaN  \n",
       "114.334755       0.267578         NaN  \n",
       "114.355995       0.267578         NaN  \n",
       "114.384065       0.269531         NaN  \n",
       "114.406865       0.265625         NaN  \n",
       "\n",
       "[4649 rows x 20 columns]"
      ]
     },
     "execution_count": 350,
     "metadata": {},
     "output_type": "execute_result"
    }
   ],
   "source": [
    "front_data = pd.read_csv('Front_Normal.csv', index_col=0, usecols=range(21))\n",
    "front_data"
   ]
  },
  {
   "cell_type": "code",
   "execution_count": null,
   "metadata": {},
   "outputs": [],
   "source": []
  },
  {
   "cell_type": "code",
   "execution_count": 351,
   "metadata": {},
   "outputs": [],
   "source": [
    "# creating variables from colom elements\n",
    "thrust = front_data['Thrust (kgf)']\n",
    "rpm = front_data['Motor Electrical Speed (RPM)']\n",
    "pwm = front_data['ESC signal (µs)']\n",
    "torque = front_data['Torque (N·m)']"
   ]
  },
  {
   "cell_type": "code",
   "execution_count": 352,
   "metadata": {},
   "outputs": [],
   "source": [
    "#Values\n",
    "rho = 1.225 #kg/m^3\n",
    "r = 0.1778/2 #prop diam in m \n",
    "s = np.pi*r*r"
   ]
  },
  {
   "cell_type": "code",
   "execution_count": 353,
   "metadata": {},
   "outputs": [],
   "source": [
    "#math to solve ct\n",
    "q = 0.5*rho*(rpm*(2*np.pi/60)*r)**2\n",
    "ct = thrust*(9.81)/(q*s)"
   ]
  },
  {
   "cell_type": "code",
   "execution_count": 354,
   "metadata": {},
   "outputs": [],
   "source": [
    "#math to nodimensionalize pwm aka voltage relation\n",
    "pwm_v = (pwm/1000)-1"
   ]
  },
  {
   "cell_type": "code",
   "execution_count": 376,
   "metadata": {},
   "outputs": [
    {
     "data": {
      "text/plain": [
       "[<matplotlib.lines.Line2D at 0x7ff7e76bd780>]"
      ]
     },
     "execution_count": 376,
     "metadata": {},
     "output_type": "execute_result"
    },
    {
     "data": {
      "image/png": "[encoded data removed]",
      "text/plain": [
       "<Figure size 432x288 with 1 Axes>"
      ]
     },
     "metadata": {
      "needs_background": "light"
     },
     "output_type": "display_data"
    }
   ],
   "source": [
    "plt.plot(time,thrust*9.81,'o')"
   ]
  },
  {
   "cell_type": "code",
   "execution_count": 378,
   "metadata": {},
   "outputs": [
    {
     "data": {
      "text/plain": [
       "[<matplotlib.lines.Line2D at 0x7ff7e7689748>]"
      ]
     },
     "execution_count": 378,
     "metadata": {},
     "output_type": "execute_result"
    },
    {
     "data": {
      "image/png": "[encoded data removed]",
      "text/plain": [
       "<Figure size 432x288 with 1 Axes>"
      ]
     },
     "metadata": {
      "needs_background": "light"
     },
     "output_type": "display_data"
    }
   ],
   "source": [
    "plt.plot(rpm,thrust,'o')"
   ]
  },
  {
   "cell_type": "code",
   "execution_count": 356,
   "metadata": {},
   "outputs": [
    {
     "data": {
      "text/plain": [
       "[<matplotlib.lines.Line2D at 0x7ff7ecd90e10>]"
      ]
     },
     "execution_count": 356,
     "metadata": {},
     "output_type": "execute_result"
    },
    {
     "data": {
      "image/png": "[encoded data removed]",
      "text/plain": [
       "<Figure size 432x288 with 1 Axes>"
      ]
     },
     "metadata": {
      "needs_background": "light"
     },
     "output_type": "display_data"
    }
   ],
   "source": [
    "plt.plot(pwm_v,ct, 'o')"
   ]
  },
  {
   "cell_type": "code",
   "execution_count": 357,
   "metadata": {},
   "outputs": [
    {
     "data": {
      "text/plain": [
       "[<matplotlib.lines.Line2D at 0x7ff7ecdc9b38>]"
      ]
     },
     "execution_count": 357,
     "metadata": {},
     "output_type": "execute_result"
    },
    {
     "data": {
      "image/png": "[encoded data removed]",
      "text/plain": [
       "<Figure size 432x288 with 1 Axes>"
      ]
     },
     "metadata": {
      "needs_background": "light"
     },
     "output_type": "display_data"
    }
   ],
   "source": [
    "#average of ct\n",
    "#ct = ct[500:3200]\n",
    "#pwm_v = pwm_v[500:3200]\n",
    "#num_ct = np.prod(ct.shape)\n",
    "plt.plot(pwm_v,ct, 'o')"
   ]
  },
  {
   "cell_type": "code",
   "execution_count": 358,
   "metadata": {},
   "outputs": [
    {
     "data": {
      "text/plain": [
       "0.014955039886102174"
      ]
     },
     "execution_count": 358,
     "metadata": {},
     "output_type": "execute_result"
    }
   ],
   "source": [
    "ct[12:78].mean()"
   ]
  },
  {
   "cell_type": "code",
   "execution_count": 359,
   "metadata": {},
   "outputs": [],
   "source": [
    "ct = ct[12:78]"
   ]
  },
  {
   "cell_type": "code",
   "execution_count": 360,
   "metadata": {},
   "outputs": [],
   "source": [
    "ct = ct[np.abs(ct-ct.mean()) <= (0.9*ct.std())]"
   ]
  },
  {
   "cell_type": "code",
   "execution_count": 361,
   "metadata": {},
   "outputs": [
    {
     "data": {
      "text/plain": [
       "4735.313706742262"
      ]
     },
     "execution_count": 361,
     "metadata": {},
     "output_type": "execute_result"
    }
   ],
   "source": [
    "q[12:78].mean()"
   ]
  },
  {
   "cell_type": "code",
   "execution_count": 362,
   "metadata": {},
   "outputs": [
    {
     "data": {
      "text/plain": [
       "0.024828666475777392"
      ]
     },
     "execution_count": 362,
     "metadata": {},
     "output_type": "execute_result"
    }
   ],
   "source": [
    "s"
   ]
  },
  {
   "cell_type": "code",
   "execution_count": 363,
   "metadata": {},
   "outputs": [
    {
     "data": {
      "text/plain": [
       "[<matplotlib.lines.Line2D at 0x7ff7ecdfef28>]"
      ]
     },
     "execution_count": 363,
     "metadata": {},
     "output_type": "execute_result"
    },
    {
     "data": {
      "image/png": "[encoded data removed]",
      "text/plain": [
       "<Figure size 432x288 with 1 Axes>"
      ]
     },
     "metadata": {
      "needs_background": "light"
     },
     "output_type": "display_data"
    }
   ],
   "source": [
    "plt.plot(ct,'o')"
   ]
  },
  {
   "cell_type": "code",
   "execution_count": 364,
   "metadata": {},
   "outputs": [
    {
     "data": {
      "text/plain": [
       "0.015169113148180063"
      ]
     },
     "execution_count": 364,
     "metadata": {},
     "output_type": "execute_result"
    }
   ],
   "source": [
    "ct.mean()"
   ]
  },
  {
   "cell_type": "code",
   "execution_count": 365,
   "metadata": {},
   "outputs": [
    {
     "data": {
      "text/plain": [
       "0.016363205298362826"
      ]
     },
     "execution_count": 365,
     "metadata": {},
     "output_type": "execute_result"
    }
   ],
   "source": [
    "ct.max()"
   ]
  },
  {
   "cell_type": "code",
   "execution_count": 366,
   "metadata": {},
   "outputs": [
    {
     "data": {
      "text/plain": [
       "0.013552109160470472"
      ]
     },
     "execution_count": 366,
     "metadata": {},
     "output_type": "execute_result"
    }
   ],
   "source": [
    "ct.min()"
   ]
  },
  {
   "cell_type": "code",
   "execution_count": 367,
   "metadata": {},
   "outputs": [
    {
     "data": {
      "text/plain": [
       "[<matplotlib.lines.Line2D at 0x7ff7ecdf8b00>]"
      ]
     },
     "execution_count": 367,
     "metadata": {},
     "output_type": "execute_result"
    },
    {
     "data": {
      "image/png": "[encoded data removed]",
      "text/plain": [
       "<Figure size 432x288 with 1 Axes>"
      ]
     },
     "metadata": {
      "needs_background": "light"
     },
     "output_type": "display_data"
    }
   ],
   "source": [
    "#torque section\n",
    "plt.plot(torque,'o')"
   ]
  },
  {
   "cell_type": "code",
   "execution_count": 368,
   "metadata": {},
   "outputs": [
    {
     "data": {
      "text/plain": [
       "[<matplotlib.lines.Line2D at 0x7ff7e779dd68>]"
      ]
     },
     "execution_count": 368,
     "metadata": {},
     "output_type": "execute_result"
    },
    {
     "data": {
      "image/png": "[encoded data removed]",
      "text/plain": [
       "<Figure size 432x288 with 1 Axes>"
      ]
     },
     "metadata": {
      "needs_background": "light"
     },
     "output_type": "display_data"
    }
   ],
   "source": [
    "c_torque = torque/(q*s)\n",
    "plt.plot(c_torque,'o')"
   ]
  },
  {
   "cell_type": "code",
   "execution_count": 369,
   "metadata": {},
   "outputs": [],
   "source": [
    "c_torque = c_torque[12:78]\n",
    "c_torque = c_torque[np.abs(c_torque-c_torque.mean()) <= (0.9*c_torque.std())]"
   ]
  },
  {
   "cell_type": "code",
   "execution_count": 370,
   "metadata": {},
   "outputs": [
    {
     "data": {
      "text/plain": [
       "[<matplotlib.lines.Line2D at 0x7ff7e77053c8>]"
      ]
     },
     "execution_count": 370,
     "metadata": {},
     "output_type": "execute_result"
    },
    {
     "data": {
      "image/png": "[encoded data removed]",
      "text/plain": [
       "<Figure size 432x288 with 1 Axes>"
      ]
     },
     "metadata": {
      "needs_background": "light"
     },
     "output_type": "display_data"
    }
   ],
   "source": [
    "plt.plot(c_torque,'o')"
   ]
  },
  {
   "cell_type": "code",
   "execution_count": 371,
   "metadata": {},
   "outputs": [
    {
     "data": {
      "text/plain": [
       "0.00030081539232903776"
      ]
     },
     "execution_count": 371,
     "metadata": {},
     "output_type": "execute_result"
    }
   ],
   "source": [
    "c_torque.mean()"
   ]
  },
  {
   "cell_type": "code",
   "execution_count": 372,
   "metadata": {},
   "outputs": [
    {
     "data": {
      "text/plain": [
       "0.00026626914213022824"
      ]
     },
     "execution_count": 372,
     "metadata": {},
     "output_type": "execute_result"
    }
   ],
   "source": [
    "c_torque.min()"
   ]
  },
  {
   "cell_type": "code",
   "execution_count": 373,
   "metadata": {},
   "outputs": [
    {
     "data": {
      "text/plain": [
       "0.00032361114480061645"
      ]
     },
     "execution_count": 373,
     "metadata": {},
     "output_type": "execute_result"
    }
   ],
   "source": [
    "c_torque.max()"
   ]
  },
  {
   "cell_type": "code",
   "execution_count": 374,
   "metadata": {},
   "outputs": [
    {
     "data": {
      "text/plain": [
       "1.6005111058071664"
      ]
     },
     "execution_count": 374,
     "metadata": {},
     "output_type": "execute_result"
    }
   ],
   "source": [
    "trust_test = ct.mean()*q*s\n",
    "trust_test.mean()\n"
   ]
  },
  {
   "cell_type": "code",
   "execution_count": null,
   "metadata": {},
   "outputs": [],
   "source": []
  },
  {
   "cell_type": "code",
   "execution_count": null,
   "metadata": {},
   "outputs": [],
   "source": []
  },
  {
   "cell_type": "code",
   "execution_count": null,
   "metadata": {},
   "outputs": [],
   "source": []
  }
 ],
 "metadata": {
  "kernelspec": {
   "display_name": "Python 3",
   "language": "python",
   "name": "python3"
  },
  "language_info": {
   "codemirror_mode": {
    "name": "ipython",
    "version": 3
   },
   "file_extension": ".py",
   "mimetype": "text/x-python",
   "name": "python",
   "nbconvert_exporter": "python",
   "pygments_lexer": "ipython3",
   "version": "3.7.3"
  }
 },
 "nbformat": 4,
 "nbformat_minor": 4
}
