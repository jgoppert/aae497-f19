{
 "cells": [
  {
   "cell_type": "code",
   "execution_count": 3,
   "metadata": {},
   "outputs": [],
   "source": [
    "%matplotlib inline\n",
    "\n",
    "import sys\n",
    "sys.path.insert(0, '../python/casadi_f16')\n",
    "import f16\n",
    "import control\n",
    "import numpy as np\n",
    "import matplotlib.pyplot as plt\n",
    "import scipy.linalg\n",
    "\n",
    "from analysis import loop_analysis, rlocus, bode\n",
    "\n",
    "plt.rcParams['figure.figsize'] = (10, 10)"
   ]
  },
  {
   "cell_type": "markdown",
   "metadata": {},
   "source": [
    "# Pitch-Rate CAS Design\n",
    "\n",
    "* Example 4.5-1\n",
    "* pg. 310"
   ]
  },
  {
   "cell_type": "code",
   "execution_count": 4,
   "metadata": {},
   "outputs": [
    {
     "ename": "TypeError",
     "evalue": "trim() missing 1 required positional argument: 's0'",
     "output_type": "error",
     "traceback": [
      "\u001b[0;31m---------------------------------------------------------------------------\u001b[0m",
      "\u001b[0;31mTypeError\u001b[0m                                 Traceback (most recent call last)",
      "\u001b[0;32m<ipython-input-4-3d0ecae3c098>\u001b[0m in \u001b[0;36m<module>\u001b[0;34m\u001b[0m\n\u001b[1;32m      1\u001b[0m \u001b[0mp\u001b[0m \u001b[0;34m=\u001b[0m \u001b[0mf16\u001b[0m\u001b[0;34m.\u001b[0m\u001b[0mParameters\u001b[0m\u001b[0;34m(\u001b[0m\u001b[0;34m)\u001b[0m\u001b[0;34m\u001b[0m\u001b[0;34m\u001b[0m\u001b[0m\n\u001b[0;32m----> 2\u001b[0;31m \u001b[0mx0\u001b[0m\u001b[0;34m,\u001b[0m \u001b[0mu0\u001b[0m \u001b[0;34m=\u001b[0m \u001b[0mf16\u001b[0m\u001b[0;34m.\u001b[0m\u001b[0mtrim\u001b[0m\u001b[0;34m(\u001b[0m\u001b[0mx\u001b[0m\u001b[0;34m=\u001b[0m\u001b[0mf16\u001b[0m\u001b[0;34m.\u001b[0m\u001b[0mState\u001b[0m\u001b[0;34m(\u001b[0m\u001b[0mVT\u001b[0m\u001b[0;34m=\u001b[0m\u001b[0;36m502\u001b[0m\u001b[0;34m)\u001b[0m\u001b[0;34m,\u001b[0m \u001b[0mp\u001b[0m\u001b[0;34m=\u001b[0m\u001b[0mp\u001b[0m\u001b[0;34m,\u001b[0m \u001b[0mphi_dot\u001b[0m\u001b[0;34m=\u001b[0m\u001b[0;36m0\u001b[0m\u001b[0;34m,\u001b[0m \u001b[0mtheta_dot\u001b[0m\u001b[0;34m=\u001b[0m\u001b[0;36m0\u001b[0m\u001b[0;34m,\u001b[0m \u001b[0mpsi_dot\u001b[0m\u001b[0;34m=\u001b[0m\u001b[0;36m0.0\u001b[0m\u001b[0;34m,\u001b[0m \u001b[0mgam\u001b[0m\u001b[0;34m=\u001b[0m\u001b[0;36m0\u001b[0m\u001b[0;34m)\u001b[0m\u001b[0;34m\u001b[0m\u001b[0;34m\u001b[0m\u001b[0m\n\u001b[0m",
      "\u001b[0;31mTypeError\u001b[0m: trim() missing 1 required positional argument: 's0'"
     ]
    }
   ],
   "source": [
    "p = f16.Parameters()\n",
    "x0, u0 = f16.trim(s0=[0, 0, 0, 0, 0, 0] x=f16.State(VT=502), p=p, phi_dot=0, theta_dot=0, psi_dot=0.0, gam=0)"
   ]
  },
  {
   "cell_type": "code",
   "execution_count": 5,
   "metadata": {},
   "outputs": [
    {
     "ename": "NameError",
     "evalue": "name 'x0' is not defined",
     "output_type": "error",
     "traceback": [
      "\u001b[0;31m---------------------------------------------------------------------------\u001b[0m",
      "\u001b[0;31mNameError\u001b[0m                                 Traceback (most recent call last)",
      "\u001b[0;32m<ipython-input-5-04a2df15ffc7>\u001b[0m in \u001b[0;36m<module>\u001b[0;34m\u001b[0m\n\u001b[1;32m      6\u001b[0m         rdr_cmd_deg=u0.rdr_cmd_deg)\n\u001b[1;32m      7\u001b[0m \u001b[0;34m\u001b[0m\u001b[0m\n\u001b[0;32m----> 8\u001b[0;31m \u001b[0mf_control\u001b[0m\u001b[0;34m(\u001b[0m\u001b[0;36m0\u001b[0m\u001b[0;34m,\u001b[0m \u001b[0mx0\u001b[0m\u001b[0;34m)\u001b[0m\u001b[0;34m\u001b[0m\u001b[0;34m\u001b[0m\u001b[0m\n\u001b[0m",
      "\u001b[0;31mNameError\u001b[0m: name 'x0' is not defined"
     ]
    }
   ],
   "source": [
    "def f_control(t, x):\n",
    "    return f16.Control(\n",
    "        thtl=u0.thtl,\n",
    "        ail_cmd_deg=u0.ail_cmd_deg,\n",
    "        elv_cmd_deg=u0.elv_cmd_deg + 1*np.sin(2*np.pi*2*t),\n",
    "        rdr_cmd_deg=u0.rdr_cmd_deg)\n",
    "\n",
    "f_control(0, x0)"
   ]
  },
  {
   "cell_type": "code",
   "execution_count": null,
   "metadata": {},
   "outputs": [],
   "source": [
    "res = f16.simulate(x0, f_control, p, 0, 20, 0.01)\n",
    "plt.plot(res['t'], np.rad2deg(res['x'][:, f16.State().name_to_index('alpha')]))\n",
    "plt.xlabel('t ,sec')\n",
    "plt.ylabel(r'$\\alpha$, deg')\n",
    "plt.grid()\n",
    "plt.title('angle of attack')"
   ]
  },
  {
   "cell_type": "code",
   "execution_count": null,
   "metadata": {},
   "outputs": [],
   "source": [
    "res = f16.simulate(x0, f_control, p, 0, 20, 0.01)\n",
    "\n",
    "plt.plot(res['x'][:, f16.State().name_to_index('p_E')], res['x'][:, f16.State().name_to_index('p_N')])\n",
    "plt.axis('equal');\n",
    "plt.xlabel('East, ft')\n",
    "plt.ylabel('North, ft')\n",
    "plt.grid()\n",
    "plt.title('trajectory')"
   ]
  },
  {
   "cell_type": "code",
   "execution_count": null,
   "metadata": {},
   "outputs": [],
   "source": [
    "def f_control(t, x):\n",
    "    print(x)\n",
    "    return f16.Control(\n",
    "        thtl=u0.thtl,\n",
    "        ail_cmd_deg=u0.ail_cmd_deg,\n",
    "        elv_cmd_deg=u0.elv_cmd_deg + 1*np.sin(2*np.pi*2*t),\n",
    "        rdr_cmd_deg=u0.rdr_cmd_deg)"
   ]
  },
  {
   "cell_type": "code",
   "execution_count": null,
   "metadata": {},
   "outputs": [],
   "source": [
    "def select(n, i):\n",
    "    D = np.zeros((1, n))\n",
    "    D[0, i] = 1\n",
    "    return control.ss([], [], [], D)"
   ]
  },
  {
   "cell_type": "code",
   "execution_count": null,
   "metadata": {},
   "outputs": [],
   "source": [
    "ss = f16.linearize(x0, u0, p)\n",
    "s = control.tf([1, 0], [0, 1])\n",
    "G = -(180/np.pi)*ss.sub_system(x=['alpha', 'Q', 'elv_deg'],\n",
    "                  u=['elv_cmd_deg'], y=['alpha', 'Q']).to_control()\n",
    "sys3 = control.feedback(G, 0.2*10/(s+10)*select(2, 0))\n",
    "sys3"
   ]
  },
  {
   "cell_type": "code",
   "execution_count": null,
   "metadata": {},
   "outputs": [],
   "source": [
    "from analysis import rlocus\n",
    "H = (10/(s+10))*select(2, 0)\n",
    "plt.figure()\n",
    "kalpha = 0.2\n",
    "rlocus('alpha', control.minreal(H*G), kvect=np.linspace(0, 10, 1000), k=kalpha);\n",
    "plt.plot([0, -2], [0, 2], '--')\n",
    "plt.axis([-21, 0, -8, 8])"
   ]
  },
  {
   "cell_type": "code",
   "execution_count": null,
   "metadata": {},
   "outputs": [],
   "source": [
    "plt.figure()\n",
    "sys3 = control.feedback(G, kalpha*(10/(s+10))*select(2, 0))\n",
    "rlocus('p', (s+3)/s*sys3[1, 0], kvect=np.linspace(0, 1, 1000), k=1)\n",
    "plt.plot([0, -10], [0, 10*np.cos(0.707)], '--')\n",
    "#plt.axis([-20, 0, -5, 5])"
   ]
  },
  {
   "cell_type": "code",
   "execution_count": null,
   "metadata": {},
   "outputs": [],
   "source": [
    "bode('test', (s+3)/s*sys3[1, 0], omega=np.logspace(-2, 4), margins=True, Hz=True)"
   ]
  }
 ],
 "metadata": {
  "kernelspec": {
   "display_name": "Python 3",
   "language": "python",
   "name": "python3"
  },
  "language_info": {
   "codemirror_mode": {
    "name": "ipython",
    "version": 3
   },
   "file_extension": ".py",
   "mimetype": "text/x-python",
   "name": "python",
   "nbconvert_exporter": "python",
   "pygments_lexer": "ipython3",
   "version": "3.7.3"
  }
 },
 "nbformat": 4,
 "nbformat_minor": 4
}
