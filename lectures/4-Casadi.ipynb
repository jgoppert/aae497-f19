{
 "cells": [
  {
   "cell_type": "code",
   "execution_count": 1,
   "metadata": {},
   "outputs": [],
   "source": [
    "import casadi as ca\n",
    "import matplotlib.pyplot as plt\n",
    "import numpy as np\n",
    "import matplotlib.patches as patches\n",
    "\n",
    "from matplotlib import animation, rc\n",
    "from IPython.display import HTML\n",
    "\n",
    "from casadi.tools.graph import dotgraph\n",
    "from IPython.display import Image\n",
    "\n",
    "def draw_graph(expr):\n",
    "    return Image(dotgraph(expr).create_png())"
   ]
  },
  {
   "cell_type": "markdown",
   "metadata": {},
   "source": [
    "# Inverted Pendulum on Cart\n",
    "\n",
    "* [Dynamics Derivation](https://en.wikipedia.org/wiki/Inverted_pendulum)"
   ]
  },
  {
   "cell_type": "code",
   "execution_count": 15,
   "metadata": {},
   "outputs": [],
   "source": [
    "def inv_pend_cart_ode():\n",
    "    \"\"\"\n",
    "    Defines and ordinary differential equation for an inverted pendulum on a cart.\n",
    "    \"\"\"\n",
    "    \n",
    "    M = ca.MX.sym('M')  # cart mass\n",
    "    m = ca.MX.sym('m')  # pendulum mass\n",
    "    g = ca.MX.sym('g')  # accel of gravity\n",
    "    l = ca.MX.sym('l')  # length of pendulum\n",
    "    u = ca.MX.sym('u')  # input force\n",
    "    \n",
    "    # cart position and derivatives\n",
    "    x = ca.MX.sym('x')  \n",
    "    xd = ca.MX.sym('xd')\n",
    "    xdd = ca.MX.sym('xdd')\n",
    "\n",
    "    # pendulum angle and derivatives\n",
    "    theta = ca.MX.sym('theta')\n",
    "    thetad = ca.MX.sym('thetad')\n",
    "    thetadd = ca.MX.sym('thetadd')\n",
    "\n",
    "    # equations of motion as given in wiki link above\n",
    "    eq1 = (M + m)*xdd - m*l*thetadd*ca.cos(theta) + m*l*thetad**2*ca.sin(theta) - u\n",
    "    eq2 = l*thetadd - g*ca.sin(theta) -xdd*ca.cos(theta)\n",
    "    eq_list = ca.vertcat(eq1, eq2)\n",
    "    \n",
    "    # this is a nonlinear system of equations, but we can solve for xdd, and thetadd using the jacobian, which is exact\n",
    "    # since xdd and thetadd only appear linearly\n",
    "    A = ca.jacobian(eq_list, ca.vertcat(thetadd, xdd))\n",
    "    b = ca.substitute(eq_list, ca.vertcat(thetadd, xdd), ca.vertcat(0, 0))\n",
    "    sol = ca.solve(A, b)\n",
    "    ode = {}\n",
    "    x = ca.vertcat(theta, thetad, x, xd)\n",
    "    p = ca.vertcat(m, M, l, g, u)\n",
    "    rhs = ca.vertcat(thetad, sol[0], xd, sol[1])\n",
    "    ode['x'] = x  # state\n",
    "    ode['p'] = p # parameters\n",
    "    ode['ode'] = rhs  # right hand side X-dot\n",
    "    rhs = ca.Function('rhs', [x, p], [rhs], ['x', 'p'], ['rhs'])\n",
    "    return ode, rhs"
   ]
  },
  {
   "cell_type": "code",
   "execution_count": 16,
   "metadata": {},
   "outputs": [],
   "source": [
    "def simulate_ode(ode, x0, f_p=None, t0=0, tf=10, dt=0.01):\n",
    "    \"\"\"\n",
    "    Simulates an ordinary differential equation.\n",
    "    \n",
    "    Paramers:\n",
    "    ode: A dictionary describing the ode in the Casadi format.\n",
    "    x0: Initial state.\n",
    "    f_p: A function of time and state that generates the parameters f_p(t, x)\n",
    "    t0: Initial time.\n",
    "    tf: Final time.\n",
    "    dt: The time-step for discrete updates and recording data.\n",
    "    \n",
    "    Return:\n",
    "    data: A dictionary with keys for time: 't', and state: 'x'\n",
    "    \"\"\"\n",
    "    t_vect = np.arange(t0, tf, dt)\n",
    "    data = {\n",
    "        't': [],\n",
    "        'x': []\n",
    "    }\n",
    "    x = np.array(x0).reshape(-1)\n",
    "    for t in t_vect:\n",
    "        sim = ca.integrator('integrator', 'cvodes', ode, {'t0': t, 'tf': t + dt})\n",
    "        res = sim(x0=x, p=f_p(t, x))\n",
    "        x = np.array(res['xf']).reshape(-1)\n",
    "        data['t'].append(t)\n",
    "        data['x'].append(x)\n",
    "\n",
    "    for k in data.keys():\n",
    "        data[k] = np.array(data[k])\n",
    "    return data"
   ]
  },
  {
   "cell_type": "code",
   "execution_count": 17,
   "metadata": {},
   "outputs": [],
   "source": [
    "def inv_pend_cart_anim(data, xmin=-1, xmax=4):\n",
    "    \"\"\"\n",
    "    Creates a simple animation of an inverted pendulum on a cart.\n",
    "    \"\"\"\n",
    "    # First set up the figure, the axis, and the plot element we want to animate\n",
    "    fig = plt.figure()\n",
    "    ax = plt.gca()\n",
    "\n",
    "    ax.set_xlim((xmin, xmax))\n",
    "    ax.set_ylim((-1.5, 1.5))\n",
    "\n",
    "    line, = ax.plot([], [], lw=2)\n",
    "    circle = patches.Circle((0, 0), 0.1, fc='none', ec='k')\n",
    "    rect = patches.Rectangle((-0.5, 0), 0.2, 0.2, fc='none', ec='k')\n",
    "    ax.add_artist(circle)\n",
    "    ax.add_artist(rect)\n",
    "\n",
    "    # initialization function: plot the background of each frame\n",
    "    def init():\n",
    "        return (line, circle, rect,)\n",
    "\n",
    "    # animation function. This is called sequentially\n",
    "    def animate(i):\n",
    "        j = int(len(data['t'])/100*i)\n",
    "        theta = data['x'][j, 0]\n",
    "        x = data['x'][j, 2]\n",
    "        rect.set_xy((x - 0.1, -0.1))\n",
    "        line.set_data([[x, x - np.sin(theta)], [0, -np.cos(theta)]])\n",
    "        circle.set_center((x - np.sin(theta), -np.cos(theta)))\n",
    "        return (line,)\n",
    "\n",
    "    # call the animator. blit=True means only re-draw the parts that have changed.\n",
    "    anim = animation.FuncAnimation(fig, animate, init_func=init,\n",
    "                                   frames=100, interval=100, blit=True)\n",
    "    plt.close()\n",
    "    return anim"
   ]
  },
  {
   "cell_type": "code",
   "execution_count": 5,
   "metadata": {},
   "outputs": [
    {
     "name": "stdout",
     "output_type": "stream",
     "text": [
      "{'x': MX(vertcat(theta, thetad, x, xd)), 'p': MX(vertcat(m, M, l, g, u)), 'ode': MX(@1=vertsplit(ones(2x1,1nz)){0}, @2=vertsplit(ones(2x1,1nz)){1}, @3=(((zeros(2x2)[:4:2] = vertcat((-(cos(theta)*((m*l)*@1))), (l*@1)))[1:5:2] = vertcat(((M+m)*@2), (-(cos(theta)*@2))))'\\vertcat(((((m*l)*sq(thetad))*sin(theta))-u), (-(g*sin(theta))))), vertcat(thetad, @3[0], xd, @3[1]))}\n"
     ]
    },
    {
     "ename": "RuntimeError",
     "evalue": "Requested MovieWriter (ffmpeg) not available",
     "output_type": "error",
     "traceback": [
      "\u001b[0;31m---------------------------------------------------------------------------\u001b[0m",
      "\u001b[0;31mKeyError\u001b[0m                                  Traceback (most recent call last)",
      "\u001b[0;32m~/anaconda3/envs/aae497-f19/lib/python3.7/site-packages/matplotlib/animation.py\u001b[0m in \u001b[0;36m__getitem__\u001b[0;34m(self, name)\u001b[0m\n\u001b[1;32m    160\u001b[0m         \u001b[0;32mtry\u001b[0m\u001b[0;34m:\u001b[0m\u001b[0;34m\u001b[0m\u001b[0;34m\u001b[0m\u001b[0m\n\u001b[0;32m--> 161\u001b[0;31m             \u001b[0;32mreturn\u001b[0m \u001b[0mself\u001b[0m\u001b[0;34m.\u001b[0m\u001b[0mavail\u001b[0m\u001b[0;34m[\u001b[0m\u001b[0mname\u001b[0m\u001b[0;34m]\u001b[0m\u001b[0;34m\u001b[0m\u001b[0;34m\u001b[0m\u001b[0m\n\u001b[0m\u001b[1;32m    162\u001b[0m         \u001b[0;32mexcept\u001b[0m \u001b[0mKeyError\u001b[0m\u001b[0;34m:\u001b[0m\u001b[0;34m\u001b[0m\u001b[0;34m\u001b[0m\u001b[0m\n",
      "\u001b[0;31mKeyError\u001b[0m: 'ffmpeg'",
      "\nDuring handling of the above exception, another exception occurred:\n",
      "\u001b[0;31mRuntimeError\u001b[0m                              Traceback (most recent call last)",
      "\u001b[0;32m<ipython-input-5-fae9a58050fa>\u001b[0m in \u001b[0;36m<module>\u001b[0;34m\u001b[0m\n\u001b[1;32m      3\u001b[0m \u001b[0mdata\u001b[0m \u001b[0;34m=\u001b[0m \u001b[0msimulate_ode\u001b[0m\u001b[0;34m(\u001b[0m\u001b[0mode\u001b[0m\u001b[0;34m=\u001b[0m\u001b[0mode\u001b[0m\u001b[0;34m,\u001b[0m \u001b[0mx0\u001b[0m\u001b[0;34m=\u001b[0m\u001b[0;34m(\u001b[0m\u001b[0;36m3.14\u001b[0m\u001b[0;34m,\u001b[0m \u001b[0;36m0\u001b[0m\u001b[0;34m,\u001b[0m \u001b[0;36m0\u001b[0m\u001b[0;34m,\u001b[0m \u001b[0;36m0\u001b[0m\u001b[0;34m)\u001b[0m\u001b[0;34m,\u001b[0m \u001b[0mf_p\u001b[0m\u001b[0;34m=\u001b[0m\u001b[0;32mlambda\u001b[0m \u001b[0mt\u001b[0m\u001b[0;34m,\u001b[0m \u001b[0mx\u001b[0m\u001b[0;34m:\u001b[0m \u001b[0;34m(\u001b[0m\u001b[0;36m1\u001b[0m\u001b[0;34m,\u001b[0m \u001b[0;36m2\u001b[0m\u001b[0;34m,\u001b[0m \u001b[0;36m1\u001b[0m\u001b[0;34m,\u001b[0m \u001b[0;36m9.8\u001b[0m\u001b[0;34m,\u001b[0m \u001b[0;36m0\u001b[0m\u001b[0;34m)\u001b[0m\u001b[0;34m)\u001b[0m\u001b[0;34m\u001b[0m\u001b[0;34m\u001b[0m\u001b[0m\n\u001b[1;32m      4\u001b[0m \u001b[0manim\u001b[0m \u001b[0;34m=\u001b[0m \u001b[0minv_pend_cart_anim\u001b[0m\u001b[0;34m(\u001b[0m\u001b[0mdata\u001b[0m\u001b[0;34m)\u001b[0m\u001b[0;34m\u001b[0m\u001b[0;34m\u001b[0m\u001b[0m\n\u001b[0;32m----> 5\u001b[0;31m \u001b[0mHTML\u001b[0m\u001b[0;34m(\u001b[0m\u001b[0manim\u001b[0m\u001b[0;34m.\u001b[0m\u001b[0mto_html5_video\u001b[0m\u001b[0;34m(\u001b[0m\u001b[0;34m)\u001b[0m\u001b[0;34m)\u001b[0m\u001b[0;34m\u001b[0m\u001b[0;34m\u001b[0m\u001b[0m\n\u001b[0m",
      "\u001b[0;32m~/anaconda3/envs/aae497-f19/lib/python3.7/site-packages/matplotlib/animation.py\u001b[0m in \u001b[0;36mto_html5_video\u001b[0;34m(self, embed_limit)\u001b[0m\n\u001b[1;32m   1324\u001b[0m                 \u001b[0;31m# We create a writer manually so that we can get the\u001b[0m\u001b[0;34m\u001b[0m\u001b[0;34m\u001b[0m\u001b[0;34m\u001b[0m\u001b[0m\n\u001b[1;32m   1325\u001b[0m                 \u001b[0;31m# appropriate size for the tag\u001b[0m\u001b[0;34m\u001b[0m\u001b[0;34m\u001b[0m\u001b[0;34m\u001b[0m\u001b[0m\n\u001b[0;32m-> 1326\u001b[0;31m                 \u001b[0mWriter\u001b[0m \u001b[0;34m=\u001b[0m \u001b[0mwriters\u001b[0m\u001b[0;34m[\u001b[0m\u001b[0mrcParams\u001b[0m\u001b[0;34m[\u001b[0m\u001b[0;34m'animation.writer'\u001b[0m\u001b[0;34m]\u001b[0m\u001b[0;34m]\u001b[0m\u001b[0;34m\u001b[0m\u001b[0;34m\u001b[0m\u001b[0m\n\u001b[0m\u001b[1;32m   1327\u001b[0m                 writer = Writer(codec='h264',\n\u001b[1;32m   1328\u001b[0m                                 \u001b[0mbitrate\u001b[0m\u001b[0;34m=\u001b[0m\u001b[0mrcParams\u001b[0m\u001b[0;34m[\u001b[0m\u001b[0;34m'animation.bitrate'\u001b[0m\u001b[0;34m]\u001b[0m\u001b[0;34m,\u001b[0m\u001b[0;34m\u001b[0m\u001b[0;34m\u001b[0m\u001b[0m\n",
      "\u001b[0;32m~/anaconda3/envs/aae497-f19/lib/python3.7/site-packages/matplotlib/animation.py\u001b[0m in \u001b[0;36m__getitem__\u001b[0;34m(self, name)\u001b[0m\n\u001b[1;32m    162\u001b[0m         \u001b[0;32mexcept\u001b[0m \u001b[0mKeyError\u001b[0m\u001b[0;34m:\u001b[0m\u001b[0;34m\u001b[0m\u001b[0;34m\u001b[0m\u001b[0m\n\u001b[1;32m    163\u001b[0m             raise RuntimeError(\n\u001b[0;32m--> 164\u001b[0;31m                 'Requested MovieWriter ({}) not available'.format(name))\n\u001b[0m\u001b[1;32m    165\u001b[0m \u001b[0;34m\u001b[0m\u001b[0m\n\u001b[1;32m    166\u001b[0m \u001b[0;34m\u001b[0m\u001b[0m\n",
      "\u001b[0;31mRuntimeError\u001b[0m: Requested MovieWriter (ffmpeg) not available"
     ]
    }
   ],
   "source": [
    "ode, rhs = inv_pend_cart_ode()\n",
    "print(ode)\n",
    "data = simulate_ode(ode=ode, x0=(3.14, 0, 0, 0), f_p=lambda t, x: (1, 2, 1, 9.8, 0))\n",
    "anim = inv_pend_cart_anim(data)\n",
    "HTML(anim.to_html5_video())"
   ]
  },
  {
   "cell_type": "markdown",
   "metadata": {},
   "source": [
    "# Designing a Stand Maneuver with Casadi"
   ]
  },
  {
   "cell_type": "markdown",
   "metadata": {},
   "source": [
    "This is a straight-forward approach to designing a control input to perform a maneuver with a fixed number of steps. A better approach here would be to design instead the switching time of the input direction, with the magnitude fixed. This doesn't allow the use of the CVODES solver, since the time duration itself is the input. Switching to the rk integration method should allow this approach for the interested reader."
   ]
  },
  {
   "cell_type": "code",
   "execution_count": null,
   "metadata": {},
   "outputs": [],
   "source": [
    "def find_stand_maneuver(n_steps=5, total_time=4):\n",
    "    ode, rhs = inv_pend_cart_ode()\n",
    "    t = ca.MX.sym('t')\n",
    "    dt = total_time/n_steps\n",
    "    t_vect = np.arange(0, total_time, dt)\n",
    "    F = ca.integrator('integrator', 'cvodes', ode, {'tf': dt})\n",
    "\n",
    "    x0 = ca.vertcat(0, 0, 0, 0)\n",
    "    xf = ca.vertcat(np.pi, 0, 0, 0)\n",
    "\n",
    "    m = ca.MX.sym('m')\n",
    "    M = ca.MX.sym('M')\n",
    "    l = ca.MX.sym('l')\n",
    "    g = ca.MX.sym('g')\n",
    "\n",
    "    x = x0\n",
    "    u = ca.MX.sym('u', n_steps)\n",
    "\n",
    "    for i in range(n_steps):\n",
    "        res = F(x0=x, p=ca.vertcat(m, M, l, g, u[i]))\n",
    "        x = res['xf']\n",
    "    #dx = rhs(x, ca.vertcat(m, M, l, g, 0))\n",
    "    \n",
    "    constraint = ca.dot(x - xf, x - xf)\n",
    "    nlp = {'x':u,'f':ca.dot(u,u),'g':constraint, 'p': ca.vertcat(m, M, l, g)}\n",
    "\n",
    "    # Solve using IPOPT\n",
    "    solver = ca.nlpsol('solver', 'ipopt', nlp, {\n",
    "        'print_time': 1,\n",
    "        'ipopt': {\n",
    "            'sb': 'yes',\n",
    "            'print_level': 2,\n",
    "            'max_iter': 500,\n",
    "        }\n",
    "    })\n",
    "    res = solver(x0=0, p=(1, 2, 1, 9.8), lbg=0, ubg=0)\n",
    "    u_vect = np.array(res['x']).reshape(-1).tolist()\n",
    "    u_vect.append(0)\n",
    "    t_vect = np.array(t_vect).reshape(-1).tolist()\n",
    "    t_vect.append(t_vect[-1] + dt)\n",
    "    return u_vect, t_vect\n",
    "\n",
    "u_vect, t_vect = find_stand_maneuver()"
   ]
  },
  {
   "cell_type": "code",
   "execution_count": null,
   "metadata": {},
   "outputs": [],
   "source": [
    "def create_piecewise(t_vect, u_vect):\n",
    "    # create function\n",
    "    t = ca.MX.sym('t')\n",
    "    expr = u_vect[-1]\n",
    "    n = len(t_vect)\n",
    "    for i in range(n-1, -1, -1):\n",
    "        expr = ca.if_else(t < t_vect[i], u_vect[i - 1], expr)\n",
    "    expr = ca.if_else(t < 0, 0, expr)\n",
    "    f_stand = ca.Function('u', [t], [expr], ['t'], ['u'])\n",
    "    return f_stand"
   ]
  },
  {
   "cell_type": "code",
   "execution_count": null,
   "metadata": {},
   "outputs": [],
   "source": [
    "f_stand = create_piecewise(t_vect, u_vect)\n",
    "t = np.linspace(-1, 6, 1000)\n",
    "plt.plot(t, f_stand(t))\n",
    "plt.plot(t_vect, u_vect)\n",
    "plt.grid()"
   ]
  },
  {
   "cell_type": "code",
   "execution_count": null,
   "metadata": {},
   "outputs": [],
   "source": [
    "data_stand = simulate_ode(ode=ode, x0=(0, 0, 0, 0), f_p=lambda t, x: ca.vertcat(1, 2, 9.8, 1, f_stand(t)), tf=4)\n",
    "anim_stand = inv_pend_cart_anim(data_stand, xmin=0, xmax=40)\n",
    "HTML(anim_stand.to_html5_video())"
   ]
  },
  {
   "cell_type": "code",
   "execution_count": null,
   "metadata": {},
   "outputs": [],
   "source": [
    "plt.plot(data_stand['t'], data_stand['x'][:, 0], label='theta')\n",
    "plt.plot(data_stand['t'], data_stand['x'][:, 1], label='thetad')\n",
    "\n",
    "plt.plot([4], [np.pi], 'r*')"
   ]
  }
 ],
 "metadata": {
  "kernelspec": {
   "display_name": "Python 3",
   "language": "python",
   "name": "python3"
  },
  "language_info": {
   "codemirror_mode": {
    "name": "ipython",
    "version": 3
   },
   "file_extension": ".py",
   "mimetype": "text/x-python",
   "name": "python",
   "nbconvert_exporter": "python",
   "pygments_lexer": "ipython3",
   "version": "3.7.3"
  }
 },
 "nbformat": 4,
 "nbformat_minor": 4
}
