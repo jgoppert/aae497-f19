{
 "cells": [
  {
   "cell_type": "markdown",
   "metadata": {},
   "source": [
    "# Jupyter Lab"
   ]
  },
  {
   "cell_type": "markdown",
   "metadata": {},
   "source": [
    "There are two main types of cells in JupyterLab. Markdown cells and code cells. This is a markdown cell. You can select the cell type from the bar at the top, or when it editing mode (Esc) you can press (M).\n",
    "\n",
    "Try clicking this cell and editing the equations below:\n",
    "\n",
    "$E=mc^2$."
   ]
  },
  {
   "cell_type": "markdown",
   "metadata": {},
   "source": [
    "Below we have a code cell where we are going to add our f16 code to the path for jupyterlab."
   ]
  },
  {
   "cell_type": "markdown",
   "metadata": {},
   "source": [
    "## List\n",
    "\n",
    "* Mutable (you can change it)\n",
    "* Ordered"
   ]
  },
  {
   "cell_type": "code",
   "execution_count": 1,
   "metadata": {},
   "outputs": [
    {
     "name": "stdout",
     "output_type": "stream",
     "text": [
      "[1, 2, 3, 4]\n"
     ]
    }
   ],
   "source": [
    "my_list = [1, 2, 3, 4]\n",
    "print(my_list)"
   ]
  },
  {
   "cell_type": "code",
   "execution_count": 2,
   "metadata": {},
   "outputs": [
    {
     "data": {
      "text/plain": [
       "[6, 2, 3, 4]"
      ]
     },
     "execution_count": 2,
     "metadata": {},
     "output_type": "execute_result"
    }
   ],
   "source": [
    "my_list[0] = 6\n",
    "my_list # note this will print by default"
   ]
  },
  {
   "cell_type": "markdown",
   "metadata": {},
   "source": [
    "You may also create lists on the fly using list comprehension, this is like a compact for loop:"
   ]
  },
  {
   "cell_type": "code",
   "execution_count": 3,
   "metadata": {},
   "outputs": [
    {
     "data": {
      "text/plain": [
       "[5, 7, 9]"
      ]
     },
     "execution_count": 3,
     "metadata": {},
     "output_type": "execute_result"
    }
   ],
   "source": [
    "my_quick_list = [2*k + 3 for k in [1, 2, 3]]\n",
    "my_quick_list"
   ]
  },
  {
   "cell_type": "markdown",
   "metadata": {},
   "source": [
    "## Tuple\n",
    "\n",
    "* Non-Mutable (you can't change it)\n",
    "* Ordered"
   ]
  },
  {
   "cell_type": "code",
   "execution_count": 4,
   "metadata": {},
   "outputs": [
    {
     "data": {
      "text/plain": [
       "(1, 2, 3, 4)"
      ]
     },
     "execution_count": 4,
     "metadata": {},
     "output_type": "execute_result"
    }
   ],
   "source": [
    "my_tuple = (1, 2, 3, 4)\n",
    "my_tuple"
   ]
  },
  {
   "cell_type": "code",
   "execution_count": 5,
   "metadata": {},
   "outputs": [
    {
     "ename": "TypeError",
     "evalue": "'tuple' object does not support item assignment",
     "output_type": "error",
     "traceback": [
      "\u001b[0;31m---------------------------------------------------------------------------\u001b[0m",
      "\u001b[0;31mTypeError\u001b[0m                                 Traceback (most recent call last)",
      "\u001b[0;32m<ipython-input-5-f603c124c851>\u001b[0m in \u001b[0;36m<module>\u001b[0;34m\u001b[0m\n\u001b[0;32m----> 1\u001b[0;31m \u001b[0mmy_tuple\u001b[0m\u001b[0;34m[\u001b[0m\u001b[0;36m0\u001b[0m\u001b[0;34m]\u001b[0m \u001b[0;34m=\u001b[0m \u001b[0;36m1\u001b[0m\u001b[0;34m\u001b[0m\u001b[0;34m\u001b[0m\u001b[0m\n\u001b[0m",
      "\u001b[0;31mTypeError\u001b[0m: 'tuple' object does not support item assignment"
     ]
    }
   ],
   "source": [
    "my_tuple[0] = 1"
   ]
  },
  {
   "cell_type": "code",
   "execution_count": null,
   "metadata": {},
   "outputs": [],
   "source": [
    "my_quick_tuple = (2*k + 3 for k in [1, 2, 3]) # this forms a generator\n",
    "my_quick_tuple\n",
    "for data in my_quick_tuple:\n",
    "    print(data)"
   ]
  },
  {
   "cell_type": "markdown",
   "metadata": {},
   "source": [
    "## Dictionary\n",
    "\n",
    "* A map between keys and values\n",
    "* Mutablemy_tuple can change it)\n",
    "* Key access (fast translation from key to element location using a Hashmap)\n",
    "* Not-ordered"
   ]
  },
  {
   "cell_type": "code",
   "execution_count": null,
   "metadata": {},
   "outputs": [],
   "source": [
    "object_colors = {\n",
    "    'car': 'red',\n",
    "    'tree': 'green',\n",
    "}"
   ]
  },
  {
   "cell_type": "code",
   "execution_count": null,
   "metadata": {},
   "outputs": [],
   "source": [
    "object_colors['car']"
   ]
  },
  {
   "cell_type": "markdown",
   "metadata": {},
   "source": [
    "If a key is not defined it will give an error."
   ]
  },
  {
   "cell_type": "code",
   "execution_count": null,
   "metadata": {},
   "outputs": [],
   "source": [
    "object_colors['table']"
   ]
  },
  {
   "cell_type": "markdown",
   "metadata": {},
   "source": [
    "If you assign to a key that is not defined, it will add it."
   ]
  },
  {
   "cell_type": "code",
   "execution_count": null,
   "metadata": {},
   "outputs": [],
   "source": [
    "object_colors['sky'] = 'blue'\n",
    "object_colors"
   ]
  },
  {
   "cell_type": "code",
   "execution_count": null,
   "metadata": {},
   "outputs": [],
   "source": [
    "my_quick_dict = {str(k): 2*k + 3 for k in [1, 2, 3]}\n",
    "my_quick_dict"
   ]
  },
  {
   "cell_type": "markdown",
   "metadata": {},
   "source": [
    "You can get a list of keys of the dict using:"
   ]
  },
  {
   "cell_type": "code",
   "execution_count": null,
   "metadata": {},
   "outputs": [],
   "source": [
    "my_quick_dict.keys()"
   ]
  },
  {
   "cell_type": "code",
   "execution_count": null,
   "metadata": {},
   "outputs": [],
   "source": [
    "my_quick_dict.values()"
   ]
  },
  {
   "cell_type": "code",
   "execution_count": null,
   "metadata": {},
   "outputs": [],
   "source": [
    "my_quick_dict.items()"
   ]
  },
  {
   "cell_type": "markdown",
   "metadata": {},
   "source": [
    "## Functions/ Control Statements/ Variable Scope\n",
    "\n",
    "Scope controls the lifte time of a variable. Variables created in functions are deleted when the function returns and they are nolonger used. Variables defined in a function are not globally defined. Variables in for/if loops are globally defined."
   ]
  },
  {
   "cell_type": "code",
   "execution_count": 55,
   "metadata": {},
   "outputs": [
    {
     "name": "stdout",
     "output_type": "stream",
     "text": [
      "9\n"
     ]
    }
   ],
   "source": [
    "for i in range(10):\n",
    "    c = i\n",
    "print(c)"
   ]
  },
  {
   "cell_type": "code",
   "execution_count": 56,
   "metadata": {},
   "outputs": [
    {
     "ename": "NameError",
     "evalue": "name 'd' is not defined",
     "output_type": "error",
     "traceback": [
      "\u001b[0;31m---------------------------------------------------------------------------\u001b[0m",
      "\u001b[0;31mNameError\u001b[0m                                 Traceback (most recent call last)",
      "\u001b[0;32m<ipython-input-56-9ba058888b16>\u001b[0m in \u001b[0;36m<module>\u001b[0;34m\u001b[0m\n\u001b[1;32m      1\u001b[0m \u001b[0;32mdef\u001b[0m \u001b[0mmy_function\u001b[0m\u001b[0;34m(\u001b[0m\u001b[0;34m)\u001b[0m\u001b[0;34m:\u001b[0m\u001b[0;34m\u001b[0m\u001b[0;34m\u001b[0m\u001b[0m\n\u001b[1;32m      2\u001b[0m     \u001b[0md\u001b[0m \u001b[0;34m=\u001b[0m \u001b[0;36m10\u001b[0m\u001b[0;34m\u001b[0m\u001b[0;34m\u001b[0m\u001b[0m\n\u001b[0;32m----> 3\u001b[0;31m \u001b[0mprint\u001b[0m\u001b[0;34m(\u001b[0m\u001b[0md\u001b[0m\u001b[0;34m)\u001b[0m\u001b[0;34m\u001b[0m\u001b[0;34m\u001b[0m\u001b[0m\n\u001b[0m",
      "\u001b[0;31mNameError\u001b[0m: name 'd' is not defined"
     ]
    }
   ],
   "source": [
    "def my_function():\n",
    "    d = 10\n",
    "print(d)"
   ]
  },
  {
   "cell_type": "code",
   "execution_count": 57,
   "metadata": {},
   "outputs": [
    {
     "name": "stdout",
     "output_type": "stream",
     "text": [
      "60\n"
     ]
    }
   ],
   "source": [
    "if i < 100:\n",
    "    e = 60\n",
    "print(e)"
   ]
  },
  {
   "cell_type": "markdown",
   "metadata": {},
   "source": [
    "## Class\n",
    "\n",
    "* Represents a user defined type.\n",
    "* You should uses classes when you have many of the same type of object in your code."
   ]
  },
  {
   "cell_type": "code",
   "execution_count": 42,
   "metadata": {},
   "outputs": [],
   "source": [
    "class Car():\n",
    "    \n",
    "    def __init__(self, top_speed):\n",
    "        \"\"\"\n",
    "        this is called a constructor, it constructs the class\n",
    "        \"\"\"\n",
    "        print(\"making a new MyClass\")\n",
    "        \n",
    "        # store attributes\n",
    "        self.top_speed = top_speed\n",
    "    \n",
    "    def drive(self, throttle):\n",
    "        if throttle < self.top_speed:\n",
    "            return throttle\n",
    "        else:\n",
    "            return self.top_speed\n",
    "    \n",
    "    def __str__(self):\n",
    "        return \"I'm a car and my top speed is {:f}\".format(self.top_speed)\n",
    "    \n",
    "    def __del__(self):\n",
    "        \"\"\"\n",
    "        This is the deconstructor, it is called when the class instance is destoryed\n",
    "        by calling delete on it\n",
    "        \"\"\"\n",
    "        print('what a world... what a world...')\n",
    "        \n",
    "    __repr__ = __str__  # tell it to use the string function for the\n",
    "        # representation function"
   ]
  },
  {
   "cell_type": "code",
   "execution_count": 43,
   "metadata": {},
   "outputs": [
    {
     "name": "stdout",
     "output_type": "stream",
     "text": [
      "making a new MyClass\n",
      "I'm a car and my top speed is 1.000000\n"
     ]
    }
   ],
   "source": [
    "c = Car(1)\n",
    "print(c)"
   ]
  },
  {
   "cell_type": "code",
   "execution_count": 44,
   "metadata": {},
   "outputs": [
    {
     "name": "stdout",
     "output_type": "stream",
     "text": [
      "what a world... what a world...\n"
     ]
    }
   ],
   "source": [
    "del c"
   ]
  },
  {
   "cell_type": "code",
   "execution_count": 49,
   "metadata": {},
   "outputs": [],
   "source": [
    "def my_function_that_has_scope():\n",
    "    c = Car(top_speed=10)  # note you can pass arguments by name"
   ]
  },
  {
   "cell_type": "code",
   "execution_count": 50,
   "metadata": {},
   "outputs": [
    {
     "name": "stdout",
     "output_type": "stream",
     "text": [
      "making a new MyClass\n",
      "what a world... what a world...\n"
     ]
    }
   ],
   "source": [
    "my_function_that_has_scope()"
   ]
  },
  {
   "cell_type": "markdown",
   "metadata": {},
   "source": [
    "Question: Why was delete called on c above?"
   ]
  },
  {
   "cell_type": "markdown",
   "metadata": {},
   "source": [
    "## Group Exercise\n",
    "\n",
    "Split into your teams for this exercise.\n",
    "\n",
    "You are given the position and velocity of aircraft flying in straight lines. The data is in the format:\n",
    "       \n",
    "\n",
    "(identifier, x, y, v_x, v_y, model)\n",
    "\n",
    "where model is the aicraft model (a string), (x, y) is the position and ($v_x$, $v_y$) is the velocity.\n",
    "\n",
    "You are also given a dictionary of model information for the aircraft:\n",
    "\n",
    "{'f16': 20, 'b737': 100} \n",
    "\n",
    "### Objectives:\n",
    "\n",
    "* Find the aircraft that are in collision and report their identifiers as a tuple.\n",
    "* Plot the aircraft."
   ]
  },
  {
   "cell_type": "code",
   "execution_count": 21,
   "metadata": {},
   "outputs": [
    {
     "data": {
      "text/plain": [
       "[0,\n",
       " 673.0627001754954,\n",
       " -4.94747881000494,\n",
       " 134.86939032393707,\n",
       " 55.721062073474904,\n",
       " '737']"
      ]
     },
     "execution_count": 21,
     "metadata": {},
     "output_type": "execute_result"
    }
   ],
   "source": [
    "import numpy as np\n",
    "import json\n",
    "import matplotlib.pyplot as plt\n",
    "np.random.seed(1234)\n",
    "# create a data set\n",
    "model_data = {\n",
    "    'f16': {\n",
    "        'safety_radius': 10,\n",
    "        'passengers': 1\n",
    "    },\n",
    "    '737': {\n",
    "        'safety_radius': 20,\n",
    "        'passengers': 300\n",
    "    }\n",
    "}\n",
    "data = []\n",
    "for ident in range(100):\n",
    "    model = np.random.choice([k for k in model_data.keys()])\n",
    "    x = np.random.randn()*500\n",
    "    y = np.random.randn()*500\n",
    "    vx = np.random.randn()*100\n",
    "    vy = np.random.randn()*100\n",
    "    data.append([ident, x, y, vx, vy, model])\n",
    "\n",
    "with open('data.json', 'w') as f:\n",
    "    json.dump(data, f)\n",
    "\n",
    "with open('data.json', 'r') as f:\n",
    "    data = json.load(f)\n",
    "\n",
    "data[0]"
   ]
  },
  {
   "cell_type": "markdown",
   "metadata": {},
   "source": [
    "You should plot the aircraft using the quiver command:\n",
    "\n",
    "If you want to show the help for quiver type:\n",
    "\n",
    "```python\n",
    "plt.quiver?\n",
    "```"
   ]
  },
  {
   "cell_type": "markdown",
   "metadata": {},
   "source": [
    "## Write your code here"
   ]
  },
  {
   "cell_type": "code",
   "execution_count": 14,
   "metadata": {},
   "outputs": [
    {
     "data": {
      "text/plain": [
       "<matplotlib.quiver.Quiver at 0x7f1d604b6d30>"
      ]
     },
     "execution_count": 14,
     "metadata": {},
     "output_type": "execute_result"
    },
    {
     "data": {
      "image/png": "[encoded data removed]",
      "text/plain": [
       "<Figure size 432x288 with 1 Axes>"
      ]
     },
     "metadata": {
      "needs_background": "light"
     },
     "output_type": "display_data"
    }
   ],
   "source": [
    "plt.quiver([0, 10], [0, 10], [2, -3], [3, -3])"
   ]
  },
  {
   "cell_type": "code",
   "execution_count": 23,
   "metadata": {},
   "outputs": [
    {
     "name": "stdout",
     "output_type": "stream",
     "text": [
      "boom\n",
      "boom\n",
      "boom\n",
      "boom\n"
     ]
    },
    {
     "data": {
      "text/plain": [
       "<matplotlib.quiver.Quiver at 0x7f1d6011b160>"
      ]
     },
     "execution_count": 23,
     "metadata": {},
     "output_type": "execute_result"
    },
    {
     "data": {
      "image/png": "[encoded data removed]",
      "text/plain": [
       "<Figure size 432x288 with 1 Axes>"
      ]
     },
     "metadata": {
      "needs_background": "light"
     },
     "output_type": "display_data"
    }
   ],
   "source": [
    "boom_p = []\n",
    "for p1 in data:\n",
    "    id1 = p1[0]\n",
    "    coli_rad1 = model_data[p1[5]]['safety_radius']\n",
    "    pos1 = np.array(p1[1:3])\n",
    "    \n",
    "    for p2 in data:\n",
    "        id2 = p2[0]\n",
    "        pos2 = np.array(p2[1:3])\n",
    "        coli_rad2 = model_data[p2[5]]['safety_radius']\n",
    "        if not id1 == id2:\n",
    "            if np.linalg.norm(pos1-pos2) < (coli_rad1+coli_rad2):\n",
    "                print('boom')\n",
    "                boom_p.append(p1)\n",
    "                boom_p.append(p2)\n",
    "x_data = [bp[1] for bp in boom_p]\n",
    "y_data = [bp[2] for bp in boom_p]\n",
    "vx_data = [bp[3] for bp in boom_p]\n",
    "vy_data = [bp[4] for bp in boom_p]\n",
    "plt.quiver(x_data,y_data,vx_data,vy_data)"
   ]
  },
  {
   "cell_type": "code",
   "execution_count": 24,
   "metadata": {},
   "outputs": [
    {
     "name": "stdout",
     "output_type": "stream",
     "text": [
      "8\n"
     ]
    }
   ],
   "source": [
    "print(len(boom_p))"
   ]
  },
  {
   "cell_type": "code",
   "execution_count": null,
   "metadata": {},
   "outputs": [],
   "source": []
  }
 ],
 "metadata": {
  "kernelspec": {
   "display_name": "Python 3",
   "language": "python",
   "name": "python3"
  },
  "language_info": {
   "codemirror_mode": {
    "name": "ipython",
    "version": 3
   },
   "file_extension": ".py",
   "mimetype": "text/x-python",
   "name": "python",
   "nbconvert_exporter": "python",
   "pygments_lexer": "ipython3",
   "version": "3.7.3"
  }
 },
 "nbformat": 4,
 "nbformat_minor": 4
}
