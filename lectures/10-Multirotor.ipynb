{
 "cells": [
  {
   "cell_type": "markdown",
   "metadata": {},
   "source": [
    "# Multirotor Dynamic Model"
   ]
  },
  {
   "cell_type": "code",
   "execution_count": 4,
   "metadata": {},
   "outputs": [],
   "source": [
    "import casadi as ca\n",
    "import numpy as np\n",
    "import sys\n",
    "sys.path.insert(0, '../python/pyecca')\n",
    "import pyecca.lie.so3 as so3"
   ]
  },
  {
   "cell_type": "markdown",
   "metadata": {},
   "source": [
    "Here we will develop a simple thrust model for the propeller."
   ]
  },
  {
   "cell_type": "code",
   "execution_count": 5,
   "metadata": {},
   "outputs": [
    {
     "data": {
      "text/plain": [
       "0.39039349535108125"
      ]
     },
     "execution_count": 5,
     "metadata": {},
     "output_type": "execute_result"
    }
   ],
   "source": [
    "def thrust(throttle, rho, r, V, kV, CT):\n",
    "    \"\"\"\n",
    "    throttle: 0-1 controls voltage, []\n",
    "    rho: density of air, [kg/m^3\n",
    "    r: radius of propeller, [m]\n",
    "    V: voltage of battery [V]\n",
    "    kV: motor kV constant, [rpm/V]\n",
    "    \"\"\"\n",
    "    omega = throttle*V*kV*(2*ca.pi/60)\n",
    "    q = 0.5*rho*(omega*r)**2\n",
    "    s = ca.pi*r**2\n",
    "    return CT*q*s\n",
    "\n",
    "thrust(throttle=1, rho=1.225, r=0.05, V=11.1, kV=1550, CT=1.0e-2)"
   ]
  },
  {
   "cell_type": "code",
   "execution_count": 13,
   "metadata": {},
   "outputs": [
    {
     "name": "stdout",
     "output_type": "stream",
     "text": [
      "45\n",
      "-135\n",
      "-34\n",
      "135\n"
     ]
    },
    {
     "data": {
      "text/plain": [
       "SX(@1=0, [@1, @1, (-(0.00785398*(0.01*(0.6125*sq((0.05*(0.10472*(1550*(11.1*throttle2)))))))))])"
      ]
     },
     "execution_count": 13,
     "metadata": {},
     "output_type": "execute_result"
    }
   ],
   "source": [
    "\n",
    "# state space model\n",
    "#x: state: (position, orientation, velocity (body frame), angular velocity (body frame))\n",
    "#u: control\n",
    "u = ca.SX.sym('u', 4)\n",
    "\n",
    "#y: output, just state for now\n",
    "\n",
    "l_arm = 0.5\n",
    "arm_angles = [45, -135, -34, 135]\n",
    "for arm_angle in arm_angles:\n",
    "    print(arm_angle)\n",
    "\n",
    "thrust1 = thrust(throttle=throttle1, rho=1.225, r=0.05, V=11.1, kV=1550, CT=1.0e-2)\n",
    "\n",
    "F_b = ca.vertcat(0, 0, -thrust1)\n",
    "F_b"
   ]
  },
  {
   "cell_type": "markdown",
   "metadata": {},
   "source": [
    "# Kinematics\n",
    "\n",
    "Consider the dynamics\n",
    "\n",
    "v = $\\begin{bmatrix}\n",
    "a\n",
    "\\end{bmatrix}$"
   ]
  },
  {
   "cell_type": "code",
   "execution_count": 16,
   "metadata": {},
   "outputs": [],
   "source": [
    "def SO3_adjoint(V):\n",
    "    v = V[0:3]\n",
    "    w = V[3:6]"
   ]
  },
  {
   "cell_type": "code",
   "execution_count": null,
   "metadata": {},
   "outputs": [],
   "source": []
  }
 ],
 "metadata": {
  "kernelspec": {
   "display_name": "Python 3",
   "language": "python",
   "name": "python3"
  },
  "language_info": {
   "codemirror_mode": {
    "name": "ipython",
    "version": 3
   },
   "file_extension": ".py",
   "mimetype": "text/x-python",
   "name": "python",
   "nbconvert_exporter": "python",
   "pygments_lexer": "ipython3",
   "version": "3.7.4"
  }
 },
 "nbformat": 4,
 "nbformat_minor": 4
}
