{
 "cells": [
  {
   "cell_type": "markdown",
   "metadata": {},
   "source": [
    "# Multirotor Dynamic Model"
   ]
  },
  {
   "cell_type": "markdown",
   "metadata": {},
   "source": [
    "$M_b = J \\dot{\\omega_b} + \\omega_b \\times (J \\omega_b)$\n",
    "\n",
    "$\\dot{\\omega_b} = J^{-1}(M_b - \\omega_b \\times (J \\omega_b))$\n",
    "\n",
    "$F_b = m \\dot{v_b} + \\omega_b \\times (m v_b)$\n",
    "\n",
    "$\\dot{v_b} = F_b/m -  \\omega_b \\times v_b$"
   ]
  },
  {
   "cell_type": "code",
   "execution_count": 1,
   "metadata": {},
   "outputs": [],
   "source": [
    "import casadi as ca\n",
    "import numpy as np\n",
    "import matplotlib.pyplot as plt\n",
    "import control\n",
    "import collections\n",
    "import sys\n",
    "sys.path.insert(0, '../python/pyecca')\n",
    "import pyecca.lie.so3 as so3\n",
    "np.set_printoptions(suppress=True, precision=3, linewidth=200)"
   ]
  },
  {
   "cell_type": "code",
   "execution_count": 2,
   "metadata": {},
   "outputs": [
    {
     "data": {
      "text/plain": [
       "SX(x_0)"
      ]
     },
     "execution_count": 2,
     "metadata": {},
     "output_type": "execute_result"
    }
   ],
   "source": [
    "class NamedSXVect(ca.SX):\n",
    "\n",
    "    def __init__(self, symbols, names):\n",
    "        super().__init__(symbols)\n",
    "        self.names = names\n",
    "        self.index = {}\n",
    "        for i in range(len(self.names)):\n",
    "            self.index[self.names[i]] = i\n",
    "    \n",
    "    @classmethod\n",
    "    def from_string(cls, names):\n",
    "        names = [name.strip() for name in names.split(',')]\n",
    "        symbols = ca.vertcat(*[ca.SX.sym(name) for name in names])\n",
    "        return cls(symbols, names)\n",
    "            \n",
    "    def __getitem__(self, key):\n",
    "        if isinstance(key, int):\n",
    "            return super().__getitem__(key)\n",
    "        else:\n",
    "            return super().__getitem__(self.index[key])\n",
    "\n",
    "sym = ca.SX.sym('x', 3)\n",
    "named_sym = NamedSXVect(sym, ['a', 'b', 'c'])\n",
    "named_sym['a']"
   ]
  },
  {
   "cell_type": "code",
   "execution_count": 3,
   "metadata": {},
   "outputs": [],
   "source": [
    "def quadrotor_model():\n",
    "    # state space model\n",
    "    \n",
    "    #x: state: (position, orientation, velocity (body frame), angular velocity (body frame))\n",
    "    x = NamedSXVect.from_string('P, Q, R, v_X, v_Y, v_Z, r0, r1, r2, p_N, p_E, p_D, rpm0, rpm1, rpm2, rpm3')\n",
    "    omega_b = ca.vertcat(x['P'], x['Q'], x['R'])\n",
    "    v_b = ca.vertcat(x['v_X'], x['v_Y'], x['v_Z'])\n",
    "    r_nb = ca.vertcat(x['r0'], x['r1'], x['r2'], ca.SX.sym('r3'))\n",
    "    p_n = ca.vertcat(x['p_N'], x['p_E'], x['p_D'])\n",
    "    rpm = ca.vertcat(x['rpm0'], x['rpm1'], x['rpm2'], x['rpm3'])\n",
    "\n",
    "    #u: control\n",
    "    u = NamedSXVect.from_string('u_roll, u_pitch, u_yaw, u_thrust')\n",
    "\n",
    "    # p: parameters\n",
    "    p = NamedSXVect.from_string('l, m, g, Jx, Jy, Jz, Jxz, tau, rho, r, V, kV, CT, CM')\n",
    "\n",
    "    #y: output\n",
    "    C_nb = so3.Dcm.from_mrp(r_nb)\n",
    "    v_n = ca.mtimes(C_nb, v_b)\n",
    "    y = NamedSXVect(ca.vertcat(x, v_n), x.names + ['v_N', 'v_E', 'v_D'])\n",
    "\n",
    "    J = ca.SX.zeros(3, 3)\n",
    "    J[0, 0] = p['Jx']\n",
    "    J[1, 1] = p['Jy']\n",
    "    J[2, 2] = p['Jz']\n",
    "    J[0, 2] = J[2, 0] = p['Jxz']\n",
    "\n",
    "    # forces and moments\n",
    "    arm_angles_deg = [45, -135, -45, 135]\n",
    "    motor_dirs = [-1, -1, 1, 1]\n",
    "    mix_matrix =ca.DM([\n",
    "        [-1, 1, 1, -1], # roll\n",
    "        [1, -1, 1, -1], # pitch\n",
    "        [1, 1, -1, -1], # yaw\n",
    "        [1, 1, 1, 1] # thrust\n",
    "    ])\n",
    "    u_rpm = ca.mtimes(ca.inv(mix_matrix), u)\n",
    "    F_b = ca.mtimes(C_nb.T, ca.vertcat(0, 0, p['m']*p['g']))\n",
    "    M_b = ca.SX.zeros(3)\n",
    "    for theta_deg, rpm_i, motor_dir in zip(arm_angles_deg, rpm, motor_dirs):\n",
    "        theta = theta_deg*ca.pi/180\n",
    "        omega = rpm_i*p['V']*p['kV']*(2*ca.pi/60)\n",
    "        q = p['rho']*(omega*p['r'])**2/2\n",
    "        s = ca.pi*p['r']**2\n",
    "        arm_b = ca.vertcat(ca.cos(theta), ca.sin(theta), 0)\n",
    "        Fi_b = ca.vertcat(0, 0, -p['CT']*q*s)\n",
    "        Mi_b = ca.vertcat(0, 0, -motor_dir*p['CM']*q*s) + ca.cross(arm_b, Fi_b)\n",
    "        F_b += Fi_b\n",
    "        M_b += Mi_b\n",
    "\n",
    "    x_dot = ca.vertcat(\n",
    "        ca.mtimes(ca.inv(J), M_b - ca.cross(omega_b, ca.mtimes(J, omega_b))),\n",
    "        F_b/p['m'] - ca.cross(omega_b, v_b),\n",
    "        so3.Mrp.kinematics(r_nb, omega_b)[:3],\n",
    "        ca.mtimes(C_nb, v_b),\n",
    "        (u_rpm - rpm)/p['tau']\n",
    "    )\n",
    "    \n",
    "    rhs = ca.Function('rhs', [x, u, p], [x_dot])\n",
    "    \n",
    "    return {\n",
    "        'x': x,\n",
    "        'y': y,\n",
    "        'x_dot': x_dot,\n",
    "        'u': u,\n",
    "        'p': p,\n",
    "        'rhs': rhs\n",
    "    }\n",
    "\n",
    "def trim_hover(model):\n",
    "    # motor time constant 0.015 s, https://flyingmachinearena.org/wp-content/publications/2014/mueIEEE14.pdf\n",
    "    p0 = ca.vertcat(1, 1, 9.8, 1, 1, 1, 0.1, 0.015, 1.225, 0.1, 11.1, 1550, 1e-3, 1e-4)\n",
    "\n",
    "    # TODO trim\n",
    "    u0 = ca.vertcat(1000, 1000, 1000, 1000)\n",
    "    x0 = ca.vertcat(0, 0, 0,  0, 0, 0, 0, 0, 0, 0, 0, 0, u0)\n",
    "    return x0, u0, p0\n",
    "\n",
    "def linearize(model, x0, u0, p0):\n",
    "\n",
    "    # linearization\n",
    "    A = ca.jacobian(model['x_dot'], model['x'])\n",
    "    B = ca.jacobian(model['x_dot'], model['u'])\n",
    "    C = ca.jacobian(model['y'], model['x'])\n",
    "    D = ca.jacobian(model['y'], model['u'])\n",
    "    f_ss = ca.Function('ss', [model['x'], model['u'], model['p']], [A, B, C, D])\n",
    "    \n",
    "    A0, B0, C0, D0 = f_ss(x0, u0, p0)\n",
    "\n",
    "    sys = control.ss(A0, B0, C0, D0)\n",
    "    return sys"
   ]
  },
  {
   "cell_type": "code",
   "execution_count": 4,
   "metadata": {},
   "outputs": [],
   "source": [
    "model = quadrotor_model()\n",
    "x0, u0, p0 = trim_hover(model)\n",
    "sys = linearize(model, x0, u0, p0)"
   ]
  },
  {
   "cell_type": "markdown",
   "metadata": {},
   "source": [
    "# Body Roll Rate Control"
   ]
  },
  {
   "cell_type": "code",
   "execution_count": 5,
   "metadata": {},
   "outputs": [
    {
     "data": {
      "text/latex": [
       "$$\\frac{5.949e+04}{s^2 + 66.67 s + 5.515e-12}$$"
      ],
      "text/plain": [
       "\n",
       "        5.949e+04\n",
       "-------------------------\n",
       "s^2 + 66.67 s + 5.515e-12"
      ]
     },
     "execution_count": 5,
     "metadata": {},
     "output_type": "execute_result"
    },
    {
     "data": {
      "image/png": "[encoded data removed]",
      "text/plain": [
       "<Figure size 432x288 with 1 Axes>"
      ]
     },
     "metadata": {
      "needs_background": "light"
     },
     "output_type": "display_data"
    }
   ],
   "source": [
    "G_roll_rate = control.ss2tf(sys[model['y'].index['P'], model['u'].index['u_roll']])\n",
    "control.rlocus(G_roll_rate, kvect=np.linspace(0, 1, 1000));\n",
    "plt.axis('equal')\n",
    "G_roll_rate"
   ]
  },
  {
   "cell_type": "code",
   "execution_count": 6,
   "metadata": {},
   "outputs": [
    {
     "name": "stdout",
     "output_type": "stream",
     "text": [
      "(inf, 61.44275238117672, nan, 72.82566417153188)\n"
     ]
    },
    {
     "data": {
      "text/plain": [
       "<Figure size 432x288 with 0 Axes>"
      ]
     },
     "metadata": {},
     "output_type": "display_data"
    },
    {
     "data": {
      "image/png": "[encoded data removed]",
      "text/plain": [
       "<Figure size 432x288 with 1 Axes>"
      ]
     },
     "metadata": {
      "needs_background": "light"
     },
     "output_type": "display_data"
    },
    {
     "data": {
      "image/png": "[encoded data removed]",
      "text/plain": [
       "<Figure size 432x288 with 1 Axes>"
      ]
     },
     "metadata": {
      "needs_background": "light"
     },
     "output_type": "display_data"
    }
   ],
   "source": [
    "s = control.tf([1, 0], [0, 1])\n",
    "H_roll_rate = 0.1*(s/90+1)/(s/200 + 1)\n",
    "Go_roll_rate = G_roll_rate*H_roll_rate\n",
    "print(control.margin(Go_roll_rate))\n",
    "\n",
    "plt.figure()\n",
    "control.rlocus(Go_roll_rate, kvect=np.linspace(0, 1, 1000));\n",
    "plt.axis('equal')\n",
    "\n",
    "Gc_roll_rate = control.feedback(Go_roll_rate)\n",
    "\n",
    "plt.figure()\n",
    "t, y = control.step_response(Gc_roll_rate, T=np.linspace(0, 1, 1000))\n",
    "plt.plot(t, y)\n",
    "plt.grid()\n",
    "\n"
   ]
  },
  {
   "cell_type": "markdown",
   "metadata": {},
   "source": [
    "# Body Roll Control"
   ]
  },
  {
   "cell_type": "code",
   "execution_count": 7,
   "metadata": {},
   "outputs": [
    {
     "name": "stdout",
     "output_type": "stream",
     "text": [
      "(4.868953480974533, 68.7936060131583, 108.17677828605653, 30.80793431496759)\n"
     ]
    },
    {
     "data": {
      "text/plain": [
       "[<matplotlib.lines.Line2D at 0x7f96e4314150>]"
      ]
     },
     "execution_count": 7,
     "metadata": {},
     "output_type": "execute_result"
    },
    {
     "data": {
      "text/plain": [
       "<Figure size 432x288 with 0 Axes>"
      ]
     },
     "metadata": {},
     "output_type": "display_data"
    },
    {
     "data": {
      "image/png": "[encoded data removed]",
      "text/plain": [
       "<Figure size 432x288 with 1 Axes>"
      ]
     },
     "metadata": {
      "needs_background": "light"
     },
     "output_type": "display_data"
    },
    {
     "data": {
      "image/png": "[encoded data removed]",
      "text/plain": [
       "<Figure size 432x288 with 1 Axes>"
      ]
     },
     "metadata": {
      "needs_background": "light"
     },
     "output_type": "display_data"
    }
   ],
   "source": [
    "H_roll = 30\n",
    "G_roll = Gc_roll_rate/s\n",
    "Go_roll = H_roll*G_roll\n",
    "Gc_roll = control.feedback(Go_roll)\n",
    "print(control.margin(Go_roll))\n",
    "\n",
    "plt.figure()\n",
    "control.rlocus(Go_roll, kvect=np.linspace(0, 1, 1000));\n",
    "plt.axis('equal')\n",
    "\n",
    "plt.figure()\n",
    "t, y = control.step_response(Gc_roll, np.linspace(0, 1, 1000))\n",
    "plt.plot(t, y)"
   ]
  },
  {
   "cell_type": "markdown",
   "metadata": {},
   "source": [
    "# Body Yaw Rate Control"
   ]
  },
  {
   "cell_type": "code",
   "execution_count": 8,
   "metadata": {},
   "outputs": [
    {
     "data": {
      "text/latex": [
       "$$\\frac{8413}{s^2 + 66.67 s + 4.153e-12}$$"
      ],
      "text/plain": [
       "\n",
       "          8413\n",
       "-------------------------\n",
       "s^2 + 66.67 s + 4.153e-12"
      ]
     },
     "execution_count": 8,
     "metadata": {},
     "output_type": "execute_result"
    },
    {
     "data": {
      "image/png": "[encoded data removed]",
      "text/plain": [
       "<Figure size 432x288 with 1 Axes>"
      ]
     },
     "metadata": {
      "needs_background": "light"
     },
     "output_type": "display_data"
    }
   ],
   "source": [
    "G_yaw_rate = control.ss2tf(sys[model['y'].index['R'], model['u'].index['u_yaw']])\n",
    "control.rlocus(G_yaw_rate, kvect=np.linspace(0, 1, 1000));\n",
    "plt.axis('equal')\n",
    "G_yaw_rate"
   ]
  },
  {
   "cell_type": "code",
   "execution_count": 9,
   "metadata": {},
   "outputs": [
    {
     "name": "stdout",
     "output_type": "stream",
     "text": [
      "(inf, 57.45311890021898, nan, 42.54807839872257)\n"
     ]
    },
    {
     "data": {
      "text/plain": [
       "<Figure size 432x288 with 0 Axes>"
      ]
     },
     "metadata": {},
     "output_type": "display_data"
    },
    {
     "data": {
      "image/png": "[encoded data removed]",
      "text/plain": [
       "<Figure size 432x288 with 1 Axes>"
      ]
     },
     "metadata": {
      "needs_background": "light"
     },
     "output_type": "display_data"
    },
    {
     "data": {
      "image/png": "[encoded data removed]",
      "text/plain": [
       "<Figure size 432x288 with 1 Axes>"
      ]
     },
     "metadata": {
      "needs_background": "light"
     },
     "output_type": "display_data"
    }
   ],
   "source": [
    "H_yaw_rate = 0.4\n",
    "Go_yaw_rate = G_yaw_rate*H_yaw_rate\n",
    "print(control.margin(Go_yaw_rate))\n",
    "\n",
    "plt.figure()\n",
    "control.rlocus(Go_yaw_rate, kvect=np.linspace(0, 1, 1000));\n",
    "plt.axis('equal')\n",
    "\n",
    "Gc_yaw_rate = control.feedback(Go_yaw_rate)\n",
    "\n",
    "plt.figure()\n",
    "t, y = control.step_response(Gc_yaw_rate, T=np.linspace(0, 1, 1000))\n",
    "plt.plot(t, y)\n",
    "plt.grid()"
   ]
  },
  {
   "cell_type": "markdown",
   "metadata": {},
   "source": [
    "# Body Yaw Control"
   ]
  },
  {
   "cell_type": "code",
   "execution_count": 10,
   "metadata": {},
   "outputs": [
    {
     "name": "stdout",
     "output_type": "stream",
     "text": [
      "(4.444444444444475, 71.91755280227125, 58.00868819458393, 15.329741102247425)\n"
     ]
    },
    {
     "data": {
      "text/plain": [
       "<Figure size 432x288 with 0 Axes>"
      ]
     },
     "metadata": {},
     "output_type": "display_data"
    },
    {
     "data": {
      "image/png": "[encoded data removed]",
      "text/plain": [
       "<Figure size 432x288 with 1 Axes>"
      ]
     },
     "metadata": {
      "needs_background": "light"
     },
     "output_type": "display_data"
    },
    {
     "data": {
      "image/png": "[encoded data removed]",
      "text/plain": [
       "<Figure size 432x288 with 1 Axes>"
      ]
     },
     "metadata": {
      "needs_background": "light"
     },
     "output_type": "display_data"
    }
   ],
   "source": [
    "H_yaw = 15\n",
    "G_yaw = Gc_yaw_rate/s\n",
    "Go_yaw = G_yaw*H_yaw\n",
    "print(control.margin(Go_yaw))\n",
    "\n",
    "plt.figure()\n",
    "control.rlocus(Go_yaw, kvect=np.linspace(0, 1, 1000));\n",
    "plt.axis('equal')\n",
    "\n",
    "Gc_yaw = control.feedback(Go_yaw)\n",
    "\n",
    "plt.figure()\n",
    "t, y = control.step_response(Gc_yaw, T=np.linspace(0, 1, 1000))\n",
    "plt.plot(t, y)\n",
    "plt.grid()"
   ]
  },
  {
   "cell_type": "markdown",
   "metadata": {},
   "source": [
    "# Climb Rate Control"
   ]
  },
  {
   "cell_type": "code",
   "execution_count": 11,
   "metadata": {},
   "outputs": [
    {
     "data": {
      "text/latex": [
       "$$\\frac{8.328e+04}{s^2 + 66.67 s}$$"
      ],
      "text/plain": [
       "\n",
       "  8.328e+04\n",
       "-------------\n",
       "s^2 + 66.67 s"
      ]
     },
     "execution_count": 11,
     "metadata": {},
     "output_type": "execute_result"
    },
    {
     "data": {
      "image/png": "[encoded data removed]",
      "text/plain": [
       "<Figure size 432x288 with 1 Axes>"
      ]
     },
     "metadata": {
      "needs_background": "light"
     },
     "output_type": "display_data"
    }
   ],
   "source": [
    "G_climb_rate = control.ss2tf(-sys[model['y'].index['v_D'], model['u'].index['u_thrust']])\n",
    "control.rlocus(G_climb_rate, kvect=np.linspace(0, 1, 1000));\n",
    "plt.axis('equal')\n",
    "G_climb_rate"
   ]
  },
  {
   "cell_type": "code",
   "execution_count": 12,
   "metadata": {},
   "outputs": [
    {
     "name": "stdout",
     "output_type": "stream",
     "text": [
      "(inf, 53.14209069059456, nan, 49.97820800873587)\n"
     ]
    },
    {
     "data": {
      "text/plain": [
       "<Figure size 432x288 with 0 Axes>"
      ]
     },
     "metadata": {},
     "output_type": "display_data"
    },
    {
     "data": {
      "image/png": "[encoded data removed]",
      "text/plain": [
       "<Figure size 432x288 with 1 Axes>"
      ]
     },
     "metadata": {
      "needs_background": "light"
     },
     "output_type": "display_data"
    },
    {
     "data": {
      "image/png": "[encoded data removed]",
      "text/plain": [
       "<Figure size 432x288 with 1 Axes>"
      ]
     },
     "metadata": {
      "needs_background": "light"
     },
     "output_type": "display_data"
    }
   ],
   "source": [
    "H_climb_rate = 0.05\n",
    "Go_climb_rate = G_climb_rate*H_climb_rate\n",
    "print(control.margin(Go_climb_rate))\n",
    "\n",
    "plt.figure()\n",
    "control.rlocus(Go_climb_rate, kvect=np.linspace(0, 1, 1000));\n",
    "plt.axis('equal')\n",
    "\n",
    "Gc_climb_rate = control.feedback(Go_climb_rate)\n",
    "\n",
    "plt.figure()\n",
    "t, y = control.step_response(Gc_climb_rate, T=np.linspace(0, 1, 1000))\n",
    "plt.plot(t, y)\n",
    "plt.grid()"
   ]
  },
  {
   "cell_type": "code",
   "execution_count": 13,
   "metadata": {},
   "outputs": [
    {
     "data": {
      "text/plain": [
       "4"
      ]
     },
     "execution_count": 13,
     "metadata": {},
     "output_type": "execute_result"
    }
   ],
   "source": [
    "np.linalg.matrix_rank(control.ctrb(sys.A, sys.B))"
   ]
  },
  {
   "cell_type": "code",
   "execution_count": 14,
   "metadata": {},
   "outputs": [
    {
     "data": {
      "text/plain": [
       "16"
      ]
     },
     "execution_count": 14,
     "metadata": {},
     "output_type": "execute_result"
    }
   ],
   "source": [
    "np.linalg.matrix_rank(control.ctrb(sys.A, sys.B), 1e6)"
   ]
  },
  {
   "cell_type": "code",
   "execution_count": 15,
   "metadata": {},
   "outputs": [
    {
     "data": {
      "text/plain": [
       "matrix([[ 0.   ,  0.994, -0.   , -0.1  ,  0.036, -0.011,  0.02 , -0.004, -0.007, -0.014, -0.004, -0.001,  0.   ,  0.   , -0.   , -0.   ],\n",
       "        [ 0.   ,  0.   ,  0.999, -0.   ,  0.003, -0.01 ,  0.015, -0.003,  0.016,  0.029,  0.001, -0.002, -0.002, -0.003,  0.   ,  0.   ],\n",
       "        [ 0.   , -0.103,  0.   , -0.961,  0.233, -0.053, -0.093,  0.026,  0.009,  0.007,  0.   ,  0.   ,  0.   ,  0.001, -0.   , -0.   ],\n",
       "        [-0.   , -0.   , -0.002,  0.   , -0.002, -0.001,  0.   ,  0.008,  0.219, -0.121,  0.036, -0.479,  0.465, -0.698,  0.062,  0.005],\n",
       "        [ 0.   ,  0.002, -0.   , -0.   , -0.001,  0.001, -0.029,  0.068, -0.8  ,  0.485,  0.019, -0.057,  0.333, -0.072,  0.005, -0.   ],\n",
       "        [ 1.   , -0.   , -0.   ,  0.   ,  0.008,  0.028,  0.006,  0.003,  0.003,  0.005,  0.   ,  0.   , -0.   , -0.   ,  0.   ,  0.   ],\n",
       "        [-0.   , -0.004,  0.   ,  0.   ,  0.001, -0.   ,  0.   , -0.   , -0.008,  0.023, -0.995, -0.098, -0.013,  0.001, -0.004,  0.004],\n",
       "        [-0.   , -0.   , -0.004,  0.   ,  0.008, -0.001,  0.002, -0.002, -0.204,  0.114,  0.06 , -0.461, -0.801, -0.295,  0.029,  0.003],\n",
       "        [ 0.   ,  0.   ,  0.   ,  0.004,  0.001, -0.002, -0.012,  0.039,  0.063, -0.015,  0.071, -0.737,  0.172,  0.641, -0.072, -0.015],\n",
       "        [ 0.   ,  0.   ,  0.   , -0.   ,  0.   , -0.   ,  0.   , -0.   , -0.   , -0.   , -0.001,  0.013, -0.006, -0.085, -0.771, -0.631],\n",
       "        [-0.   , -0.   ,  0.   ,  0.   ,  0.   , -0.   ,  0.   , -0.   , -0.   ,  0.   , -0.005, -0.001,  0.002,  0.052,  0.629, -0.776],\n",
       "        [-0.015,  0.   ,  0.   , -0.   ,  0.085,  0.347,  0.276,  0.887,  0.074,  0.035, -0.002,  0.029, -0.028, -0.012,  0.002,  0.   ],\n",
       "        [ 0.013,  0.019, -0.019,  0.126,  0.17 , -0.594, -0.404,  0.293,  0.328,  0.494,  0.006,  0.027, -0.023, -0.012,  0.001,  0.   ],\n",
       "        [ 0.013, -0.018,  0.019,  0.133,  0.44 , -0.464, -0.016,  0.2  , -0.365, -0.632, -0.011, -0.002,  0.007,  0.003, -0.   ,  0.   ],\n",
       "        [ 0.013, -0.019, -0.019, -0.126, -0.359, -0.541,  0.743,  0.009,  0.03 ,  0.089,  0.002, -0.006,  0.006,  0.004, -0.   , -0.   ],\n",
       "        [ 0.013,  0.018,  0.019, -0.133, -0.766, -0.123, -0.444,  0.282, -0.141, -0.289, -0.007,  0.006, -0.016, -0.004,  0.001,  0.   ]])"
      ]
     },
     "execution_count": 15,
     "metadata": {},
     "output_type": "execute_result"
    }
   ],
   "source": [
    "u, s, vh = np.linalg.svd(control.ctrb(sys.A, sys.B))\n",
    "u"
   ]
  },
  {
   "cell_type": "code",
   "execution_count": 16,
   "metadata": {},
   "outputs": [
    {
     "data": {
      "text/plain": [
       "{'P': 0,\n",
       " 'Q': 1,\n",
       " 'R': 2,\n",
       " 'v_X': 3,\n",
       " 'v_Y': 4,\n",
       " 'v_Z': 5,\n",
       " 'r0': 6,\n",
       " 'r1': 7,\n",
       " 'r2': 8,\n",
       " 'p_N': 9,\n",
       " 'p_E': 10,\n",
       " 'p_D': 11,\n",
       " 'rpm0': 12,\n",
       " 'rpm1': 13,\n",
       " 'rpm2': 14,\n",
       " 'rpm3': 15}"
      ]
     },
     "execution_count": 16,
     "metadata": {},
     "output_type": "execute_result"
    }
   ],
   "source": [
    "model['x'].index"
   ]
  },
  {
   "cell_type": "code",
   "execution_count": 17,
   "metadata": {},
   "outputs": [
    {
     "data": {
      "text/plain": [
       "array([[ 1.03 , -0.   , -0.069, -0.   ,  1.447,  0.   , 21.595,  0.   , -0.069, -0.   ,  0.998, -0.   , -4.466,  4.302,  4.466, -4.302],\n",
       "       [ 0.   ,  1.032,  0.   , -1.451,  0.   ,  0.   ,  0.   , 21.647,  0.   , -1.   ,  0.   , -0.   ,  4.348, -4.348,  4.348, -4.348],\n",
       "       [ 0.078,  0.   ,  1.002, -0.   ,  0.101,  0.   ,  1.559,  0.   ,  0.998, -0.   ,  0.069,  0.   ,  1.32 ,  1.155, -1.32 , -1.155],\n",
       "       [-0.   , -0.   , -0.   ,  0.   ,  0.   , -1.005,  0.   , -0.   ,  0.   ,  0.   ,  0.   , -1.   ,  5.238,  5.238,  5.238,  5.238]])"
      ]
     },
     "execution_count": 17,
     "metadata": {},
     "output_type": "execute_result"
    }
   ],
   "source": [
    "K, S, E = control.lqr(sys.A, sys.B, np.eye(16), np.eye(4))\n",
    "K"
   ]
  }
 ],
 "metadata": {
  "kernelspec": {
   "display_name": "Python 3",
   "language": "python",
   "name": "python3"
  },
  "language_info": {
   "codemirror_mode": {
    "name": "ipython",
    "version": 3
   },
   "file_extension": ".py",
   "mimetype": "text/x-python",
   "name": "python",
   "nbconvert_exporter": "python",
   "pygments_lexer": "ipython3",
   "version": "3.7.4"
  }
 },
 "nbformat": 4,
 "nbformat_minor": 4
}
