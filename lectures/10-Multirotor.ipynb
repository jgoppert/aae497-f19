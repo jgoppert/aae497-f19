{
 "cells": [
  {
   "cell_type": "markdown",
   "metadata": {},
   "source": [
    "# Multirotor Dynamic Model"
   ]
  },
  {
   "cell_type": "markdown",
   "metadata": {},
   "source": [
    "$M_b = J \\dot{\\omega_b} + \\omega_b \\times (J \\omega_b)$\n",
    "\n",
    "$\\dot{\\omega_b} = J^{-1}(M_b - \\omega_b \\times (J \\omega_b))$\n",
    "\n",
    "$F_b = m \\dot{v_b} + \\omega_b \\times (m v_b)$\n",
    "\n",
    "$\\dot{v_b} = F_b/m -  \\omega_b \\times v_b$"
   ]
  },
  {
   "cell_type": "code",
   "execution_count": 18,
   "metadata": {},
   "outputs": [],
   "source": [
    "import casadi as ca\n",
    "import numpy as np\n",
    "import matplotlib.pyplot as plt\n",
    "import control\n",
    "import collections\n",
    "import sys\n",
    "sys.path.insert(0, '../python/pyecca')\n",
    "import pyecca.lie.so3 as so3\n",
    "np.set_printoptions(suppress=True, precision=3, linewidth=200)"
   ]
  },
  {
   "cell_type": "code",
   "execution_count": 2,
   "metadata": {},
   "outputs": [
    {
     "data": {
      "text/plain": [
       "SX(x_0)"
      ]
     },
     "execution_count": 2,
     "metadata": {},
     "output_type": "execute_result"
    }
   ],
   "source": [
    "class NamedSXVect(ca.SX):\n",
    "\n",
    "    def __init__(self, symbols, names):\n",
    "        super().__init__(symbols)\n",
    "        self.names = names\n",
    "        self.index = {}\n",
    "        for i in range(len(self.names)):\n",
    "            self.index[self.names[i]] = i\n",
    "    \n",
    "    @classmethod\n",
    "    def from_string(cls, names):\n",
    "        names = [name.strip() for name in names.split(',')]\n",
    "        symbols = ca.vertcat(*[ca.SX.sym(name) for name in names])\n",
    "        return cls(symbols, names)\n",
    "            \n",
    "    def __getitem__(self, key):\n",
    "        if isinstance(key, int):\n",
    "            return super().__getitem__(key)\n",
    "        else:\n",
    "            return super().__getitem__(self.index[key])\n",
    "\n",
    "sym = ca.SX.sym('x', 3)\n",
    "named_sym = NamedSXVect(sym, ['a', 'b', 'c'])\n",
    "named_sym['a']"
   ]
  },
  {
   "cell_type": "code",
   "execution_count": 122,
   "metadata": {},
   "outputs": [],
   "source": [
    "def quadrotor_model():\n",
    "    # state space model\n",
    "    \n",
    "    #x: state: (angular velocity (body frame), velocity (body frame), orientation, position, motor rpms)\n",
    "    x = NamedSXVect.from_string('P, Q, R, v_X, v_Y, v_Z, r0, r1, r2, p_N, p_E, p_D, duty0, duty1, duty2, duty3')\n",
    "    omega_b = ca.vertcat(x['P'], x['Q'], x['R'])\n",
    "    v_b = ca.vertcat(x['v_X'], x['v_Y'], x['v_Z'])\n",
    "    r_nb = ca.vertcat(x['r0'], x['r1'], x['r2'], ca.SX.sym('r3'))\n",
    "    p_n = ca.vertcat(x['p_N'], x['p_E'], x['p_D'])\n",
    "    duty = ca.vertcat(x['duty0'], x['duty1'], x['duty2'], x['duty3'])\n",
    "\n",
    "    #u: control\n",
    "    u = NamedSXVect.from_string('u_roll, u_pitch, u_yaw, u_thrust')\n",
    "\n",
    "    # p: parameters\n",
    "    p = NamedSXVect.from_string('l, m, g, Jx, Jy, Jz, Jxz, tau, rho, r, V, kV, CT, CM')\n",
    "\n",
    "    #y: output\n",
    "    C_nb = so3.Dcm.from_mrp(r_nb)\n",
    "    v_n = ca.mtimes(C_nb, v_b)\n",
    "    y = NamedSXVect(ca.vertcat(x, v_n), x.names + ['v_N', 'v_E', 'v_D'])\n",
    "\n",
    "    J = ca.SX.zeros(3, 3)\n",
    "    J[0, 0] = p['Jx']\n",
    "    J[1, 1] = p['Jy']\n",
    "    J[2, 2] = p['Jz']\n",
    "    J[0, 2] = J[2, 0] = p['Jxz']\n",
    "\n",
    "    # forces and moments\n",
    "    arm_angles_deg = [45, -135, -45, 135]\n",
    "    motor_dirs = [-1, -1, 1, 1]\n",
    "    mix_matrix =ca.DM([\n",
    "        [-1, 1, 1, -1], # roll\n",
    "        [1, -1, 1, -1], # pitch\n",
    "        [1, 1, -1, -1], # yaw\n",
    "        [1, 1, 1, 1] # thrust\n",
    "    ])\n",
    "    u_duty = ca.mtimes(ca.inv(mix_matrix), u)\n",
    "    F_b = ca.mtimes(C_nb.T, ca.vertcat(0, 0, p['m']*p['g']))\n",
    "    M_b = ca.SX.zeros(3)\n",
    "    for theta_deg, duty_i, motor_dir in zip(arm_angles_deg, duty, motor_dirs):\n",
    "        theta = theta_deg*ca.pi/180\n",
    "        omega = duty_i*p['V']*p['kV']*(2*ca.pi/60)\n",
    "        q = p['rho']*(omega*p['r'])**2/2\n",
    "        s = ca.pi*p['r']**2\n",
    "        arm_b = ca.vertcat(ca.cos(theta), ca.sin(theta), 0)\n",
    "        Fi_b = ca.vertcat(0, 0, -p['CT']*q*s)\n",
    "        Mi_b = ca.vertcat(0, 0, -motor_dir*p['CM']*q*s) + ca.cross(arm_b, Fi_b)\n",
    "        F_b += Fi_b\n",
    "        M_b += Mi_b\n",
    "\n",
    "    x_dot = ca.vertcat(\n",
    "        ca.mtimes(ca.inv(J), M_b - ca.cross(omega_b, ca.mtimes(J, omega_b))),\n",
    "        F_b/p['m'] - ca.cross(omega_b, v_b),\n",
    "        so3.Mrp.kinematics(r_nb, omega_b)[:3],\n",
    "        ca.mtimes(C_nb, v_b),\n",
    "        (u_duty - duty)/p['tau']\n",
    "    )\n",
    "    \n",
    "    rhs = ca.Function('rhs', [x, u, p], [x_dot])\n",
    "    \n",
    "    return {\n",
    "        'x': x,\n",
    "        'y': y,\n",
    "        'x_dot': x_dot,\n",
    "        'u': u,\n",
    "        'p': p,\n",
    "        'rhs': rhs,\n",
    "        'mix': mix_matrix\n",
    "    }\n",
    "\n",
    "def trim_hover(model):\n",
    "    # motor time constant 0.015 s, https://flyingmachinearena.org/wp-content/publications/2014/mueIEEE14.pdf\n",
    "    p0 = ca.vertcat(1, 1, 9.8, 1, 1, 1, 0.1, 0.015, 1.225, 0.1, 11.1, 880, 7e-1, 1e-4)\n",
    "\n",
    "    # TODO trim\n",
    "#     u0 = ca.vertcat(1000, 1000, 1000, 1000)\n",
    "#     u_in = ca.SX.sym('u',4)\n",
    "#     x0 = ca.vertcat(0, 0, 0,  0, 0, 0, 0, 0, 0, 0, 0, 0, u0)\n",
    "    \n",
    "#     model = quadrotor_model()\n",
    "    \n",
    "#     nlp = {'x':u_in, 'f':0,'g':model['rhs'](ca.vertcat(0, 0, 0,  0, 0, 0, 0, 0, 0, 0, 0, 0, u_in),u_in,p0)}\n",
    "#     S = ca.nlpsol('S', 'ipopt', nlp, {\n",
    "#         'print_time': 0,\n",
    "#         'ipopt': {\n",
    "#             'sb': 'yes',\n",
    "#             'print_level': 0,\n",
    "#             }\n",
    "#         })\n",
    "#     res = S(x0=u0, lbg=np.zeros((1,16)), ubg=np.zeros((1,16)) )\n",
    "    \n",
    "#     x = ca.vertcat(0, 0, 0,  0, 0, 0, 0, 0, 0, 0, 0, 0,res['x'])\n",
    "#     u = res['x']\n",
    "#     p = p0\n",
    "\n",
    "    throt = ca.SX.sym('throt',1)\n",
    "    u = np.array([0,0,0,throt])\n",
    "    duties = ca.mtimes(ca.inv(model['mix']),u)\n",
    "    x = ca.vertcat(0, 0, 0,  0, 0, 0, 0, 0, 0, 0, 0, 0, duties) \n",
    "    \n",
    "    nlp = {'x':throt, 'f':0,'g': model['rhs'](x,u,p0)[5]}\n",
    "    S = ca.nlpsol('S', 'ipopt', nlp, {\n",
    "        'print_time': 0,\n",
    "        'ipopt': {\n",
    "            'sb': 'yes',\n",
    "            'print_level': 0,\n",
    "            }\n",
    "        })\n",
    "    res = S(x0=0.5, lbg=0, ubg=0)\n",
    "    \n",
    "    u = np.array([0,0,0,res['x']])\n",
    "    duties = ca.mtimes(ca.inv(model['mix']),u)\n",
    "    x = ca.vertcat(0, 0, 0,  0, 0, 0, 0, 0, 0, 0, 0, 0, duties)\n",
    "    p = p0\n",
    "\n",
    "    return x, u, p\n",
    "\n",
    "def linearize(model, x0, u0, p0):\n",
    "\n",
    "    # linearization\n",
    "    A = ca.jacobian(model['x_dot'], model['x'])\n",
    "    B = ca.jacobian(model['x_dot'], model['u'])\n",
    "    C = ca.jacobian(model['y'], model['x'])\n",
    "    D = ca.jacobian(model['y'], model['u'])\n",
    "    f_ss = ca.Function('ss', [model['x'], model['u'], model['p']], [A, B, C, D])\n",
    "    \n",
    "    A0, B0, C0, D0 = f_ss(x0, u0, p0)\n",
    "\n",
    "    sys = control.ss(A0, B0, C0, D0)\n",
    "    return sys"
   ]
  },
  {
   "cell_type": "code",
   "execution_count": 123,
   "metadata": {},
   "outputs": [],
   "source": [
    "# model = quadrotor_model()\n",
    "# u0 = ca.vertcat(1000, 1000, 1000, 1000)\n",
    "# x0 = ca.vertcat(0, 0, 0,  0, 0, 0, 0, 0, 0, 0, 0, 0, u0)\n",
    "# states = ca.SX.sym('states',16)\n",
    "\n",
    "# u = states[12:16]\n",
    "# print(u)\n",
    "# #nlp = {'x':states, 'f':0,'g': model['rhs'](states,states[12:15],p0)}"
   ]
  },
  {
   "cell_type": "code",
   "execution_count": 125,
   "metadata": {},
   "outputs": [
    {
     "name": "stdout",
     "output_type": "stream",
     "text": [
      "[0.    0.    0.    0.527]\n",
      "[-0, 4.44089e-16, 0, 0, 0, -1.00018e-11, 0, 0, 0, 0, 0, 0, 0, 0, 0, 0]\n"
     ]
    }
   ],
   "source": [
    "model = quadrotor_model()\n",
    "x0, u0, p0 = trim_hover(model)\n",
    "print(u0)\n",
    "print(model['rhs'](x0,u0,p0))\n",
    "sys = linearize(model, x0, u0, p0)"
   ]
  },
  {
   "cell_type": "markdown",
   "metadata": {},
   "source": [
    "# Body Roll Rate Control"
   ]
  },
  {
   "cell_type": "code",
   "execution_count": 126,
   "metadata": {},
   "outputs": [
    {
     "data": {
      "text/latex": [
       "$$\\frac{1770}{s^2 + 66.67 s + 5.553e-16}$$"
      ],
      "text/plain": [
       "\n",
       "          1770\n",
       "-------------------------\n",
       "s^2 + 66.67 s + 5.553e-16"
      ]
     },
     "execution_count": 126,
     "metadata": {},
     "output_type": "execute_result"
    },
    {
     "data": {
      "image/png": "[encoded data removed]",
      "text/plain": [
       "<Figure size 432x288 with 1 Axes>"
      ]
     },
     "metadata": {
      "needs_background": "light"
     },
     "output_type": "display_data"
    }
   ],
   "source": [
    "G_roll_rate = control.ss2tf(sys[model['y'].index['P'], model['u'].index['u_roll']])\n",
    "control.rlocus(G_roll_rate, kvect=np.linspace(0, 1, 1000));\n",
    "plt.axis('equal')\n",
    "G_roll_rate"
   ]
  },
  {
   "cell_type": "code",
   "execution_count": 127,
   "metadata": {},
   "outputs": [
    {
     "name": "stdout",
     "output_type": "stream",
     "text": [
      "(inf, 88.64946081735565, nan, 2.6532664584571592)\n"
     ]
    },
    {
     "data": {
      "text/plain": [
       "<Figure size 432x288 with 0 Axes>"
      ]
     },
     "metadata": {},
     "output_type": "display_data"
    },
    {
     "data": {
      "image/png": "[encoded data removed]",
      "text/plain": [
       "<Figure size 432x288 with 1 Axes>"
      ]
     },
     "metadata": {
      "needs_background": "light"
     },
     "output_type": "display_data"
    },
    {
     "data": {
      "image/png": "[encoded data removed]",
      "text/plain": [
       "<Figure size 432x288 with 1 Axes>"
      ]
     },
     "metadata": {
      "needs_background": "light"
     },
     "output_type": "display_data"
    }
   ],
   "source": [
    "s = control.tf([1, 0], [0, 1])\n",
    "H_roll_rate = 0.1*(s/90+1)/(s/200 + 1)\n",
    "Go_roll_rate = G_roll_rate*H_roll_rate\n",
    "print(control.margin(Go_roll_rate))\n",
    "\n",
    "plt.figure()\n",
    "control.rlocus(Go_roll_rate, kvect=np.linspace(0, 1, 1000));\n",
    "plt.axis('equal')\n",
    "\n",
    "Gc_roll_rate = control.feedback(Go_roll_rate)\n",
    "\n",
    "plt.figure()\n",
    "t, y = control.step_response(Gc_roll_rate, T=np.linspace(0, 1, 1000))\n",
    "plt.plot(t, y)\n",
    "plt.grid()\n",
    "\n"
   ]
  },
  {
   "cell_type": "markdown",
   "metadata": {},
   "source": [
    "# Body Roll Control"
   ]
  },
  {
   "cell_type": "code",
   "execution_count": 128,
   "metadata": {},
   "outputs": [
    {
     "name": "stdout",
     "output_type": "stream",
     "text": [
      "(3.808742835197417, 12.562278560373215, 17.35581047691042, 8.808252479772401)\n"
     ]
    },
    {
     "data": {
      "text/plain": [
       "[<matplotlib.lines.Line2D at 0x7fcfd55d0390>]"
      ]
     },
     "execution_count": 128,
     "metadata": {},
     "output_type": "execute_result"
    },
    {
     "data": {
      "text/plain": [
       "<Figure size 432x288 with 0 Axes>"
      ]
     },
     "metadata": {},
     "output_type": "display_data"
    },
    {
     "data": {
      "image/png": "[encoded data removed]",
      "text/plain": [
       "<Figure size 432x288 with 1 Axes>"
      ]
     },
     "metadata": {
      "needs_background": "light"
     },
     "output_type": "display_data"
    },
    {
     "data": {
      "image/png": "[encoded data removed]",
      "text/plain": [
       "<Figure size 432x288 with 1 Axes>"
      ]
     },
     "metadata": {
      "needs_background": "light"
     },
     "output_type": "display_data"
    }
   ],
   "source": [
    "H_roll = 30\n",
    "G_roll = Gc_roll_rate/s\n",
    "Go_roll = H_roll*G_roll\n",
    "Gc_roll = control.feedback(Go_roll)\n",
    "print(control.margin(Go_roll))\n",
    "\n",
    "plt.figure()\n",
    "control.rlocus(Go_roll, kvect=np.linspace(0, 1, 1000));\n",
    "plt.axis('equal')\n",
    "\n",
    "plt.figure()\n",
    "t, y = control.step_response(Gc_roll, np.linspace(0, 1, 1000))\n",
    "plt.plot(t, y)"
   ]
  },
  {
   "cell_type": "markdown",
   "metadata": {},
   "source": [
    "# Body Yaw Rate Control"
   ]
  },
  {
   "cell_type": "code",
   "execution_count": 129,
   "metadata": {},
   "outputs": [
    {
     "data": {
      "text/latex": [
       "$$\\frac{0.3575 s^2 + 5.716e-15 s - 4.573e-14}{s^4 + 66.67 s^3 + 9.352e-13 s^2 - 8.447e-12 s + 1.075e-11}$$"
      ],
      "text/plain": [
       "\n",
       "          0.3575 s^2 + 5.716e-15 s - 4.573e-14\n",
       "---------------------------------------------------------\n",
       "s^4 + 66.67 s^3 + 9.352e-13 s^2 - 8.447e-12 s + 1.075e-11"
      ]
     },
     "execution_count": 129,
     "metadata": {},
     "output_type": "execute_result"
    },
    {
     "data": {
      "image/png": "[encoded data removed]",
      "text/plain": [
       "<Figure size 432x288 with 1 Axes>"
      ]
     },
     "metadata": {
      "needs_background": "light"
     },
     "output_type": "display_data"
    }
   ],
   "source": [
    "G_yaw_rate = control.ss2tf(sys[model['y'].index['R'], model['u'].index['u_yaw']])\n",
    "control.rlocus(G_yaw_rate, kvect=np.linspace(0, 1, 1000));\n",
    "plt.axis('equal')\n",
    "G_yaw_rate"
   ]
  },
  {
   "cell_type": "code",
   "execution_count": 130,
   "metadata": {},
   "outputs": [
    {
     "name": "stdout",
     "output_type": "stream",
     "text": [
      "(587.8590314250265, 0.23140106104864344, 0.0, 8.663626371934768e-06)\n"
     ]
    },
    {
     "data": {
      "text/plain": [
       "<Figure size 432x288 with 0 Axes>"
      ]
     },
     "metadata": {},
     "output_type": "display_data"
    },
    {
     "data": {
      "image/png": "[encoded data removed]",
      "text/plain": [
       "<Figure size 432x288 with 1 Axes>"
      ]
     },
     "metadata": {
      "needs_background": "light"
     },
     "output_type": "display_data"
    },
    {
     "data": {
      "image/png": "[encoded data removed]",
      "text/plain": [
       "<Figure size 432x288 with 1 Axes>"
      ]
     },
     "metadata": {
      "needs_background": "light"
     },
     "output_type": "display_data"
    }
   ],
   "source": [
    "H_yaw_rate = 0.4\n",
    "Go_yaw_rate = G_yaw_rate*H_yaw_rate\n",
    "print(control.margin(Go_yaw_rate))\n",
    "\n",
    "plt.figure()\n",
    "control.rlocus(Go_yaw_rate, kvect=np.linspace(0, 1, 1000));\n",
    "plt.axis('equal')\n",
    "\n",
    "Gc_yaw_rate = control.feedback(Go_yaw_rate)\n",
    "\n",
    "plt.figure()\n",
    "t, y = control.step_response(Gc_yaw_rate, T=np.linspace(0, 1, 1000))\n",
    "plt.plot(t, y)\n",
    "plt.grid()"
   ]
  },
  {
   "cell_type": "markdown",
   "metadata": {},
   "source": [
    "# Body Yaw Control"
   ]
  },
  {
   "cell_type": "code",
   "execution_count": 131,
   "metadata": {},
   "outputs": [
    {
     "name": "stdout",
     "output_type": "stream",
     "text": [
      "(4.444444442107674, 0.5310146996565663, 0.3781637566207558, 0.17937496801506117)\n"
     ]
    },
    {
     "data": {
      "text/plain": [
       "<Figure size 432x288 with 0 Axes>"
      ]
     },
     "metadata": {},
     "output_type": "display_data"
    },
    {
     "data": {
      "image/png": "[encoded data removed]",
      "text/plain": [
       "<Figure size 432x288 with 1 Axes>"
      ]
     },
     "metadata": {
      "needs_background": "light"
     },
     "output_type": "display_data"
    },
    {
     "data": {
      "image/png": "[encoded data removed]",
      "text/plain": [
       "<Figure size 432x288 with 1 Axes>"
      ]
     },
     "metadata": {
      "needs_background": "light"
     },
     "output_type": "display_data"
    }
   ],
   "source": [
    "H_yaw = 15\n",
    "G_yaw = Gc_yaw_rate/s\n",
    "Go_yaw = G_yaw*H_yaw\n",
    "print(control.margin(Go_yaw))\n",
    "\n",
    "plt.figure()\n",
    "control.rlocus(Go_yaw, kvect=np.linspace(0, 1, 1000));\n",
    "plt.axis('equal')\n",
    "\n",
    "Gc_yaw = control.feedback(Go_yaw)\n",
    "\n",
    "plt.figure()\n",
    "t, y = control.step_response(Gc_yaw, T=np.linspace(0, 1, 1000))\n",
    "plt.plot(t, y)\n",
    "plt.grid()"
   ]
  },
  {
   "cell_type": "markdown",
   "metadata": {},
   "source": [
    "# Climb Rate Control"
   ]
  },
  {
   "cell_type": "code",
   "execution_count": 132,
   "metadata": {},
   "outputs": [
    {
     "data": {
      "text/latex": [
       "$$\\frac{2478}{s^2 + 66.67 s}$$"
      ],
      "text/plain": [
       "\n",
       "    2478\n",
       "-------------\n",
       "s^2 + 66.67 s"
      ]
     },
     "execution_count": 132,
     "metadata": {},
     "output_type": "execute_result"
    },
    {
     "data": {
      "image/png": "[encoded data removed]",
      "text/plain": [
       "<Figure size 432x288 with 1 Axes>"
      ]
     },
     "metadata": {
      "needs_background": "light"
     },
     "output_type": "display_data"
    }
   ],
   "source": [
    "G_climb_rate = control.ss2tf(-sys[model['y'].index['v_D'], model['u'].index['u_thrust']])\n",
    "control.rlocus(G_climb_rate, kvect=np.linspace(0, 1, 1000));\n",
    "plt.axis('equal')\n",
    "G_climb_rate"
   ]
  },
  {
   "cell_type": "code",
   "execution_count": 133,
   "metadata": {},
   "outputs": [
    {
     "name": "stdout",
     "output_type": "stream",
     "text": [
      "(inf, 88.40402033571957, nan, 1.857487099451951)\n"
     ]
    },
    {
     "data": {
      "text/plain": [
       "<Figure size 432x288 with 0 Axes>"
      ]
     },
     "metadata": {},
     "output_type": "display_data"
    },
    {
     "data": {
      "image/png": "[encoded data removed]",
      "text/plain": [
       "<Figure size 432x288 with 1 Axes>"
      ]
     },
     "metadata": {
      "needs_background": "light"
     },
     "output_type": "display_data"
    },
    {
     "data": {
      "image/png": "[encoded data removed]",
      "text/plain": [
       "<Figure size 432x288 with 1 Axes>"
      ]
     },
     "metadata": {
      "needs_background": "light"
     },
     "output_type": "display_data"
    }
   ],
   "source": [
    "H_climb_rate = 0.05\n",
    "Go_climb_rate = G_climb_rate*H_climb_rate\n",
    "print(control.margin(Go_climb_rate))\n",
    "\n",
    "plt.figure()\n",
    "control.rlocus(Go_climb_rate, kvect=np.linspace(0, 1, 1000));\n",
    "plt.axis('equal')\n",
    "\n",
    "Gc_climb_rate = control.feedback(Go_climb_rate)\n",
    "\n",
    "plt.figure()\n",
    "t, y = control.step_response(Gc_climb_rate, T=np.linspace(0, 1, 1000))\n",
    "plt.plot(t, y)\n",
    "plt.grid()"
   ]
  },
  {
   "cell_type": "code",
   "execution_count": 134,
   "metadata": {},
   "outputs": [
    {
     "data": {
      "text/plain": [
       "4"
      ]
     },
     "execution_count": 134,
     "metadata": {},
     "output_type": "execute_result"
    }
   ],
   "source": [
    "np.linalg.matrix_rank(control.ctrb(sys.A, sys.B))"
   ]
  },
  {
   "cell_type": "code",
   "execution_count": 135,
   "metadata": {},
   "outputs": [
    {
     "data": {
      "text/plain": [
       "14"
      ]
     },
     "execution_count": 135,
     "metadata": {},
     "output_type": "execute_result"
    }
   ],
   "source": [
    "np.linalg.matrix_rank(control.ctrb(sys.A, sys.B), 1e6)"
   ]
  },
  {
   "cell_type": "code",
   "execution_count": 136,
   "metadata": {},
   "outputs": [
    {
     "data": {
      "text/plain": [
       "matrix([[ 0.   , -0.622,  0.   ,  0.   , -0.011,  0.153, -0.379,  0.021,  0.662,  0.085,  0.007, -0.018, -0.001, -0.   , -0.   , -0.   ],\n",
       "        [-0.   ,  0.   ,  0.619,  0.   , -0.077,  0.197, -0.524, -0.433, -0.326, -0.053, -0.005,  0.008, -0.   , -0.   ,  0.   , -0.   ],\n",
       "        [-0.   ,  0.062, -0.   ,  0.   , -0.969, -0.216, -0.038,  0.068,  0.067,  0.013,  0.001, -0.003, -0.   , -0.001,  0.   ,  0.   ],\n",
       "        [-0.   , -0.   , -0.001,  0.   ,  0.014,  0.179, -0.428,  0.828, -0.314,  0.016, -0.001,  0.006,  0.001,  0.   ,  0.   ,  0.   ],\n",
       "        [ 0.   , -0.001,  0.   ,  0.   , -0.001, -0.   , -0.   , -0.002,  0.002,  0.017,  0.115,  0.182,  0.51 ,  0.832,  0.013,  0.007],\n",
       "        [ 0.744,  0.   , -0.   , -0.   ,  0.144, -0.603, -0.247, -0.   , -0.   ,  0.004,  0.   , -0.   , -0.   , -0.   ,  0.   ,  0.   ],\n",
       "        [-0.   ,  0.002, -0.   , -0.   ,  0.001,  0.   ,  0.   ,  0.002, -0.008, -0.03 , -0.627, -0.748,  0.11 ,  0.184,  0.   ,  0.005],\n",
       "        [ 0.   , -0.   , -0.002,  0.   , -0.002,  0.   , -0.002,  0.   ,  0.019,  0.041, -0.77 ,  0.635,  0.002, -0.034, -0.005, -0.002],\n",
       "        [ 0.   , -0.   ,  0.   , -0.   , -0.   ,  0.   , -0.   , -0.   ,  0.   , -0.   ,  0.014, -0.014,  0.852, -0.521, -0.001, -0.04 ],\n",
       "        [-0.   ,  0.   ,  0.   , -0.   , -0.   , -0.   ,  0.   , -0.   , -0.   ,  0.   ,  0.005, -0.001, -0.001,  0.017, -0.977, -0.214],\n",
       "        [-0.   ,  0.   , -0.   , -0.   , -0.   , -0.   ,  0.   ,  0.   , -0.   , -0.   , -0.002, -0.002, -0.031,  0.025,  0.214, -0.976],\n",
       "        [-0.011, -0.   ,  0.   ,  0.   ,  0.002, -0.011, -0.022,  0.054,  0.117, -0.99 , -0.009,  0.049,  0.005,  0.007, -0.   , -0.   ],\n",
       "        [ 0.334, -0.39 , -0.393, -0.5  , -0.145,  0.344,  0.081, -0.176, -0.388, -0.064, -0.004,  0.009, -0.   , -0.   , -0.   , -0.   ],\n",
       "        [ 0.334,  0.39 ,  0.393, -0.5  , -0.016,  0.328,  0.195,  0.178,  0.391,  0.044,  0.004, -0.008,  0.   ,  0.   ,  0.   ,  0.   ],\n",
       "        [ 0.334,  0.39 , -0.393,  0.5  , -0.076,  0.483, -0.218, -0.165,  0.134,  0.002,  0.003, -0.003,  0.   ,  0.   , -0.   ,  0.   ],\n",
       "        [ 0.334, -0.39 ,  0.393,  0.5  , -0.084,  0.189,  0.493,  0.167, -0.132, -0.023, -0.003,  0.004,  0.   , -0.   ,  0.   , -0.   ]])"
      ]
     },
     "execution_count": 136,
     "metadata": {},
     "output_type": "execute_result"
    }
   ],
   "source": [
    "u, s, vh = np.linalg.svd(control.ctrb(sys.A, sys.B))\n",
    "u"
   ]
  },
  {
   "cell_type": "code",
   "execution_count": 137,
   "metadata": {},
   "outputs": [
    {
     "data": {
      "text/plain": [
       "{'P': 0,\n",
       " 'Q': 1,\n",
       " 'R': 2,\n",
       " 'v_X': 3,\n",
       " 'v_Y': 4,\n",
       " 'v_Z': 5,\n",
       " 'r0': 6,\n",
       " 'r1': 7,\n",
       " 'r2': 8,\n",
       " 'p_N': 9,\n",
       " 'p_E': 10,\n",
       " 'p_D': 11,\n",
       " 'duty0': 12,\n",
       " 'duty1': 13,\n",
       " 'duty2': 14,\n",
       " 'duty3': 15}"
      ]
     },
     "execution_count": 137,
     "metadata": {},
     "output_type": "execute_result"
    }
   ],
   "source": [
    "model['x'].index"
   ]
  },
  {
   "cell_type": "code",
   "execution_count": 138,
   "metadata": {},
   "outputs": [
    {
     "data": {
      "text/plain": [
       "array([[ 1.299, -0.   ,  0.   ,  0.   ,  1.497,  0.   , 24.353, -0.   ,  0.   ,  0.   ,  1.   ,  0.   , -0.511,  0.511,  0.511, -0.511],\n",
       "       [-0.   ,  1.296, -0.   , -1.497, -0.   , -0.   , -0.   , 24.324, -0.   , -1.   ,  0.   ,  0.   ,  0.507, -0.507,  0.507, -0.507],\n",
       "       [ 1.031, -0.   , 10.313, -0.   , -0.   , -0.   ,  0.101, -0.   ,  1.   , -0.   , -0.   , -0.   ,  0.119,  0.119, -0.119, -0.119],\n",
       "       [ 0.   ,  0.   ,  0.   , -0.   ,  0.   , -1.041,  0.   ,  0.   ,  0.   , -0.   ,  0.   , -1.   ,  0.553,  0.553,  0.553,  0.553]])"
      ]
     },
     "execution_count": 138,
     "metadata": {},
     "output_type": "execute_result"
    }
   ],
   "source": [
    "K, S, E = control.lqr(sys.A, sys.B, np.eye(16), np.eye(4))\n",
    "K"
   ]
  },
  {
   "cell_type": "code",
   "execution_count": null,
   "metadata": {},
   "outputs": [],
   "source": []
  },
  {
   "cell_type": "code",
   "execution_count": null,
   "metadata": {},
   "outputs": [],
   "source": []
  },
  {
   "cell_type": "code",
   "execution_count": null,
   "metadata": {},
   "outputs": [],
   "source": []
  }
 ],
 "metadata": {
  "kernelspec": {
   "display_name": "Python 3",
   "language": "python",
   "name": "python3"
  },
  "language_info": {
   "codemirror_mode": {
    "name": "ipython",
    "version": 3
   },
   "file_extension": ".py",
   "mimetype": "text/x-python",
   "name": "python",
   "nbconvert_exporter": "python",
   "pygments_lexer": "ipython3",
   "version": "3.7.3"
  }
 },
 "nbformat": 4,
 "nbformat_minor": 4
}
